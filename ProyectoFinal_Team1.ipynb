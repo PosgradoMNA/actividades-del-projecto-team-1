{
  "nbformat": 4,
  "nbformat_minor": 0,
  "metadata": {
    "colab": {
      "provenance": [],
      "authorship_tag": "ABX9TyMiz6nsDKEHFGOozWjlYKCo",
      "include_colab_link": true
    },
    "kernelspec": {
      "name": "python3",
      "display_name": "Python 3"
    },
    "language_info": {
      "name": "python"
    }
  },
  "cells": [
    {
      "cell_type": "markdown",
      "metadata": {
        "id": "view-in-github",
        "colab_type": "text"
      },
      "source": [
        "<a href=\"https://colab.research.google.com/github/PosgradoMNA/actividades-del-projecto-team-1/blob/main/ProyectoFinal_Team1.ipynb\" target=\"_parent\"><img src=\"https://colab.research.google.com/assets/colab-badge.svg\" alt=\"Open In Colab\"/></a>"
      ]
    },
    {
      "cell_type": "markdown",
      "source": [
        "# **Proyecto Final**\n",
        "**Students:** <br>\n",
        "Joel Orlando Hernandez - A00759664 <br>\n",
        "Rafael Sanchez Garcia - A01182780 <br>\n"
      ],
      "metadata": {
        "id": "hu4HOfzmWLWt"
      }
    },
    {
      "cell_type": "markdown",
      "source": [],
      "metadata": {
        "id": "7HwOJxP7Xnkw"
      }
    }
  ]
}