{
  "nbformat": 4,
  "nbformat_minor": 0,
  "metadata": {
    "colab": {
      "provenance": [],
      "authorship_tag": "ABX9TyOwl+pttJnEZBGlM6Kb2U/V",
      "include_colab_link": true
    },
    "kernelspec": {
      "name": "python3",
      "display_name": "Python 3"
    },
    "language_info": {
      "name": "python"
    }
  },
  "cells": [
    {
      "cell_type": "markdown",
      "metadata": {
        "id": "view-in-github",
        "colab_type": "text"
      },
      "source": [
        "<a href=\"https://colab.research.google.com/github/PosgradoMNA/actividades-del-projecto-team-1/blob/main/ProyectoFinal_Team1.ipynb\" target=\"_parent\"><img src=\"https://colab.research.google.com/assets/colab-badge.svg\" alt=\"Open In Colab\"/></a>"
      ]
    },
    {
      "cell_type": "markdown",
      "source": [
        "# **Proyecto Final**\n",
        "**Students:** <br>\n",
        "Joel Orlando Hernandez - A00759664 <br>\n",
        "Rafael Sanchez Garcia - A01182780 <br>\n"
      ],
      "metadata": {
        "id": "hu4HOfzmWLWt"
      }
    },
    {
      "cell_type": "markdown",
      "source": [
        "**Nombre que caracteriza el conjunto de datos:**<br>\n",
        "Personal Key Indicators of Heart Disease<br>\n",
        "**Organizacion que generó el conjunto de datos**<br>\n",
        "La base de datos es generada por la CDC y es conformada en su mayoria por la BRFSS por sus siglas en ingles el Behavioral Risk Factor Surveillance System<br>\n",
        "**Link para descargar dataset**<br>\n",
        "https://www.kaggle.com/datasets/kamilpytlak/personal-key-indicators-of-heart-disease?resource=download <br>\n",
        "**¿Cuáles son algunas de las preguntas de investigación que podría responder con estos datos?** <br>\n",
        "\n",
        "1.  ¿Cuales son los principales factores que estan mas relacionados a las enfermedades del corazon?\n",
        "2.  ¿Quien es mas suseptible a una enfermedad de corazon, los hombres o las mujeres?\n",
        "3.  ¿Que rango de edad es mas suseptible a las enfermedades de corazon?\n",
        "4.  ¿Que raza es mas suseptible a las enfermedades de corazon?\n",
        "5.  ¿La obesidad esta relacionada fuertemente a las enfermedades de corazon?\n",
        "6.  Entre el alcohol y el cigarro ¿Cual de estos dos factores esta mas relacionado con las enfermedades del corazon?\n",
        "7.  Si una persona tiene diabetes pero es activa, ¿Puede evitar una enfermedad cardiaca?\n",
        "8.  Despues de un paro cardiaco, ¿Cuanta probabilidad hay de que exista una enfermedad cardiaca?\n",
        "**¿Qué actor (empresa, sector de la sociedad, organismo descentralizado, gobierno, etc.) estaría interesado en las preguntas mencionadas que identificó?**<br>\n",
        "*   Los hospitales para realizar tratamiento de prevencion de enfermedades cardiacas\n",
        "*   La CDC para realizar un plan de accion para destinar mejor recursos medicos a sectores vulnerables\n",
        "\n",
        "\n",
        "\n",
        "*   List item\n",
        "*   List item\n",
        "\n",
        "\n",
        "\n",
        "\n",
        "\n",
        "\n",
        "\n",
        "\n",
        "\n"
      ],
      "metadata": {
        "id": "7HwOJxP7Xnkw"
      }
    },
    {
      "cell_type": "code",
      "source": [],
      "metadata": {
        "id": "Y1zzI45Ca08U"
      },
      "execution_count": null,
      "outputs": []
    }
  ]
}