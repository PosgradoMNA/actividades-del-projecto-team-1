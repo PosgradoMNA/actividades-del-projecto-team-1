{
  "nbformat": 4,
  "nbformat_minor": 0,
  "metadata": {
    "colab": {
      "provenance": [],
      "include_colab_link": true
    },
    "kernelspec": {
      "name": "python3",
      "display_name": "Python 3"
    },
    "language_info": {
      "name": "python"
    }
  },
  "cells": [
    {
      "cell_type": "markdown",
      "metadata": {
        "id": "view-in-github",
        "colab_type": "text"
      },
      "source": [
        "<a href=\"https://colab.research.google.com/github/PosgradoMNA/actividades-del-projecto-team-1/blob/main/ProyectoFinal_Team1.ipynb\" target=\"_parent\"><img src=\"https://colab.research.google.com/assets/colab-badge.svg\" alt=\"Open In Colab\"/></a>"
      ]
    },
    {
      "cell_type": "markdown",
      "source": [
        "# **Proyecto Final**\n",
        "**Students:** <br>\n",
        "Joel Orlando Hernandez - A00759664 <br>\n",
        "Rafael Sanchez Garcia - A01182780 <br>\n"
      ],
      "metadata": {
        "id": "hu4HOfzmWLWt"
      }
    },
    {
      "cell_type": "markdown",
      "source": [
        "\n",
        "\n",
        "**Nombre que caracteriza el conjunto de datos:**<br>\n",
        "Personal Key Indicators of Heart Disease.<br>\n",
        "**Organizacion que generó el conjunto de datos**<br>\n",
        "La base de datos es generada por la CDC y es conformada en su mayoria por la BRFSS por sus siglas en ingles el Behavioral Risk Factor Surveillance System.<br>\n",
        "**Link para descargar dataset**<br>\n",
        "https://www.kaggle.com/datasets/kamilpytlak/personal-key-indicators-of-heart-disease?resource=download <br>\n",
        "\n",
        "**Describe el conjunto de datos. ¿Qué datos contiene?**\n",
        "\n",
        "La base de datos contiene 18 variables, de las cuales 9 son booleanas, 5 cadenas de texto y 4 decimales. Tpdas corresponden a factores de riesgo cardiovasculares como lo son: presión arterial alta, colesterol alto, tabaquismo, estado diabético, la obesidad (IMC alto), no hacer suficiente actividad física, beber demasiado alcohol, sexo, raza, antecedentes de eventos cardiovasculares, entre otros. \n",
        "\n",
        "**¿Cuáles son algunas de las preguntas de investigación que podría responder con estos datos?** <br>\n",
        "\n",
        "1.  ¿Cuáles son los principales factores que estan más relacionados a las enfermedades cardiacas?\n",
        "2.  ¿Quién es más suseptible a una enfermedad cardiaca, los hombres o las mujeres?\n",
        "3.  ¿Qué rango de edad es más susceptible a las enfermedades cardiacas?\n",
        "4.  ¿Qué raza es más susceptible a las enfermedades cardiacas?\n",
        "5.  ¿La obesidad está relacionada fuertemente a las enfermedades cardiacas?\n",
        "6.  Entre el alcohol y el cigarro ¿Cuál de estos dos factores esta más relacionado con las enfermedades cardiacas?\n",
        "7.  Si una persona tiene diabetes pero es activa, ¿Puede evitar una enfermedad cardiaca?\n",
        "8.  Después de un paro cardiaco, ¿Cuanta probabilidad hay de que exista una enfermedad cardiaca?\n",
        "**¿Qué actor (empresa, sector de la sociedad, organismo descentralizado, gobierno, etc.) estaría interesado en las preguntas mencionadas que identificó?**<br>\n",
        "*   Los hospitales para realizar tratamiento de prevencion de enfermedades cardiacas.\n",
        "*   La CDC para realizar un plan de accion para destinar mejor recursos medicos a sectores vulnerables.\n",
        "\n",
        "\n",
        "\n",
        "\n",
        "\n",
        "\n",
        "\n",
        "\n"
      ],
      "metadata": {
        "id": "7HwOJxP7Xnkw"
      }
    },
    {
      "cell_type": "code",
      "source": [],
      "metadata": {
        "id": "Y1zzI45Ca08U"
      },
      "execution_count": null,
      "outputs": []
    }
  ]
}