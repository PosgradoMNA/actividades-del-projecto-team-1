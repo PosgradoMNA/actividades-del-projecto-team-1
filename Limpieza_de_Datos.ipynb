{
  "nbformat": 4,
  "nbformat_minor": 0,
  "metadata": {
    "colab": {
      "provenance": [],
      "collapsed_sections": [],
      "include_colab_link": true
    },
    "kernelspec": {
      "name": "python3",
      "display_name": "Python 3"
    },
    "language_info": {
      "name": "python"
    }
  },
  "cells": [
    {
      "cell_type": "markdown",
      "metadata": {
        "id": "view-in-github",
        "colab_type": "text"
      },
      "source": [
        "<a href=\"https://colab.research.google.com/github/PosgradoMNA/actividades-del-projecto-team-1/blob/main/Limpieza_de_Datos.ipynb\" target=\"_parent\"><img src=\"https://colab.research.google.com/assets/colab-badge.svg\" alt=\"Open In Colab\"/></a>"
      ]
    },
    {
      "cell_type": "markdown",
      "source": [
        "##**Parte 1: Fundamentos de bases de datos**\n",
        "\n",
        "####1. Fundamentals of Data bases for data science\n",
        "\n"
      ],
      "metadata": {
        "id": "hv5BRRpA3zTw"
      }
    },
    {
      "cell_type": "markdown",
      "source": [
        "##**Parte 2: Selección y limpieza de los Datos en Python**"
      ],
      "metadata": {
        "id": "N32b6F-rYXkE"
      }
    },
    {
      "cell_type": "code",
      "source": [
        "import pandas as pd\n",
        "import numpy as np\n",
        "import seaborn as sns\n"
      ],
      "metadata": {
        "id": "Jn6KsKzgG9HZ"
      },
      "execution_count": null,
      "outputs": []
    },
    {
      "cell_type": "markdown",
      "source": [
        "1. We will import the dataframe provided by the Professor."
      ],
      "metadata": {
        "id": "lWFKxVj6Hsa_"
      }
    },
    {
      "cell_type": "code",
      "execution_count": null,
      "metadata": {
        "id": "03B-AecOw6hc",
        "colab": {
          "base_uri": "https://localhost:8080/",
          "height": 392
        },
        "outputId": "72a3cfbc-caa6-4622-c167-1f4ece2afb26"
      },
      "outputs": [
        {
          "output_type": "execute_result",
          "data": {
            "text/plain": [
              "   ID      X1   X2   X3   X4    X5   X6   X7   X8   X9  ...       X15  \\\n",
              "0   1   20000  2.0  2.0  1.0  24.0  2.0  2.0 -1.0 -1.0  ...       0.0   \n",
              "1   2  120000  2.0  2.0  2.0  26.0 -1.0  2.0  0.0  0.0  ...    3272.0   \n",
              "2   3   90000  2.0  2.0  2.0  34.0  0.0  0.0  0.0  0.0  ...   14331.0   \n",
              "3   4   50000  2.0  2.0  1.0  37.0  0.0  0.0  0.0  0.0  ...   28314.0   \n",
              "4   5   50000  1.0  2.0  1.0  57.0 -1.0  0.0 -1.0  0.0  ...   20940.0   \n",
              "5   6   50000  1.0  1.0  2.0  37.0  0.0  0.0  0.0  0.0  ...   19394.0   \n",
              "6   7  500000  1.0  1.0  2.0  29.0  0.0  0.0  0.0  0.0  ...  542653.0   \n",
              "7   8  100000  2.0  2.0  2.0  23.0  0.0 -1.0 -1.0  0.0  ...     221.0   \n",
              "8   9  140000  2.0  3.0  1.0  28.0  0.0  0.0  2.0  0.0  ...   12211.0   \n",
              "9  10   20000  1.0  3.0  2.0  35.0 -2.0 -2.0 -2.0 -2.0  ...       0.0   \n",
              "\n",
              "        X16       X17      X18      X19      X20      X21      X22      X23  \\\n",
              "0       0.0       0.0      0.0    689.0      0.0      0.0      0.0      0.0   \n",
              "1    3455.0    3261.0      0.0   1000.0   1000.0   1000.0      0.0   2000.0   \n",
              "2   14948.0   15549.0   1518.0   1500.0   1000.0   1000.0   1000.0   5000.0   \n",
              "3   28959.0   29547.0   2000.0   2019.0   1200.0   1100.0   1069.0   1000.0   \n",
              "4   19146.0   19131.0   2000.0  36681.0  10000.0   9000.0    689.0    679.0   \n",
              "5   19619.0   20024.0   2500.0   1815.0    657.0   1000.0   1000.0    800.0   \n",
              "6  483003.0  473944.0  55000.0  40000.0  38000.0  20239.0  13750.0  13770.0   \n",
              "7    -159.0     567.0    380.0    601.0      0.0    581.0   1687.0   1542.0   \n",
              "8   11793.0    3719.0   3329.0      0.0    432.0   1000.0   1000.0   1000.0   \n",
              "9   13007.0   13912.0      0.0      0.0      0.0  13007.0   1122.0      0.0   \n",
              "\n",
              "     Y  \n",
              "0  1.0  \n",
              "1  1.0  \n",
              "2  0.0  \n",
              "3  0.0  \n",
              "4  0.0  \n",
              "5  0.0  \n",
              "6  0.0  \n",
              "7  0.0  \n",
              "8  0.0  \n",
              "9  0.0  \n",
              "\n",
              "[10 rows x 25 columns]"
            ],
            "text/html": [
              "\n",
              "  <div id=\"df-34bff08a-96a5-47de-a145-e8b653e7b71f\">\n",
              "    <div class=\"colab-df-container\">\n",
              "      <div>\n",
              "<style scoped>\n",
              "    .dataframe tbody tr th:only-of-type {\n",
              "        vertical-align: middle;\n",
              "    }\n",
              "\n",
              "    .dataframe tbody tr th {\n",
              "        vertical-align: top;\n",
              "    }\n",
              "\n",
              "    .dataframe thead th {\n",
              "        text-align: right;\n",
              "    }\n",
              "</style>\n",
              "<table border=\"1\" class=\"dataframe\">\n",
              "  <thead>\n",
              "    <tr style=\"text-align: right;\">\n",
              "      <th></th>\n",
              "      <th>ID</th>\n",
              "      <th>X1</th>\n",
              "      <th>X2</th>\n",
              "      <th>X3</th>\n",
              "      <th>X4</th>\n",
              "      <th>X5</th>\n",
              "      <th>X6</th>\n",
              "      <th>X7</th>\n",
              "      <th>X8</th>\n",
              "      <th>X9</th>\n",
              "      <th>...</th>\n",
              "      <th>X15</th>\n",
              "      <th>X16</th>\n",
              "      <th>X17</th>\n",
              "      <th>X18</th>\n",
              "      <th>X19</th>\n",
              "      <th>X20</th>\n",
              "      <th>X21</th>\n",
              "      <th>X22</th>\n",
              "      <th>X23</th>\n",
              "      <th>Y</th>\n",
              "    </tr>\n",
              "  </thead>\n",
              "  <tbody>\n",
              "    <tr>\n",
              "      <th>0</th>\n",
              "      <td>1</td>\n",
              "      <td>20000</td>\n",
              "      <td>2.0</td>\n",
              "      <td>2.0</td>\n",
              "      <td>1.0</td>\n",
              "      <td>24.0</td>\n",
              "      <td>2.0</td>\n",
              "      <td>2.0</td>\n",
              "      <td>-1.0</td>\n",
              "      <td>-1.0</td>\n",
              "      <td>...</td>\n",
              "      <td>0.0</td>\n",
              "      <td>0.0</td>\n",
              "      <td>0.0</td>\n",
              "      <td>0.0</td>\n",
              "      <td>689.0</td>\n",
              "      <td>0.0</td>\n",
              "      <td>0.0</td>\n",
              "      <td>0.0</td>\n",
              "      <td>0.0</td>\n",
              "      <td>1.0</td>\n",
              "    </tr>\n",
              "    <tr>\n",
              "      <th>1</th>\n",
              "      <td>2</td>\n",
              "      <td>120000</td>\n",
              "      <td>2.0</td>\n",
              "      <td>2.0</td>\n",
              "      <td>2.0</td>\n",
              "      <td>26.0</td>\n",
              "      <td>-1.0</td>\n",
              "      <td>2.0</td>\n",
              "      <td>0.0</td>\n",
              "      <td>0.0</td>\n",
              "      <td>...</td>\n",
              "      <td>3272.0</td>\n",
              "      <td>3455.0</td>\n",
              "      <td>3261.0</td>\n",
              "      <td>0.0</td>\n",
              "      <td>1000.0</td>\n",
              "      <td>1000.0</td>\n",
              "      <td>1000.0</td>\n",
              "      <td>0.0</td>\n",
              "      <td>2000.0</td>\n",
              "      <td>1.0</td>\n",
              "    </tr>\n",
              "    <tr>\n",
              "      <th>2</th>\n",
              "      <td>3</td>\n",
              "      <td>90000</td>\n",
              "      <td>2.0</td>\n",
              "      <td>2.0</td>\n",
              "      <td>2.0</td>\n",
              "      <td>34.0</td>\n",
              "      <td>0.0</td>\n",
              "      <td>0.0</td>\n",
              "      <td>0.0</td>\n",
              "      <td>0.0</td>\n",
              "      <td>...</td>\n",
              "      <td>14331.0</td>\n",
              "      <td>14948.0</td>\n",
              "      <td>15549.0</td>\n",
              "      <td>1518.0</td>\n",
              "      <td>1500.0</td>\n",
              "      <td>1000.0</td>\n",
              "      <td>1000.0</td>\n",
              "      <td>1000.0</td>\n",
              "      <td>5000.0</td>\n",
              "      <td>0.0</td>\n",
              "    </tr>\n",
              "    <tr>\n",
              "      <th>3</th>\n",
              "      <td>4</td>\n",
              "      <td>50000</td>\n",
              "      <td>2.0</td>\n",
              "      <td>2.0</td>\n",
              "      <td>1.0</td>\n",
              "      <td>37.0</td>\n",
              "      <td>0.0</td>\n",
              "      <td>0.0</td>\n",
              "      <td>0.0</td>\n",
              "      <td>0.0</td>\n",
              "      <td>...</td>\n",
              "      <td>28314.0</td>\n",
              "      <td>28959.0</td>\n",
              "      <td>29547.0</td>\n",
              "      <td>2000.0</td>\n",
              "      <td>2019.0</td>\n",
              "      <td>1200.0</td>\n",
              "      <td>1100.0</td>\n",
              "      <td>1069.0</td>\n",
              "      <td>1000.0</td>\n",
              "      <td>0.0</td>\n",
              "    </tr>\n",
              "    <tr>\n",
              "      <th>4</th>\n",
              "      <td>5</td>\n",
              "      <td>50000</td>\n",
              "      <td>1.0</td>\n",
              "      <td>2.0</td>\n",
              "      <td>1.0</td>\n",
              "      <td>57.0</td>\n",
              "      <td>-1.0</td>\n",
              "      <td>0.0</td>\n",
              "      <td>-1.0</td>\n",
              "      <td>0.0</td>\n",
              "      <td>...</td>\n",
              "      <td>20940.0</td>\n",
              "      <td>19146.0</td>\n",
              "      <td>19131.0</td>\n",
              "      <td>2000.0</td>\n",
              "      <td>36681.0</td>\n",
              "      <td>10000.0</td>\n",
              "      <td>9000.0</td>\n",
              "      <td>689.0</td>\n",
              "      <td>679.0</td>\n",
              "      <td>0.0</td>\n",
              "    </tr>\n",
              "    <tr>\n",
              "      <th>5</th>\n",
              "      <td>6</td>\n",
              "      <td>50000</td>\n",
              "      <td>1.0</td>\n",
              "      <td>1.0</td>\n",
              "      <td>2.0</td>\n",
              "      <td>37.0</td>\n",
              "      <td>0.0</td>\n",
              "      <td>0.0</td>\n",
              "      <td>0.0</td>\n",
              "      <td>0.0</td>\n",
              "      <td>...</td>\n",
              "      <td>19394.0</td>\n",
              "      <td>19619.0</td>\n",
              "      <td>20024.0</td>\n",
              "      <td>2500.0</td>\n",
              "      <td>1815.0</td>\n",
              "      <td>657.0</td>\n",
              "      <td>1000.0</td>\n",
              "      <td>1000.0</td>\n",
              "      <td>800.0</td>\n",
              "      <td>0.0</td>\n",
              "    </tr>\n",
              "    <tr>\n",
              "      <th>6</th>\n",
              "      <td>7</td>\n",
              "      <td>500000</td>\n",
              "      <td>1.0</td>\n",
              "      <td>1.0</td>\n",
              "      <td>2.0</td>\n",
              "      <td>29.0</td>\n",
              "      <td>0.0</td>\n",
              "      <td>0.0</td>\n",
              "      <td>0.0</td>\n",
              "      <td>0.0</td>\n",
              "      <td>...</td>\n",
              "      <td>542653.0</td>\n",
              "      <td>483003.0</td>\n",
              "      <td>473944.0</td>\n",
              "      <td>55000.0</td>\n",
              "      <td>40000.0</td>\n",
              "      <td>38000.0</td>\n",
              "      <td>20239.0</td>\n",
              "      <td>13750.0</td>\n",
              "      <td>13770.0</td>\n",
              "      <td>0.0</td>\n",
              "    </tr>\n",
              "    <tr>\n",
              "      <th>7</th>\n",
              "      <td>8</td>\n",
              "      <td>100000</td>\n",
              "      <td>2.0</td>\n",
              "      <td>2.0</td>\n",
              "      <td>2.0</td>\n",
              "      <td>23.0</td>\n",
              "      <td>0.0</td>\n",
              "      <td>-1.0</td>\n",
              "      <td>-1.0</td>\n",
              "      <td>0.0</td>\n",
              "      <td>...</td>\n",
              "      <td>221.0</td>\n",
              "      <td>-159.0</td>\n",
              "      <td>567.0</td>\n",
              "      <td>380.0</td>\n",
              "      <td>601.0</td>\n",
              "      <td>0.0</td>\n",
              "      <td>581.0</td>\n",
              "      <td>1687.0</td>\n",
              "      <td>1542.0</td>\n",
              "      <td>0.0</td>\n",
              "    </tr>\n",
              "    <tr>\n",
              "      <th>8</th>\n",
              "      <td>9</td>\n",
              "      <td>140000</td>\n",
              "      <td>2.0</td>\n",
              "      <td>3.0</td>\n",
              "      <td>1.0</td>\n",
              "      <td>28.0</td>\n",
              "      <td>0.0</td>\n",
              "      <td>0.0</td>\n",
              "      <td>2.0</td>\n",
              "      <td>0.0</td>\n",
              "      <td>...</td>\n",
              "      <td>12211.0</td>\n",
              "      <td>11793.0</td>\n",
              "      <td>3719.0</td>\n",
              "      <td>3329.0</td>\n",
              "      <td>0.0</td>\n",
              "      <td>432.0</td>\n",
              "      <td>1000.0</td>\n",
              "      <td>1000.0</td>\n",
              "      <td>1000.0</td>\n",
              "      <td>0.0</td>\n",
              "    </tr>\n",
              "    <tr>\n",
              "      <th>9</th>\n",
              "      <td>10</td>\n",
              "      <td>20000</td>\n",
              "      <td>1.0</td>\n",
              "      <td>3.0</td>\n",
              "      <td>2.0</td>\n",
              "      <td>35.0</td>\n",
              "      <td>-2.0</td>\n",
              "      <td>-2.0</td>\n",
              "      <td>-2.0</td>\n",
              "      <td>-2.0</td>\n",
              "      <td>...</td>\n",
              "      <td>0.0</td>\n",
              "      <td>13007.0</td>\n",
              "      <td>13912.0</td>\n",
              "      <td>0.0</td>\n",
              "      <td>0.0</td>\n",
              "      <td>0.0</td>\n",
              "      <td>13007.0</td>\n",
              "      <td>1122.0</td>\n",
              "      <td>0.0</td>\n",
              "      <td>0.0</td>\n",
              "    </tr>\n",
              "  </tbody>\n",
              "</table>\n",
              "<p>10 rows × 25 columns</p>\n",
              "</div>\n",
              "      <button class=\"colab-df-convert\" onclick=\"convertToInteractive('df-34bff08a-96a5-47de-a145-e8b653e7b71f')\"\n",
              "              title=\"Convert this dataframe to an interactive table.\"\n",
              "              style=\"display:none;\">\n",
              "        \n",
              "  <svg xmlns=\"http://www.w3.org/2000/svg\" height=\"24px\"viewBox=\"0 0 24 24\"\n",
              "       width=\"24px\">\n",
              "    <path d=\"M0 0h24v24H0V0z\" fill=\"none\"/>\n",
              "    <path d=\"M18.56 5.44l.94 2.06.94-2.06 2.06-.94-2.06-.94-.94-2.06-.94 2.06-2.06.94zm-11 1L8.5 8.5l.94-2.06 2.06-.94-2.06-.94L8.5 2.5l-.94 2.06-2.06.94zm10 10l.94 2.06.94-2.06 2.06-.94-2.06-.94-.94-2.06-.94 2.06-2.06.94z\"/><path d=\"M17.41 7.96l-1.37-1.37c-.4-.4-.92-.59-1.43-.59-.52 0-1.04.2-1.43.59L10.3 9.45l-7.72 7.72c-.78.78-.78 2.05 0 2.83L4 21.41c.39.39.9.59 1.41.59.51 0 1.02-.2 1.41-.59l7.78-7.78 2.81-2.81c.8-.78.8-2.07 0-2.86zM5.41 20L4 18.59l7.72-7.72 1.47 1.35L5.41 20z\"/>\n",
              "  </svg>\n",
              "      </button>\n",
              "      \n",
              "  <style>\n",
              "    .colab-df-container {\n",
              "      display:flex;\n",
              "      flex-wrap:wrap;\n",
              "      gap: 12px;\n",
              "    }\n",
              "\n",
              "    .colab-df-convert {\n",
              "      background-color: #E8F0FE;\n",
              "      border: none;\n",
              "      border-radius: 50%;\n",
              "      cursor: pointer;\n",
              "      display: none;\n",
              "      fill: #1967D2;\n",
              "      height: 32px;\n",
              "      padding: 0 0 0 0;\n",
              "      width: 32px;\n",
              "    }\n",
              "\n",
              "    .colab-df-convert:hover {\n",
              "      background-color: #E2EBFA;\n",
              "      box-shadow: 0px 1px 2px rgba(60, 64, 67, 0.3), 0px 1px 3px 1px rgba(60, 64, 67, 0.15);\n",
              "      fill: #174EA6;\n",
              "    }\n",
              "\n",
              "    [theme=dark] .colab-df-convert {\n",
              "      background-color: #3B4455;\n",
              "      fill: #D2E3FC;\n",
              "    }\n",
              "\n",
              "    [theme=dark] .colab-df-convert:hover {\n",
              "      background-color: #434B5C;\n",
              "      box-shadow: 0px 1px 3px 1px rgba(0, 0, 0, 0.15);\n",
              "      filter: drop-shadow(0px 1px 2px rgba(0, 0, 0, 0.3));\n",
              "      fill: #FFFFFF;\n",
              "    }\n",
              "  </style>\n",
              "\n",
              "      <script>\n",
              "        const buttonEl =\n",
              "          document.querySelector('#df-34bff08a-96a5-47de-a145-e8b653e7b71f button.colab-df-convert');\n",
              "        buttonEl.style.display =\n",
              "          google.colab.kernel.accessAllowed ? 'block' : 'none';\n",
              "\n",
              "        async function convertToInteractive(key) {\n",
              "          const element = document.querySelector('#df-34bff08a-96a5-47de-a145-e8b653e7b71f');\n",
              "          const dataTable =\n",
              "            await google.colab.kernel.invokeFunction('convertToInteractive',\n",
              "                                                     [key], {});\n",
              "          if (!dataTable) return;\n",
              "\n",
              "          const docLinkHtml = 'Like what you see? Visit the ' +\n",
              "            '<a target=\"_blank\" href=https://colab.research.google.com/notebooks/data_table.ipynb>data table notebook</a>'\n",
              "            + ' to learn more about interactive tables.';\n",
              "          element.innerHTML = '';\n",
              "          dataTable['output_type'] = 'display_data';\n",
              "          await google.colab.output.renderOutput(dataTable, element);\n",
              "          const docLink = document.createElement('div');\n",
              "          docLink.innerHTML = docLinkHtml;\n",
              "          element.appendChild(docLink);\n",
              "        }\n",
              "      </script>\n",
              "    </div>\n",
              "  </div>\n",
              "  "
            ]
          },
          "metadata": {},
          "execution_count": 19
        }
      ],
      "source": [
        "input='https://raw.githubusercontent.com/PosgradoMNA/Actividades_Aprendizaje-/main/default%20of%20credit%20card%20clients.csv'\n",
        "\n",
        "dataframe= pd.read_csv(input)\n",
        "dataframe.head(10)  #this will help us visualize the data. A preview"
      ]
    },
    {
      "cell_type": "code",
      "source": [
        "dataframe.shape #we run this method to see the size of our array (rows, columns)"
      ],
      "metadata": {
        "colab": {
          "base_uri": "https://localhost:8080/"
        },
        "id": "BVdU0eFrJr53",
        "outputId": "b398398e-e16c-4928-f10c-92708e079f7a"
      },
      "execution_count": null,
      "outputs": [
        {
          "output_type": "execute_result",
          "data": {
            "text/plain": [
              "(30000, 25)"
            ]
          },
          "metadata": {},
          "execution_count": 20
        }
      ]
    },
    {
      "cell_type": "markdown",
      "source": [
        "The first thing that we will do once we imported our dataframe is understand the data that we are working with."
      ],
      "metadata": {
        "id": "6JgRDpJhHbmP"
      }
    },
    {
      "cell_type": "code",
      "source": [
        "dataframe.info() #this will provide us a description of the data types per column"
      ],
      "metadata": {
        "colab": {
          "base_uri": "https://localhost:8080/"
        },
        "id": "NHSXyQV5XWWE",
        "outputId": "bc99e5da-b151-455d-dcd4-3b09f7721950"
      },
      "execution_count": null,
      "outputs": [
        {
          "output_type": "stream",
          "name": "stdout",
          "text": [
            "<class 'pandas.core.frame.DataFrame'>\n",
            "RangeIndex: 30000 entries, 0 to 29999\n",
            "Data columns (total 25 columns):\n",
            " #   Column  Non-Null Count  Dtype  \n",
            "---  ------  --------------  -----  \n",
            " 0   ID      30000 non-null  int64  \n",
            " 1   X1      30000 non-null  int64  \n",
            " 2   X2      29999 non-null  float64\n",
            " 3   X3      29998 non-null  float64\n",
            " 4   X4      29998 non-null  float64\n",
            " 5   X5      29995 non-null  float64\n",
            " 6   X6      29997 non-null  float64\n",
            " 7   X7      29995 non-null  float64\n",
            " 8   X8      29993 non-null  float64\n",
            " 9   X9      29991 non-null  float64\n",
            " 10  X10     29984 non-null  float64\n",
            " 11  X11     29986 non-null  float64\n",
            " 12  X12     29989 non-null  float64\n",
            " 13  X13     29989 non-null  float64\n",
            " 14  X14     29987 non-null  float64\n",
            " 15  X15     29985 non-null  float64\n",
            " 16  X16     29983 non-null  float64\n",
            " 17  X17     29990 non-null  float64\n",
            " 18  X18     29992 non-null  float64\n",
            " 19  X19     29991 non-null  float64\n",
            " 20  X20     29992 non-null  float64\n",
            " 21  X21     29989 non-null  float64\n",
            " 22  X22     29989 non-null  float64\n",
            " 23  X23     29995 non-null  float64\n",
            " 24  Y       29997 non-null  float64\n",
            "dtypes: float64(23), int64(2)\n",
            "memory usage: 5.7 MB\n"
          ]
        }
      ]
    },
    {
      "cell_type": "markdown",
      "source": [
        "After running the code dataframe info code, we can see that we have 30,000 rows per column. Also we can see that all our data is considered numerical. Which is good for statistical analysis as we won't need to convert data types like strings into numbers. Also, we can see that we have some null values per rows. However, they are really minimal. For example, Column X16 has the most amount of null values but its only 17 out of 30,000. Only .05% of the total sample, which in my opinion is not really significant if we get rid of those values. However, we will first analyze if we can adjust them in any other way. "
      ],
      "metadata": {
        "id": "1HUhhTWIX5E8"
      }
    },
    {
      "cell_type": "markdown",
      "source": [
        "Based on the data set information they gave us. We know that the following columns, all though they are using numerical values, can be considered as categorical. \n",
        "\n",
        "* X2 (GENDER)\n",
        "* X3 (EDUCATION)\n",
        "* X4 (MARITAL STATUS)\n",
        "* X6-X11 (PAYMENT STATUS)\n",
        "\n",
        "For these values we have a range of specific numerical values that should be used and specific categorical values for each numerical value. For example, in gender\n",
        "1 = male; 2 = female. "
      ],
      "metadata": {
        "id": "xuHdlmAncbTv"
      }
    },
    {
      "cell_type": "code",
      "source": [
        "dataframe[['X2', 'X3', 'X4', 'X6','X7','X8','X9','X10', 'X11']].describe()"
      ],
      "metadata": {
        "colab": {
          "base_uri": "https://localhost:8080/",
          "height": 300
        },
        "id": "VZDCaYDLcZtd",
        "outputId": "2d6752e1-107e-4b08-e7d2-21d0bb5eea9c"
      },
      "execution_count": null,
      "outputs": [
        {
          "output_type": "execute_result",
          "data": {
            "text/plain": [
              "                 X2            X3            X4            X6            X7  \\\n",
              "count  29999.000000  29998.000000  29998.000000  29997.000000  29995.000000   \n",
              "mean       1.603753      1.853057      1.551903     -0.016635     -0.133689   \n",
              "std        0.489125      0.790320      0.521968      1.123829      1.197254   \n",
              "min        1.000000      0.000000      0.000000     -2.000000     -2.000000   \n",
              "25%        1.000000      1.000000      1.000000     -1.000000     -1.000000   \n",
              "50%        2.000000      2.000000      2.000000      0.000000      0.000000   \n",
              "75%        2.000000      2.000000      2.000000      0.000000      0.000000   \n",
              "max        2.000000      6.000000      3.000000      8.000000      8.000000   \n",
              "\n",
              "                 X8            X9           X10           X11  \n",
              "count  29993.000000  29991.000000  29984.000000  29986.000000  \n",
              "mean      -0.166405     -0.220800     -0.266342     -0.291136  \n",
              "std        1.196048      1.169153      1.133296      1.150134  \n",
              "min       -2.000000     -2.000000     -2.000000     -2.000000  \n",
              "25%       -1.000000     -1.000000     -1.000000     -1.000000  \n",
              "50%        0.000000      0.000000      0.000000      0.000000  \n",
              "75%        0.000000      0.000000      0.000000      0.000000  \n",
              "max        8.000000      8.000000      8.000000      8.000000  "
            ],
            "text/html": [
              "\n",
              "  <div id=\"df-de2b1020-f7ce-43c2-a7f7-fcca3a7ae51a\">\n",
              "    <div class=\"colab-df-container\">\n",
              "      <div>\n",
              "<style scoped>\n",
              "    .dataframe tbody tr th:only-of-type {\n",
              "        vertical-align: middle;\n",
              "    }\n",
              "\n",
              "    .dataframe tbody tr th {\n",
              "        vertical-align: top;\n",
              "    }\n",
              "\n",
              "    .dataframe thead th {\n",
              "        text-align: right;\n",
              "    }\n",
              "</style>\n",
              "<table border=\"1\" class=\"dataframe\">\n",
              "  <thead>\n",
              "    <tr style=\"text-align: right;\">\n",
              "      <th></th>\n",
              "      <th>X2</th>\n",
              "      <th>X3</th>\n",
              "      <th>X4</th>\n",
              "      <th>X6</th>\n",
              "      <th>X7</th>\n",
              "      <th>X8</th>\n",
              "      <th>X9</th>\n",
              "      <th>X10</th>\n",
              "      <th>X11</th>\n",
              "    </tr>\n",
              "  </thead>\n",
              "  <tbody>\n",
              "    <tr>\n",
              "      <th>count</th>\n",
              "      <td>29999.000000</td>\n",
              "      <td>29998.000000</td>\n",
              "      <td>29998.000000</td>\n",
              "      <td>29997.000000</td>\n",
              "      <td>29995.000000</td>\n",
              "      <td>29993.000000</td>\n",
              "      <td>29991.000000</td>\n",
              "      <td>29984.000000</td>\n",
              "      <td>29986.000000</td>\n",
              "    </tr>\n",
              "    <tr>\n",
              "      <th>mean</th>\n",
              "      <td>1.603753</td>\n",
              "      <td>1.853057</td>\n",
              "      <td>1.551903</td>\n",
              "      <td>-0.016635</td>\n",
              "      <td>-0.133689</td>\n",
              "      <td>-0.166405</td>\n",
              "      <td>-0.220800</td>\n",
              "      <td>-0.266342</td>\n",
              "      <td>-0.291136</td>\n",
              "    </tr>\n",
              "    <tr>\n",
              "      <th>std</th>\n",
              "      <td>0.489125</td>\n",
              "      <td>0.790320</td>\n",
              "      <td>0.521968</td>\n",
              "      <td>1.123829</td>\n",
              "      <td>1.197254</td>\n",
              "      <td>1.196048</td>\n",
              "      <td>1.169153</td>\n",
              "      <td>1.133296</td>\n",
              "      <td>1.150134</td>\n",
              "    </tr>\n",
              "    <tr>\n",
              "      <th>min</th>\n",
              "      <td>1.000000</td>\n",
              "      <td>0.000000</td>\n",
              "      <td>0.000000</td>\n",
              "      <td>-2.000000</td>\n",
              "      <td>-2.000000</td>\n",
              "      <td>-2.000000</td>\n",
              "      <td>-2.000000</td>\n",
              "      <td>-2.000000</td>\n",
              "      <td>-2.000000</td>\n",
              "    </tr>\n",
              "    <tr>\n",
              "      <th>25%</th>\n",
              "      <td>1.000000</td>\n",
              "      <td>1.000000</td>\n",
              "      <td>1.000000</td>\n",
              "      <td>-1.000000</td>\n",
              "      <td>-1.000000</td>\n",
              "      <td>-1.000000</td>\n",
              "      <td>-1.000000</td>\n",
              "      <td>-1.000000</td>\n",
              "      <td>-1.000000</td>\n",
              "    </tr>\n",
              "    <tr>\n",
              "      <th>50%</th>\n",
              "      <td>2.000000</td>\n",
              "      <td>2.000000</td>\n",
              "      <td>2.000000</td>\n",
              "      <td>0.000000</td>\n",
              "      <td>0.000000</td>\n",
              "      <td>0.000000</td>\n",
              "      <td>0.000000</td>\n",
              "      <td>0.000000</td>\n",
              "      <td>0.000000</td>\n",
              "    </tr>\n",
              "    <tr>\n",
              "      <th>75%</th>\n",
              "      <td>2.000000</td>\n",
              "      <td>2.000000</td>\n",
              "      <td>2.000000</td>\n",
              "      <td>0.000000</td>\n",
              "      <td>0.000000</td>\n",
              "      <td>0.000000</td>\n",
              "      <td>0.000000</td>\n",
              "      <td>0.000000</td>\n",
              "      <td>0.000000</td>\n",
              "    </tr>\n",
              "    <tr>\n",
              "      <th>max</th>\n",
              "      <td>2.000000</td>\n",
              "      <td>6.000000</td>\n",
              "      <td>3.000000</td>\n",
              "      <td>8.000000</td>\n",
              "      <td>8.000000</td>\n",
              "      <td>8.000000</td>\n",
              "      <td>8.000000</td>\n",
              "      <td>8.000000</td>\n",
              "      <td>8.000000</td>\n",
              "    </tr>\n",
              "  </tbody>\n",
              "</table>\n",
              "</div>\n",
              "      <button class=\"colab-df-convert\" onclick=\"convertToInteractive('df-de2b1020-f7ce-43c2-a7f7-fcca3a7ae51a')\"\n",
              "              title=\"Convert this dataframe to an interactive table.\"\n",
              "              style=\"display:none;\">\n",
              "        \n",
              "  <svg xmlns=\"http://www.w3.org/2000/svg\" height=\"24px\"viewBox=\"0 0 24 24\"\n",
              "       width=\"24px\">\n",
              "    <path d=\"M0 0h24v24H0V0z\" fill=\"none\"/>\n",
              "    <path d=\"M18.56 5.44l.94 2.06.94-2.06 2.06-.94-2.06-.94-.94-2.06-.94 2.06-2.06.94zm-11 1L8.5 8.5l.94-2.06 2.06-.94-2.06-.94L8.5 2.5l-.94 2.06-2.06.94zm10 10l.94 2.06.94-2.06 2.06-.94-2.06-.94-.94-2.06-.94 2.06-2.06.94z\"/><path d=\"M17.41 7.96l-1.37-1.37c-.4-.4-.92-.59-1.43-.59-.52 0-1.04.2-1.43.59L10.3 9.45l-7.72 7.72c-.78.78-.78 2.05 0 2.83L4 21.41c.39.39.9.59 1.41.59.51 0 1.02-.2 1.41-.59l7.78-7.78 2.81-2.81c.8-.78.8-2.07 0-2.86zM5.41 20L4 18.59l7.72-7.72 1.47 1.35L5.41 20z\"/>\n",
              "  </svg>\n",
              "      </button>\n",
              "      \n",
              "  <style>\n",
              "    .colab-df-container {\n",
              "      display:flex;\n",
              "      flex-wrap:wrap;\n",
              "      gap: 12px;\n",
              "    }\n",
              "\n",
              "    .colab-df-convert {\n",
              "      background-color: #E8F0FE;\n",
              "      border: none;\n",
              "      border-radius: 50%;\n",
              "      cursor: pointer;\n",
              "      display: none;\n",
              "      fill: #1967D2;\n",
              "      height: 32px;\n",
              "      padding: 0 0 0 0;\n",
              "      width: 32px;\n",
              "    }\n",
              "\n",
              "    .colab-df-convert:hover {\n",
              "      background-color: #E2EBFA;\n",
              "      box-shadow: 0px 1px 2px rgba(60, 64, 67, 0.3), 0px 1px 3px 1px rgba(60, 64, 67, 0.15);\n",
              "      fill: #174EA6;\n",
              "    }\n",
              "\n",
              "    [theme=dark] .colab-df-convert {\n",
              "      background-color: #3B4455;\n",
              "      fill: #D2E3FC;\n",
              "    }\n",
              "\n",
              "    [theme=dark] .colab-df-convert:hover {\n",
              "      background-color: #434B5C;\n",
              "      box-shadow: 0px 1px 3px 1px rgba(0, 0, 0, 0.15);\n",
              "      filter: drop-shadow(0px 1px 2px rgba(0, 0, 0, 0.3));\n",
              "      fill: #FFFFFF;\n",
              "    }\n",
              "  </style>\n",
              "\n",
              "      <script>\n",
              "        const buttonEl =\n",
              "          document.querySelector('#df-de2b1020-f7ce-43c2-a7f7-fcca3a7ae51a button.colab-df-convert');\n",
              "        buttonEl.style.display =\n",
              "          google.colab.kernel.accessAllowed ? 'block' : 'none';\n",
              "\n",
              "        async function convertToInteractive(key) {\n",
              "          const element = document.querySelector('#df-de2b1020-f7ce-43c2-a7f7-fcca3a7ae51a');\n",
              "          const dataTable =\n",
              "            await google.colab.kernel.invokeFunction('convertToInteractive',\n",
              "                                                     [key], {});\n",
              "          if (!dataTable) return;\n",
              "\n",
              "          const docLinkHtml = 'Like what you see? Visit the ' +\n",
              "            '<a target=\"_blank\" href=https://colab.research.google.com/notebooks/data_table.ipynb>data table notebook</a>'\n",
              "            + ' to learn more about interactive tables.';\n",
              "          element.innerHTML = '';\n",
              "          dataTable['output_type'] = 'display_data';\n",
              "          await google.colab.output.renderOutput(dataTable, element);\n",
              "          const docLink = document.createElement('div');\n",
              "          docLink.innerHTML = docLinkHtml;\n",
              "          element.appendChild(docLink);\n",
              "        }\n",
              "      </script>\n",
              "    </div>\n",
              "  </div>\n",
              "  "
            ]
          },
          "metadata": {},
          "execution_count": 22
        }
      ]
    },
    {
      "cell_type": "markdown",
      "source": [
        "The describe function gave us some valuable information for each column. We will start interpretating the information for X2 (GENDER). \n",
        "\n",
        "### COLUMN X2 (GENDER)\n",
        "\n",
        "First, we should notice that the count for this column is detecting 29999 numbers instead of 30,000. We can infer we have one NaN value in this dataset. Also, As we know, for this variable we should have values of only 1 and 2. As we can see, the table is telling us that we have minimum values of 1 and maximum values of 2, which make us infer that the our 29,999 numbers just have those values.\n",
        "\n",
        "However, we can double check all this info with the following code. "
      ],
      "metadata": {
        "id": "P1XFA1IDu3I0"
      }
    },
    {
      "cell_type": "code",
      "source": [
        "dataframe['X2'].unique()"
      ],
      "metadata": {
        "colab": {
          "base_uri": "https://localhost:8080/"
        },
        "id": "gUA0TQDBX3SN",
        "outputId": "81aff68d-8d85-422b-ee2c-98d3f3c20af2"
      },
      "execution_count": null,
      "outputs": [
        {
          "output_type": "execute_result",
          "data": {
            "text/plain": [
              "array([ 2.,  1., nan])"
            ]
          },
          "metadata": {},
          "execution_count": 25
        }
      ]
    },
    {
      "cell_type": "markdown",
      "source": [
        "With this, we are not are certain that in the Gender Column we have 29,999 values of either 1 or 2 and one NaN. \n",
        "\n",
        "Since the mean is 1.6 and we can only use 1.0 or 2.0, we cannot use the mean to substitute the NaN value.  "
      ],
      "metadata": {
        "id": "zjeT5OxuyaX6"
      }
    },
    {
      "cell_type": "code",
      "source": [
        "dataframe['X2'].median()"
      ],
      "metadata": {
        "colab": {
          "base_uri": "https://localhost:8080/"
        },
        "id": "ikDYLT3iy82Y",
        "outputId": "a3a3594d-5ec7-4b46-e006-552475ca032f"
      },
      "execution_count": null,
      "outputs": [
        {
          "output_type": "execute_result",
          "data": {
            "text/plain": [
              "2.0"
            ]
          },
          "metadata": {},
          "execution_count": 31
        }
      ]
    },
    {
      "cell_type": "code",
      "source": [
        "dataframe['X2'].mode()"
      ],
      "metadata": {
        "colab": {
          "base_uri": "https://localhost:8080/"
        },
        "id": "5b5FYXl_yYwL",
        "outputId": "ca9a1c41-ce08-4e18-e610-fdf9158913d4"
      },
      "execution_count": null,
      "outputs": [
        {
          "output_type": "execute_result",
          "data": {
            "text/plain": [
              "0    2.0\n",
              "dtype: float64"
            ]
          },
          "metadata": {},
          "execution_count": 30
        }
      ]
    },
    {
      "cell_type": "markdown",
      "source": [
        "We will substitute the NaN value with 2.0 since both the median and the mode are equal to 2.0."
      ],
      "metadata": {
        "id": "VPW_Y_LtzC9j"
      }
    },
    {
      "cell_type": "code",
      "source": [
        "dataframe['X2'].replace(np.nan, 2.0, inplace=True )"
      ],
      "metadata": {
        "id": "UgypMwv5zBcp"
      },
      "execution_count": null,
      "outputs": []
    },
    {
      "cell_type": "code",
      "source": [
        "dataframe[['X2']].describe()"
      ],
      "metadata": {
        "colab": {
          "base_uri": "https://localhost:8080/",
          "height": 300
        },
        "id": "tWGGNhs6zpUp",
        "outputId": "d81f6be9-3b67-4add-c5b3-a264a20f0238"
      },
      "execution_count": null,
      "outputs": [
        {
          "output_type": "execute_result",
          "data": {
            "text/plain": [
              "                 X2\n",
              "count  30000.000000\n",
              "mean       1.603767\n",
              "std        0.489122\n",
              "min        1.000000\n",
              "25%        1.000000\n",
              "50%        2.000000\n",
              "75%        2.000000\n",
              "max        2.000000"
            ],
            "text/html": [
              "\n",
              "  <div id=\"df-863855ba-1495-415c-8851-888c03e1b89f\">\n",
              "    <div class=\"colab-df-container\">\n",
              "      <div>\n",
              "<style scoped>\n",
              "    .dataframe tbody tr th:only-of-type {\n",
              "        vertical-align: middle;\n",
              "    }\n",
              "\n",
              "    .dataframe tbody tr th {\n",
              "        vertical-align: top;\n",
              "    }\n",
              "\n",
              "    .dataframe thead th {\n",
              "        text-align: right;\n",
              "    }\n",
              "</style>\n",
              "<table border=\"1\" class=\"dataframe\">\n",
              "  <thead>\n",
              "    <tr style=\"text-align: right;\">\n",
              "      <th></th>\n",
              "      <th>X2</th>\n",
              "    </tr>\n",
              "  </thead>\n",
              "  <tbody>\n",
              "    <tr>\n",
              "      <th>count</th>\n",
              "      <td>30000.000000</td>\n",
              "    </tr>\n",
              "    <tr>\n",
              "      <th>mean</th>\n",
              "      <td>1.603767</td>\n",
              "    </tr>\n",
              "    <tr>\n",
              "      <th>std</th>\n",
              "      <td>0.489122</td>\n",
              "    </tr>\n",
              "    <tr>\n",
              "      <th>min</th>\n",
              "      <td>1.000000</td>\n",
              "    </tr>\n",
              "    <tr>\n",
              "      <th>25%</th>\n",
              "      <td>1.000000</td>\n",
              "    </tr>\n",
              "    <tr>\n",
              "      <th>50%</th>\n",
              "      <td>2.000000</td>\n",
              "    </tr>\n",
              "    <tr>\n",
              "      <th>75%</th>\n",
              "      <td>2.000000</td>\n",
              "    </tr>\n",
              "    <tr>\n",
              "      <th>max</th>\n",
              "      <td>2.000000</td>\n",
              "    </tr>\n",
              "  </tbody>\n",
              "</table>\n",
              "</div>\n",
              "      <button class=\"colab-df-convert\" onclick=\"convertToInteractive('df-863855ba-1495-415c-8851-888c03e1b89f')\"\n",
              "              title=\"Convert this dataframe to an interactive table.\"\n",
              "              style=\"display:none;\">\n",
              "        \n",
              "  <svg xmlns=\"http://www.w3.org/2000/svg\" height=\"24px\"viewBox=\"0 0 24 24\"\n",
              "       width=\"24px\">\n",
              "    <path d=\"M0 0h24v24H0V0z\" fill=\"none\"/>\n",
              "    <path d=\"M18.56 5.44l.94 2.06.94-2.06 2.06-.94-2.06-.94-.94-2.06-.94 2.06-2.06.94zm-11 1L8.5 8.5l.94-2.06 2.06-.94-2.06-.94L8.5 2.5l-.94 2.06-2.06.94zm10 10l.94 2.06.94-2.06 2.06-.94-2.06-.94-.94-2.06-.94 2.06-2.06.94z\"/><path d=\"M17.41 7.96l-1.37-1.37c-.4-.4-.92-.59-1.43-.59-.52 0-1.04.2-1.43.59L10.3 9.45l-7.72 7.72c-.78.78-.78 2.05 0 2.83L4 21.41c.39.39.9.59 1.41.59.51 0 1.02-.2 1.41-.59l7.78-7.78 2.81-2.81c.8-.78.8-2.07 0-2.86zM5.41 20L4 18.59l7.72-7.72 1.47 1.35L5.41 20z\"/>\n",
              "  </svg>\n",
              "      </button>\n",
              "      \n",
              "  <style>\n",
              "    .colab-df-container {\n",
              "      display:flex;\n",
              "      flex-wrap:wrap;\n",
              "      gap: 12px;\n",
              "    }\n",
              "\n",
              "    .colab-df-convert {\n",
              "      background-color: #E8F0FE;\n",
              "      border: none;\n",
              "      border-radius: 50%;\n",
              "      cursor: pointer;\n",
              "      display: none;\n",
              "      fill: #1967D2;\n",
              "      height: 32px;\n",
              "      padding: 0 0 0 0;\n",
              "      width: 32px;\n",
              "    }\n",
              "\n",
              "    .colab-df-convert:hover {\n",
              "      background-color: #E2EBFA;\n",
              "      box-shadow: 0px 1px 2px rgba(60, 64, 67, 0.3), 0px 1px 3px 1px rgba(60, 64, 67, 0.15);\n",
              "      fill: #174EA6;\n",
              "    }\n",
              "\n",
              "    [theme=dark] .colab-df-convert {\n",
              "      background-color: #3B4455;\n",
              "      fill: #D2E3FC;\n",
              "    }\n",
              "\n",
              "    [theme=dark] .colab-df-convert:hover {\n",
              "      background-color: #434B5C;\n",
              "      box-shadow: 0px 1px 3px 1px rgba(0, 0, 0, 0.15);\n",
              "      filter: drop-shadow(0px 1px 2px rgba(0, 0, 0, 0.3));\n",
              "      fill: #FFFFFF;\n",
              "    }\n",
              "  </style>\n",
              "\n",
              "      <script>\n",
              "        const buttonEl =\n",
              "          document.querySelector('#df-863855ba-1495-415c-8851-888c03e1b89f button.colab-df-convert');\n",
              "        buttonEl.style.display =\n",
              "          google.colab.kernel.accessAllowed ? 'block' : 'none';\n",
              "\n",
              "        async function convertToInteractive(key) {\n",
              "          const element = document.querySelector('#df-863855ba-1495-415c-8851-888c03e1b89f');\n",
              "          const dataTable =\n",
              "            await google.colab.kernel.invokeFunction('convertToInteractive',\n",
              "                                                     [key], {});\n",
              "          if (!dataTable) return;\n",
              "\n",
              "          const docLinkHtml = 'Like what you see? Visit the ' +\n",
              "            '<a target=\"_blank\" href=https://colab.research.google.com/notebooks/data_table.ipynb>data table notebook</a>'\n",
              "            + ' to learn more about interactive tables.';\n",
              "          element.innerHTML = '';\n",
              "          dataTable['output_type'] = 'display_data';\n",
              "          await google.colab.output.renderOutput(dataTable, element);\n",
              "          const docLink = document.createElement('div');\n",
              "          docLink.innerHTML = docLinkHtml;\n",
              "          element.appendChild(docLink);\n",
              "        }\n",
              "      </script>\n",
              "    </div>\n",
              "  </div>\n",
              "  "
            ]
          },
          "metadata": {},
          "execution_count": 33
        }
      ]
    },
    {
      "cell_type": "markdown",
      "source": [
        "Now our code is detecting 30,000 number entries in the Gender Column. "
      ],
      "metadata": {
        "id": "ltfhx4QHzzFo"
      }
    },
    {
      "cell_type": "markdown",
      "source": [
        "### COLUMN X3 (EDUCATION)\n",
        "\n",
        "We will follow a similar process to the one we just did.  However, for this column we should notice that we can only have 4 values 1 = graduate school; 2 = university; 3 = high school; 4 = others. In our table, we can see that we have two NaN,  a max of 6 and a min of 4. Therefore, we have several data that need to be corrected. "
      ],
      "metadata": {
        "id": "tRidmgkX0I8q"
      }
    },
    {
      "cell_type": "code",
      "source": [
        "dataframe['X3'].unique()"
      ],
      "metadata": {
        "colab": {
          "base_uri": "https://localhost:8080/"
        },
        "id": "6cmfmplIzyC4",
        "outputId": "b893ea17-5464-464b-e7c5-52d8ddf446bb"
      },
      "execution_count": null,
      "outputs": [
        {
          "output_type": "execute_result",
          "data": {
            "text/plain": [
              "array([ 2.,  1.,  3.,  5.,  4.,  6.,  0., nan])"
            ]
          },
          "metadata": {},
          "execution_count": 34
        }
      ]
    },
    {
      "cell_type": "markdown",
      "source": [
        "According to our data set information, we have 4 values that should be replaced. 5, 6, 0 and NaN should be adjusted. \n",
        "\n",
        "Since, in this case we know that 4 = others, then I believe that all values that are misleading (5, 6, 0 and NaN) should be stored as a 4."
      ],
      "metadata": {
        "id": "vU4LyFod0-Gp"
      }
    },
    {
      "cell_type": "code",
      "source": [
        "dataframe['X3'].replace(np.nan, 4.0, inplace=True )\n",
        "dataframe['X3'].replace(5.0, 4.0, inplace=True )\n",
        "dataframe['X3'].replace(6.0, 4.0, inplace=True )\n",
        "dataframe['X3'].replace(0, 4.0, inplace=True )"
      ],
      "metadata": {
        "id": "HHLG6gjh1vTw"
      },
      "execution_count": null,
      "outputs": []
    },
    {
      "cell_type": "code",
      "source": [
        "dataframe[['X3']].describe()"
      ],
      "metadata": {
        "colab": {
          "base_uri": "https://localhost:8080/",
          "height": 300
        },
        "id": "K79EJg4E2A9T",
        "outputId": "58328e09-1b99-4336-d7ea-dcbd74f27fb0"
      },
      "execution_count": null,
      "outputs": [
        {
          "output_type": "execute_result",
          "data": {
            "text/plain": [
              "                 X3\n",
              "count  30000.000000\n",
              "mean       1.842333\n",
              "std        0.744643\n",
              "min        1.000000\n",
              "25%        1.000000\n",
              "50%        2.000000\n",
              "75%        2.000000\n",
              "max        4.000000"
            ],
            "text/html": [
              "\n",
              "  <div id=\"df-ca8e705f-072f-4e35-a7cd-7fcddb6e749a\">\n",
              "    <div class=\"colab-df-container\">\n",
              "      <div>\n",
              "<style scoped>\n",
              "    .dataframe tbody tr th:only-of-type {\n",
              "        vertical-align: middle;\n",
              "    }\n",
              "\n",
              "    .dataframe tbody tr th {\n",
              "        vertical-align: top;\n",
              "    }\n",
              "\n",
              "    .dataframe thead th {\n",
              "        text-align: right;\n",
              "    }\n",
              "</style>\n",
              "<table border=\"1\" class=\"dataframe\">\n",
              "  <thead>\n",
              "    <tr style=\"text-align: right;\">\n",
              "      <th></th>\n",
              "      <th>X3</th>\n",
              "    </tr>\n",
              "  </thead>\n",
              "  <tbody>\n",
              "    <tr>\n",
              "      <th>count</th>\n",
              "      <td>30000.000000</td>\n",
              "    </tr>\n",
              "    <tr>\n",
              "      <th>mean</th>\n",
              "      <td>1.842333</td>\n",
              "    </tr>\n",
              "    <tr>\n",
              "      <th>std</th>\n",
              "      <td>0.744643</td>\n",
              "    </tr>\n",
              "    <tr>\n",
              "      <th>min</th>\n",
              "      <td>1.000000</td>\n",
              "    </tr>\n",
              "    <tr>\n",
              "      <th>25%</th>\n",
              "      <td>1.000000</td>\n",
              "    </tr>\n",
              "    <tr>\n",
              "      <th>50%</th>\n",
              "      <td>2.000000</td>\n",
              "    </tr>\n",
              "    <tr>\n",
              "      <th>75%</th>\n",
              "      <td>2.000000</td>\n",
              "    </tr>\n",
              "    <tr>\n",
              "      <th>max</th>\n",
              "      <td>4.000000</td>\n",
              "    </tr>\n",
              "  </tbody>\n",
              "</table>\n",
              "</div>\n",
              "      <button class=\"colab-df-convert\" onclick=\"convertToInteractive('df-ca8e705f-072f-4e35-a7cd-7fcddb6e749a')\"\n",
              "              title=\"Convert this dataframe to an interactive table.\"\n",
              "              style=\"display:none;\">\n",
              "        \n",
              "  <svg xmlns=\"http://www.w3.org/2000/svg\" height=\"24px\"viewBox=\"0 0 24 24\"\n",
              "       width=\"24px\">\n",
              "    <path d=\"M0 0h24v24H0V0z\" fill=\"none\"/>\n",
              "    <path d=\"M18.56 5.44l.94 2.06.94-2.06 2.06-.94-2.06-.94-.94-2.06-.94 2.06-2.06.94zm-11 1L8.5 8.5l.94-2.06 2.06-.94-2.06-.94L8.5 2.5l-.94 2.06-2.06.94zm10 10l.94 2.06.94-2.06 2.06-.94-2.06-.94-.94-2.06-.94 2.06-2.06.94z\"/><path d=\"M17.41 7.96l-1.37-1.37c-.4-.4-.92-.59-1.43-.59-.52 0-1.04.2-1.43.59L10.3 9.45l-7.72 7.72c-.78.78-.78 2.05 0 2.83L4 21.41c.39.39.9.59 1.41.59.51 0 1.02-.2 1.41-.59l7.78-7.78 2.81-2.81c.8-.78.8-2.07 0-2.86zM5.41 20L4 18.59l7.72-7.72 1.47 1.35L5.41 20z\"/>\n",
              "  </svg>\n",
              "      </button>\n",
              "      \n",
              "  <style>\n",
              "    .colab-df-container {\n",
              "      display:flex;\n",
              "      flex-wrap:wrap;\n",
              "      gap: 12px;\n",
              "    }\n",
              "\n",
              "    .colab-df-convert {\n",
              "      background-color: #E8F0FE;\n",
              "      border: none;\n",
              "      border-radius: 50%;\n",
              "      cursor: pointer;\n",
              "      display: none;\n",
              "      fill: #1967D2;\n",
              "      height: 32px;\n",
              "      padding: 0 0 0 0;\n",
              "      width: 32px;\n",
              "    }\n",
              "\n",
              "    .colab-df-convert:hover {\n",
              "      background-color: #E2EBFA;\n",
              "      box-shadow: 0px 1px 2px rgba(60, 64, 67, 0.3), 0px 1px 3px 1px rgba(60, 64, 67, 0.15);\n",
              "      fill: #174EA6;\n",
              "    }\n",
              "\n",
              "    [theme=dark] .colab-df-convert {\n",
              "      background-color: #3B4455;\n",
              "      fill: #D2E3FC;\n",
              "    }\n",
              "\n",
              "    [theme=dark] .colab-df-convert:hover {\n",
              "      background-color: #434B5C;\n",
              "      box-shadow: 0px 1px 3px 1px rgba(0, 0, 0, 0.15);\n",
              "      filter: drop-shadow(0px 1px 2px rgba(0, 0, 0, 0.3));\n",
              "      fill: #FFFFFF;\n",
              "    }\n",
              "  </style>\n",
              "\n",
              "      <script>\n",
              "        const buttonEl =\n",
              "          document.querySelector('#df-ca8e705f-072f-4e35-a7cd-7fcddb6e749a button.colab-df-convert');\n",
              "        buttonEl.style.display =\n",
              "          google.colab.kernel.accessAllowed ? 'block' : 'none';\n",
              "\n",
              "        async function convertToInteractive(key) {\n",
              "          const element = document.querySelector('#df-ca8e705f-072f-4e35-a7cd-7fcddb6e749a');\n",
              "          const dataTable =\n",
              "            await google.colab.kernel.invokeFunction('convertToInteractive',\n",
              "                                                     [key], {});\n",
              "          if (!dataTable) return;\n",
              "\n",
              "          const docLinkHtml = 'Like what you see? Visit the ' +\n",
              "            '<a target=\"_blank\" href=https://colab.research.google.com/notebooks/data_table.ipynb>data table notebook</a>'\n",
              "            + ' to learn more about interactive tables.';\n",
              "          element.innerHTML = '';\n",
              "          dataTable['output_type'] = 'display_data';\n",
              "          await google.colab.output.renderOutput(dataTable, element);\n",
              "          const docLink = document.createElement('div');\n",
              "          docLink.innerHTML = docLinkHtml;\n",
              "          element.appendChild(docLink);\n",
              "        }\n",
              "      </script>\n",
              "    </div>\n",
              "  </div>\n",
              "  "
            ]
          },
          "metadata": {},
          "execution_count": 37
        }
      ]
    },
    {
      "cell_type": "code",
      "source": [
        "dataframe['X3'].unique()"
      ],
      "metadata": {
        "colab": {
          "base_uri": "https://localhost:8080/"
        },
        "id": "80wBSUd52Tjl",
        "outputId": "111e5579-7f74-460f-d327-1a84c4f8afd3"
      },
      "execution_count": null,
      "outputs": [
        {
          "output_type": "execute_result",
          "data": {
            "text/plain": [
              "array([2., 1., 3., 4.])"
            ]
          },
          "metadata": {},
          "execution_count": 38
        }
      ]
    },
    {
      "cell_type": "markdown",
      "source": [
        "We now have 30,000 values between 1 and 4. "
      ],
      "metadata": {
        "id": "UyIjO7RS2MEl"
      }
    },
    {
      "cell_type": "markdown",
      "source": [
        "### COLUMN X4 (Marital status)\n",
        "\n",
        "For this column we should only have 3 values 1 = married; 2 = single; 3 = others. Instead, it seems that we have NaN values and 0's \n",
        "\n"
      ],
      "metadata": {
        "id": "tb0BKbW72aOB"
      }
    },
    {
      "cell_type": "code",
      "source": [
        "dataframe['X4'].unique()"
      ],
      "metadata": {
        "colab": {
          "base_uri": "https://localhost:8080/"
        },
        "id": "6ur6NBe72K67",
        "outputId": "b3e02c9c-cf90-4b84-c14d-c8f7e239b68e"
      },
      "execution_count": null,
      "outputs": [
        {
          "output_type": "execute_result",
          "data": {
            "text/plain": [
              "array([ 1.,  2.,  3.,  0., nan])"
            ]
          },
          "metadata": {},
          "execution_count": 39
        }
      ]
    },
    {
      "cell_type": "markdown",
      "source": [
        "We will have to replace 0's and NaN. Again, in this case we have a \"others\" category. Therefore, we will store the misleading data under this category. "
      ],
      "metadata": {
        "id": "m9oVBO6b3CtS"
      }
    },
    {
      "cell_type": "code",
      "source": [
        "dataframe['X4'].replace(np.nan, 3.0, inplace=True )\n",
        "dataframe['X4'].replace(0, 3.0, inplace=True )"
      ],
      "metadata": {
        "id": "IV9VI3pY3T6h"
      },
      "execution_count": null,
      "outputs": []
    },
    {
      "cell_type": "code",
      "source": [
        "dataframe[['X4']].describe()"
      ],
      "metadata": {
        "colab": {
          "base_uri": "https://localhost:8080/",
          "height": 300
        },
        "id": "UBrzlqka33H_",
        "outputId": "0ed12022-ce8e-45b4-ff43-53ba51956db3"
      },
      "execution_count": null,
      "outputs": [
        {
          "output_type": "execute_result",
          "data": {
            "text/plain": [
              "                 X4\n",
              "count  30000.000000\n",
              "mean       1.557400\n",
              "std        0.521518\n",
              "min        1.000000\n",
              "25%        1.000000\n",
              "50%        2.000000\n",
              "75%        2.000000\n",
              "max        3.000000"
            ],
            "text/html": [
              "\n",
              "  <div id=\"df-2e646611-ae73-4720-9a55-9a9356f4258e\">\n",
              "    <div class=\"colab-df-container\">\n",
              "      <div>\n",
              "<style scoped>\n",
              "    .dataframe tbody tr th:only-of-type {\n",
              "        vertical-align: middle;\n",
              "    }\n",
              "\n",
              "    .dataframe tbody tr th {\n",
              "        vertical-align: top;\n",
              "    }\n",
              "\n",
              "    .dataframe thead th {\n",
              "        text-align: right;\n",
              "    }\n",
              "</style>\n",
              "<table border=\"1\" class=\"dataframe\">\n",
              "  <thead>\n",
              "    <tr style=\"text-align: right;\">\n",
              "      <th></th>\n",
              "      <th>X4</th>\n",
              "    </tr>\n",
              "  </thead>\n",
              "  <tbody>\n",
              "    <tr>\n",
              "      <th>count</th>\n",
              "      <td>30000.000000</td>\n",
              "    </tr>\n",
              "    <tr>\n",
              "      <th>mean</th>\n",
              "      <td>1.557400</td>\n",
              "    </tr>\n",
              "    <tr>\n",
              "      <th>std</th>\n",
              "      <td>0.521518</td>\n",
              "    </tr>\n",
              "    <tr>\n",
              "      <th>min</th>\n",
              "      <td>1.000000</td>\n",
              "    </tr>\n",
              "    <tr>\n",
              "      <th>25%</th>\n",
              "      <td>1.000000</td>\n",
              "    </tr>\n",
              "    <tr>\n",
              "      <th>50%</th>\n",
              "      <td>2.000000</td>\n",
              "    </tr>\n",
              "    <tr>\n",
              "      <th>75%</th>\n",
              "      <td>2.000000</td>\n",
              "    </tr>\n",
              "    <tr>\n",
              "      <th>max</th>\n",
              "      <td>3.000000</td>\n",
              "    </tr>\n",
              "  </tbody>\n",
              "</table>\n",
              "</div>\n",
              "      <button class=\"colab-df-convert\" onclick=\"convertToInteractive('df-2e646611-ae73-4720-9a55-9a9356f4258e')\"\n",
              "              title=\"Convert this dataframe to an interactive table.\"\n",
              "              style=\"display:none;\">\n",
              "        \n",
              "  <svg xmlns=\"http://www.w3.org/2000/svg\" height=\"24px\"viewBox=\"0 0 24 24\"\n",
              "       width=\"24px\">\n",
              "    <path d=\"M0 0h24v24H0V0z\" fill=\"none\"/>\n",
              "    <path d=\"M18.56 5.44l.94 2.06.94-2.06 2.06-.94-2.06-.94-.94-2.06-.94 2.06-2.06.94zm-11 1L8.5 8.5l.94-2.06 2.06-.94-2.06-.94L8.5 2.5l-.94 2.06-2.06.94zm10 10l.94 2.06.94-2.06 2.06-.94-2.06-.94-.94-2.06-.94 2.06-2.06.94z\"/><path d=\"M17.41 7.96l-1.37-1.37c-.4-.4-.92-.59-1.43-.59-.52 0-1.04.2-1.43.59L10.3 9.45l-7.72 7.72c-.78.78-.78 2.05 0 2.83L4 21.41c.39.39.9.59 1.41.59.51 0 1.02-.2 1.41-.59l7.78-7.78 2.81-2.81c.8-.78.8-2.07 0-2.86zM5.41 20L4 18.59l7.72-7.72 1.47 1.35L5.41 20z\"/>\n",
              "  </svg>\n",
              "      </button>\n",
              "      \n",
              "  <style>\n",
              "    .colab-df-container {\n",
              "      display:flex;\n",
              "      flex-wrap:wrap;\n",
              "      gap: 12px;\n",
              "    }\n",
              "\n",
              "    .colab-df-convert {\n",
              "      background-color: #E8F0FE;\n",
              "      border: none;\n",
              "      border-radius: 50%;\n",
              "      cursor: pointer;\n",
              "      display: none;\n",
              "      fill: #1967D2;\n",
              "      height: 32px;\n",
              "      padding: 0 0 0 0;\n",
              "      width: 32px;\n",
              "    }\n",
              "\n",
              "    .colab-df-convert:hover {\n",
              "      background-color: #E2EBFA;\n",
              "      box-shadow: 0px 1px 2px rgba(60, 64, 67, 0.3), 0px 1px 3px 1px rgba(60, 64, 67, 0.15);\n",
              "      fill: #174EA6;\n",
              "    }\n",
              "\n",
              "    [theme=dark] .colab-df-convert {\n",
              "      background-color: #3B4455;\n",
              "      fill: #D2E3FC;\n",
              "    }\n",
              "\n",
              "    [theme=dark] .colab-df-convert:hover {\n",
              "      background-color: #434B5C;\n",
              "      box-shadow: 0px 1px 3px 1px rgba(0, 0, 0, 0.15);\n",
              "      filter: drop-shadow(0px 1px 2px rgba(0, 0, 0, 0.3));\n",
              "      fill: #FFFFFF;\n",
              "    }\n",
              "  </style>\n",
              "\n",
              "      <script>\n",
              "        const buttonEl =\n",
              "          document.querySelector('#df-2e646611-ae73-4720-9a55-9a9356f4258e button.colab-df-convert');\n",
              "        buttonEl.style.display =\n",
              "          google.colab.kernel.accessAllowed ? 'block' : 'none';\n",
              "\n",
              "        async function convertToInteractive(key) {\n",
              "          const element = document.querySelector('#df-2e646611-ae73-4720-9a55-9a9356f4258e');\n",
              "          const dataTable =\n",
              "            await google.colab.kernel.invokeFunction('convertToInteractive',\n",
              "                                                     [key], {});\n",
              "          if (!dataTable) return;\n",
              "\n",
              "          const docLinkHtml = 'Like what you see? Visit the ' +\n",
              "            '<a target=\"_blank\" href=https://colab.research.google.com/notebooks/data_table.ipynb>data table notebook</a>'\n",
              "            + ' to learn more about interactive tables.';\n",
              "          element.innerHTML = '';\n",
              "          dataTable['output_type'] = 'display_data';\n",
              "          await google.colab.output.renderOutput(dataTable, element);\n",
              "          const docLink = document.createElement('div');\n",
              "          docLink.innerHTML = docLinkHtml;\n",
              "          element.appendChild(docLink);\n",
              "        }\n",
              "      </script>\n",
              "    </div>\n",
              "  </div>\n",
              "  "
            ]
          },
          "metadata": {},
          "execution_count": 41
        }
      ]
    },
    {
      "cell_type": "code",
      "source": [
        "dataframe['X4'].unique()"
      ],
      "metadata": {
        "colab": {
          "base_uri": "https://localhost:8080/"
        },
        "id": "qxyyrcMo35c2",
        "outputId": "7f39fe36-110d-49c9-a893-7e7fb25d417b"
      },
      "execution_count": null,
      "outputs": [
        {
          "output_type": "execute_result",
          "data": {
            "text/plain": [
              "array([1., 2., 3.])"
            ]
          },
          "metadata": {},
          "execution_count": 43
        }
      ]
    },
    {
      "cell_type": "markdown",
      "source": [
        "We now have 30,000 values between 1 and 3. "
      ],
      "metadata": {
        "id": "H4NGvNVk4F4d"
      }
    },
    {
      "cell_type": "markdown",
      "source": [
        "### COLUMNS X6 - X11 (Payment statos from April to September 2005)\n",
        "\n",
        "All this columns should have the following values -1 = pay duly; 1 = payment delay for one month; 2 = payment delay for two months; . . .; 8 = payment delay for eight months; 9 = payment delay for nine months and above.\n"
      ],
      "metadata": {
        "id": "d1LdoT3g4iD6"
      }
    },
    {
      "cell_type": "code",
      "source": [
        "print(dataframe['X6'].unique())\n",
        "print(dataframe['X7'].unique())\n",
        "print(dataframe['X8'].unique())\n",
        "print(dataframe['X9'].unique())\n",
        "print(dataframe['X10'].unique())\n",
        "print(dataframe['X11'].unique())\n"
      ],
      "metadata": {
        "colab": {
          "base_uri": "https://localhost:8080/"
        },
        "id": "46ewmLx656hG",
        "outputId": "2bf627b1-9c31-4ccc-9ce0-629ba453e346"
      },
      "execution_count": null,
      "outputs": [
        {
          "output_type": "stream",
          "name": "stdout",
          "text": [
            "[ 2. -1.  0. -2.  1.  3.  4.  8.  7.  5.  6. nan]\n",
            "[ 2.  0. -1. -2.  3.  5.  7.  4.  1.  6. nan  8.]\n",
            "[-1.  0.  2. -2.  3.  4.  6.  7.  1.  5. nan  8.]\n",
            "[-1.  0. -2.  2.  3.  4. nan  5.  7.  6.  1.  8.]\n",
            "[-2.  0. -1.  2. nan  3.  5.  4.  7.  8.  6.]\n",
            "[-2.  2.  0. -1.  3.  6.  4.  7.  8. nan  5.]\n"
          ]
        }
      ]
    },
    {
      "cell_type": "code",
      "source": [
        "print(dataframe['X6'].median())\n",
        "print(dataframe['X7'].median())\n",
        "print(dataframe['X8'].median())\n",
        "print(dataframe['X9'].median())\n",
        "print(dataframe['X10'].median())\n",
        "print(dataframe['X11'].median())"
      ],
      "metadata": {
        "colab": {
          "base_uri": "https://localhost:8080/"
        },
        "id": "U2xhIF7ZFS_S",
        "outputId": "0a1f6d60-6d76-49f2-e15c-0b347b3959ab"
      },
      "execution_count": null,
      "outputs": [
        {
          "output_type": "stream",
          "name": "stdout",
          "text": [
            "0.0\n",
            "0.0\n",
            "0.0\n",
            "0.0\n",
            "0.0\n",
            "0.0\n"
          ]
        }
      ]
    },
    {
      "cell_type": "code",
      "source": [
        "print(dataframe['X6'].mode())\n",
        "print(dataframe['X7'].mode())\n",
        "print(dataframe['X8'].mode())\n",
        "print(dataframe['X9'].mode())\n",
        "print(dataframe['X10'].mode())\n",
        "print(dataframe['X11'].mode())"
      ],
      "metadata": {
        "colab": {
          "base_uri": "https://localhost:8080/"
        },
        "id": "_3f3gNIHFaTa",
        "outputId": "d7570264-37b0-4804-e9bc-cd755f781f13"
      },
      "execution_count": null,
      "outputs": [
        {
          "output_type": "stream",
          "name": "stdout",
          "text": [
            "0    0.0\n",
            "dtype: float64\n",
            "0    0.0\n",
            "dtype: float64\n",
            "0    0.0\n",
            "dtype: float64\n",
            "0    0.0\n",
            "dtype: float64\n",
            "0    0.0\n",
            "dtype: float64\n",
            "0    0.0\n",
            "dtype: float64\n",
            "0    0.0\n",
            "dtype: float64\n",
            "0    0.0\n",
            "dtype: float64\n",
            "0    0.0\n",
            "dtype: float64\n",
            "0    0.0\n",
            "dtype: float64\n",
            "0    0.0\n",
            "dtype: float64\n",
            "0    0.0\n",
            "dtype: float64\n"
          ]
        }
      ]
    },
    {
      "cell_type": "markdown",
      "source": [
        "As we can see, in this columns, we have unwanted data such as 0, -2 and NaN. However, we also see that the median and mode of each of this column is always 0, an undefined value. In this regard, I think that it would be convenient to  group all unwanted data (0, -2 and NaN) inside the category 'pay duly', since 0 and -2 probably means that they did not have a delay on the payment. Also, we could define 0 as \"pay duly\" instead of -1 that way we have a sequence of numbers."
      ],
      "metadata": {
        "id": "bFsTc9aQFJSo"
      }
    },
    {
      "cell_type": "code",
      "source": [
        "dataframe['X6'].replace([np.nan,0,-1,-2], 0.0, inplace=True )\n",
        "dataframe['X7'].replace([np.nan,0,-1,-2], 0.0, inplace=True )\n",
        "dataframe['X8'].replace([np.nan,0,-1,-2], 0.0, inplace=True )\n",
        "dataframe['X9'].replace([np.nan,0,-1,-2], 0.0, inplace=True )\n",
        "dataframe['X10'].replace([np.nan,0,-1,-2], 0.0, inplace=True )\n",
        "dataframe['X11'].replace([np.nan,0,-1,-2], 0.0, inplace=True )"
      ],
      "metadata": {
        "id": "c2EScZaSFIrV"
      },
      "execution_count": null,
      "outputs": []
    },
    {
      "cell_type": "code",
      "source": [
        "dataframe[['X6','X7','X8','X9','X10', 'X11']].describe()"
      ],
      "metadata": {
        "colab": {
          "base_uri": "https://localhost:8080/",
          "height": 300
        },
        "id": "P7MppFS8IVzl",
        "outputId": "136111ab-ed09-4e86-869d-247fa1a93b7b"
      },
      "execution_count": null,
      "outputs": [
        {
          "output_type": "execute_result",
          "data": {
            "text/plain": [
              "                 X6            X7            X8            X9           X10  \\\n",
              "count  30000.000000  30000.000000  30000.000000  30000.000000  30000.000000   \n",
              "mean       0.356767      0.320033      0.303800      0.258633      0.221367   \n",
              "std        0.760594      0.801727      0.789341      0.760983      0.717575   \n",
              "min        0.000000      0.000000      0.000000      0.000000      0.000000   \n",
              "25%        0.000000      0.000000      0.000000      0.000000      0.000000   \n",
              "50%        0.000000      0.000000      0.000000      0.000000      0.000000   \n",
              "75%        0.000000      0.000000      0.000000      0.000000      0.000000   \n",
              "max        8.000000      8.000000      8.000000      8.000000      8.000000   \n",
              "\n",
              "                X11  \n",
              "count  30000.000000  \n",
              "mean       0.226500  \n",
              "std        0.715366  \n",
              "min        0.000000  \n",
              "25%        0.000000  \n",
              "50%        0.000000  \n",
              "75%        0.000000  \n",
              "max        8.000000  "
            ],
            "text/html": [
              "\n",
              "  <div id=\"df-be0d54a1-8a00-4b52-9139-b17b86c1b8b7\">\n",
              "    <div class=\"colab-df-container\">\n",
              "      <div>\n",
              "<style scoped>\n",
              "    .dataframe tbody tr th:only-of-type {\n",
              "        vertical-align: middle;\n",
              "    }\n",
              "\n",
              "    .dataframe tbody tr th {\n",
              "        vertical-align: top;\n",
              "    }\n",
              "\n",
              "    .dataframe thead th {\n",
              "        text-align: right;\n",
              "    }\n",
              "</style>\n",
              "<table border=\"1\" class=\"dataframe\">\n",
              "  <thead>\n",
              "    <tr style=\"text-align: right;\">\n",
              "      <th></th>\n",
              "      <th>X6</th>\n",
              "      <th>X7</th>\n",
              "      <th>X8</th>\n",
              "      <th>X9</th>\n",
              "      <th>X10</th>\n",
              "      <th>X11</th>\n",
              "    </tr>\n",
              "  </thead>\n",
              "  <tbody>\n",
              "    <tr>\n",
              "      <th>count</th>\n",
              "      <td>30000.000000</td>\n",
              "      <td>30000.000000</td>\n",
              "      <td>30000.000000</td>\n",
              "      <td>30000.000000</td>\n",
              "      <td>30000.000000</td>\n",
              "      <td>30000.000000</td>\n",
              "    </tr>\n",
              "    <tr>\n",
              "      <th>mean</th>\n",
              "      <td>0.356767</td>\n",
              "      <td>0.320033</td>\n",
              "      <td>0.303800</td>\n",
              "      <td>0.258633</td>\n",
              "      <td>0.221367</td>\n",
              "      <td>0.226500</td>\n",
              "    </tr>\n",
              "    <tr>\n",
              "      <th>std</th>\n",
              "      <td>0.760594</td>\n",
              "      <td>0.801727</td>\n",
              "      <td>0.789341</td>\n",
              "      <td>0.760983</td>\n",
              "      <td>0.717575</td>\n",
              "      <td>0.715366</td>\n",
              "    </tr>\n",
              "    <tr>\n",
              "      <th>min</th>\n",
              "      <td>0.000000</td>\n",
              "      <td>0.000000</td>\n",
              "      <td>0.000000</td>\n",
              "      <td>0.000000</td>\n",
              "      <td>0.000000</td>\n",
              "      <td>0.000000</td>\n",
              "    </tr>\n",
              "    <tr>\n",
              "      <th>25%</th>\n",
              "      <td>0.000000</td>\n",
              "      <td>0.000000</td>\n",
              "      <td>0.000000</td>\n",
              "      <td>0.000000</td>\n",
              "      <td>0.000000</td>\n",
              "      <td>0.000000</td>\n",
              "    </tr>\n",
              "    <tr>\n",
              "      <th>50%</th>\n",
              "      <td>0.000000</td>\n",
              "      <td>0.000000</td>\n",
              "      <td>0.000000</td>\n",
              "      <td>0.000000</td>\n",
              "      <td>0.000000</td>\n",
              "      <td>0.000000</td>\n",
              "    </tr>\n",
              "    <tr>\n",
              "      <th>75%</th>\n",
              "      <td>0.000000</td>\n",
              "      <td>0.000000</td>\n",
              "      <td>0.000000</td>\n",
              "      <td>0.000000</td>\n",
              "      <td>0.000000</td>\n",
              "      <td>0.000000</td>\n",
              "    </tr>\n",
              "    <tr>\n",
              "      <th>max</th>\n",
              "      <td>8.000000</td>\n",
              "      <td>8.000000</td>\n",
              "      <td>8.000000</td>\n",
              "      <td>8.000000</td>\n",
              "      <td>8.000000</td>\n",
              "      <td>8.000000</td>\n",
              "    </tr>\n",
              "  </tbody>\n",
              "</table>\n",
              "</div>\n",
              "      <button class=\"colab-df-convert\" onclick=\"convertToInteractive('df-be0d54a1-8a00-4b52-9139-b17b86c1b8b7')\"\n",
              "              title=\"Convert this dataframe to an interactive table.\"\n",
              "              style=\"display:none;\">\n",
              "        \n",
              "  <svg xmlns=\"http://www.w3.org/2000/svg\" height=\"24px\"viewBox=\"0 0 24 24\"\n",
              "       width=\"24px\">\n",
              "    <path d=\"M0 0h24v24H0V0z\" fill=\"none\"/>\n",
              "    <path d=\"M18.56 5.44l.94 2.06.94-2.06 2.06-.94-2.06-.94-.94-2.06-.94 2.06-2.06.94zm-11 1L8.5 8.5l.94-2.06 2.06-.94-2.06-.94L8.5 2.5l-.94 2.06-2.06.94zm10 10l.94 2.06.94-2.06 2.06-.94-2.06-.94-.94-2.06-.94 2.06-2.06.94z\"/><path d=\"M17.41 7.96l-1.37-1.37c-.4-.4-.92-.59-1.43-.59-.52 0-1.04.2-1.43.59L10.3 9.45l-7.72 7.72c-.78.78-.78 2.05 0 2.83L4 21.41c.39.39.9.59 1.41.59.51 0 1.02-.2 1.41-.59l7.78-7.78 2.81-2.81c.8-.78.8-2.07 0-2.86zM5.41 20L4 18.59l7.72-7.72 1.47 1.35L5.41 20z\"/>\n",
              "  </svg>\n",
              "      </button>\n",
              "      \n",
              "  <style>\n",
              "    .colab-df-container {\n",
              "      display:flex;\n",
              "      flex-wrap:wrap;\n",
              "      gap: 12px;\n",
              "    }\n",
              "\n",
              "    .colab-df-convert {\n",
              "      background-color: #E8F0FE;\n",
              "      border: none;\n",
              "      border-radius: 50%;\n",
              "      cursor: pointer;\n",
              "      display: none;\n",
              "      fill: #1967D2;\n",
              "      height: 32px;\n",
              "      padding: 0 0 0 0;\n",
              "      width: 32px;\n",
              "    }\n",
              "\n",
              "    .colab-df-convert:hover {\n",
              "      background-color: #E2EBFA;\n",
              "      box-shadow: 0px 1px 2px rgba(60, 64, 67, 0.3), 0px 1px 3px 1px rgba(60, 64, 67, 0.15);\n",
              "      fill: #174EA6;\n",
              "    }\n",
              "\n",
              "    [theme=dark] .colab-df-convert {\n",
              "      background-color: #3B4455;\n",
              "      fill: #D2E3FC;\n",
              "    }\n",
              "\n",
              "    [theme=dark] .colab-df-convert:hover {\n",
              "      background-color: #434B5C;\n",
              "      box-shadow: 0px 1px 3px 1px rgba(0, 0, 0, 0.15);\n",
              "      filter: drop-shadow(0px 1px 2px rgba(0, 0, 0, 0.3));\n",
              "      fill: #FFFFFF;\n",
              "    }\n",
              "  </style>\n",
              "\n",
              "      <script>\n",
              "        const buttonEl =\n",
              "          document.querySelector('#df-be0d54a1-8a00-4b52-9139-b17b86c1b8b7 button.colab-df-convert');\n",
              "        buttonEl.style.display =\n",
              "          google.colab.kernel.accessAllowed ? 'block' : 'none';\n",
              "\n",
              "        async function convertToInteractive(key) {\n",
              "          const element = document.querySelector('#df-be0d54a1-8a00-4b52-9139-b17b86c1b8b7');\n",
              "          const dataTable =\n",
              "            await google.colab.kernel.invokeFunction('convertToInteractive',\n",
              "                                                     [key], {});\n",
              "          if (!dataTable) return;\n",
              "\n",
              "          const docLinkHtml = 'Like what you see? Visit the ' +\n",
              "            '<a target=\"_blank\" href=https://colab.research.google.com/notebooks/data_table.ipynb>data table notebook</a>'\n",
              "            + ' to learn more about interactive tables.';\n",
              "          element.innerHTML = '';\n",
              "          dataTable['output_type'] = 'display_data';\n",
              "          await google.colab.output.renderOutput(dataTable, element);\n",
              "          const docLink = document.createElement('div');\n",
              "          docLink.innerHTML = docLinkHtml;\n",
              "          element.appendChild(docLink);\n",
              "        }\n",
              "      </script>\n",
              "    </div>\n",
              "  </div>\n",
              "  "
            ]
          },
          "metadata": {},
          "execution_count": 57
        }
      ]
    },
    {
      "cell_type": "code",
      "source": [
        "print(dataframe['X6'].unique())\n",
        "print(dataframe['X7'].unique())\n",
        "print(dataframe['X8'].unique())\n",
        "print(dataframe['X9'].unique())\n",
        "print(dataframe['X10'].unique())\n",
        "print(dataframe['X11'].unique())"
      ],
      "metadata": {
        "colab": {
          "base_uri": "https://localhost:8080/"
        },
        "id": "DM2E_KkxJRtC",
        "outputId": "80803538-c9e7-40b5-bcd6-b1c5d18beb20"
      },
      "execution_count": null,
      "outputs": [
        {
          "output_type": "stream",
          "name": "stdout",
          "text": [
            "[2. 0. 1. 3. 4. 8. 7. 5. 6.]\n",
            "[2. 0. 3. 5. 7. 4. 1. 6. 8.]\n",
            "[0. 2. 3. 4. 6. 7. 1. 5. 8.]\n",
            "[0. 2. 3. 4. 5. 7. 6. 1. 8.]\n",
            "[0. 2. 3. 5. 4. 7. 8. 6.]\n",
            "[0. 2. 3. 6. 4. 7. 8. 5.]\n"
          ]
        }
      ]
    },
    {
      "cell_type": "markdown",
      "source": [
        "Now we only have defined numbers by our data set information. "
      ],
      "metadata": {
        "id": "AGYlHK_9JYpF"
      }
    },
    {
      "cell_type": "markdown",
      "source": [
        "\n",
        "\n",
        "---\n",
        "\n",
        "\n",
        "\n",
        "---\n",
        "\n"
      ],
      "metadata": {
        "id": "HVnzOn_lJih2"
      }
    },
    {
      "cell_type": "markdown",
      "source": [
        "At this point, we have finished cleaning our dataser for the categorical columns. However, based on the data set information they gave us, the remaining columns are not categorical and they have to do mainly with money. \n",
        "\n",
        "* X1 (CREDIT AMOUNT)\n",
        "* X5 (AGE)\n",
        "* X12-17 (AMOUNT OF BILL STATEMENT)\n",
        "* X18-X23 (AMOUNT OF PREVIOUS PAYMENTS)"
      ],
      "metadata": {
        "id": "UfqzqUvDJSid"
      }
    },
    {
      "cell_type": "code",
      "source": [
        "dataframe[['X1', 'X5', 'X12', 'X13','X14','X15','X16','X17']].describe()"
      ],
      "metadata": {
        "colab": {
          "base_uri": "https://localhost:8080/",
          "height": 300
        },
        "id": "jq_-eGINLQW5",
        "outputId": "e6039dd8-2ffa-4aa5-9772-2304d36d4c34"
      },
      "execution_count": null,
      "outputs": [
        {
          "output_type": "execute_result",
          "data": {
            "text/plain": [
              "                   X1            X5            X12            X13  \\\n",
              "count    30000.000000  29995.000000   29989.000000   29989.000000   \n",
              "mean    167484.322667     35.484214   51236.862750   49190.734669   \n",
              "std     129747.661567      9.218024   73645.219278   71183.385123   \n",
              "min      10000.000000     21.000000 -165580.000000  -69777.000000   \n",
              "25%      50000.000000     28.000000    3565.000000    2986.000000   \n",
              "50%     140000.000000     34.000000   22387.000000   21207.000000   \n",
              "75%     240000.000000     41.000000   67139.000000   64027.000000   \n",
              "max    1000000.000000     79.000000  964511.000000  983931.000000   \n",
              "\n",
              "                X14            X15            X16            X17  \n",
              "count  2.998700e+04   29985.000000   29983.000000   29990.000000  \n",
              "mean   4.702535e+04   43275.652326   40324.493980   38881.135745  \n",
              "std    6.936086e+04   64345.500073   60809.984983   59561.312967  \n",
              "min   -1.572640e+05 -170000.000000  -81334.000000 -339603.000000  \n",
              "25%    2.667500e+03    2329.000000    1763.500000    1256.250000  \n",
              "50%    2.008900e+04   19052.000000   18107.000000   17081.000000  \n",
              "75%    6.018200e+04   54560.000000   50213.000000   49208.250000  \n",
              "max    1.664089e+06  891586.000000  927171.000000  961664.000000  "
            ],
            "text/html": [
              "\n",
              "  <div id=\"df-7283e5b9-6d54-4270-a8d0-99d646c55de2\">\n",
              "    <div class=\"colab-df-container\">\n",
              "      <div>\n",
              "<style scoped>\n",
              "    .dataframe tbody tr th:only-of-type {\n",
              "        vertical-align: middle;\n",
              "    }\n",
              "\n",
              "    .dataframe tbody tr th {\n",
              "        vertical-align: top;\n",
              "    }\n",
              "\n",
              "    .dataframe thead th {\n",
              "        text-align: right;\n",
              "    }\n",
              "</style>\n",
              "<table border=\"1\" class=\"dataframe\">\n",
              "  <thead>\n",
              "    <tr style=\"text-align: right;\">\n",
              "      <th></th>\n",
              "      <th>X1</th>\n",
              "      <th>X5</th>\n",
              "      <th>X12</th>\n",
              "      <th>X13</th>\n",
              "      <th>X14</th>\n",
              "      <th>X15</th>\n",
              "      <th>X16</th>\n",
              "      <th>X17</th>\n",
              "    </tr>\n",
              "  </thead>\n",
              "  <tbody>\n",
              "    <tr>\n",
              "      <th>count</th>\n",
              "      <td>30000.000000</td>\n",
              "      <td>29995.000000</td>\n",
              "      <td>29989.000000</td>\n",
              "      <td>29989.000000</td>\n",
              "      <td>2.998700e+04</td>\n",
              "      <td>29985.000000</td>\n",
              "      <td>29983.000000</td>\n",
              "      <td>29990.000000</td>\n",
              "    </tr>\n",
              "    <tr>\n",
              "      <th>mean</th>\n",
              "      <td>167484.322667</td>\n",
              "      <td>35.484214</td>\n",
              "      <td>51236.862750</td>\n",
              "      <td>49190.734669</td>\n",
              "      <td>4.702535e+04</td>\n",
              "      <td>43275.652326</td>\n",
              "      <td>40324.493980</td>\n",
              "      <td>38881.135745</td>\n",
              "    </tr>\n",
              "    <tr>\n",
              "      <th>std</th>\n",
              "      <td>129747.661567</td>\n",
              "      <td>9.218024</td>\n",
              "      <td>73645.219278</td>\n",
              "      <td>71183.385123</td>\n",
              "      <td>6.936086e+04</td>\n",
              "      <td>64345.500073</td>\n",
              "      <td>60809.984983</td>\n",
              "      <td>59561.312967</td>\n",
              "    </tr>\n",
              "    <tr>\n",
              "      <th>min</th>\n",
              "      <td>10000.000000</td>\n",
              "      <td>21.000000</td>\n",
              "      <td>-165580.000000</td>\n",
              "      <td>-69777.000000</td>\n",
              "      <td>-1.572640e+05</td>\n",
              "      <td>-170000.000000</td>\n",
              "      <td>-81334.000000</td>\n",
              "      <td>-339603.000000</td>\n",
              "    </tr>\n",
              "    <tr>\n",
              "      <th>25%</th>\n",
              "      <td>50000.000000</td>\n",
              "      <td>28.000000</td>\n",
              "      <td>3565.000000</td>\n",
              "      <td>2986.000000</td>\n",
              "      <td>2.667500e+03</td>\n",
              "      <td>2329.000000</td>\n",
              "      <td>1763.500000</td>\n",
              "      <td>1256.250000</td>\n",
              "    </tr>\n",
              "    <tr>\n",
              "      <th>50%</th>\n",
              "      <td>140000.000000</td>\n",
              "      <td>34.000000</td>\n",
              "      <td>22387.000000</td>\n",
              "      <td>21207.000000</td>\n",
              "      <td>2.008900e+04</td>\n",
              "      <td>19052.000000</td>\n",
              "      <td>18107.000000</td>\n",
              "      <td>17081.000000</td>\n",
              "    </tr>\n",
              "    <tr>\n",
              "      <th>75%</th>\n",
              "      <td>240000.000000</td>\n",
              "      <td>41.000000</td>\n",
              "      <td>67139.000000</td>\n",
              "      <td>64027.000000</td>\n",
              "      <td>6.018200e+04</td>\n",
              "      <td>54560.000000</td>\n",
              "      <td>50213.000000</td>\n",
              "      <td>49208.250000</td>\n",
              "    </tr>\n",
              "    <tr>\n",
              "      <th>max</th>\n",
              "      <td>1000000.000000</td>\n",
              "      <td>79.000000</td>\n",
              "      <td>964511.000000</td>\n",
              "      <td>983931.000000</td>\n",
              "      <td>1.664089e+06</td>\n",
              "      <td>891586.000000</td>\n",
              "      <td>927171.000000</td>\n",
              "      <td>961664.000000</td>\n",
              "    </tr>\n",
              "  </tbody>\n",
              "</table>\n",
              "</div>\n",
              "      <button class=\"colab-df-convert\" onclick=\"convertToInteractive('df-7283e5b9-6d54-4270-a8d0-99d646c55de2')\"\n",
              "              title=\"Convert this dataframe to an interactive table.\"\n",
              "              style=\"display:none;\">\n",
              "        \n",
              "  <svg xmlns=\"http://www.w3.org/2000/svg\" height=\"24px\"viewBox=\"0 0 24 24\"\n",
              "       width=\"24px\">\n",
              "    <path d=\"M0 0h24v24H0V0z\" fill=\"none\"/>\n",
              "    <path d=\"M18.56 5.44l.94 2.06.94-2.06 2.06-.94-2.06-.94-.94-2.06-.94 2.06-2.06.94zm-11 1L8.5 8.5l.94-2.06 2.06-.94-2.06-.94L8.5 2.5l-.94 2.06-2.06.94zm10 10l.94 2.06.94-2.06 2.06-.94-2.06-.94-.94-2.06-.94 2.06-2.06.94z\"/><path d=\"M17.41 7.96l-1.37-1.37c-.4-.4-.92-.59-1.43-.59-.52 0-1.04.2-1.43.59L10.3 9.45l-7.72 7.72c-.78.78-.78 2.05 0 2.83L4 21.41c.39.39.9.59 1.41.59.51 0 1.02-.2 1.41-.59l7.78-7.78 2.81-2.81c.8-.78.8-2.07 0-2.86zM5.41 20L4 18.59l7.72-7.72 1.47 1.35L5.41 20z\"/>\n",
              "  </svg>\n",
              "      </button>\n",
              "      \n",
              "  <style>\n",
              "    .colab-df-container {\n",
              "      display:flex;\n",
              "      flex-wrap:wrap;\n",
              "      gap: 12px;\n",
              "    }\n",
              "\n",
              "    .colab-df-convert {\n",
              "      background-color: #E8F0FE;\n",
              "      border: none;\n",
              "      border-radius: 50%;\n",
              "      cursor: pointer;\n",
              "      display: none;\n",
              "      fill: #1967D2;\n",
              "      height: 32px;\n",
              "      padding: 0 0 0 0;\n",
              "      width: 32px;\n",
              "    }\n",
              "\n",
              "    .colab-df-convert:hover {\n",
              "      background-color: #E2EBFA;\n",
              "      box-shadow: 0px 1px 2px rgba(60, 64, 67, 0.3), 0px 1px 3px 1px rgba(60, 64, 67, 0.15);\n",
              "      fill: #174EA6;\n",
              "    }\n",
              "\n",
              "    [theme=dark] .colab-df-convert {\n",
              "      background-color: #3B4455;\n",
              "      fill: #D2E3FC;\n",
              "    }\n",
              "\n",
              "    [theme=dark] .colab-df-convert:hover {\n",
              "      background-color: #434B5C;\n",
              "      box-shadow: 0px 1px 3px 1px rgba(0, 0, 0, 0.15);\n",
              "      filter: drop-shadow(0px 1px 2px rgba(0, 0, 0, 0.3));\n",
              "      fill: #FFFFFF;\n",
              "    }\n",
              "  </style>\n",
              "\n",
              "      <script>\n",
              "        const buttonEl =\n",
              "          document.querySelector('#df-7283e5b9-6d54-4270-a8d0-99d646c55de2 button.colab-df-convert');\n",
              "        buttonEl.style.display =\n",
              "          google.colab.kernel.accessAllowed ? 'block' : 'none';\n",
              "\n",
              "        async function convertToInteractive(key) {\n",
              "          const element = document.querySelector('#df-7283e5b9-6d54-4270-a8d0-99d646c55de2');\n",
              "          const dataTable =\n",
              "            await google.colab.kernel.invokeFunction('convertToInteractive',\n",
              "                                                     [key], {});\n",
              "          if (!dataTable) return;\n",
              "\n",
              "          const docLinkHtml = 'Like what you see? Visit the ' +\n",
              "            '<a target=\"_blank\" href=https://colab.research.google.com/notebooks/data_table.ipynb>data table notebook</a>'\n",
              "            + ' to learn more about interactive tables.';\n",
              "          element.innerHTML = '';\n",
              "          dataTable['output_type'] = 'display_data';\n",
              "          await google.colab.output.renderOutput(dataTable, element);\n",
              "          const docLink = document.createElement('div');\n",
              "          docLink.innerHTML = docLinkHtml;\n",
              "          element.appendChild(docLink);\n",
              "        }\n",
              "      </script>\n",
              "    </div>\n",
              "  </div>\n",
              "  "
            ]
          },
          "metadata": {},
          "execution_count": 60
        }
      ]
    },
    {
      "cell_type": "code",
      "source": [
        "dataframe[['X18', 'X19', 'X20', 'X21','X22','X23']].describe()"
      ],
      "metadata": {
        "colab": {
          "base_uri": "https://localhost:8080/",
          "height": 300
        },
        "id": "mBT5FwX3MIki",
        "outputId": "a61195f3-c326-4982-e1ef-e3d52442f06e"
      },
      "execution_count": null,
      "outputs": [
        {
          "output_type": "execute_result",
          "data": {
            "text/plain": [
              "                 X18           X19            X20            X21  \\\n",
              "count   29992.000000  2.999100e+04   29992.000000   29989.000000   \n",
              "mean     5662.945886  5.922489e+03    5225.623400    4827.252526   \n",
              "std     16564.165089  2.304418e+04   17608.422625   15668.751975   \n",
              "min         0.000000  0.000000e+00       0.000000       0.000000   \n",
              "25%      1000.000000  8.355000e+02     390.000000     296.000000   \n",
              "50%      2100.000000  2.009000e+03    1800.000000    1500.000000   \n",
              "75%      5006.000000  5.000000e+03    4505.500000    4014.000000   \n",
              "max    873552.000000  1.684259e+06  896040.000000  621000.000000   \n",
              "\n",
              "                 X22            X23  \n",
              "count   29989.000000   29995.000000  \n",
              "mean     4800.297209    5216.259977  \n",
              "std     15280.842069   17778.848359  \n",
              "min         0.000000       0.000000  \n",
              "25%       251.000000     118.000000  \n",
              "50%      1500.000000    1500.000000  \n",
              "75%      4033.000000    4000.000000  \n",
              "max    426529.000000  528666.000000  "
            ],
            "text/html": [
              "\n",
              "  <div id=\"df-b465ac2d-129e-4f32-bd01-ea00a9a7447d\">\n",
              "    <div class=\"colab-df-container\">\n",
              "      <div>\n",
              "<style scoped>\n",
              "    .dataframe tbody tr th:only-of-type {\n",
              "        vertical-align: middle;\n",
              "    }\n",
              "\n",
              "    .dataframe tbody tr th {\n",
              "        vertical-align: top;\n",
              "    }\n",
              "\n",
              "    .dataframe thead th {\n",
              "        text-align: right;\n",
              "    }\n",
              "</style>\n",
              "<table border=\"1\" class=\"dataframe\">\n",
              "  <thead>\n",
              "    <tr style=\"text-align: right;\">\n",
              "      <th></th>\n",
              "      <th>X18</th>\n",
              "      <th>X19</th>\n",
              "      <th>X20</th>\n",
              "      <th>X21</th>\n",
              "      <th>X22</th>\n",
              "      <th>X23</th>\n",
              "    </tr>\n",
              "  </thead>\n",
              "  <tbody>\n",
              "    <tr>\n",
              "      <th>count</th>\n",
              "      <td>29992.000000</td>\n",
              "      <td>2.999100e+04</td>\n",
              "      <td>29992.000000</td>\n",
              "      <td>29989.000000</td>\n",
              "      <td>29989.000000</td>\n",
              "      <td>29995.000000</td>\n",
              "    </tr>\n",
              "    <tr>\n",
              "      <th>mean</th>\n",
              "      <td>5662.945886</td>\n",
              "      <td>5.922489e+03</td>\n",
              "      <td>5225.623400</td>\n",
              "      <td>4827.252526</td>\n",
              "      <td>4800.297209</td>\n",
              "      <td>5216.259977</td>\n",
              "    </tr>\n",
              "    <tr>\n",
              "      <th>std</th>\n",
              "      <td>16564.165089</td>\n",
              "      <td>2.304418e+04</td>\n",
              "      <td>17608.422625</td>\n",
              "      <td>15668.751975</td>\n",
              "      <td>15280.842069</td>\n",
              "      <td>17778.848359</td>\n",
              "    </tr>\n",
              "    <tr>\n",
              "      <th>min</th>\n",
              "      <td>0.000000</td>\n",
              "      <td>0.000000e+00</td>\n",
              "      <td>0.000000</td>\n",
              "      <td>0.000000</td>\n",
              "      <td>0.000000</td>\n",
              "      <td>0.000000</td>\n",
              "    </tr>\n",
              "    <tr>\n",
              "      <th>25%</th>\n",
              "      <td>1000.000000</td>\n",
              "      <td>8.355000e+02</td>\n",
              "      <td>390.000000</td>\n",
              "      <td>296.000000</td>\n",
              "      <td>251.000000</td>\n",
              "      <td>118.000000</td>\n",
              "    </tr>\n",
              "    <tr>\n",
              "      <th>50%</th>\n",
              "      <td>2100.000000</td>\n",
              "      <td>2.009000e+03</td>\n",
              "      <td>1800.000000</td>\n",
              "      <td>1500.000000</td>\n",
              "      <td>1500.000000</td>\n",
              "      <td>1500.000000</td>\n",
              "    </tr>\n",
              "    <tr>\n",
              "      <th>75%</th>\n",
              "      <td>5006.000000</td>\n",
              "      <td>5.000000e+03</td>\n",
              "      <td>4505.500000</td>\n",
              "      <td>4014.000000</td>\n",
              "      <td>4033.000000</td>\n",
              "      <td>4000.000000</td>\n",
              "    </tr>\n",
              "    <tr>\n",
              "      <th>max</th>\n",
              "      <td>873552.000000</td>\n",
              "      <td>1.684259e+06</td>\n",
              "      <td>896040.000000</td>\n",
              "      <td>621000.000000</td>\n",
              "      <td>426529.000000</td>\n",
              "      <td>528666.000000</td>\n",
              "    </tr>\n",
              "  </tbody>\n",
              "</table>\n",
              "</div>\n",
              "      <button class=\"colab-df-convert\" onclick=\"convertToInteractive('df-b465ac2d-129e-4f32-bd01-ea00a9a7447d')\"\n",
              "              title=\"Convert this dataframe to an interactive table.\"\n",
              "              style=\"display:none;\">\n",
              "        \n",
              "  <svg xmlns=\"http://www.w3.org/2000/svg\" height=\"24px\"viewBox=\"0 0 24 24\"\n",
              "       width=\"24px\">\n",
              "    <path d=\"M0 0h24v24H0V0z\" fill=\"none\"/>\n",
              "    <path d=\"M18.56 5.44l.94 2.06.94-2.06 2.06-.94-2.06-.94-.94-2.06-.94 2.06-2.06.94zm-11 1L8.5 8.5l.94-2.06 2.06-.94-2.06-.94L8.5 2.5l-.94 2.06-2.06.94zm10 10l.94 2.06.94-2.06 2.06-.94-2.06-.94-.94-2.06-.94 2.06-2.06.94z\"/><path d=\"M17.41 7.96l-1.37-1.37c-.4-.4-.92-.59-1.43-.59-.52 0-1.04.2-1.43.59L10.3 9.45l-7.72 7.72c-.78.78-.78 2.05 0 2.83L4 21.41c.39.39.9.59 1.41.59.51 0 1.02-.2 1.41-.59l7.78-7.78 2.81-2.81c.8-.78.8-2.07 0-2.86zM5.41 20L4 18.59l7.72-7.72 1.47 1.35L5.41 20z\"/>\n",
              "  </svg>\n",
              "      </button>\n",
              "      \n",
              "  <style>\n",
              "    .colab-df-container {\n",
              "      display:flex;\n",
              "      flex-wrap:wrap;\n",
              "      gap: 12px;\n",
              "    }\n",
              "\n",
              "    .colab-df-convert {\n",
              "      background-color: #E8F0FE;\n",
              "      border: none;\n",
              "      border-radius: 50%;\n",
              "      cursor: pointer;\n",
              "      display: none;\n",
              "      fill: #1967D2;\n",
              "      height: 32px;\n",
              "      padding: 0 0 0 0;\n",
              "      width: 32px;\n",
              "    }\n",
              "\n",
              "    .colab-df-convert:hover {\n",
              "      background-color: #E2EBFA;\n",
              "      box-shadow: 0px 1px 2px rgba(60, 64, 67, 0.3), 0px 1px 3px 1px rgba(60, 64, 67, 0.15);\n",
              "      fill: #174EA6;\n",
              "    }\n",
              "\n",
              "    [theme=dark] .colab-df-convert {\n",
              "      background-color: #3B4455;\n",
              "      fill: #D2E3FC;\n",
              "    }\n",
              "\n",
              "    [theme=dark] .colab-df-convert:hover {\n",
              "      background-color: #434B5C;\n",
              "      box-shadow: 0px 1px 3px 1px rgba(0, 0, 0, 0.15);\n",
              "      filter: drop-shadow(0px 1px 2px rgba(0, 0, 0, 0.3));\n",
              "      fill: #FFFFFF;\n",
              "    }\n",
              "  </style>\n",
              "\n",
              "      <script>\n",
              "        const buttonEl =\n",
              "          document.querySelector('#df-b465ac2d-129e-4f32-bd01-ea00a9a7447d button.colab-df-convert');\n",
              "        buttonEl.style.display =\n",
              "          google.colab.kernel.accessAllowed ? 'block' : 'none';\n",
              "\n",
              "        async function convertToInteractive(key) {\n",
              "          const element = document.querySelector('#df-b465ac2d-129e-4f32-bd01-ea00a9a7447d');\n",
              "          const dataTable =\n",
              "            await google.colab.kernel.invokeFunction('convertToInteractive',\n",
              "                                                     [key], {});\n",
              "          if (!dataTable) return;\n",
              "\n",
              "          const docLinkHtml = 'Like what you see? Visit the ' +\n",
              "            '<a target=\"_blank\" href=https://colab.research.google.com/notebooks/data_table.ipynb>data table notebook</a>'\n",
              "            + ' to learn more about interactive tables.';\n",
              "          element.innerHTML = '';\n",
              "          dataTable['output_type'] = 'display_data';\n",
              "          await google.colab.output.renderOutput(dataTable, element);\n",
              "          const docLink = document.createElement('div');\n",
              "          docLink.innerHTML = docLinkHtml;\n",
              "          element.appendChild(docLink);\n",
              "        }\n",
              "      </script>\n",
              "    </div>\n",
              "  </div>\n",
              "  "
            ]
          },
          "metadata": {},
          "execution_count": 61
        }
      ]
    },
    {
      "cell_type": "markdown",
      "source": [
        "### COLUMN X1 (CREDIT)\n",
        "With the descprition of Column X1, it seems that there is no need to change or clean column A as all data seem to be compplete: there is no NaN values or weird values like a minimum negative value (which would not make sense since it is a credit). \n",
        "\n"
      ],
      "metadata": {
        "id": "AEHbzcZyKtC3"
      }
    },
    {
      "cell_type": "code",
      "source": [
        "dataframe['X1'].isna().any()"
      ],
      "metadata": {
        "colab": {
          "base_uri": "https://localhost:8080/"
        },
        "id": "3OpjtXeuKsYh",
        "outputId": "639b2296-2b7c-4769-be11-742add7c8c73"
      },
      "execution_count": null,
      "outputs": [
        {
          "output_type": "execute_result",
          "data": {
            "text/plain": [
              "False"
            ]
          },
          "metadata": {},
          "execution_count": 63
        }
      ]
    },
    {
      "cell_type": "code",
      "source": [
        "dataframe['X1'].isnull().any()"
      ],
      "metadata": {
        "colab": {
          "base_uri": "https://localhost:8080/"
        },
        "id": "or51boLTRYBC",
        "outputId": "7022c939-d1aa-47f1-d15b-a91e926557ab"
      },
      "execution_count": null,
      "outputs": [
        {
          "output_type": "execute_result",
          "data": {
            "text/plain": [
              "False"
            ]
          },
          "metadata": {},
          "execution_count": 64
        }
      ]
    },
    {
      "cell_type": "markdown",
      "source": [
        "With the isnull and isna functions we can double check if we have any null values. They will return a boolean value, where false means there is no null values. "
      ],
      "metadata": {
        "id": "IQd6C_cURdjg"
      }
    },
    {
      "cell_type": "markdown",
      "source": [
        "### COLUMN X5 (AGE)\n"
      ],
      "metadata": {
        "id": "19qwHiYDSZ9I"
      }
    },
    {
      "cell_type": "markdown",
      "source": [
        "According to our quick descriptvive analysis, we have five missing values in this column. The rest of the values seem to be correct as the minimum value is 21 (which make sense since it is the legal age in Taiwan) and the max value is 79. \n",
        "\n",
        "Since our data set is big enough, we will fill our NaN values with the median as it will not show any bias related problems. "
      ],
      "metadata": {
        "id": "DB3GTgHdSZ29"
      }
    },
    {
      "cell_type": "code",
      "source": [
        "dataframe['X5'].median()"
      ],
      "metadata": {
        "colab": {
          "base_uri": "https://localhost:8080/"
        },
        "id": "NSOx41AiWV9w",
        "outputId": "a94d47ef-9b20-494e-b7fd-26f907bd2526"
      },
      "execution_count": null,
      "outputs": [
        {
          "output_type": "execute_result",
          "data": {
            "text/plain": [
              "34.0"
            ]
          },
          "metadata": {},
          "execution_count": 66
        }
      ]
    },
    {
      "cell_type": "code",
      "source": [
        "dataframe['X5'].replace([np.nan], 34.0, inplace=True )"
      ],
      "metadata": {
        "id": "ccBn1hvvRc_M"
      },
      "execution_count": null,
      "outputs": []
    },
    {
      "cell_type": "code",
      "source": [
        "dataframe['X5'].isnull().any()"
      ],
      "metadata": {
        "colab": {
          "base_uri": "https://localhost:8080/"
        },
        "id": "hPTt_8NDXUEt",
        "outputId": "41c67fe2-81f0-416e-ddc3-1d4376f49e06"
      },
      "execution_count": null,
      "outputs": [
        {
          "output_type": "execute_result",
          "data": {
            "text/plain": [
              "False"
            ]
          },
          "metadata": {},
          "execution_count": 69
        }
      ]
    },
    {
      "cell_type": "code",
      "source": [
        "dataframe['X5'].describe()"
      ],
      "metadata": {
        "colab": {
          "base_uri": "https://localhost:8080/"
        },
        "id": "1rWZtjRcXYlT",
        "outputId": "aa24b98f-7f8e-4d33-e1fc-c65cf6ab407d"
      },
      "execution_count": null,
      "outputs": [
        {
          "output_type": "execute_result",
          "data": {
            "text/plain": [
              "count    30000.000000\n",
              "mean        35.483967\n",
              "std          9.217276\n",
              "min         21.000000\n",
              "25%         28.000000\n",
              "50%         34.000000\n",
              "75%         41.000000\n",
              "max         79.000000\n",
              "Name: X5, dtype: float64"
            ]
          },
          "metadata": {},
          "execution_count": 70
        }
      ]
    },
    {
      "cell_type": "markdown",
      "source": [
        "Now, we have 30,000 values for our age, the same distribution of our data and almost the same mean and std. "
      ],
      "metadata": {
        "id": "Iwj9xvb0YAz3"
      }
    },
    {
      "cell_type": "markdown",
      "source": [
        "### COLUMN X12-X17 (AMOUNT OF BILL STATEMENT FROM APRIL TO SEPTEMBER, 2005)\n",
        "\n",
        "\n",
        "First, it is important to understand that a bill statement is a monthly report sent to a credit card holder showing their information regarding the payment due and other information. According to bibliography and our personal experience, a negative balance is possible due to an overpayment. Therefore, we believe that this information is relevant for the analysis.\n",
        "\n",
        "As you can see in our descriptive table, we have negative values in the minimum value which means that at least one person did an overpayment. As we mentioned, for this exercise we will keep those numbers. \n",
        "\n",
        "In that regard, the only important information that we have to analyze is the missing values. We have NaN values in all of these columns."
      ],
      "metadata": {
        "id": "LRY9XYcvYY2U"
      }
    },
    {
      "cell_type": "markdown",
      "source": [
        "We will evaluate if using the median is a good option. We believe it is based on the same logic that Sour data set is big enough, so it will not show any bias related problems. Also we would like to use it to keep consistency in the type of imputation we are using for the COLUMNS with numerical values. "
      ],
      "metadata": {
        "id": "Z8HqCthZaqDz"
      }
    },
    {
      "cell_type": "code",
      "source": [
        "print(dataframe['X12'].median())\n",
        "print(dataframe['X13'].median())\n",
        "print(dataframe['X14'].median())\n",
        "print(dataframe['X15'].median())\n",
        "print(dataframe['X16'].median())\n",
        "print(dataframe['X17'].median())"
      ],
      "metadata": {
        "colab": {
          "base_uri": "https://localhost:8080/"
        },
        "id": "4Ho1BNpZbsC1",
        "outputId": "4646a6b2-c021-48de-d6d3-bacfd851341b"
      },
      "execution_count": null,
      "outputs": [
        {
          "output_type": "stream",
          "name": "stdout",
          "text": [
            "22387.0\n",
            "21207.0\n",
            "20089.0\n",
            "19052.0\n",
            "18107.0\n",
            "17081.0\n"
          ]
        }
      ]
    },
    {
      "cell_type": "code",
      "source": [
        "dataframe['X12'].replace([np.nan], dataframe['X12'].median(), inplace=True )\n",
        "dataframe['X13'].replace([np.nan], dataframe['X13'].median(), inplace=True )\n",
        "dataframe['X14'].replace([np.nan], dataframe['X14'].median(), inplace=True )\n",
        "dataframe['X15'].replace([np.nan], dataframe['X15'].median(), inplace=True )\n",
        "dataframe['X16'].replace([np.nan], dataframe['X16'].median(), inplace=True )\n",
        "dataframe['X17'].replace([np.nan], dataframe['X17'].median(), inplace=True )"
      ],
      "metadata": {
        "id": "1j0TnaMxaovx"
      },
      "execution_count": null,
      "outputs": []
    },
    {
      "cell_type": "code",
      "source": [
        "dataframe[['X12','X13','X14','X15','X16','X17']].describe()"
      ],
      "metadata": {
        "colab": {
          "base_uri": "https://localhost:8080/",
          "height": 300
        },
        "id": "-JjTfWAOcCQf",
        "outputId": "0b4aab04-80e3-43e5-fdd6-0b5575517e6b"
      },
      "execution_count": null,
      "outputs": [
        {
          "output_type": "execute_result",
          "data": {
            "text/plain": [
              "                 X12            X13           X14            X15  \\\n",
              "count   30000.000000   30000.000000  3.000000e+04   30000.000000   \n",
              "mean    51226.284467   49180.473967  4.701368e+04   43263.540500   \n",
              "std     73633.787601   71172.349726  6.934810e+04   64331.690439   \n",
              "min   -165580.000000  -69777.000000 -1.572640e+05 -170000.000000   \n",
              "25%      3566.750000    2986.750000  2.674750e+03    2332.000000   \n",
              "50%     22387.000000   21207.000000  2.008900e+04   19052.000000   \n",
              "75%     67091.000000   64006.250000  6.016475e+04   54506.000000   \n",
              "max    964511.000000  983931.000000  1.664089e+06  891586.000000   \n",
              "\n",
              "                 X16            X17  \n",
              "count   30000.000000   30000.000000  \n",
              "mean    40311.904067   38873.869033  \n",
              "std     60795.051774   59552.714581  \n",
              "min    -81334.000000 -339603.000000  \n",
              "25%      1769.500000    1258.500000  \n",
              "50%     18107.000000   17081.000000  \n",
              "75%     50177.000000   49198.250000  \n",
              "max    927171.000000  961664.000000  "
            ],
            "text/html": [
              "\n",
              "  <div id=\"df-098f8e92-d371-47a0-9eb0-1f1f32a79806\">\n",
              "    <div class=\"colab-df-container\">\n",
              "      <div>\n",
              "<style scoped>\n",
              "    .dataframe tbody tr th:only-of-type {\n",
              "        vertical-align: middle;\n",
              "    }\n",
              "\n",
              "    .dataframe tbody tr th {\n",
              "        vertical-align: top;\n",
              "    }\n",
              "\n",
              "    .dataframe thead th {\n",
              "        text-align: right;\n",
              "    }\n",
              "</style>\n",
              "<table border=\"1\" class=\"dataframe\">\n",
              "  <thead>\n",
              "    <tr style=\"text-align: right;\">\n",
              "      <th></th>\n",
              "      <th>X12</th>\n",
              "      <th>X13</th>\n",
              "      <th>X14</th>\n",
              "      <th>X15</th>\n",
              "      <th>X16</th>\n",
              "      <th>X17</th>\n",
              "    </tr>\n",
              "  </thead>\n",
              "  <tbody>\n",
              "    <tr>\n",
              "      <th>count</th>\n",
              "      <td>30000.000000</td>\n",
              "      <td>30000.000000</td>\n",
              "      <td>3.000000e+04</td>\n",
              "      <td>30000.000000</td>\n",
              "      <td>30000.000000</td>\n",
              "      <td>30000.000000</td>\n",
              "    </tr>\n",
              "    <tr>\n",
              "      <th>mean</th>\n",
              "      <td>51226.284467</td>\n",
              "      <td>49180.473967</td>\n",
              "      <td>4.701368e+04</td>\n",
              "      <td>43263.540500</td>\n",
              "      <td>40311.904067</td>\n",
              "      <td>38873.869033</td>\n",
              "    </tr>\n",
              "    <tr>\n",
              "      <th>std</th>\n",
              "      <td>73633.787601</td>\n",
              "      <td>71172.349726</td>\n",
              "      <td>6.934810e+04</td>\n",
              "      <td>64331.690439</td>\n",
              "      <td>60795.051774</td>\n",
              "      <td>59552.714581</td>\n",
              "    </tr>\n",
              "    <tr>\n",
              "      <th>min</th>\n",
              "      <td>-165580.000000</td>\n",
              "      <td>-69777.000000</td>\n",
              "      <td>-1.572640e+05</td>\n",
              "      <td>-170000.000000</td>\n",
              "      <td>-81334.000000</td>\n",
              "      <td>-339603.000000</td>\n",
              "    </tr>\n",
              "    <tr>\n",
              "      <th>25%</th>\n",
              "      <td>3566.750000</td>\n",
              "      <td>2986.750000</td>\n",
              "      <td>2.674750e+03</td>\n",
              "      <td>2332.000000</td>\n",
              "      <td>1769.500000</td>\n",
              "      <td>1258.500000</td>\n",
              "    </tr>\n",
              "    <tr>\n",
              "      <th>50%</th>\n",
              "      <td>22387.000000</td>\n",
              "      <td>21207.000000</td>\n",
              "      <td>2.008900e+04</td>\n",
              "      <td>19052.000000</td>\n",
              "      <td>18107.000000</td>\n",
              "      <td>17081.000000</td>\n",
              "    </tr>\n",
              "    <tr>\n",
              "      <th>75%</th>\n",
              "      <td>67091.000000</td>\n",
              "      <td>64006.250000</td>\n",
              "      <td>6.016475e+04</td>\n",
              "      <td>54506.000000</td>\n",
              "      <td>50177.000000</td>\n",
              "      <td>49198.250000</td>\n",
              "    </tr>\n",
              "    <tr>\n",
              "      <th>max</th>\n",
              "      <td>964511.000000</td>\n",
              "      <td>983931.000000</td>\n",
              "      <td>1.664089e+06</td>\n",
              "      <td>891586.000000</td>\n",
              "      <td>927171.000000</td>\n",
              "      <td>961664.000000</td>\n",
              "    </tr>\n",
              "  </tbody>\n",
              "</table>\n",
              "</div>\n",
              "      <button class=\"colab-df-convert\" onclick=\"convertToInteractive('df-098f8e92-d371-47a0-9eb0-1f1f32a79806')\"\n",
              "              title=\"Convert this dataframe to an interactive table.\"\n",
              "              style=\"display:none;\">\n",
              "        \n",
              "  <svg xmlns=\"http://www.w3.org/2000/svg\" height=\"24px\"viewBox=\"0 0 24 24\"\n",
              "       width=\"24px\">\n",
              "    <path d=\"M0 0h24v24H0V0z\" fill=\"none\"/>\n",
              "    <path d=\"M18.56 5.44l.94 2.06.94-2.06 2.06-.94-2.06-.94-.94-2.06-.94 2.06-2.06.94zm-11 1L8.5 8.5l.94-2.06 2.06-.94-2.06-.94L8.5 2.5l-.94 2.06-2.06.94zm10 10l.94 2.06.94-2.06 2.06-.94-2.06-.94-.94-2.06-.94 2.06-2.06.94z\"/><path d=\"M17.41 7.96l-1.37-1.37c-.4-.4-.92-.59-1.43-.59-.52 0-1.04.2-1.43.59L10.3 9.45l-7.72 7.72c-.78.78-.78 2.05 0 2.83L4 21.41c.39.39.9.59 1.41.59.51 0 1.02-.2 1.41-.59l7.78-7.78 2.81-2.81c.8-.78.8-2.07 0-2.86zM5.41 20L4 18.59l7.72-7.72 1.47 1.35L5.41 20z\"/>\n",
              "  </svg>\n",
              "      </button>\n",
              "      \n",
              "  <style>\n",
              "    .colab-df-container {\n",
              "      display:flex;\n",
              "      flex-wrap:wrap;\n",
              "      gap: 12px;\n",
              "    }\n",
              "\n",
              "    .colab-df-convert {\n",
              "      background-color: #E8F0FE;\n",
              "      border: none;\n",
              "      border-radius: 50%;\n",
              "      cursor: pointer;\n",
              "      display: none;\n",
              "      fill: #1967D2;\n",
              "      height: 32px;\n",
              "      padding: 0 0 0 0;\n",
              "      width: 32px;\n",
              "    }\n",
              "\n",
              "    .colab-df-convert:hover {\n",
              "      background-color: #E2EBFA;\n",
              "      box-shadow: 0px 1px 2px rgba(60, 64, 67, 0.3), 0px 1px 3px 1px rgba(60, 64, 67, 0.15);\n",
              "      fill: #174EA6;\n",
              "    }\n",
              "\n",
              "    [theme=dark] .colab-df-convert {\n",
              "      background-color: #3B4455;\n",
              "      fill: #D2E3FC;\n",
              "    }\n",
              "\n",
              "    [theme=dark] .colab-df-convert:hover {\n",
              "      background-color: #434B5C;\n",
              "      box-shadow: 0px 1px 3px 1px rgba(0, 0, 0, 0.15);\n",
              "      filter: drop-shadow(0px 1px 2px rgba(0, 0, 0, 0.3));\n",
              "      fill: #FFFFFF;\n",
              "    }\n",
              "  </style>\n",
              "\n",
              "      <script>\n",
              "        const buttonEl =\n",
              "          document.querySelector('#df-098f8e92-d371-47a0-9eb0-1f1f32a79806 button.colab-df-convert');\n",
              "        buttonEl.style.display =\n",
              "          google.colab.kernel.accessAllowed ? 'block' : 'none';\n",
              "\n",
              "        async function convertToInteractive(key) {\n",
              "          const element = document.querySelector('#df-098f8e92-d371-47a0-9eb0-1f1f32a79806');\n",
              "          const dataTable =\n",
              "            await google.colab.kernel.invokeFunction('convertToInteractive',\n",
              "                                                     [key], {});\n",
              "          if (!dataTable) return;\n",
              "\n",
              "          const docLinkHtml = 'Like what you see? Visit the ' +\n",
              "            '<a target=\"_blank\" href=https://colab.research.google.com/notebooks/data_table.ipynb>data table notebook</a>'\n",
              "            + ' to learn more about interactive tables.';\n",
              "          element.innerHTML = '';\n",
              "          dataTable['output_type'] = 'display_data';\n",
              "          await google.colab.output.renderOutput(dataTable, element);\n",
              "          const docLink = document.createElement('div');\n",
              "          docLink.innerHTML = docLinkHtml;\n",
              "          element.appendChild(docLink);\n",
              "        }\n",
              "      </script>\n",
              "    </div>\n",
              "  </div>\n",
              "  "
            ]
          },
          "metadata": {},
          "execution_count": 76
        }
      ]
    },
    {
      "cell_type": "markdown",
      "source": [
        "As we can see in our table, the values mean values slightly changed compared to our original dataframe. However, the changes are really minimum. For example, in X12 the mean value decreased by approx  .019%. This change is really insignificant, therefore we conclude that using the median is a good way to replace the null values."
      ],
      "metadata": {
        "id": "MLZyJRwfcnYC"
      }
    },
    {
      "cell_type": "markdown",
      "source": [
        "### COLUMN X18-X23 (AMOUNT OF PREVIOUS PAYMENT FROM SEPTEMBER TO APRIL, 2005)"
      ],
      "metadata": {
        "id": "OfXNw22BctgK"
      }
    },
    {
      "cell_type": "code",
      "source": [],
      "metadata": {
        "id": "eBy0fPLdJOic"
      },
      "execution_count": null,
      "outputs": []
    }
  ]
}