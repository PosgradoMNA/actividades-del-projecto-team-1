{
  "nbformat": 4,
  "nbformat_minor": 0,
  "metadata": {
    "colab": {
      "provenance": [],
      "authorship_tag": "ABX9TyMXHhFeSiJWYP7LITgQ5izQ",
      "include_colab_link": true
    },
    "kernelspec": {
      "name": "python3",
      "display_name": "Python 3"
    },
    "language_info": {
      "name": "python"
    }
  },
  "cells": [
    {
      "cell_type": "markdown",
      "metadata": {
        "id": "view-in-github",
        "colab_type": "text"
      },
      "source": [
        "<a href=\"https://colab.research.google.com/github/PosgradoMNA/actividades-del-projecto-team-1/blob/main/Reto/Reto_Equipo1.ipynb\" target=\"_parent\"><img src=\"https://colab.research.google.com/assets/colab-badge.svg\" alt=\"Open In Colab\"/></a>"
      ]
    },
    {
      "cell_type": "markdown",
      "source": [
        "#Maestría en Inteligencia Artificial Aplicada\n",
        "##Curso: Ciencia y analítica de datos\n",
        "Tecnológico de Monterrey\n",
        "\n",
        "Semana 4 - Actividad 1. PCA\n",
        "\n",
        "Prof Maria de la Paz Rico\n",
        "\n",
        "Equipo 1\n",
        "\n",
        "Alumno: Joel Orlando Hernández Ramos\n",
        "\n",
        "Matrícula: A00759664\n",
        "\n",
        "Alumno: Rafael Sánchez García\n",
        "\n",
        "Matrícula: A01182780\n",
        "\n",
        "Fecha de entrega: Noviembre 16th, 2022\n"
      ],
      "metadata": {
        "id": "S0d7Bx3-YQOt"
      }
    },
    {
      "cell_type": "markdown",
      "source": [
        "#Parte 1"
      ],
      "metadata": {
        "id": "G6xFqew4YogJ"
      }
    },
    {
      "cell_type": "markdown",
      "source": [
        "##Load data\n"
      ],
      "metadata": {
        "id": "LbPBEPDIYsHy"
      }
    },
    {
      "cell_type": "code",
      "source": [
        "#Libraries\n",
        "import pandas as pd\n",
        "import numpy as np\n",
        "import seaborn as sns\n",
        "import collections\n",
        "import re"
      ],
      "metadata": {
        "id": "gNJRNJ_SYu3S"
      },
      "execution_count": 1,
      "outputs": []
    },
    {
      "cell_type": "code",
      "source": [
        "path = 'https://raw.githubusercontent.com/PosgradoMNA/actividades-del-projecto-team-1/main/Reto/Datos_de_calidad_del_agua_2020/Datos_de_calidad_del_agua_de_sitios_de_monitoreo_de_aguas_subterraneas_2020.csv'\n",
        "df_AguaSubterranea = pd.read_csv(path,encoding='cp1252')\n",
        "df_AguaSubterranea.head()\n"
      ],
      "metadata": {
        "colab": {
          "base_uri": "https://localhost:8080/",
          "height": 401
        },
        "id": "xzpxOiWaY0RA",
        "outputId": "c84d6ee4-d4b0-411a-ed70-8cf349e57b45"
      },
      "execution_count": 2,
      "outputs": [
        {
          "output_type": "execute_result",
          "data": {
            "text/plain": [
              "       CLAVE                   SITIO           ORGANISMO_DE_CUENCA  \\\n",
              "0     DLAGU6            POZO SAN GIL       LERMA SANTIAGO PACIFICO   \n",
              "1  DLAGU6516  POZO R013 CAÑADA HONDA       LERMA SANTIAGO PACIFICO   \n",
              "2     DLAGU7              POZO COSIO       LERMA SANTIAGO PACIFICO   \n",
              "3     DLAGU9      POZO EL SALITRILLO       LERMA SANTIAGO PACIFICO   \n",
              "4   DLBAJ107      RANCHO EL TECOLOTE  PENINSULA DE BAJA CALIFORNIA   \n",
              "\n",
              "                ESTADO        MUNICIPIO                 ACUIFERO SUBTIPO  \\\n",
              "0       AGUASCALIENTES         ASIENTOS       VALLE DE CHICALOTE    POZO   \n",
              "1       AGUASCALIENTES   AGUASCALIENTES       VALLE DE CHICALOTE    POZO   \n",
              "2       AGUASCALIENTES            COSIO  VALLE DE AGUASCALIENTES    POZO   \n",
              "3       AGUASCALIENTES  RINCON DE ROMOS  VALLE DE AGUASCALIENTES    POZO   \n",
              "4  BAJA CALIFORNIA SUR           LA PAZ             TODOS SANTOS    POZO   \n",
              "\n",
              "    LONGITUD   LATITUD  PERIODO  ...  CUMPLE_CON_DUR CUMPLE_CON_CF  \\\n",
              "0 -102.02210  22.20887     2020  ...              SI            SI   \n",
              "1 -102.20075  21.99958     2020  ...              SI            SI   \n",
              "2 -102.28801  22.36685     2020  ...              SI            SI   \n",
              "3 -102.29449  22.18435     2020  ...              SI            SI   \n",
              "4 -110.24480  23.45138     2020  ...              SI            SI   \n",
              "\n",
              "   CUMPLE_CON_NO3 CUMPLE_CON_AS  CUMPLE_CON_CD CUMPLE_CON_CR CUMPLE_CON_HG  \\\n",
              "0              SI            SI             SI            SI            SI   \n",
              "1              SI            SI             SI            SI            SI   \n",
              "2              SI            NO             SI            SI            SI   \n",
              "3              SI            SI             SI            SI            SI   \n",
              "4              NO            SI             SI            SI            SI   \n",
              "\n",
              "  CUMPLE_CON_PB CUMPLE_CON_MN CUMPLE_CON_FE  \n",
              "0            SI            SI            SI  \n",
              "1            SI            SI            SI  \n",
              "2            SI            SI            SI  \n",
              "3            SI            SI            SI  \n",
              "4            SI            SI            SI  \n",
              "\n",
              "[5 rows x 57 columns]"
            ],
            "text/html": [
              "\n",
              "  <div id=\"df-0d5f970e-69b4-46ec-b2ae-b2aeaa280c62\">\n",
              "    <div class=\"colab-df-container\">\n",
              "      <div>\n",
              "<style scoped>\n",
              "    .dataframe tbody tr th:only-of-type {\n",
              "        vertical-align: middle;\n",
              "    }\n",
              "\n",
              "    .dataframe tbody tr th {\n",
              "        vertical-align: top;\n",
              "    }\n",
              "\n",
              "    .dataframe thead th {\n",
              "        text-align: right;\n",
              "    }\n",
              "</style>\n",
              "<table border=\"1\" class=\"dataframe\">\n",
              "  <thead>\n",
              "    <tr style=\"text-align: right;\">\n",
              "      <th></th>\n",
              "      <th>CLAVE</th>\n",
              "      <th>SITIO</th>\n",
              "      <th>ORGANISMO_DE_CUENCA</th>\n",
              "      <th>ESTADO</th>\n",
              "      <th>MUNICIPIO</th>\n",
              "      <th>ACUIFERO</th>\n",
              "      <th>SUBTIPO</th>\n",
              "      <th>LONGITUD</th>\n",
              "      <th>LATITUD</th>\n",
              "      <th>PERIODO</th>\n",
              "      <th>...</th>\n",
              "      <th>CUMPLE_CON_DUR</th>\n",
              "      <th>CUMPLE_CON_CF</th>\n",
              "      <th>CUMPLE_CON_NO3</th>\n",
              "      <th>CUMPLE_CON_AS</th>\n",
              "      <th>CUMPLE_CON_CD</th>\n",
              "      <th>CUMPLE_CON_CR</th>\n",
              "      <th>CUMPLE_CON_HG</th>\n",
              "      <th>CUMPLE_CON_PB</th>\n",
              "      <th>CUMPLE_CON_MN</th>\n",
              "      <th>CUMPLE_CON_FE</th>\n",
              "    </tr>\n",
              "  </thead>\n",
              "  <tbody>\n",
              "    <tr>\n",
              "      <th>0</th>\n",
              "      <td>DLAGU6</td>\n",
              "      <td>POZO SAN GIL</td>\n",
              "      <td>LERMA SANTIAGO PACIFICO</td>\n",
              "      <td>AGUASCALIENTES</td>\n",
              "      <td>ASIENTOS</td>\n",
              "      <td>VALLE DE CHICALOTE</td>\n",
              "      <td>POZO</td>\n",
              "      <td>-102.02210</td>\n",
              "      <td>22.20887</td>\n",
              "      <td>2020</td>\n",
              "      <td>...</td>\n",
              "      <td>SI</td>\n",
              "      <td>SI</td>\n",
              "      <td>SI</td>\n",
              "      <td>SI</td>\n",
              "      <td>SI</td>\n",
              "      <td>SI</td>\n",
              "      <td>SI</td>\n",
              "      <td>SI</td>\n",
              "      <td>SI</td>\n",
              "      <td>SI</td>\n",
              "    </tr>\n",
              "    <tr>\n",
              "      <th>1</th>\n",
              "      <td>DLAGU6516</td>\n",
              "      <td>POZO R013 CAÑADA HONDA</td>\n",
              "      <td>LERMA SANTIAGO PACIFICO</td>\n",
              "      <td>AGUASCALIENTES</td>\n",
              "      <td>AGUASCALIENTES</td>\n",
              "      <td>VALLE DE CHICALOTE</td>\n",
              "      <td>POZO</td>\n",
              "      <td>-102.20075</td>\n",
              "      <td>21.99958</td>\n",
              "      <td>2020</td>\n",
              "      <td>...</td>\n",
              "      <td>SI</td>\n",
              "      <td>SI</td>\n",
              "      <td>SI</td>\n",
              "      <td>SI</td>\n",
              "      <td>SI</td>\n",
              "      <td>SI</td>\n",
              "      <td>SI</td>\n",
              "      <td>SI</td>\n",
              "      <td>SI</td>\n",
              "      <td>SI</td>\n",
              "    </tr>\n",
              "    <tr>\n",
              "      <th>2</th>\n",
              "      <td>DLAGU7</td>\n",
              "      <td>POZO COSIO</td>\n",
              "      <td>LERMA SANTIAGO PACIFICO</td>\n",
              "      <td>AGUASCALIENTES</td>\n",
              "      <td>COSIO</td>\n",
              "      <td>VALLE DE AGUASCALIENTES</td>\n",
              "      <td>POZO</td>\n",
              "      <td>-102.28801</td>\n",
              "      <td>22.36685</td>\n",
              "      <td>2020</td>\n",
              "      <td>...</td>\n",
              "      <td>SI</td>\n",
              "      <td>SI</td>\n",
              "      <td>SI</td>\n",
              "      <td>NO</td>\n",
              "      <td>SI</td>\n",
              "      <td>SI</td>\n",
              "      <td>SI</td>\n",
              "      <td>SI</td>\n",
              "      <td>SI</td>\n",
              "      <td>SI</td>\n",
              "    </tr>\n",
              "    <tr>\n",
              "      <th>3</th>\n",
              "      <td>DLAGU9</td>\n",
              "      <td>POZO EL SALITRILLO</td>\n",
              "      <td>LERMA SANTIAGO PACIFICO</td>\n",
              "      <td>AGUASCALIENTES</td>\n",
              "      <td>RINCON DE ROMOS</td>\n",
              "      <td>VALLE DE AGUASCALIENTES</td>\n",
              "      <td>POZO</td>\n",
              "      <td>-102.29449</td>\n",
              "      <td>22.18435</td>\n",
              "      <td>2020</td>\n",
              "      <td>...</td>\n",
              "      <td>SI</td>\n",
              "      <td>SI</td>\n",
              "      <td>SI</td>\n",
              "      <td>SI</td>\n",
              "      <td>SI</td>\n",
              "      <td>SI</td>\n",
              "      <td>SI</td>\n",
              "      <td>SI</td>\n",
              "      <td>SI</td>\n",
              "      <td>SI</td>\n",
              "    </tr>\n",
              "    <tr>\n",
              "      <th>4</th>\n",
              "      <td>DLBAJ107</td>\n",
              "      <td>RANCHO EL TECOLOTE</td>\n",
              "      <td>PENINSULA DE BAJA CALIFORNIA</td>\n",
              "      <td>BAJA CALIFORNIA SUR</td>\n",
              "      <td>LA PAZ</td>\n",
              "      <td>TODOS SANTOS</td>\n",
              "      <td>POZO</td>\n",
              "      <td>-110.24480</td>\n",
              "      <td>23.45138</td>\n",
              "      <td>2020</td>\n",
              "      <td>...</td>\n",
              "      <td>SI</td>\n",
              "      <td>SI</td>\n",
              "      <td>NO</td>\n",
              "      <td>SI</td>\n",
              "      <td>SI</td>\n",
              "      <td>SI</td>\n",
              "      <td>SI</td>\n",
              "      <td>SI</td>\n",
              "      <td>SI</td>\n",
              "      <td>SI</td>\n",
              "    </tr>\n",
              "  </tbody>\n",
              "</table>\n",
              "<p>5 rows × 57 columns</p>\n",
              "</div>\n",
              "      <button class=\"colab-df-convert\" onclick=\"convertToInteractive('df-0d5f970e-69b4-46ec-b2ae-b2aeaa280c62')\"\n",
              "              title=\"Convert this dataframe to an interactive table.\"\n",
              "              style=\"display:none;\">\n",
              "        \n",
              "  <svg xmlns=\"http://www.w3.org/2000/svg\" height=\"24px\"viewBox=\"0 0 24 24\"\n",
              "       width=\"24px\">\n",
              "    <path d=\"M0 0h24v24H0V0z\" fill=\"none\"/>\n",
              "    <path d=\"M18.56 5.44l.94 2.06.94-2.06 2.06-.94-2.06-.94-.94-2.06-.94 2.06-2.06.94zm-11 1L8.5 8.5l.94-2.06 2.06-.94-2.06-.94L8.5 2.5l-.94 2.06-2.06.94zm10 10l.94 2.06.94-2.06 2.06-.94-2.06-.94-.94-2.06-.94 2.06-2.06.94z\"/><path d=\"M17.41 7.96l-1.37-1.37c-.4-.4-.92-.59-1.43-.59-.52 0-1.04.2-1.43.59L10.3 9.45l-7.72 7.72c-.78.78-.78 2.05 0 2.83L4 21.41c.39.39.9.59 1.41.59.51 0 1.02-.2 1.41-.59l7.78-7.78 2.81-2.81c.8-.78.8-2.07 0-2.86zM5.41 20L4 18.59l7.72-7.72 1.47 1.35L5.41 20z\"/>\n",
              "  </svg>\n",
              "      </button>\n",
              "      \n",
              "  <style>\n",
              "    .colab-df-container {\n",
              "      display:flex;\n",
              "      flex-wrap:wrap;\n",
              "      gap: 12px;\n",
              "    }\n",
              "\n",
              "    .colab-df-convert {\n",
              "      background-color: #E8F0FE;\n",
              "      border: none;\n",
              "      border-radius: 50%;\n",
              "      cursor: pointer;\n",
              "      display: none;\n",
              "      fill: #1967D2;\n",
              "      height: 32px;\n",
              "      padding: 0 0 0 0;\n",
              "      width: 32px;\n",
              "    }\n",
              "\n",
              "    .colab-df-convert:hover {\n",
              "      background-color: #E2EBFA;\n",
              "      box-shadow: 0px 1px 2px rgba(60, 64, 67, 0.3), 0px 1px 3px 1px rgba(60, 64, 67, 0.15);\n",
              "      fill: #174EA6;\n",
              "    }\n",
              "\n",
              "    [theme=dark] .colab-df-convert {\n",
              "      background-color: #3B4455;\n",
              "      fill: #D2E3FC;\n",
              "    }\n",
              "\n",
              "    [theme=dark] .colab-df-convert:hover {\n",
              "      background-color: #434B5C;\n",
              "      box-shadow: 0px 1px 3px 1px rgba(0, 0, 0, 0.15);\n",
              "      filter: drop-shadow(0px 1px 2px rgba(0, 0, 0, 0.3));\n",
              "      fill: #FFFFFF;\n",
              "    }\n",
              "  </style>\n",
              "\n",
              "      <script>\n",
              "        const buttonEl =\n",
              "          document.querySelector('#df-0d5f970e-69b4-46ec-b2ae-b2aeaa280c62 button.colab-df-convert');\n",
              "        buttonEl.style.display =\n",
              "          google.colab.kernel.accessAllowed ? 'block' : 'none';\n",
              "\n",
              "        async function convertToInteractive(key) {\n",
              "          const element = document.querySelector('#df-0d5f970e-69b4-46ec-b2ae-b2aeaa280c62');\n",
              "          const dataTable =\n",
              "            await google.colab.kernel.invokeFunction('convertToInteractive',\n",
              "                                                     [key], {});\n",
              "          if (!dataTable) return;\n",
              "\n",
              "          const docLinkHtml = 'Like what you see? Visit the ' +\n",
              "            '<a target=\"_blank\" href=https://colab.research.google.com/notebooks/data_table.ipynb>data table notebook</a>'\n",
              "            + ' to learn more about interactive tables.';\n",
              "          element.innerHTML = '';\n",
              "          dataTable['output_type'] = 'display_data';\n",
              "          await google.colab.output.renderOutput(dataTable, element);\n",
              "          const docLink = document.createElement('div');\n",
              "          docLink.innerHTML = docLinkHtml;\n",
              "          element.appendChild(docLink);\n",
              "        }\n",
              "      </script>\n",
              "    </div>\n",
              "  </div>\n",
              "  "
            ]
          },
          "metadata": {},
          "execution_count": 2
        }
      ]
    },
    {
      "cell_type": "markdown",
      "source": [
        "##Clean database"
      ],
      "metadata": {
        "id": "O4373iSFcksm"
      }
    },
    {
      "cell_type": "code",
      "source": [
        "df_AguaSubterranea.info()"
      ],
      "metadata": {
        "colab": {
          "base_uri": "https://localhost:8080/"
        },
        "id": "858yWJtHcqRE",
        "outputId": "24dacf0c-f055-46fd-cb17-3900f75e2aac"
      },
      "execution_count": 3,
      "outputs": [
        {
          "output_type": "stream",
          "name": "stdout",
          "text": [
            "<class 'pandas.core.frame.DataFrame'>\n",
            "RangeIndex: 1068 entries, 0 to 1067\n",
            "Data columns (total 57 columns):\n",
            " #   Column                Non-Null Count  Dtype  \n",
            "---  ------                --------------  -----  \n",
            " 0   CLAVE                 1068 non-null   object \n",
            " 1   SITIO                 1068 non-null   object \n",
            " 2   ORGANISMO_DE_CUENCA   1068 non-null   object \n",
            " 3   ESTADO                1068 non-null   object \n",
            " 4   MUNICIPIO             1068 non-null   object \n",
            " 5   ACUIFERO              1068 non-null   object \n",
            " 6   SUBTIPO               1068 non-null   object \n",
            " 7   LONGITUD              1068 non-null   float64\n",
            " 8   LATITUD               1068 non-null   float64\n",
            " 9   PERIODO               1068 non-null   int64  \n",
            " 10  ALC_mg/L              1064 non-null   float64\n",
            " 11  CALIDAD_ALC           1064 non-null   object \n",
            " 12  CONDUCT_mS/cm         1062 non-null   float64\n",
            " 13  CALIDAD_CONDUC        1062 non-null   object \n",
            " 14  SDT_mg/L              0 non-null      float64\n",
            " 15  SDT_M_mg/L            1066 non-null   object \n",
            " 16  CALIDAD_SDT_ra        1066 non-null   object \n",
            " 17  CALIDAD_SDT_salin     1066 non-null   object \n",
            " 18  FLUORUROS_mg/L        1068 non-null   object \n",
            " 19  CALIDAD_FLUO          1068 non-null   object \n",
            " 20  DUR_mg/L              1067 non-null   object \n",
            " 21  CALIDAD_DUR           1067 non-null   object \n",
            " 22  COLI_FEC_NMP/100_mL   1068 non-null   object \n",
            " 23  CALIDAD_COLI_FEC      1068 non-null   object \n",
            " 24  N_NO3_mg/L            1067 non-null   object \n",
            " 25  CALIDAD_N_NO3         1067 non-null   object \n",
            " 26  AS_TOT_mg/L           1068 non-null   object \n",
            " 27  CALIDAD_AS            1068 non-null   object \n",
            " 28  CD_TOT_mg/L           1068 non-null   object \n",
            " 29  CALIDAD_CD            1068 non-null   object \n",
            " 30  CR_TOT_mg/L           1068 non-null   object \n",
            " 31  CALIDAD_CR            1068 non-null   object \n",
            " 32  HG_TOT_mg/L           1068 non-null   object \n",
            " 33  CALIDAD_HG            1068 non-null   object \n",
            " 34  PB_TOT_mg/L           1068 non-null   object \n",
            " 35  CALIDAD_PB            1068 non-null   object \n",
            " 36  MN_TOT_mg/L           1068 non-null   object \n",
            " 37  CALIDAD_MN            1068 non-null   object \n",
            " 38  FE_TOT_mg/L           1068 non-null   object \n",
            " 39  CALIDAD_FE            1068 non-null   object \n",
            " 40  SEMAFORO              1068 non-null   object \n",
            " 41  CONTAMINANTES         634 non-null    object \n",
            " 42  CUMPLE_CON_ALC        1068 non-null   object \n",
            " 43  CUMPLE_CON_COND       1068 non-null   object \n",
            " 44  CUMPLE_CON_SDT_ra     1068 non-null   object \n",
            " 45  CUMPLE_CON_SDT_salin  1068 non-null   object \n",
            " 46  CUMPLE_CON_FLUO       1068 non-null   object \n",
            " 47  CUMPLE_CON_DUR        1068 non-null   object \n",
            " 48  CUMPLE_CON_CF         1068 non-null   object \n",
            " 49  CUMPLE_CON_NO3        1068 non-null   object \n",
            " 50  CUMPLE_CON_AS         1068 non-null   object \n",
            " 51  CUMPLE_CON_CD         1068 non-null   object \n",
            " 52  CUMPLE_CON_CR         1068 non-null   object \n",
            " 53  CUMPLE_CON_HG         1068 non-null   object \n",
            " 54  CUMPLE_CON_PB         1068 non-null   object \n",
            " 55  CUMPLE_CON_MN         1068 non-null   object \n",
            " 56  CUMPLE_CON_FE         1068 non-null   object \n",
            "dtypes: float64(5), int64(1), object(51)\n",
            "memory usage: 475.7+ KB\n"
          ]
        }
      ]
    },
    {
      "cell_type": "markdown",
      "source": [
        "We have 5 columns float type and 51 object type. The total items is 1068"
      ],
      "metadata": {
        "id": "5X4a2p1Pdth_"
      }
    },
    {
      "cell_type": "code",
      "source": [
        "df_AguaSubterranea.isna().any()"
      ],
      "metadata": {
        "colab": {
          "base_uri": "https://localhost:8080/"
        },
        "id": "z3MfjOoPeHPJ",
        "outputId": "09c00e09-e782-42a2-c0dc-e638c763f001"
      },
      "execution_count": 4,
      "outputs": [
        {
          "output_type": "execute_result",
          "data": {
            "text/plain": [
              "CLAVE                   False\n",
              "SITIO                   False\n",
              "ORGANISMO_DE_CUENCA     False\n",
              "ESTADO                  False\n",
              "MUNICIPIO               False\n",
              "ACUIFERO                False\n",
              "SUBTIPO                 False\n",
              "LONGITUD                False\n",
              "LATITUD                 False\n",
              "PERIODO                 False\n",
              "ALC_mg/L                 True\n",
              "CALIDAD_ALC              True\n",
              "CONDUCT_mS/cm            True\n",
              "CALIDAD_CONDUC           True\n",
              "SDT_mg/L                 True\n",
              "SDT_M_mg/L               True\n",
              "CALIDAD_SDT_ra           True\n",
              "CALIDAD_SDT_salin        True\n",
              "FLUORUROS_mg/L          False\n",
              "CALIDAD_FLUO            False\n",
              "DUR_mg/L                 True\n",
              "CALIDAD_DUR              True\n",
              "COLI_FEC_NMP/100_mL     False\n",
              "CALIDAD_COLI_FEC        False\n",
              "N_NO3_mg/L               True\n",
              "CALIDAD_N_NO3            True\n",
              "AS_TOT_mg/L             False\n",
              "CALIDAD_AS              False\n",
              "CD_TOT_mg/L             False\n",
              "CALIDAD_CD              False\n",
              "CR_TOT_mg/L             False\n",
              "CALIDAD_CR              False\n",
              "HG_TOT_mg/L             False\n",
              "CALIDAD_HG              False\n",
              "PB_TOT_mg/L             False\n",
              "CALIDAD_PB              False\n",
              "MN_TOT_mg/L             False\n",
              "CALIDAD_MN              False\n",
              "FE_TOT_mg/L             False\n",
              "CALIDAD_FE              False\n",
              "SEMAFORO                False\n",
              "CONTAMINANTES            True\n",
              "CUMPLE_CON_ALC          False\n",
              "CUMPLE_CON_COND         False\n",
              "CUMPLE_CON_SDT_ra       False\n",
              "CUMPLE_CON_SDT_salin    False\n",
              "CUMPLE_CON_FLUO         False\n",
              "CUMPLE_CON_DUR          False\n",
              "CUMPLE_CON_CF           False\n",
              "CUMPLE_CON_NO3          False\n",
              "CUMPLE_CON_AS           False\n",
              "CUMPLE_CON_CD           False\n",
              "CUMPLE_CON_CR           False\n",
              "CUMPLE_CON_HG           False\n",
              "CUMPLE_CON_PB           False\n",
              "CUMPLE_CON_MN           False\n",
              "CUMPLE_CON_FE           False\n",
              "dtype: bool"
            ]
          },
          "metadata": {},
          "execution_count": 4
        }
      ]
    },
    {
      "cell_type": "markdown",
      "source": [
        "We have 13 columns with NAs values. So we are going to start cleaning them.\n",
        "\n",
        "Now lets see how many NAs are per column"
      ],
      "metadata": {
        "id": "yKqF0HcbeZZv"
      }
    },
    {
      "cell_type": "code",
      "source": [
        "df_AguaSubterranea.isna().sum()"
      ],
      "metadata": {
        "colab": {
          "base_uri": "https://localhost:8080/"
        },
        "id": "J2s67dnzgKPC",
        "outputId": "e53977b1-3b62-4510-fb4f-75f92f1d6bf8"
      },
      "execution_count": 5,
      "outputs": [
        {
          "output_type": "execute_result",
          "data": {
            "text/plain": [
              "CLAVE                      0\n",
              "SITIO                      0\n",
              "ORGANISMO_DE_CUENCA        0\n",
              "ESTADO                     0\n",
              "MUNICIPIO                  0\n",
              "ACUIFERO                   0\n",
              "SUBTIPO                    0\n",
              "LONGITUD                   0\n",
              "LATITUD                    0\n",
              "PERIODO                    0\n",
              "ALC_mg/L                   4\n",
              "CALIDAD_ALC                4\n",
              "CONDUCT_mS/cm              6\n",
              "CALIDAD_CONDUC             6\n",
              "SDT_mg/L                1068\n",
              "SDT_M_mg/L                 2\n",
              "CALIDAD_SDT_ra             2\n",
              "CALIDAD_SDT_salin          2\n",
              "FLUORUROS_mg/L             0\n",
              "CALIDAD_FLUO               0\n",
              "DUR_mg/L                   1\n",
              "CALIDAD_DUR                1\n",
              "COLI_FEC_NMP/100_mL        0\n",
              "CALIDAD_COLI_FEC           0\n",
              "N_NO3_mg/L                 1\n",
              "CALIDAD_N_NO3              1\n",
              "AS_TOT_mg/L                0\n",
              "CALIDAD_AS                 0\n",
              "CD_TOT_mg/L                0\n",
              "CALIDAD_CD                 0\n",
              "CR_TOT_mg/L                0\n",
              "CALIDAD_CR                 0\n",
              "HG_TOT_mg/L                0\n",
              "CALIDAD_HG                 0\n",
              "PB_TOT_mg/L                0\n",
              "CALIDAD_PB                 0\n",
              "MN_TOT_mg/L                0\n",
              "CALIDAD_MN                 0\n",
              "FE_TOT_mg/L                0\n",
              "CALIDAD_FE                 0\n",
              "SEMAFORO                   0\n",
              "CONTAMINANTES            434\n",
              "CUMPLE_CON_ALC             0\n",
              "CUMPLE_CON_COND            0\n",
              "CUMPLE_CON_SDT_ra          0\n",
              "CUMPLE_CON_SDT_salin       0\n",
              "CUMPLE_CON_FLUO            0\n",
              "CUMPLE_CON_DUR             0\n",
              "CUMPLE_CON_CF              0\n",
              "CUMPLE_CON_NO3             0\n",
              "CUMPLE_CON_AS              0\n",
              "CUMPLE_CON_CD              0\n",
              "CUMPLE_CON_CR              0\n",
              "CUMPLE_CON_HG              0\n",
              "CUMPLE_CON_PB              0\n",
              "CUMPLE_CON_MN              0\n",
              "CUMPLE_CON_FE              0\n",
              "dtype: int64"
            ]
          },
          "metadata": {},
          "execution_count": 5
        }
      ]
    },
    {
      "cell_type": "code",
      "source": [
        "df_AguaSubterranea.describe().T"
      ],
      "metadata": {
        "colab": {
          "base_uri": "https://localhost:8080/",
          "height": 238
        },
        "id": "q-OpzFu9g4rd",
        "outputId": "43b4bf40-2568-4a7a-d3b7-2f48408c4bb7"
      },
      "execution_count": 6,
      "outputs": [
        {
          "output_type": "execute_result",
          "data": {
            "text/plain": [
              "                count         mean          std         min          25%  \\\n",
              "LONGITUD       1068.0  -101.891007     6.703263  -116.66425  -105.388865   \n",
              "LATITUD        1068.0    23.163618     3.887670    14.56115    20.212055   \n",
              "PERIODO        1068.0  2020.000000     0.000000  2020.00000  2020.000000   \n",
              "ALC_mg/L       1064.0   235.633759   116.874291    26.64000   164.000000   \n",
              "CONDUCT_mS/cm  1062.0  1138.953013  1245.563674    50.40000   501.750000   \n",
              "SDT_mg/L          0.0          NaN          NaN         NaN          NaN   \n",
              "\n",
              "                      50%          75%           max  \n",
              "LONGITUD       -102.17418   -98.974716    -86.864120  \n",
              "LATITUD          22.61719    25.510285     32.677713  \n",
              "PERIODO        2020.00000  2020.000000   2020.000000  \n",
              "ALC_mg/L        215.52750   292.710000   1650.000000  \n",
              "CONDUCT_mS/cm   815.00000  1322.750000  18577.000000  \n",
              "SDT_mg/L              NaN          NaN           NaN  "
            ],
            "text/html": [
              "\n",
              "  <div id=\"df-5d95fbcc-48d5-4a85-9a85-b5b96c0c8d4e\">\n",
              "    <div class=\"colab-df-container\">\n",
              "      <div>\n",
              "<style scoped>\n",
              "    .dataframe tbody tr th:only-of-type {\n",
              "        vertical-align: middle;\n",
              "    }\n",
              "\n",
              "    .dataframe tbody tr th {\n",
              "        vertical-align: top;\n",
              "    }\n",
              "\n",
              "    .dataframe thead th {\n",
              "        text-align: right;\n",
              "    }\n",
              "</style>\n",
              "<table border=\"1\" class=\"dataframe\">\n",
              "  <thead>\n",
              "    <tr style=\"text-align: right;\">\n",
              "      <th></th>\n",
              "      <th>count</th>\n",
              "      <th>mean</th>\n",
              "      <th>std</th>\n",
              "      <th>min</th>\n",
              "      <th>25%</th>\n",
              "      <th>50%</th>\n",
              "      <th>75%</th>\n",
              "      <th>max</th>\n",
              "    </tr>\n",
              "  </thead>\n",
              "  <tbody>\n",
              "    <tr>\n",
              "      <th>LONGITUD</th>\n",
              "      <td>1068.0</td>\n",
              "      <td>-101.891007</td>\n",
              "      <td>6.703263</td>\n",
              "      <td>-116.66425</td>\n",
              "      <td>-105.388865</td>\n",
              "      <td>-102.17418</td>\n",
              "      <td>-98.974716</td>\n",
              "      <td>-86.864120</td>\n",
              "    </tr>\n",
              "    <tr>\n",
              "      <th>LATITUD</th>\n",
              "      <td>1068.0</td>\n",
              "      <td>23.163618</td>\n",
              "      <td>3.887670</td>\n",
              "      <td>14.56115</td>\n",
              "      <td>20.212055</td>\n",
              "      <td>22.61719</td>\n",
              "      <td>25.510285</td>\n",
              "      <td>32.677713</td>\n",
              "    </tr>\n",
              "    <tr>\n",
              "      <th>PERIODO</th>\n",
              "      <td>1068.0</td>\n",
              "      <td>2020.000000</td>\n",
              "      <td>0.000000</td>\n",
              "      <td>2020.00000</td>\n",
              "      <td>2020.000000</td>\n",
              "      <td>2020.00000</td>\n",
              "      <td>2020.000000</td>\n",
              "      <td>2020.000000</td>\n",
              "    </tr>\n",
              "    <tr>\n",
              "      <th>ALC_mg/L</th>\n",
              "      <td>1064.0</td>\n",
              "      <td>235.633759</td>\n",
              "      <td>116.874291</td>\n",
              "      <td>26.64000</td>\n",
              "      <td>164.000000</td>\n",
              "      <td>215.52750</td>\n",
              "      <td>292.710000</td>\n",
              "      <td>1650.000000</td>\n",
              "    </tr>\n",
              "    <tr>\n",
              "      <th>CONDUCT_mS/cm</th>\n",
              "      <td>1062.0</td>\n",
              "      <td>1138.953013</td>\n",
              "      <td>1245.563674</td>\n",
              "      <td>50.40000</td>\n",
              "      <td>501.750000</td>\n",
              "      <td>815.00000</td>\n",
              "      <td>1322.750000</td>\n",
              "      <td>18577.000000</td>\n",
              "    </tr>\n",
              "    <tr>\n",
              "      <th>SDT_mg/L</th>\n",
              "      <td>0.0</td>\n",
              "      <td>NaN</td>\n",
              "      <td>NaN</td>\n",
              "      <td>NaN</td>\n",
              "      <td>NaN</td>\n",
              "      <td>NaN</td>\n",
              "      <td>NaN</td>\n",
              "      <td>NaN</td>\n",
              "    </tr>\n",
              "  </tbody>\n",
              "</table>\n",
              "</div>\n",
              "      <button class=\"colab-df-convert\" onclick=\"convertToInteractive('df-5d95fbcc-48d5-4a85-9a85-b5b96c0c8d4e')\"\n",
              "              title=\"Convert this dataframe to an interactive table.\"\n",
              "              style=\"display:none;\">\n",
              "        \n",
              "  <svg xmlns=\"http://www.w3.org/2000/svg\" height=\"24px\"viewBox=\"0 0 24 24\"\n",
              "       width=\"24px\">\n",
              "    <path d=\"M0 0h24v24H0V0z\" fill=\"none\"/>\n",
              "    <path d=\"M18.56 5.44l.94 2.06.94-2.06 2.06-.94-2.06-.94-.94-2.06-.94 2.06-2.06.94zm-11 1L8.5 8.5l.94-2.06 2.06-.94-2.06-.94L8.5 2.5l-.94 2.06-2.06.94zm10 10l.94 2.06.94-2.06 2.06-.94-2.06-.94-.94-2.06-.94 2.06-2.06.94z\"/><path d=\"M17.41 7.96l-1.37-1.37c-.4-.4-.92-.59-1.43-.59-.52 0-1.04.2-1.43.59L10.3 9.45l-7.72 7.72c-.78.78-.78 2.05 0 2.83L4 21.41c.39.39.9.59 1.41.59.51 0 1.02-.2 1.41-.59l7.78-7.78 2.81-2.81c.8-.78.8-2.07 0-2.86zM5.41 20L4 18.59l7.72-7.72 1.47 1.35L5.41 20z\"/>\n",
              "  </svg>\n",
              "      </button>\n",
              "      \n",
              "  <style>\n",
              "    .colab-df-container {\n",
              "      display:flex;\n",
              "      flex-wrap:wrap;\n",
              "      gap: 12px;\n",
              "    }\n",
              "\n",
              "    .colab-df-convert {\n",
              "      background-color: #E8F0FE;\n",
              "      border: none;\n",
              "      border-radius: 50%;\n",
              "      cursor: pointer;\n",
              "      display: none;\n",
              "      fill: #1967D2;\n",
              "      height: 32px;\n",
              "      padding: 0 0 0 0;\n",
              "      width: 32px;\n",
              "    }\n",
              "\n",
              "    .colab-df-convert:hover {\n",
              "      background-color: #E2EBFA;\n",
              "      box-shadow: 0px 1px 2px rgba(60, 64, 67, 0.3), 0px 1px 3px 1px rgba(60, 64, 67, 0.15);\n",
              "      fill: #174EA6;\n",
              "    }\n",
              "\n",
              "    [theme=dark] .colab-df-convert {\n",
              "      background-color: #3B4455;\n",
              "      fill: #D2E3FC;\n",
              "    }\n",
              "\n",
              "    [theme=dark] .colab-df-convert:hover {\n",
              "      background-color: #434B5C;\n",
              "      box-shadow: 0px 1px 3px 1px rgba(0, 0, 0, 0.15);\n",
              "      filter: drop-shadow(0px 1px 2px rgba(0, 0, 0, 0.3));\n",
              "      fill: #FFFFFF;\n",
              "    }\n",
              "  </style>\n",
              "\n",
              "      <script>\n",
              "        const buttonEl =\n",
              "          document.querySelector('#df-5d95fbcc-48d5-4a85-9a85-b5b96c0c8d4e button.colab-df-convert');\n",
              "        buttonEl.style.display =\n",
              "          google.colab.kernel.accessAllowed ? 'block' : 'none';\n",
              "\n",
              "        async function convertToInteractive(key) {\n",
              "          const element = document.querySelector('#df-5d95fbcc-48d5-4a85-9a85-b5b96c0c8d4e');\n",
              "          const dataTable =\n",
              "            await google.colab.kernel.invokeFunction('convertToInteractive',\n",
              "                                                     [key], {});\n",
              "          if (!dataTable) return;\n",
              "\n",
              "          const docLinkHtml = 'Like what you see? Visit the ' +\n",
              "            '<a target=\"_blank\" href=https://colab.research.google.com/notebooks/data_table.ipynb>data table notebook</a>'\n",
              "            + ' to learn more about interactive tables.';\n",
              "          element.innerHTML = '';\n",
              "          dataTable['output_type'] = 'display_data';\n",
              "          await google.colab.output.renderOutput(dataTable, element);\n",
              "          const docLink = document.createElement('div');\n",
              "          docLink.innerHTML = docLinkHtml;\n",
              "          element.appendChild(docLink);\n",
              "        }\n",
              "      </script>\n",
              "    </div>\n",
              "  </div>\n",
              "  "
            ]
          },
          "metadata": {},
          "execution_count": 6
        }
      ]
    },
    {
      "cell_type": "markdown",
      "source": [
        "We can see that all the values from **PERIODO** is 2020 and **SDT_mg/L** is an empty column. We are considering to drop these 2 columns.\n",
        "\n"
      ],
      "metadata": {
        "id": "lJ8Xt4ZmhIL2"
      }
    },
    {
      "cell_type": "code",
      "source": [
        "df_AguaSubterranea.drop(['PERIODO','SDT_mg/L'], axis = 1, inplace = True)"
      ],
      "metadata": {
        "id": "FTUSYWb0h4xO"
      },
      "execution_count": 7,
      "outputs": []
    },
    {
      "cell_type": "markdown",
      "source": [
        "Reviewing the data we can see that there are some columns that have 1,2,4 and 6 items with NA's, which in total are 30 items. If them are deleted the data base will end with just 1038 items which is the 97.19% of the data, which is enough to represent the dataset."
      ],
      "metadata": {
        "id": "aqHQBBmMieCQ"
      }
    },
    {
      "cell_type": "code",
      "source": [
        "df_NAsColumns = df_AguaSubterranea[df_AguaSubterranea.columns[df_AguaSubterranea.isna().any()]]\n",
        "df_NAsColumns.drop(['CONTAMINANTES'],axis = 1, inplace = True)\n",
        "df_NAsColumns.columns"
      ],
      "metadata": {
        "colab": {
          "base_uri": "https://localhost:8080/"
        },
        "id": "-vQqGQNUjv7r",
        "outputId": "a027be4e-84ab-46cc-db68-317b163a2fdc"
      },
      "execution_count": 8,
      "outputs": [
        {
          "output_type": "stream",
          "name": "stderr",
          "text": [
            "/usr/local/lib/python3.7/dist-packages/pandas/core/frame.py:4913: SettingWithCopyWarning: \n",
            "A value is trying to be set on a copy of a slice from a DataFrame\n",
            "\n",
            "See the caveats in the documentation: https://pandas.pydata.org/pandas-docs/stable/user_guide/indexing.html#returning-a-view-versus-a-copy\n",
            "  errors=errors,\n"
          ]
        },
        {
          "output_type": "execute_result",
          "data": {
            "text/plain": [
              "Index(['ALC_mg/L', 'CALIDAD_ALC', 'CONDUCT_mS/cm', 'CALIDAD_CONDUC',\n",
              "       'SDT_M_mg/L', 'CALIDAD_SDT_ra', 'CALIDAD_SDT_salin', 'DUR_mg/L',\n",
              "       'CALIDAD_DUR', 'N_NO3_mg/L', 'CALIDAD_N_NO3'],\n",
              "      dtype='object')"
            ]
          },
          "metadata": {},
          "execution_count": 8
        }
      ]
    },
    {
      "cell_type": "code",
      "source": [
        "df_AguaSubterranea.dropna(subset = df_NAsColumns.columns, axis = 0, inplace = True)\n",
        "df_AguaSubterranea.isna().sum()"
      ],
      "metadata": {
        "colab": {
          "base_uri": "https://localhost:8080/"
        },
        "id": "RAVeQRUrnbJy",
        "outputId": "1c65a19a-281d-40d7-9dd1-bfa682282264"
      },
      "execution_count": 9,
      "outputs": [
        {
          "output_type": "execute_result",
          "data": {
            "text/plain": [
              "CLAVE                     0\n",
              "SITIO                     0\n",
              "ORGANISMO_DE_CUENCA       0\n",
              "ESTADO                    0\n",
              "MUNICIPIO                 0\n",
              "ACUIFERO                  0\n",
              "SUBTIPO                   0\n",
              "LONGITUD                  0\n",
              "LATITUD                   0\n",
              "ALC_mg/L                  0\n",
              "CALIDAD_ALC               0\n",
              "CONDUCT_mS/cm             0\n",
              "CALIDAD_CONDUC            0\n",
              "SDT_M_mg/L                0\n",
              "CALIDAD_SDT_ra            0\n",
              "CALIDAD_SDT_salin         0\n",
              "FLUORUROS_mg/L            0\n",
              "CALIDAD_FLUO              0\n",
              "DUR_mg/L                  0\n",
              "CALIDAD_DUR               0\n",
              "COLI_FEC_NMP/100_mL       0\n",
              "CALIDAD_COLI_FEC          0\n",
              "N_NO3_mg/L                0\n",
              "CALIDAD_N_NO3             0\n",
              "AS_TOT_mg/L               0\n",
              "CALIDAD_AS                0\n",
              "CD_TOT_mg/L               0\n",
              "CALIDAD_CD                0\n",
              "CR_TOT_mg/L               0\n",
              "CALIDAD_CR                0\n",
              "HG_TOT_mg/L               0\n",
              "CALIDAD_HG                0\n",
              "PB_TOT_mg/L               0\n",
              "CALIDAD_PB                0\n",
              "MN_TOT_mg/L               0\n",
              "CALIDAD_MN                0\n",
              "FE_TOT_mg/L               0\n",
              "CALIDAD_FE                0\n",
              "SEMAFORO                  0\n",
              "CONTAMINANTES           427\n",
              "CUMPLE_CON_ALC            0\n",
              "CUMPLE_CON_COND           0\n",
              "CUMPLE_CON_SDT_ra         0\n",
              "CUMPLE_CON_SDT_salin      0\n",
              "CUMPLE_CON_FLUO           0\n",
              "CUMPLE_CON_DUR            0\n",
              "CUMPLE_CON_CF             0\n",
              "CUMPLE_CON_NO3            0\n",
              "CUMPLE_CON_AS             0\n",
              "CUMPLE_CON_CD             0\n",
              "CUMPLE_CON_CR             0\n",
              "CUMPLE_CON_HG             0\n",
              "CUMPLE_CON_PB             0\n",
              "CUMPLE_CON_MN             0\n",
              "CUMPLE_CON_FE             0\n",
              "dtype: int64"
            ]
          },
          "metadata": {},
          "execution_count": 9
        }
      ]
    },
    {
      "cell_type": "markdown",
      "source": [
        "Now, the last column that we need to clean is **CONTAMINANTES**. Lets start to see what we have inside it"
      ],
      "metadata": {
        "id": "6aSn7pVCo26b"
      }
    },
    {
      "cell_type": "code",
      "source": [
        "df_AguaSubterranea['CONTAMINANTES'].unique().tolist()"
      ],
      "metadata": {
        "colab": {
          "base_uri": "https://localhost:8080/"
        },
        "id": "SED8GwCspVKp",
        "outputId": "8270f34f-9028-4d1c-9b23-d47782679984"
      },
      "execution_count": 10,
      "outputs": [
        {
          "output_type": "execute_result",
          "data": {
            "text/plain": [
              "[nan,\n",
              " 'FLUO,AS,',\n",
              " 'NO3,',\n",
              " 'CF,',\n",
              " 'CONDUC,NO3,',\n",
              " 'DT,CF,AS,MN,FE,',\n",
              " 'CONDUC,SDT_ra,SDT_salin,DT,AS,',\n",
              " 'AS,',\n",
              " 'DT,CF,PB,FE,',\n",
              " 'CONDUC,SDT_ra,SDT_salin,DT,',\n",
              " 'CONDUC,AS,FE,',\n",
              " 'CONDUC,',\n",
              " 'CF,FE,',\n",
              " 'FE,',\n",
              " 'DT,NO3,',\n",
              " 'DT,CR,FE,',\n",
              " 'CF,FE,NO3,',\n",
              " 'CONDUC,SDT_ra,SDT_salin,DT,CF,FE,',\n",
              " 'CONDUC,SDT_ra,SDT_salin,DT,FE,',\n",
              " 'CONDUC,DT,',\n",
              " 'CONDUC,SDT_ra,SDT_salin,DT,CF,NO3,',\n",
              " 'CONDUC,SDT_ra,SDT_salin,DT,FE,NO3,',\n",
              " 'CONDUC,DT,CF,',\n",
              " 'FLUO,CF,',\n",
              " 'DT,',\n",
              " 'FLUO,',\n",
              " 'FLUO,DT,',\n",
              " 'CONDUC,SDT_ra,SDT_salin,FLUO,',\n",
              " 'CR,FE,',\n",
              " 'ALC,',\n",
              " 'SDT_ra,SDT_salin,DT,MN,FE,',\n",
              " 'FLUO,FE,',\n",
              " 'FLUO,CF,AS,',\n",
              " 'DT,FE,',\n",
              " 'CONDUC,SDT_ra,SDT_salin,FLUO,DT,AS,NO3,',\n",
              " 'CONDUC,SDT_ra,SDT_salin,DT,AS,NO3,',\n",
              " 'FLUO,DT,AS,',\n",
              " 'FLUO,CF,AS,FE,',\n",
              " 'FE,NO3,',\n",
              " 'ALC,FLUO,',\n",
              " 'ALC,CONDUC,SDT_ra,SDT_salin,DT,FE,NO3,',\n",
              " 'CONDUC,SDT_ra,SDT_salin,FLUO,DT,',\n",
              " 'CONDUC,SDT_ra,SDT_salin,FLUO,DT,NO3,',\n",
              " 'CONDUC,SDT_ra,SDT_salin,DT,CF,',\n",
              " 'CONDUC,SDT_ra,SDT_salin,DT,NO3,',\n",
              " 'CR,',\n",
              " 'CONDUC,DT,FE,',\n",
              " 'ALC,CONDUC,DT,',\n",
              " 'CONDUC,DT,NO3,',\n",
              " 'ALC,CONDUC,SDT_ra,SDT_salin,DT,MN,FE,',\n",
              " 'MN,',\n",
              " 'CF,PB,',\n",
              " 'CF,MN,',\n",
              " 'CF,MN,FE,',\n",
              " 'ALC,FLUO,AS,',\n",
              " 'AS,FE,',\n",
              " 'DT,AS,NO3,',\n",
              " 'CONDUC,DT,AS,',\n",
              " 'FLUO,AS,FE,',\n",
              " 'ALC,AS,FE,',\n",
              " 'PB,MN,FE,',\n",
              " 'ALC,CONDUC,SDT_ra,SDT_salin,FLUO,DT,MN,FE,',\n",
              " 'ALC,CONDUC,SDT_ra,SDT_salin,FLUO,DT,AS,MN,FE,',\n",
              " 'ALC,CONDUC,SDT_ra,SDT_salin,DT,NO3,',\n",
              " 'ALC,FLUO,AS,FE,',\n",
              " 'MN,FE,',\n",
              " 'ALC,AS,MN,FE,',\n",
              " 'ALC,MN,',\n",
              " 'NI,FE,',\n",
              " 'CONDUC,MN,FE,',\n",
              " 'ALC,DT,FE,',\n",
              " 'CONDUC,PB,FE,',\n",
              " 'PB,FE,',\n",
              " 'CONDUC,FLUO,DT,',\n",
              " 'ALC,DT,',\n",
              " 'ALC,CONDUC,',\n",
              " 'ALC,CONDUC,AS,MN,',\n",
              " 'AS,MN,FE,',\n",
              " 'DT,PB,',\n",
              " 'PB,',\n",
              " 'CONDUC,SDT_ra,SDT_salin,DT,HG,MN,FE,',\n",
              " 'ALC,CONDUC,DT,NO3,',\n",
              " 'DT,MN,',\n",
              " 'MN,NO3,',\n",
              " 'ALC,CF,',\n",
              " 'FLUO,MN,FE,',\n",
              " 'CONDUC,SDT_ra,SDT_salin,FLUO,DT,PB,',\n",
              " 'CF,CD,MN,FE,',\n",
              " 'ALC,FE,',\n",
              " 'CONDUC,SDT_ra,SDT_salin,DT,AS,FE,',\n",
              " 'ALC,FLUO,AS,NO3,',\n",
              " 'SDT_ra,SDT_salin,DT,NO3,',\n",
              " 'SDT_ra,SDT_salin,DT,CR,',\n",
              " 'CONDUC,FLUO,NO3,',\n",
              " 'CONDUC,DT,CF,AS,NO3,',\n",
              " 'AS,NO3,',\n",
              " 'CONDUC,FE,NO3,',\n",
              " 'CONDUC,SDT_ra,SDT_salin,DT,AS,MN,',\n",
              " 'CONDUC,DT,CD,',\n",
              " 'DT,CF,',\n",
              " 'CONDUC,FLUO,DT,CF,',\n",
              " 'DT,MN,FE,',\n",
              " 'CONDUC,SDT_ra,SDT_salin,CR,',\n",
              " 'CONDUC,FE,',\n",
              " 'CR,MN,FE,',\n",
              " 'CONDUC,SDT_ra,SDT_salin,FLUO,DT,FE,',\n",
              " 'ALC,DT,AS,MN,',\n",
              " 'FLUO,AS,NO3,',\n",
              " 'ALC,MN,FE,',\n",
              " 'CF,NO3,',\n",
              " 'ALC,CONDUC,SDT_ra,SDT_salin,FLUO,NO3,',\n",
              " 'CONDUC,FLUO,FE,',\n",
              " 'SDT_ra,SDT_salin,DT,MN,',\n",
              " 'SDT_ra,SDT_salin,DT,FE,',\n",
              " 'SDT_ra,SDT_salin,DT,',\n",
              " 'CONDUC,SDT_ra,SDT_salin,',\n",
              " 'ALC,DT,MN,',\n",
              " 'CONDUC,SDT_ra,SDT_salin,DT,MN,FE,',\n",
              " 'ALC,CONDUC,DT,MN,NO3,',\n",
              " 'ALC,NO3,',\n",
              " 'CONDUC,DT,MN,FE,',\n",
              " 'CR,MN,',\n",
              " 'FLUO,CR,FE,',\n",
              " 'CR,NI,FE,',\n",
              " 'AS,CR,',\n",
              " 'ALC,DT,NO3,']"
            ]
          },
          "metadata": {},
          "execution_count": 10
        }
      ]
    },
    {
      "cell_type": "markdown",
      "source": [
        "To explain more in detail this column we can see that it has all the contaminants that are present in the water. So if one of the items does not have a value or is a NA, this is mean that the water is cleaned, so to avoid to have NA's in the database we can replace it with a phrase **UNCONTAMINATED**"
      ],
      "metadata": {
        "id": "BW9zMoxNqmhk"
      }
    },
    {
      "cell_type": "code",
      "source": [
        "df_AguaSubterranea['CONTAMINANTES'].fillna('NINGUNO', inplace=True)\n",
        "df_AguaSubterranea.isna().values.any()"
      ],
      "metadata": {
        "colab": {
          "base_uri": "https://localhost:8080/"
        },
        "id": "30Wd5BAUrlNb",
        "outputId": "49879967-184d-4a42-a327-746a1587db61"
      },
      "execution_count": 11,
      "outputs": [
        {
          "output_type": "execute_result",
          "data": {
            "text/plain": [
              "False"
            ]
          },
          "metadata": {},
          "execution_count": 11
        }
      ]
    },
    {
      "cell_type": "markdown",
      "source": [
        "The database does not have any NAs values. Lets start exploring the columns"
      ],
      "metadata": {
        "id": "yTjfrIHFsMIS"
      }
    },
    {
      "cell_type": "code",
      "source": [
        "def dataframeAnalsys(columnName):\n",
        "  print(\"\\n\",columnName)\n",
        "  print(\"Type \",df_AguaSubterranea[columnName].dtypes)\n",
        "  print(\"String Values\")\n",
        "  print(df_AguaSubterranea[columnName][pd.to_numeric(df_AguaSubterranea[columnName], errors='coerce').isnull()].unique())"
      ],
      "metadata": {
        "id": "eKsrmuwXFUDa"
      },
      "execution_count": 12,
      "outputs": []
    },
    {
      "cell_type": "code",
      "source": [
        "def convertStringToValues_ignoringNulls(columnName):\n",
        "  print(\"\\n\",columnName)\n",
        "  print(\"Converting dataframe to float...\")\n",
        "  df_AguaSubterranea[columnName] = df_AguaSubterranea[columnName].astype(float, errors='ignore')\n",
        "  print(\"String Values remaining:\")\n",
        "  print(df_AguaSubterranea[columnName][pd.to_numeric(df_AguaSubterranea[columnName], errors='coerce').isnull()].unique().tolist())"
      ],
      "metadata": {
        "id": "HtU1Gxja-fUh"
      },
      "execution_count": 13,
      "outputs": []
    },
    {
      "cell_type": "code",
      "source": [
        "def convertStringToValues(columnName, stringValue, numericValue):\n",
        "  print(\"\\nReplacing values...\")\n",
        "  df_AguaSubterranea.loc[ df_AguaSubterranea[columnName] == stringValue, columnName] = numericValue\n",
        "  print(\"Converting dataframe to float...\")\n",
        "  df_AguaSubterranea[columnName] = df_AguaSubterranea[columnName].astype(float, errors='ignore')\n",
        "  print(\"Type: \" , df_AguaSubterranea[columnName].dtypes)\n"
      ],
      "metadata": {
        "id": "TDFnlCIjCEL9"
      },
      "execution_count": 14,
      "outputs": []
    },
    {
      "cell_type": "code",
      "source": [
        "listmgL = ['AS_TOT_mg/L','CD_TOT_mg/L','COLI_FEC_NMP/100_mL','CR_TOT_mg/L','DUR_mg/L','FE_TOT_mg/L','FLUORUROS_mg/L','HG_TOT_mg/L','MN_TOT_mg/L','N_NO3_mg/L','PB_TOT_mg/L','SDT_M_mg/L']"
      ],
      "metadata": {
        "id": "U28_oZojKZ4S"
      },
      "execution_count": 15,
      "outputs": []
    },
    {
      "cell_type": "code",
      "source": [
        "for x in listmgL:\n",
        "  dataframeAnalsys(x)"
      ],
      "metadata": {
        "colab": {
          "base_uri": "https://localhost:8080/"
        },
        "id": "hADKKmqoLR4I",
        "outputId": "fa71aed5-b903-4d32-eb5a-32859722038a"
      },
      "execution_count": 16,
      "outputs": [
        {
          "output_type": "stream",
          "name": "stdout",
          "text": [
            "\n",
            " AS_TOT_mg/L\n",
            "Type  object\n",
            "String Values\n",
            "['<0.01']\n",
            "\n",
            " CD_TOT_mg/L\n",
            "Type  object\n",
            "String Values\n",
            "['<0.003']\n",
            "\n",
            " COLI_FEC_NMP/100_mL\n",
            "Type  object\n",
            "String Values\n",
            "['<1.1']\n",
            "\n",
            " CR_TOT_mg/L\n",
            "Type  object\n",
            "String Values\n",
            "['<0.005']\n",
            "\n",
            " DUR_mg/L\n",
            "Type  object\n",
            "String Values\n",
            "['<20']\n",
            "\n",
            " FE_TOT_mg/L\n",
            "Type  object\n",
            "String Values\n",
            "['<0.025']\n",
            "\n",
            " FLUORUROS_mg/L\n",
            "Type  object\n",
            "String Values\n",
            "['<0.2']\n",
            "\n",
            " HG_TOT_mg/L\n",
            "Type  object\n",
            "String Values\n",
            "['<0.0005']\n",
            "\n",
            " MN_TOT_mg/L\n",
            "Type  object\n",
            "String Values\n",
            "['<0.0015']\n",
            "\n",
            " N_NO3_mg/L\n",
            "Type  object\n",
            "String Values\n",
            "['<0.02']\n",
            "\n",
            " PB_TOT_mg/L\n",
            "Type  object\n",
            "String Values\n",
            "['<0.005']\n",
            "\n",
            " SDT_M_mg/L\n",
            "Type  object\n",
            "String Values\n",
            "[]\n"
          ]
        }
      ]
    },
    {
      "cell_type": "markdown",
      "source": [
        "First lets convert the string numeric values to float\n"
      ],
      "metadata": {
        "id": "hLCYqUiNMmsR"
      }
    },
    {
      "cell_type": "code",
      "source": [
        "for x in listmgL:\n",
        "  convertStringToValues_ignoringNulls(x)"
      ],
      "metadata": {
        "colab": {
          "base_uri": "https://localhost:8080/"
        },
        "id": "zy4lZ3m0MnfL",
        "outputId": "19eb697e-a7ff-4eba-d4a2-9975ac4ec466"
      },
      "execution_count": 17,
      "outputs": [
        {
          "output_type": "stream",
          "name": "stdout",
          "text": [
            "\n",
            " AS_TOT_mg/L\n",
            "Converting dataframe to float...\n",
            "String Values remaining:\n",
            "['<0.01']\n",
            "\n",
            " CD_TOT_mg/L\n",
            "Converting dataframe to float...\n",
            "String Values remaining:\n",
            "['<0.003']\n",
            "\n",
            " COLI_FEC_NMP/100_mL\n",
            "Converting dataframe to float...\n",
            "String Values remaining:\n",
            "['<1.1']\n",
            "\n",
            " CR_TOT_mg/L\n",
            "Converting dataframe to float...\n",
            "String Values remaining:\n",
            "['<0.005']\n",
            "\n",
            " DUR_mg/L\n",
            "Converting dataframe to float...\n",
            "String Values remaining:\n",
            "['<20']\n",
            "\n",
            " FE_TOT_mg/L\n",
            "Converting dataframe to float...\n",
            "String Values remaining:\n",
            "['<0.025']\n",
            "\n",
            " FLUORUROS_mg/L\n",
            "Converting dataframe to float...\n",
            "String Values remaining:\n",
            "['<0.2']\n",
            "\n",
            " HG_TOT_mg/L\n",
            "Converting dataframe to float...\n",
            "String Values remaining:\n",
            "['<0.0005']\n",
            "\n",
            " MN_TOT_mg/L\n",
            "Converting dataframe to float...\n",
            "String Values remaining:\n",
            "['<0.0015']\n",
            "\n",
            " N_NO3_mg/L\n",
            "Converting dataframe to float...\n",
            "String Values remaining:\n",
            "['<0.02']\n",
            "\n",
            " PB_TOT_mg/L\n",
            "Converting dataframe to float...\n",
            "String Values remaining:\n",
            "['<0.005']\n",
            "\n",
            " SDT_M_mg/L\n",
            "Converting dataframe to float...\n",
            "String Values remaining:\n",
            "[]\n"
          ]
        }
      ]
    },
    {
      "cell_type": "markdown",
      "source": [
        "###AS_TOT_mg/L"
      ],
      "metadata": {
        "id": "cuya75srGko8"
      }
    },
    {
      "cell_type": "markdown",
      "source": [
        "We can see that most of the values are numeric however we have string values like ['<0.01'], so we are going to replace with 0.01 But first lets convert the numeric values to float"
      ],
      "metadata": {
        "id": "L9ghU-bRGuo9"
      }
    },
    {
      "cell_type": "code",
      "source": [
        "convertStringToValues('AS_TOT_mg/L','<0.01',0.01)"
      ],
      "metadata": {
        "colab": {
          "base_uri": "https://localhost:8080/"
        },
        "id": "7_sc9zzYG1BR",
        "outputId": "df5ec7af-3341-420e-ec57-22e69136ee4d"
      },
      "execution_count": 18,
      "outputs": [
        {
          "output_type": "stream",
          "name": "stdout",
          "text": [
            "\n",
            "Replacing values...\n",
            "Converting dataframe to float...\n",
            "Type:  float64\n"
          ]
        }
      ]
    },
    {
      "cell_type": "markdown",
      "source": [
        "###CD_TOT_mg/L"
      ],
      "metadata": {
        "id": "QHtVyO7MNKqG"
      }
    },
    {
      "cell_type": "markdown",
      "source": [
        "We can see that most of the values are numeric however we have string values like ['<0.003'], so we are going to replace with 0.003 But first lets convert the numeric values to float"
      ],
      "metadata": {
        "id": "LLkAseEJN4DR"
      }
    },
    {
      "cell_type": "code",
      "source": [
        "convertStringToValues('CD_TOT_mg/L','<0.003',0.003)"
      ],
      "metadata": {
        "colab": {
          "base_uri": "https://localhost:8080/"
        },
        "id": "jdSekE2HOAMO",
        "outputId": "91dff2f2-679c-45b9-dce5-18347fc140fc"
      },
      "execution_count": 19,
      "outputs": [
        {
          "output_type": "stream",
          "name": "stdout",
          "text": [
            "\n",
            "Replacing values...\n",
            "Converting dataframe to float...\n",
            "Type:  float64\n"
          ]
        }
      ]
    },
    {
      "cell_type": "markdown",
      "source": [
        "###COLI_FEC_NMP/100_mL"
      ],
      "metadata": {
        "id": "r3C_O4sHNYUp"
      }
    },
    {
      "cell_type": "markdown",
      "source": [
        "We can see that most of the values are numeric however we have string values like ['<1.1'], so we are going to replace with 1.1 But first lets convert the numeric values to float"
      ],
      "metadata": {
        "id": "ImRixzmuN5Vp"
      }
    },
    {
      "cell_type": "code",
      "source": [
        "convertStringToValues('COLI_FEC_NMP/100_mL','<1.1',1.1)"
      ],
      "metadata": {
        "colab": {
          "base_uri": "https://localhost:8080/"
        },
        "id": "27rsQjFFOBcd",
        "outputId": "3be6c355-837c-48a3-f029-265749d770be"
      },
      "execution_count": 20,
      "outputs": [
        {
          "output_type": "stream",
          "name": "stdout",
          "text": [
            "\n",
            "Replacing values...\n",
            "Converting dataframe to float...\n",
            "Type:  float64\n"
          ]
        }
      ]
    },
    {
      "cell_type": "markdown",
      "source": [
        "###CR_TOT_mg/L"
      ],
      "metadata": {
        "id": "T-CV8grmNYJx"
      }
    },
    {
      "cell_type": "markdown",
      "source": [
        "We can see that most of the values are numeric however we have string values like ['<0.005'], so we are going to replace with 0.005 But first lets convert the numeric values to float"
      ],
      "metadata": {
        "id": "TAhUFKB6N6JM"
      }
    },
    {
      "cell_type": "code",
      "source": [
        "convertStringToValues('CR_TOT_mg/L','<0.005',0.005)"
      ],
      "metadata": {
        "colab": {
          "base_uri": "https://localhost:8080/"
        },
        "id": "e-EZLIafOCHV",
        "outputId": "665c8cf8-4db5-4447-857e-3ef7b348ab1f"
      },
      "execution_count": 21,
      "outputs": [
        {
          "output_type": "stream",
          "name": "stdout",
          "text": [
            "\n",
            "Replacing values...\n",
            "Converting dataframe to float...\n",
            "Type:  float64\n"
          ]
        }
      ]
    },
    {
      "cell_type": "markdown",
      "source": [
        "###DUR_mg/L"
      ],
      "metadata": {
        "id": "oqqLDSVuNX15"
      }
    },
    {
      "cell_type": "markdown",
      "source": [
        "We can see that most of the values are numeric however we have string values like ['<20'], so we are going to replace with 20"
      ],
      "metadata": {
        "id": "KyfUtFavN6rj"
      }
    },
    {
      "cell_type": "code",
      "source": [
        "convertStringToValues('DUR_mg/L','<20',20)"
      ],
      "metadata": {
        "colab": {
          "base_uri": "https://localhost:8080/"
        },
        "id": "py1T7b8HOCtF",
        "outputId": "6339fad4-1334-45a2-dcb7-6b1c9eaf0dc7"
      },
      "execution_count": 22,
      "outputs": [
        {
          "output_type": "stream",
          "name": "stdout",
          "text": [
            "\n",
            "Replacing values...\n",
            "Converting dataframe to float...\n",
            "Type:  float64\n"
          ]
        }
      ]
    },
    {
      "cell_type": "markdown",
      "source": [
        "###FE_TOT_mg/L"
      ],
      "metadata": {
        "id": "xPYLdvvwUbS4"
      }
    },
    {
      "cell_type": "markdown",
      "source": [
        "We can see that most of the values are numeric however we have string values like ['<0.025'], so we are going to replace with 0.025"
      ],
      "metadata": {
        "id": "Wag884JXUj7f"
      }
    },
    {
      "cell_type": "code",
      "source": [
        "convertStringToValues('FE_TOT_mg/L','<0.025',0.025)"
      ],
      "metadata": {
        "id": "5shP3sgqUhi3",
        "outputId": "a3175a36-68a8-4344-f087-bde7b5e622cb",
        "colab": {
          "base_uri": "https://localhost:8080/"
        }
      },
      "execution_count": 23,
      "outputs": [
        {
          "output_type": "stream",
          "name": "stdout",
          "text": [
            "\n",
            "Replacing values...\n",
            "Converting dataframe to float...\n",
            "Type:  float64\n"
          ]
        }
      ]
    },
    {
      "cell_type": "markdown",
      "source": [
        "###FLUORUROS_mg/L"
      ],
      "metadata": {
        "id": "p3wzCHkZ8VNy"
      }
    },
    {
      "cell_type": "markdown",
      "source": [
        "We can see that most of the values are numeric however we have string values like ['<0.2'], so we are going to replace with 0.2"
      ],
      "metadata": {
        "id": "KncpuWd5Qn5f"
      }
    },
    {
      "cell_type": "code",
      "source": [
        "convertStringToValues('FLUORUROS_mg/L','<0.2',0.2)"
      ],
      "metadata": {
        "colab": {
          "base_uri": "https://localhost:8080/"
        },
        "id": "1EK3JJ6KEYky",
        "outputId": "f8522763-402e-4f9f-b7e2-5f2942c83fc0"
      },
      "execution_count": 24,
      "outputs": [
        {
          "output_type": "stream",
          "name": "stdout",
          "text": [
            "\n",
            "Replacing values...\n",
            "Converting dataframe to float...\n",
            "Type:  float64\n"
          ]
        }
      ]
    },
    {
      "cell_type": "markdown",
      "source": [
        "###HG_TOT_mg/L"
      ],
      "metadata": {
        "id": "uFyMFaHSNXrV"
      }
    },
    {
      "cell_type": "markdown",
      "source": [
        "We can see that most of the values are numeric however we have string values like ['<0.0005'], so we are going to replace with 0.0005 But first lets convert the numeric values to float"
      ],
      "metadata": {
        "id": "rx_i3szaN7S5"
      }
    },
    {
      "cell_type": "code",
      "source": [
        "convertStringToValues('HG_TOT_mg/L','<0.0005',0.0005)"
      ],
      "metadata": {
        "colab": {
          "base_uri": "https://localhost:8080/"
        },
        "id": "SKS9CT7vODKR",
        "outputId": "f3c454c9-17b2-46c2-85d2-447429b2976a"
      },
      "execution_count": 25,
      "outputs": [
        {
          "output_type": "stream",
          "name": "stdout",
          "text": [
            "\n",
            "Replacing values...\n",
            "Converting dataframe to float...\n",
            "Type:  float64\n"
          ]
        }
      ]
    },
    {
      "cell_type": "markdown",
      "source": [
        "###MN_TOT_mg/L"
      ],
      "metadata": {
        "id": "ex4sQUFWNXiP"
      }
    },
    {
      "cell_type": "markdown",
      "source": [
        "We can see that most of the values are numeric however we have string values like ['<0.0015'], so we are going to replace with 0.0015 But first lets convert the numeric values to float"
      ],
      "metadata": {
        "id": "Eagko18SN79d"
      }
    },
    {
      "cell_type": "code",
      "source": [
        "convertStringToValues('MN_TOT_mg/L','<0.0015',0.0015)"
      ],
      "metadata": {
        "colab": {
          "base_uri": "https://localhost:8080/"
        },
        "id": "2BlaHFHROD0n",
        "outputId": "7808b895-4010-434d-a286-ada3fc1e818e"
      },
      "execution_count": 26,
      "outputs": [
        {
          "output_type": "stream",
          "name": "stdout",
          "text": [
            "\n",
            "Replacing values...\n",
            "Converting dataframe to float...\n",
            "Type:  float64\n"
          ]
        }
      ]
    },
    {
      "cell_type": "markdown",
      "source": [
        "###N_NO3_mg/L"
      ],
      "metadata": {
        "id": "7NHjjn7yNXYE"
      }
    },
    {
      "cell_type": "markdown",
      "source": [
        "We can see that most of the values are numeric however we have string values like ['<0.02'], so we are going to replace with 0.02 But first lets convert the numeric values to float"
      ],
      "metadata": {
        "id": "4JUwfkNzN8P_"
      }
    },
    {
      "cell_type": "code",
      "source": [
        "convertStringToValues('N_NO3_mg/L','<0.02',0.02)"
      ],
      "metadata": {
        "colab": {
          "base_uri": "https://localhost:8080/"
        },
        "id": "b6VdJfF-OEVA",
        "outputId": "4a523c6f-bd8a-4a08-d55a-470d05422861"
      },
      "execution_count": 27,
      "outputs": [
        {
          "output_type": "stream",
          "name": "stdout",
          "text": [
            "\n",
            "Replacing values...\n",
            "Converting dataframe to float...\n",
            "Type:  float64\n"
          ]
        }
      ]
    },
    {
      "cell_type": "markdown",
      "source": [
        "###PB_TOT_mg/L"
      ],
      "metadata": {
        "id": "iwLl6dEpNXOp"
      }
    },
    {
      "cell_type": "markdown",
      "source": [
        "We can see that most of the values are numeric however we have string values like ['<0.005'], so we are going to replace with 0.005 But first lets convert the numeric values to float"
      ],
      "metadata": {
        "id": "zqB5wZbqN8rl"
      }
    },
    {
      "cell_type": "code",
      "source": [
        "convertStringToValues('PB_TOT_mg/L','<0.005',0.005)"
      ],
      "metadata": {
        "colab": {
          "base_uri": "https://localhost:8080/"
        },
        "id": "BbQNvvvUOE4z",
        "outputId": "c946b777-ca99-46cc-8ba8-51d7f2506330"
      },
      "execution_count": 28,
      "outputs": [
        {
          "output_type": "stream",
          "name": "stdout",
          "text": [
            "\n",
            "Replacing values...\n",
            "Converting dataframe to float...\n",
            "Type:  float64\n"
          ]
        }
      ]
    },
    {
      "cell_type": "code",
      "source": [
        "df_AguaSubterranea.info()"
      ],
      "metadata": {
        "colab": {
          "base_uri": "https://localhost:8080/"
        },
        "id": "CBPUmfNBRYoJ",
        "outputId": "82e408f6-1a4e-492c-99d7-897364fd6a8a"
      },
      "execution_count": 29,
      "outputs": [
        {
          "output_type": "stream",
          "name": "stdout",
          "text": [
            "<class 'pandas.core.frame.DataFrame'>\n",
            "Int64Index: 1054 entries, 0 to 1067\n",
            "Data columns (total 55 columns):\n",
            " #   Column                Non-Null Count  Dtype  \n",
            "---  ------                --------------  -----  \n",
            " 0   CLAVE                 1054 non-null   object \n",
            " 1   SITIO                 1054 non-null   object \n",
            " 2   ORGANISMO_DE_CUENCA   1054 non-null   object \n",
            " 3   ESTADO                1054 non-null   object \n",
            " 4   MUNICIPIO             1054 non-null   object \n",
            " 5   ACUIFERO              1054 non-null   object \n",
            " 6   SUBTIPO               1054 non-null   object \n",
            " 7   LONGITUD              1054 non-null   float64\n",
            " 8   LATITUD               1054 non-null   float64\n",
            " 9   ALC_mg/L              1054 non-null   float64\n",
            " 10  CALIDAD_ALC           1054 non-null   object \n",
            " 11  CONDUCT_mS/cm         1054 non-null   float64\n",
            " 12  CALIDAD_CONDUC        1054 non-null   object \n",
            " 13  SDT_M_mg/L            1054 non-null   float64\n",
            " 14  CALIDAD_SDT_ra        1054 non-null   object \n",
            " 15  CALIDAD_SDT_salin     1054 non-null   object \n",
            " 16  FLUORUROS_mg/L        1054 non-null   float64\n",
            " 17  CALIDAD_FLUO          1054 non-null   object \n",
            " 18  DUR_mg/L              1054 non-null   float64\n",
            " 19  CALIDAD_DUR           1054 non-null   object \n",
            " 20  COLI_FEC_NMP/100_mL   1054 non-null   float64\n",
            " 21  CALIDAD_COLI_FEC      1054 non-null   object \n",
            " 22  N_NO3_mg/L            1054 non-null   float64\n",
            " 23  CALIDAD_N_NO3         1054 non-null   object \n",
            " 24  AS_TOT_mg/L           1054 non-null   float64\n",
            " 25  CALIDAD_AS            1054 non-null   object \n",
            " 26  CD_TOT_mg/L           1054 non-null   float64\n",
            " 27  CALIDAD_CD            1054 non-null   object \n",
            " 28  CR_TOT_mg/L           1054 non-null   float64\n",
            " 29  CALIDAD_CR            1054 non-null   object \n",
            " 30  HG_TOT_mg/L           1054 non-null   float64\n",
            " 31  CALIDAD_HG            1054 non-null   object \n",
            " 32  PB_TOT_mg/L           1054 non-null   float64\n",
            " 33  CALIDAD_PB            1054 non-null   object \n",
            " 34  MN_TOT_mg/L           1054 non-null   float64\n",
            " 35  CALIDAD_MN            1054 non-null   object \n",
            " 36  FE_TOT_mg/L           1054 non-null   float64\n",
            " 37  CALIDAD_FE            1054 non-null   object \n",
            " 38  SEMAFORO              1054 non-null   object \n",
            " 39  CONTAMINANTES         1054 non-null   object \n",
            " 40  CUMPLE_CON_ALC        1054 non-null   object \n",
            " 41  CUMPLE_CON_COND       1054 non-null   object \n",
            " 42  CUMPLE_CON_SDT_ra     1054 non-null   object \n",
            " 43  CUMPLE_CON_SDT_salin  1054 non-null   object \n",
            " 44  CUMPLE_CON_FLUO       1054 non-null   object \n",
            " 45  CUMPLE_CON_DUR        1054 non-null   object \n",
            " 46  CUMPLE_CON_CF         1054 non-null   object \n",
            " 47  CUMPLE_CON_NO3        1054 non-null   object \n",
            " 48  CUMPLE_CON_AS         1054 non-null   object \n",
            " 49  CUMPLE_CON_CD         1054 non-null   object \n",
            " 50  CUMPLE_CON_CR         1054 non-null   object \n",
            " 51  CUMPLE_CON_HG         1054 non-null   object \n",
            " 52  CUMPLE_CON_PB         1054 non-null   object \n",
            " 53  CUMPLE_CON_MN         1054 non-null   object \n",
            " 54  CUMPLE_CON_FE         1054 non-null   object \n",
            "dtypes: float64(16), object(39)\n",
            "memory usage: 461.1+ KB\n"
          ]
        }
      ]
    }
  ]
}