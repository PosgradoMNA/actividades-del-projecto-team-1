{
  "nbformat": 4,
  "nbformat_minor": 0,
  "metadata": {
    "colab": {
      "provenance": [],
      "authorship_tag": "ABX9TyPuEKaBUuGakJB8pqp+6jj9",
      "include_colab_link": true
    },
    "kernelspec": {
      "name": "python3",
      "display_name": "Python 3"
    },
    "language_info": {
      "name": "python"
    }
  },
  "cells": [
    {
      "cell_type": "markdown",
      "metadata": {
        "id": "view-in-github",
        "colab_type": "text"
      },
      "source": [
        "<a href=\"https://colab.research.google.com/github/PosgradoMNA/actividades-del-projecto-team-1/blob/main/Reto/Reto_Equipo1.ipynb\" target=\"_parent\"><img src=\"https://colab.research.google.com/assets/colab-badge.svg\" alt=\"Open In Colab\"/></a>"
      ]
    },
    {
      "cell_type": "markdown",
      "source": [
        "#Maestría en Inteligencia Artificial Aplicada\n",
        "##Curso: Ciencia y analítica de datos\n",
        "Tecnológico de Monterrey\n",
        "\n",
        "Semana 4 - Actividad 1. PCA\n",
        "\n",
        "Prof Maria de la Paz Rico\n",
        "\n",
        "Equipo 1\n",
        "\n",
        "Alumno: Joel Orlando Hernández Ramos\n",
        "\n",
        "Matrícula: A00759664\n",
        "\n",
        "Alumno: Rafael Sánchez García\n",
        "\n",
        "Matrícula: A01182780\n",
        "\n",
        "Fecha de entrega: Noviembre 16th, 2022\n"
      ],
      "metadata": {
        "id": "S0d7Bx3-YQOt"
      }
    },
    {
      "cell_type": "code",
      "execution_count": null,
      "metadata": {
        "id": "WZonFzviX5x9"
      },
      "outputs": [],
      "source": []
    }
  ]
}