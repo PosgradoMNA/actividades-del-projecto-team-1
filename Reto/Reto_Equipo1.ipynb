{
  "nbformat": 4,
  "nbformat_minor": 0,
  "metadata": {
    "colab": {
      "provenance": [],
      "authorship_tag": "ABX9TyOoVPsHHlQYlSmJKmCnYXdV",
      "include_colab_link": true
    },
    "kernelspec": {
      "name": "python3",
      "display_name": "Python 3"
    },
    "language_info": {
      "name": "python"
    }
  },
  "cells": [
    {
      "cell_type": "markdown",
      "metadata": {
        "id": "view-in-github",
        "colab_type": "text"
      },
      "source": [
        "<a href=\"https://colab.research.google.com/github/PosgradoMNA/actividades-del-projecto-team-1/blob/main/Reto/Reto_Equipo1.ipynb\" target=\"_parent\"><img src=\"https://colab.research.google.com/assets/colab-badge.svg\" alt=\"Open In Colab\"/></a>"
      ]
    },
    {
      "cell_type": "markdown",
      "source": [
        "#Maestría en Inteligencia Artificial Aplicada\n",
        "##Curso: Ciencia y analítica de datos\n",
        "Tecnológico de Monterrey\n",
        "\n",
        "Semana 4 - Actividad 1. PCA\n",
        "\n",
        "Prof Maria de la Paz Rico\n",
        "\n",
        "Equipo 1\n",
        "\n",
        "Alumno: Joel Orlando Hernández Ramos\n",
        "\n",
        "Matrícula: A00759664\n",
        "\n",
        "Alumno: Rafael Sánchez García\n",
        "\n",
        "Matrícula: A01182780\n",
        "\n",
        "Fecha de entrega: Noviembre 16th, 2022\n"
      ],
      "metadata": {
        "id": "S0d7Bx3-YQOt"
      }
    },
    {
      "cell_type": "markdown",
      "source": [
        "#Parte 1"
      ],
      "metadata": {
        "id": "G6xFqew4YogJ"
      }
    },
    {
      "cell_type": "markdown",
      "source": [
        "##Load data\n"
      ],
      "metadata": {
        "id": "LbPBEPDIYsHy"
      }
    },
    {
      "cell_type": "code",
      "source": [
        "#Libraries\n",
        "import pandas as pd\n",
        "import numpy as np\n",
        "import seaborn as sns\n",
        "import collections\n",
        "import re"
      ],
      "metadata": {
        "id": "gNJRNJ_SYu3S"
      },
      "execution_count": 1,
      "outputs": []
    },
    {
      "cell_type": "code",
      "source": [
        "path = 'https://raw.githubusercontent.com/PosgradoMNA/actividades-del-projecto-team-1/main/Reto/Datos_de_calidad_del_agua_2020/Datos_de_calidad_del_agua_de_sitios_de_monitoreo_de_aguas_subterraneas_2020.csv'\n",
        "df_AguaSubterranea = pd.read_csv(path,encoding='cp1252')\n",
        "df_AguaSubterranea.head()\n"
      ],
      "metadata": {
        "colab": {
          "base_uri": "https://localhost:8080/",
          "height": 401
        },
        "id": "xzpxOiWaY0RA",
        "outputId": "c762c8b0-90ce-481a-c8d3-54b45397027c"
      },
      "execution_count": 2,
      "outputs": [
        {
          "output_type": "execute_result",
          "data": {
            "text/plain": [
              "       CLAVE                   SITIO           ORGANISMO_DE_CUENCA  \\\n",
              "0     DLAGU6            POZO SAN GIL       LERMA SANTIAGO PACIFICO   \n",
              "1  DLAGU6516  POZO R013 CAÑADA HONDA       LERMA SANTIAGO PACIFICO   \n",
              "2     DLAGU7              POZO COSIO       LERMA SANTIAGO PACIFICO   \n",
              "3     DLAGU9      POZO EL SALITRILLO       LERMA SANTIAGO PACIFICO   \n",
              "4   DLBAJ107      RANCHO EL TECOLOTE  PENINSULA DE BAJA CALIFORNIA   \n",
              "\n",
              "                ESTADO        MUNICIPIO                 ACUIFERO SUBTIPO  \\\n",
              "0       AGUASCALIENTES         ASIENTOS       VALLE DE CHICALOTE    POZO   \n",
              "1       AGUASCALIENTES   AGUASCALIENTES       VALLE DE CHICALOTE    POZO   \n",
              "2       AGUASCALIENTES            COSIO  VALLE DE AGUASCALIENTES    POZO   \n",
              "3       AGUASCALIENTES  RINCON DE ROMOS  VALLE DE AGUASCALIENTES    POZO   \n",
              "4  BAJA CALIFORNIA SUR           LA PAZ             TODOS SANTOS    POZO   \n",
              "\n",
              "    LONGITUD   LATITUD  PERIODO  ...  CUMPLE_CON_DUR CUMPLE_CON_CF  \\\n",
              "0 -102.02210  22.20887     2020  ...              SI            SI   \n",
              "1 -102.20075  21.99958     2020  ...              SI            SI   \n",
              "2 -102.28801  22.36685     2020  ...              SI            SI   \n",
              "3 -102.29449  22.18435     2020  ...              SI            SI   \n",
              "4 -110.24480  23.45138     2020  ...              SI            SI   \n",
              "\n",
              "   CUMPLE_CON_NO3 CUMPLE_CON_AS  CUMPLE_CON_CD CUMPLE_CON_CR CUMPLE_CON_HG  \\\n",
              "0              SI            SI             SI            SI            SI   \n",
              "1              SI            SI             SI            SI            SI   \n",
              "2              SI            NO             SI            SI            SI   \n",
              "3              SI            SI             SI            SI            SI   \n",
              "4              NO            SI             SI            SI            SI   \n",
              "\n",
              "  CUMPLE_CON_PB CUMPLE_CON_MN CUMPLE_CON_FE  \n",
              "0            SI            SI            SI  \n",
              "1            SI            SI            SI  \n",
              "2            SI            SI            SI  \n",
              "3            SI            SI            SI  \n",
              "4            SI            SI            SI  \n",
              "\n",
              "[5 rows x 57 columns]"
            ],
            "text/html": [
              "\n",
              "  <div id=\"df-2482b087-ff61-4974-a36b-c440478a7276\">\n",
              "    <div class=\"colab-df-container\">\n",
              "      <div>\n",
              "<style scoped>\n",
              "    .dataframe tbody tr th:only-of-type {\n",
              "        vertical-align: middle;\n",
              "    }\n",
              "\n",
              "    .dataframe tbody tr th {\n",
              "        vertical-align: top;\n",
              "    }\n",
              "\n",
              "    .dataframe thead th {\n",
              "        text-align: right;\n",
              "    }\n",
              "</style>\n",
              "<table border=\"1\" class=\"dataframe\">\n",
              "  <thead>\n",
              "    <tr style=\"text-align: right;\">\n",
              "      <th></th>\n",
              "      <th>CLAVE</th>\n",
              "      <th>SITIO</th>\n",
              "      <th>ORGANISMO_DE_CUENCA</th>\n",
              "      <th>ESTADO</th>\n",
              "      <th>MUNICIPIO</th>\n",
              "      <th>ACUIFERO</th>\n",
              "      <th>SUBTIPO</th>\n",
              "      <th>LONGITUD</th>\n",
              "      <th>LATITUD</th>\n",
              "      <th>PERIODO</th>\n",
              "      <th>...</th>\n",
              "      <th>CUMPLE_CON_DUR</th>\n",
              "      <th>CUMPLE_CON_CF</th>\n",
              "      <th>CUMPLE_CON_NO3</th>\n",
              "      <th>CUMPLE_CON_AS</th>\n",
              "      <th>CUMPLE_CON_CD</th>\n",
              "      <th>CUMPLE_CON_CR</th>\n",
              "      <th>CUMPLE_CON_HG</th>\n",
              "      <th>CUMPLE_CON_PB</th>\n",
              "      <th>CUMPLE_CON_MN</th>\n",
              "      <th>CUMPLE_CON_FE</th>\n",
              "    </tr>\n",
              "  </thead>\n",
              "  <tbody>\n",
              "    <tr>\n",
              "      <th>0</th>\n",
              "      <td>DLAGU6</td>\n",
              "      <td>POZO SAN GIL</td>\n",
              "      <td>LERMA SANTIAGO PACIFICO</td>\n",
              "      <td>AGUASCALIENTES</td>\n",
              "      <td>ASIENTOS</td>\n",
              "      <td>VALLE DE CHICALOTE</td>\n",
              "      <td>POZO</td>\n",
              "      <td>-102.02210</td>\n",
              "      <td>22.20887</td>\n",
              "      <td>2020</td>\n",
              "      <td>...</td>\n",
              "      <td>SI</td>\n",
              "      <td>SI</td>\n",
              "      <td>SI</td>\n",
              "      <td>SI</td>\n",
              "      <td>SI</td>\n",
              "      <td>SI</td>\n",
              "      <td>SI</td>\n",
              "      <td>SI</td>\n",
              "      <td>SI</td>\n",
              "      <td>SI</td>\n",
              "    </tr>\n",
              "    <tr>\n",
              "      <th>1</th>\n",
              "      <td>DLAGU6516</td>\n",
              "      <td>POZO R013 CAÑADA HONDA</td>\n",
              "      <td>LERMA SANTIAGO PACIFICO</td>\n",
              "      <td>AGUASCALIENTES</td>\n",
              "      <td>AGUASCALIENTES</td>\n",
              "      <td>VALLE DE CHICALOTE</td>\n",
              "      <td>POZO</td>\n",
              "      <td>-102.20075</td>\n",
              "      <td>21.99958</td>\n",
              "      <td>2020</td>\n",
              "      <td>...</td>\n",
              "      <td>SI</td>\n",
              "      <td>SI</td>\n",
              "      <td>SI</td>\n",
              "      <td>SI</td>\n",
              "      <td>SI</td>\n",
              "      <td>SI</td>\n",
              "      <td>SI</td>\n",
              "      <td>SI</td>\n",
              "      <td>SI</td>\n",
              "      <td>SI</td>\n",
              "    </tr>\n",
              "    <tr>\n",
              "      <th>2</th>\n",
              "      <td>DLAGU7</td>\n",
              "      <td>POZO COSIO</td>\n",
              "      <td>LERMA SANTIAGO PACIFICO</td>\n",
              "      <td>AGUASCALIENTES</td>\n",
              "      <td>COSIO</td>\n",
              "      <td>VALLE DE AGUASCALIENTES</td>\n",
              "      <td>POZO</td>\n",
              "      <td>-102.28801</td>\n",
              "      <td>22.36685</td>\n",
              "      <td>2020</td>\n",
              "      <td>...</td>\n",
              "      <td>SI</td>\n",
              "      <td>SI</td>\n",
              "      <td>SI</td>\n",
              "      <td>NO</td>\n",
              "      <td>SI</td>\n",
              "      <td>SI</td>\n",
              "      <td>SI</td>\n",
              "      <td>SI</td>\n",
              "      <td>SI</td>\n",
              "      <td>SI</td>\n",
              "    </tr>\n",
              "    <tr>\n",
              "      <th>3</th>\n",
              "      <td>DLAGU9</td>\n",
              "      <td>POZO EL SALITRILLO</td>\n",
              "      <td>LERMA SANTIAGO PACIFICO</td>\n",
              "      <td>AGUASCALIENTES</td>\n",
              "      <td>RINCON DE ROMOS</td>\n",
              "      <td>VALLE DE AGUASCALIENTES</td>\n",
              "      <td>POZO</td>\n",
              "      <td>-102.29449</td>\n",
              "      <td>22.18435</td>\n",
              "      <td>2020</td>\n",
              "      <td>...</td>\n",
              "      <td>SI</td>\n",
              "      <td>SI</td>\n",
              "      <td>SI</td>\n",
              "      <td>SI</td>\n",
              "      <td>SI</td>\n",
              "      <td>SI</td>\n",
              "      <td>SI</td>\n",
              "      <td>SI</td>\n",
              "      <td>SI</td>\n",
              "      <td>SI</td>\n",
              "    </tr>\n",
              "    <tr>\n",
              "      <th>4</th>\n",
              "      <td>DLBAJ107</td>\n",
              "      <td>RANCHO EL TECOLOTE</td>\n",
              "      <td>PENINSULA DE BAJA CALIFORNIA</td>\n",
              "      <td>BAJA CALIFORNIA SUR</td>\n",
              "      <td>LA PAZ</td>\n",
              "      <td>TODOS SANTOS</td>\n",
              "      <td>POZO</td>\n",
              "      <td>-110.24480</td>\n",
              "      <td>23.45138</td>\n",
              "      <td>2020</td>\n",
              "      <td>...</td>\n",
              "      <td>SI</td>\n",
              "      <td>SI</td>\n",
              "      <td>NO</td>\n",
              "      <td>SI</td>\n",
              "      <td>SI</td>\n",
              "      <td>SI</td>\n",
              "      <td>SI</td>\n",
              "      <td>SI</td>\n",
              "      <td>SI</td>\n",
              "      <td>SI</td>\n",
              "    </tr>\n",
              "  </tbody>\n",
              "</table>\n",
              "<p>5 rows × 57 columns</p>\n",
              "</div>\n",
              "      <button class=\"colab-df-convert\" onclick=\"convertToInteractive('df-2482b087-ff61-4974-a36b-c440478a7276')\"\n",
              "              title=\"Convert this dataframe to an interactive table.\"\n",
              "              style=\"display:none;\">\n",
              "        \n",
              "  <svg xmlns=\"http://www.w3.org/2000/svg\" height=\"24px\"viewBox=\"0 0 24 24\"\n",
              "       width=\"24px\">\n",
              "    <path d=\"M0 0h24v24H0V0z\" fill=\"none\"/>\n",
              "    <path d=\"M18.56 5.44l.94 2.06.94-2.06 2.06-.94-2.06-.94-.94-2.06-.94 2.06-2.06.94zm-11 1L8.5 8.5l.94-2.06 2.06-.94-2.06-.94L8.5 2.5l-.94 2.06-2.06.94zm10 10l.94 2.06.94-2.06 2.06-.94-2.06-.94-.94-2.06-.94 2.06-2.06.94z\"/><path d=\"M17.41 7.96l-1.37-1.37c-.4-.4-.92-.59-1.43-.59-.52 0-1.04.2-1.43.59L10.3 9.45l-7.72 7.72c-.78.78-.78 2.05 0 2.83L4 21.41c.39.39.9.59 1.41.59.51 0 1.02-.2 1.41-.59l7.78-7.78 2.81-2.81c.8-.78.8-2.07 0-2.86zM5.41 20L4 18.59l7.72-7.72 1.47 1.35L5.41 20z\"/>\n",
              "  </svg>\n",
              "      </button>\n",
              "      \n",
              "  <style>\n",
              "    .colab-df-container {\n",
              "      display:flex;\n",
              "      flex-wrap:wrap;\n",
              "      gap: 12px;\n",
              "    }\n",
              "\n",
              "    .colab-df-convert {\n",
              "      background-color: #E8F0FE;\n",
              "      border: none;\n",
              "      border-radius: 50%;\n",
              "      cursor: pointer;\n",
              "      display: none;\n",
              "      fill: #1967D2;\n",
              "      height: 32px;\n",
              "      padding: 0 0 0 0;\n",
              "      width: 32px;\n",
              "    }\n",
              "\n",
              "    .colab-df-convert:hover {\n",
              "      background-color: #E2EBFA;\n",
              "      box-shadow: 0px 1px 2px rgba(60, 64, 67, 0.3), 0px 1px 3px 1px rgba(60, 64, 67, 0.15);\n",
              "      fill: #174EA6;\n",
              "    }\n",
              "\n",
              "    [theme=dark] .colab-df-convert {\n",
              "      background-color: #3B4455;\n",
              "      fill: #D2E3FC;\n",
              "    }\n",
              "\n",
              "    [theme=dark] .colab-df-convert:hover {\n",
              "      background-color: #434B5C;\n",
              "      box-shadow: 0px 1px 3px 1px rgba(0, 0, 0, 0.15);\n",
              "      filter: drop-shadow(0px 1px 2px rgba(0, 0, 0, 0.3));\n",
              "      fill: #FFFFFF;\n",
              "    }\n",
              "  </style>\n",
              "\n",
              "      <script>\n",
              "        const buttonEl =\n",
              "          document.querySelector('#df-2482b087-ff61-4974-a36b-c440478a7276 button.colab-df-convert');\n",
              "        buttonEl.style.display =\n",
              "          google.colab.kernel.accessAllowed ? 'block' : 'none';\n",
              "\n",
              "        async function convertToInteractive(key) {\n",
              "          const element = document.querySelector('#df-2482b087-ff61-4974-a36b-c440478a7276');\n",
              "          const dataTable =\n",
              "            await google.colab.kernel.invokeFunction('convertToInteractive',\n",
              "                                                     [key], {});\n",
              "          if (!dataTable) return;\n",
              "\n",
              "          const docLinkHtml = 'Like what you see? Visit the ' +\n",
              "            '<a target=\"_blank\" href=https://colab.research.google.com/notebooks/data_table.ipynb>data table notebook</a>'\n",
              "            + ' to learn more about interactive tables.';\n",
              "          element.innerHTML = '';\n",
              "          dataTable['output_type'] = 'display_data';\n",
              "          await google.colab.output.renderOutput(dataTable, element);\n",
              "          const docLink = document.createElement('div');\n",
              "          docLink.innerHTML = docLinkHtml;\n",
              "          element.appendChild(docLink);\n",
              "        }\n",
              "      </script>\n",
              "    </div>\n",
              "  </div>\n",
              "  "
            ]
          },
          "metadata": {},
          "execution_count": 2
        }
      ]
    },
    {
      "cell_type": "markdown",
      "source": [
        "##Clean database"
      ],
      "metadata": {
        "id": "O4373iSFcksm"
      }
    },
    {
      "cell_type": "code",
      "source": [
        "df_AguaSubterranea.info()"
      ],
      "metadata": {
        "colab": {
          "base_uri": "https://localhost:8080/"
        },
        "id": "858yWJtHcqRE",
        "outputId": "f4794dd0-b3a7-4d53-e114-2ad0c4509ad2"
      },
      "execution_count": 3,
      "outputs": [
        {
          "output_type": "stream",
          "name": "stdout",
          "text": [
            "<class 'pandas.core.frame.DataFrame'>\n",
            "RangeIndex: 1068 entries, 0 to 1067\n",
            "Data columns (total 57 columns):\n",
            " #   Column                Non-Null Count  Dtype  \n",
            "---  ------                --------------  -----  \n",
            " 0   CLAVE                 1068 non-null   object \n",
            " 1   SITIO                 1068 non-null   object \n",
            " 2   ORGANISMO_DE_CUENCA   1068 non-null   object \n",
            " 3   ESTADO                1068 non-null   object \n",
            " 4   MUNICIPIO             1068 non-null   object \n",
            " 5   ACUIFERO              1068 non-null   object \n",
            " 6   SUBTIPO               1068 non-null   object \n",
            " 7   LONGITUD              1068 non-null   float64\n",
            " 8   LATITUD               1068 non-null   float64\n",
            " 9   PERIODO               1068 non-null   int64  \n",
            " 10  ALC_mg/L              1064 non-null   float64\n",
            " 11  CALIDAD_ALC           1064 non-null   object \n",
            " 12  CONDUCT_mS/cm         1062 non-null   float64\n",
            " 13  CALIDAD_CONDUC        1062 non-null   object \n",
            " 14  SDT_mg/L              0 non-null      float64\n",
            " 15  SDT_M_mg/L            1066 non-null   object \n",
            " 16  CALIDAD_SDT_ra        1066 non-null   object \n",
            " 17  CALIDAD_SDT_salin     1066 non-null   object \n",
            " 18  FLUORUROS_mg/L        1068 non-null   object \n",
            " 19  CALIDAD_FLUO          1068 non-null   object \n",
            " 20  DUR_mg/L              1067 non-null   object \n",
            " 21  CALIDAD_DUR           1067 non-null   object \n",
            " 22  COLI_FEC_NMP/100_mL   1068 non-null   object \n",
            " 23  CALIDAD_COLI_FEC      1068 non-null   object \n",
            " 24  N_NO3_mg/L            1067 non-null   object \n",
            " 25  CALIDAD_N_NO3         1067 non-null   object \n",
            " 26  AS_TOT_mg/L           1068 non-null   object \n",
            " 27  CALIDAD_AS            1068 non-null   object \n",
            " 28  CD_TOT_mg/L           1068 non-null   object \n",
            " 29  CALIDAD_CD            1068 non-null   object \n",
            " 30  CR_TOT_mg/L           1068 non-null   object \n",
            " 31  CALIDAD_CR            1068 non-null   object \n",
            " 32  HG_TOT_mg/L           1068 non-null   object \n",
            " 33  CALIDAD_HG            1068 non-null   object \n",
            " 34  PB_TOT_mg/L           1068 non-null   object \n",
            " 35  CALIDAD_PB            1068 non-null   object \n",
            " 36  MN_TOT_mg/L           1068 non-null   object \n",
            " 37  CALIDAD_MN            1068 non-null   object \n",
            " 38  FE_TOT_mg/L           1068 non-null   object \n",
            " 39  CALIDAD_FE            1068 non-null   object \n",
            " 40  SEMAFORO              1068 non-null   object \n",
            " 41  CONTAMINANTES         634 non-null    object \n",
            " 42  CUMPLE_CON_ALC        1068 non-null   object \n",
            " 43  CUMPLE_CON_COND       1068 non-null   object \n",
            " 44  CUMPLE_CON_SDT_ra     1068 non-null   object \n",
            " 45  CUMPLE_CON_SDT_salin  1068 non-null   object \n",
            " 46  CUMPLE_CON_FLUO       1068 non-null   object \n",
            " 47  CUMPLE_CON_DUR        1068 non-null   object \n",
            " 48  CUMPLE_CON_CF         1068 non-null   object \n",
            " 49  CUMPLE_CON_NO3        1068 non-null   object \n",
            " 50  CUMPLE_CON_AS         1068 non-null   object \n",
            " 51  CUMPLE_CON_CD         1068 non-null   object \n",
            " 52  CUMPLE_CON_CR         1068 non-null   object \n",
            " 53  CUMPLE_CON_HG         1068 non-null   object \n",
            " 54  CUMPLE_CON_PB         1068 non-null   object \n",
            " 55  CUMPLE_CON_MN         1068 non-null   object \n",
            " 56  CUMPLE_CON_FE         1068 non-null   object \n",
            "dtypes: float64(5), int64(1), object(51)\n",
            "memory usage: 475.7+ KB\n"
          ]
        }
      ]
    },
    {
      "cell_type": "markdown",
      "source": [
        "We have 5 columns float type and 51 object type. The total items is 1068"
      ],
      "metadata": {
        "id": "5X4a2p1Pdth_"
      }
    },
    {
      "cell_type": "code",
      "source": [
        "df_AguaSubterranea.isna().any()"
      ],
      "metadata": {
        "colab": {
          "base_uri": "https://localhost:8080/"
        },
        "id": "z3MfjOoPeHPJ",
        "outputId": "e952372a-87ab-46bb-bd47-6148192dd2d1"
      },
      "execution_count": 4,
      "outputs": [
        {
          "output_type": "execute_result",
          "data": {
            "text/plain": [
              "CLAVE                   False\n",
              "SITIO                   False\n",
              "ORGANISMO_DE_CUENCA     False\n",
              "ESTADO                  False\n",
              "MUNICIPIO               False\n",
              "ACUIFERO                False\n",
              "SUBTIPO                 False\n",
              "LONGITUD                False\n",
              "LATITUD                 False\n",
              "PERIODO                 False\n",
              "ALC_mg/L                 True\n",
              "CALIDAD_ALC              True\n",
              "CONDUCT_mS/cm            True\n",
              "CALIDAD_CONDUC           True\n",
              "SDT_mg/L                 True\n",
              "SDT_M_mg/L               True\n",
              "CALIDAD_SDT_ra           True\n",
              "CALIDAD_SDT_salin        True\n",
              "FLUORUROS_mg/L          False\n",
              "CALIDAD_FLUO            False\n",
              "DUR_mg/L                 True\n",
              "CALIDAD_DUR              True\n",
              "COLI_FEC_NMP/100_mL     False\n",
              "CALIDAD_COLI_FEC        False\n",
              "N_NO3_mg/L               True\n",
              "CALIDAD_N_NO3            True\n",
              "AS_TOT_mg/L             False\n",
              "CALIDAD_AS              False\n",
              "CD_TOT_mg/L             False\n",
              "CALIDAD_CD              False\n",
              "CR_TOT_mg/L             False\n",
              "CALIDAD_CR              False\n",
              "HG_TOT_mg/L             False\n",
              "CALIDAD_HG              False\n",
              "PB_TOT_mg/L             False\n",
              "CALIDAD_PB              False\n",
              "MN_TOT_mg/L             False\n",
              "CALIDAD_MN              False\n",
              "FE_TOT_mg/L             False\n",
              "CALIDAD_FE              False\n",
              "SEMAFORO                False\n",
              "CONTAMINANTES            True\n",
              "CUMPLE_CON_ALC          False\n",
              "CUMPLE_CON_COND         False\n",
              "CUMPLE_CON_SDT_ra       False\n",
              "CUMPLE_CON_SDT_salin    False\n",
              "CUMPLE_CON_FLUO         False\n",
              "CUMPLE_CON_DUR          False\n",
              "CUMPLE_CON_CF           False\n",
              "CUMPLE_CON_NO3          False\n",
              "CUMPLE_CON_AS           False\n",
              "CUMPLE_CON_CD           False\n",
              "CUMPLE_CON_CR           False\n",
              "CUMPLE_CON_HG           False\n",
              "CUMPLE_CON_PB           False\n",
              "CUMPLE_CON_MN           False\n",
              "CUMPLE_CON_FE           False\n",
              "dtype: bool"
            ]
          },
          "metadata": {},
          "execution_count": 4
        }
      ]
    },
    {
      "cell_type": "markdown",
      "source": [
        "We have 13 columns with NAs values. So we are going to start cleaning them.\n",
        "\n",
        "Now lets see how many NAs are per column"
      ],
      "metadata": {
        "id": "yKqF0HcbeZZv"
      }
    },
    {
      "cell_type": "code",
      "source": [
        "df_AguaSubterranea.isna().sum()"
      ],
      "metadata": {
        "colab": {
          "base_uri": "https://localhost:8080/"
        },
        "id": "J2s67dnzgKPC",
        "outputId": "2368b391-14bf-4d68-ec22-f3a6045f527f"
      },
      "execution_count": 5,
      "outputs": [
        {
          "output_type": "execute_result",
          "data": {
            "text/plain": [
              "CLAVE                      0\n",
              "SITIO                      0\n",
              "ORGANISMO_DE_CUENCA        0\n",
              "ESTADO                     0\n",
              "MUNICIPIO                  0\n",
              "ACUIFERO                   0\n",
              "SUBTIPO                    0\n",
              "LONGITUD                   0\n",
              "LATITUD                    0\n",
              "PERIODO                    0\n",
              "ALC_mg/L                   4\n",
              "CALIDAD_ALC                4\n",
              "CONDUCT_mS/cm              6\n",
              "CALIDAD_CONDUC             6\n",
              "SDT_mg/L                1068\n",
              "SDT_M_mg/L                 2\n",
              "CALIDAD_SDT_ra             2\n",
              "CALIDAD_SDT_salin          2\n",
              "FLUORUROS_mg/L             0\n",
              "CALIDAD_FLUO               0\n",
              "DUR_mg/L                   1\n",
              "CALIDAD_DUR                1\n",
              "COLI_FEC_NMP/100_mL        0\n",
              "CALIDAD_COLI_FEC           0\n",
              "N_NO3_mg/L                 1\n",
              "CALIDAD_N_NO3              1\n",
              "AS_TOT_mg/L                0\n",
              "CALIDAD_AS                 0\n",
              "CD_TOT_mg/L                0\n",
              "CALIDAD_CD                 0\n",
              "CR_TOT_mg/L                0\n",
              "CALIDAD_CR                 0\n",
              "HG_TOT_mg/L                0\n",
              "CALIDAD_HG                 0\n",
              "PB_TOT_mg/L                0\n",
              "CALIDAD_PB                 0\n",
              "MN_TOT_mg/L                0\n",
              "CALIDAD_MN                 0\n",
              "FE_TOT_mg/L                0\n",
              "CALIDAD_FE                 0\n",
              "SEMAFORO                   0\n",
              "CONTAMINANTES            434\n",
              "CUMPLE_CON_ALC             0\n",
              "CUMPLE_CON_COND            0\n",
              "CUMPLE_CON_SDT_ra          0\n",
              "CUMPLE_CON_SDT_salin       0\n",
              "CUMPLE_CON_FLUO            0\n",
              "CUMPLE_CON_DUR             0\n",
              "CUMPLE_CON_CF              0\n",
              "CUMPLE_CON_NO3             0\n",
              "CUMPLE_CON_AS              0\n",
              "CUMPLE_CON_CD              0\n",
              "CUMPLE_CON_CR              0\n",
              "CUMPLE_CON_HG              0\n",
              "CUMPLE_CON_PB              0\n",
              "CUMPLE_CON_MN              0\n",
              "CUMPLE_CON_FE              0\n",
              "dtype: int64"
            ]
          },
          "metadata": {},
          "execution_count": 5
        }
      ]
    },
    {
      "cell_type": "code",
      "source": [
        "df_AguaSubterranea.describe().T"
      ],
      "metadata": {
        "colab": {
          "base_uri": "https://localhost:8080/",
          "height": 238
        },
        "id": "q-OpzFu9g4rd",
        "outputId": "e7a13a91-f2f8-47e1-e27d-26a9e5c19b90"
      },
      "execution_count": 6,
      "outputs": [
        {
          "output_type": "execute_result",
          "data": {
            "text/plain": [
              "                count         mean          std         min          25%  \\\n",
              "LONGITUD       1068.0  -101.891007     6.703263  -116.66425  -105.388865   \n",
              "LATITUD        1068.0    23.163618     3.887670    14.56115    20.212055   \n",
              "PERIODO        1068.0  2020.000000     0.000000  2020.00000  2020.000000   \n",
              "ALC_mg/L       1064.0   235.633759   116.874291    26.64000   164.000000   \n",
              "CONDUCT_mS/cm  1062.0  1138.953013  1245.563674    50.40000   501.750000   \n",
              "SDT_mg/L          0.0          NaN          NaN         NaN          NaN   \n",
              "\n",
              "                      50%          75%           max  \n",
              "LONGITUD       -102.17418   -98.974716    -86.864120  \n",
              "LATITUD          22.61719    25.510285     32.677713  \n",
              "PERIODO        2020.00000  2020.000000   2020.000000  \n",
              "ALC_mg/L        215.52750   292.710000   1650.000000  \n",
              "CONDUCT_mS/cm   815.00000  1322.750000  18577.000000  \n",
              "SDT_mg/L              NaN          NaN           NaN  "
            ],
            "text/html": [
              "\n",
              "  <div id=\"df-8d85066c-0aa0-4b78-93e3-183ad322cb1d\">\n",
              "    <div class=\"colab-df-container\">\n",
              "      <div>\n",
              "<style scoped>\n",
              "    .dataframe tbody tr th:only-of-type {\n",
              "        vertical-align: middle;\n",
              "    }\n",
              "\n",
              "    .dataframe tbody tr th {\n",
              "        vertical-align: top;\n",
              "    }\n",
              "\n",
              "    .dataframe thead th {\n",
              "        text-align: right;\n",
              "    }\n",
              "</style>\n",
              "<table border=\"1\" class=\"dataframe\">\n",
              "  <thead>\n",
              "    <tr style=\"text-align: right;\">\n",
              "      <th></th>\n",
              "      <th>count</th>\n",
              "      <th>mean</th>\n",
              "      <th>std</th>\n",
              "      <th>min</th>\n",
              "      <th>25%</th>\n",
              "      <th>50%</th>\n",
              "      <th>75%</th>\n",
              "      <th>max</th>\n",
              "    </tr>\n",
              "  </thead>\n",
              "  <tbody>\n",
              "    <tr>\n",
              "      <th>LONGITUD</th>\n",
              "      <td>1068.0</td>\n",
              "      <td>-101.891007</td>\n",
              "      <td>6.703263</td>\n",
              "      <td>-116.66425</td>\n",
              "      <td>-105.388865</td>\n",
              "      <td>-102.17418</td>\n",
              "      <td>-98.974716</td>\n",
              "      <td>-86.864120</td>\n",
              "    </tr>\n",
              "    <tr>\n",
              "      <th>LATITUD</th>\n",
              "      <td>1068.0</td>\n",
              "      <td>23.163618</td>\n",
              "      <td>3.887670</td>\n",
              "      <td>14.56115</td>\n",
              "      <td>20.212055</td>\n",
              "      <td>22.61719</td>\n",
              "      <td>25.510285</td>\n",
              "      <td>32.677713</td>\n",
              "    </tr>\n",
              "    <tr>\n",
              "      <th>PERIODO</th>\n",
              "      <td>1068.0</td>\n",
              "      <td>2020.000000</td>\n",
              "      <td>0.000000</td>\n",
              "      <td>2020.00000</td>\n",
              "      <td>2020.000000</td>\n",
              "      <td>2020.00000</td>\n",
              "      <td>2020.000000</td>\n",
              "      <td>2020.000000</td>\n",
              "    </tr>\n",
              "    <tr>\n",
              "      <th>ALC_mg/L</th>\n",
              "      <td>1064.0</td>\n",
              "      <td>235.633759</td>\n",
              "      <td>116.874291</td>\n",
              "      <td>26.64000</td>\n",
              "      <td>164.000000</td>\n",
              "      <td>215.52750</td>\n",
              "      <td>292.710000</td>\n",
              "      <td>1650.000000</td>\n",
              "    </tr>\n",
              "    <tr>\n",
              "      <th>CONDUCT_mS/cm</th>\n",
              "      <td>1062.0</td>\n",
              "      <td>1138.953013</td>\n",
              "      <td>1245.563674</td>\n",
              "      <td>50.40000</td>\n",
              "      <td>501.750000</td>\n",
              "      <td>815.00000</td>\n",
              "      <td>1322.750000</td>\n",
              "      <td>18577.000000</td>\n",
              "    </tr>\n",
              "    <tr>\n",
              "      <th>SDT_mg/L</th>\n",
              "      <td>0.0</td>\n",
              "      <td>NaN</td>\n",
              "      <td>NaN</td>\n",
              "      <td>NaN</td>\n",
              "      <td>NaN</td>\n",
              "      <td>NaN</td>\n",
              "      <td>NaN</td>\n",
              "      <td>NaN</td>\n",
              "    </tr>\n",
              "  </tbody>\n",
              "</table>\n",
              "</div>\n",
              "      <button class=\"colab-df-convert\" onclick=\"convertToInteractive('df-8d85066c-0aa0-4b78-93e3-183ad322cb1d')\"\n",
              "              title=\"Convert this dataframe to an interactive table.\"\n",
              "              style=\"display:none;\">\n",
              "        \n",
              "  <svg xmlns=\"http://www.w3.org/2000/svg\" height=\"24px\"viewBox=\"0 0 24 24\"\n",
              "       width=\"24px\">\n",
              "    <path d=\"M0 0h24v24H0V0z\" fill=\"none\"/>\n",
              "    <path d=\"M18.56 5.44l.94 2.06.94-2.06 2.06-.94-2.06-.94-.94-2.06-.94 2.06-2.06.94zm-11 1L8.5 8.5l.94-2.06 2.06-.94-2.06-.94L8.5 2.5l-.94 2.06-2.06.94zm10 10l.94 2.06.94-2.06 2.06-.94-2.06-.94-.94-2.06-.94 2.06-2.06.94z\"/><path d=\"M17.41 7.96l-1.37-1.37c-.4-.4-.92-.59-1.43-.59-.52 0-1.04.2-1.43.59L10.3 9.45l-7.72 7.72c-.78.78-.78 2.05 0 2.83L4 21.41c.39.39.9.59 1.41.59.51 0 1.02-.2 1.41-.59l7.78-7.78 2.81-2.81c.8-.78.8-2.07 0-2.86zM5.41 20L4 18.59l7.72-7.72 1.47 1.35L5.41 20z\"/>\n",
              "  </svg>\n",
              "      </button>\n",
              "      \n",
              "  <style>\n",
              "    .colab-df-container {\n",
              "      display:flex;\n",
              "      flex-wrap:wrap;\n",
              "      gap: 12px;\n",
              "    }\n",
              "\n",
              "    .colab-df-convert {\n",
              "      background-color: #E8F0FE;\n",
              "      border: none;\n",
              "      border-radius: 50%;\n",
              "      cursor: pointer;\n",
              "      display: none;\n",
              "      fill: #1967D2;\n",
              "      height: 32px;\n",
              "      padding: 0 0 0 0;\n",
              "      width: 32px;\n",
              "    }\n",
              "\n",
              "    .colab-df-convert:hover {\n",
              "      background-color: #E2EBFA;\n",
              "      box-shadow: 0px 1px 2px rgba(60, 64, 67, 0.3), 0px 1px 3px 1px rgba(60, 64, 67, 0.15);\n",
              "      fill: #174EA6;\n",
              "    }\n",
              "\n",
              "    [theme=dark] .colab-df-convert {\n",
              "      background-color: #3B4455;\n",
              "      fill: #D2E3FC;\n",
              "    }\n",
              "\n",
              "    [theme=dark] .colab-df-convert:hover {\n",
              "      background-color: #434B5C;\n",
              "      box-shadow: 0px 1px 3px 1px rgba(0, 0, 0, 0.15);\n",
              "      filter: drop-shadow(0px 1px 2px rgba(0, 0, 0, 0.3));\n",
              "      fill: #FFFFFF;\n",
              "    }\n",
              "  </style>\n",
              "\n",
              "      <script>\n",
              "        const buttonEl =\n",
              "          document.querySelector('#df-8d85066c-0aa0-4b78-93e3-183ad322cb1d button.colab-df-convert');\n",
              "        buttonEl.style.display =\n",
              "          google.colab.kernel.accessAllowed ? 'block' : 'none';\n",
              "\n",
              "        async function convertToInteractive(key) {\n",
              "          const element = document.querySelector('#df-8d85066c-0aa0-4b78-93e3-183ad322cb1d');\n",
              "          const dataTable =\n",
              "            await google.colab.kernel.invokeFunction('convertToInteractive',\n",
              "                                                     [key], {});\n",
              "          if (!dataTable) return;\n",
              "\n",
              "          const docLinkHtml = 'Like what you see? Visit the ' +\n",
              "            '<a target=\"_blank\" href=https://colab.research.google.com/notebooks/data_table.ipynb>data table notebook</a>'\n",
              "            + ' to learn more about interactive tables.';\n",
              "          element.innerHTML = '';\n",
              "          dataTable['output_type'] = 'display_data';\n",
              "          await google.colab.output.renderOutput(dataTable, element);\n",
              "          const docLink = document.createElement('div');\n",
              "          docLink.innerHTML = docLinkHtml;\n",
              "          element.appendChild(docLink);\n",
              "        }\n",
              "      </script>\n",
              "    </div>\n",
              "  </div>\n",
              "  "
            ]
          },
          "metadata": {},
          "execution_count": 6
        }
      ]
    },
    {
      "cell_type": "markdown",
      "source": [
        "We can see that all the values from **PERIODO** is 2020 and **SDT_mg/L** is an empty column. We are considering to drop these 2 columns.\n",
        "\n"
      ],
      "metadata": {
        "id": "lJ8Xt4ZmhIL2"
      }
    },
    {
      "cell_type": "code",
      "source": [
        "df_AguaSubterranea.drop(['PERIODO','SDT_mg/L'], axis = 1, inplace = True)"
      ],
      "metadata": {
        "id": "FTUSYWb0h4xO"
      },
      "execution_count": 7,
      "outputs": []
    },
    {
      "cell_type": "markdown",
      "source": [
        "Reviewing the data we can see that there are some columns that have 1,2,4 and 6 items with NA's, which in total are 30 items. If them are deleted the data base will end with just 1038 items which is the 97.19% of the data, which is enough to represent the dataset."
      ],
      "metadata": {
        "id": "aqHQBBmMieCQ"
      }
    },
    {
      "cell_type": "code",
      "source": [
        "df_NAsColumns = df_AguaSubterranea[df_AguaSubterranea.columns[df_AguaSubterranea.isna().any()]]\n",
        "df_NAsColumns.drop(['CONTAMINANTES'],axis = 1, inplace = True)\n",
        "df_NAsColumns.columns"
      ],
      "metadata": {
        "colab": {
          "base_uri": "https://localhost:8080/"
        },
        "id": "-vQqGQNUjv7r",
        "outputId": "2758f332-ae39-43e1-982b-113a6af0c3f3"
      },
      "execution_count": 8,
      "outputs": [
        {
          "output_type": "stream",
          "name": "stderr",
          "text": [
            "/usr/local/lib/python3.7/dist-packages/pandas/core/frame.py:4913: SettingWithCopyWarning: \n",
            "A value is trying to be set on a copy of a slice from a DataFrame\n",
            "\n",
            "See the caveats in the documentation: https://pandas.pydata.org/pandas-docs/stable/user_guide/indexing.html#returning-a-view-versus-a-copy\n",
            "  errors=errors,\n"
          ]
        },
        {
          "output_type": "execute_result",
          "data": {
            "text/plain": [
              "Index(['ALC_mg/L', 'CALIDAD_ALC', 'CONDUCT_mS/cm', 'CALIDAD_CONDUC',\n",
              "       'SDT_M_mg/L', 'CALIDAD_SDT_ra', 'CALIDAD_SDT_salin', 'DUR_mg/L',\n",
              "       'CALIDAD_DUR', 'N_NO3_mg/L', 'CALIDAD_N_NO3'],\n",
              "      dtype='object')"
            ]
          },
          "metadata": {},
          "execution_count": 8
        }
      ]
    },
    {
      "cell_type": "code",
      "source": [
        "df_AguaSubterranea.dropna(subset = df_NAsColumns.columns, axis = 0, inplace = True)\n",
        "df_AguaSubterranea.isna().sum()"
      ],
      "metadata": {
        "colab": {
          "base_uri": "https://localhost:8080/"
        },
        "id": "RAVeQRUrnbJy",
        "outputId": "74432540-163b-4d71-e9b6-0b27f4c8b177"
      },
      "execution_count": 9,
      "outputs": [
        {
          "output_type": "execute_result",
          "data": {
            "text/plain": [
              "CLAVE                     0\n",
              "SITIO                     0\n",
              "ORGANISMO_DE_CUENCA       0\n",
              "ESTADO                    0\n",
              "MUNICIPIO                 0\n",
              "ACUIFERO                  0\n",
              "SUBTIPO                   0\n",
              "LONGITUD                  0\n",
              "LATITUD                   0\n",
              "ALC_mg/L                  0\n",
              "CALIDAD_ALC               0\n",
              "CONDUCT_mS/cm             0\n",
              "CALIDAD_CONDUC            0\n",
              "SDT_M_mg/L                0\n",
              "CALIDAD_SDT_ra            0\n",
              "CALIDAD_SDT_salin         0\n",
              "FLUORUROS_mg/L            0\n",
              "CALIDAD_FLUO              0\n",
              "DUR_mg/L                  0\n",
              "CALIDAD_DUR               0\n",
              "COLI_FEC_NMP/100_mL       0\n",
              "CALIDAD_COLI_FEC          0\n",
              "N_NO3_mg/L                0\n",
              "CALIDAD_N_NO3             0\n",
              "AS_TOT_mg/L               0\n",
              "CALIDAD_AS                0\n",
              "CD_TOT_mg/L               0\n",
              "CALIDAD_CD                0\n",
              "CR_TOT_mg/L               0\n",
              "CALIDAD_CR                0\n",
              "HG_TOT_mg/L               0\n",
              "CALIDAD_HG                0\n",
              "PB_TOT_mg/L               0\n",
              "CALIDAD_PB                0\n",
              "MN_TOT_mg/L               0\n",
              "CALIDAD_MN                0\n",
              "FE_TOT_mg/L               0\n",
              "CALIDAD_FE                0\n",
              "SEMAFORO                  0\n",
              "CONTAMINANTES           427\n",
              "CUMPLE_CON_ALC            0\n",
              "CUMPLE_CON_COND           0\n",
              "CUMPLE_CON_SDT_ra         0\n",
              "CUMPLE_CON_SDT_salin      0\n",
              "CUMPLE_CON_FLUO           0\n",
              "CUMPLE_CON_DUR            0\n",
              "CUMPLE_CON_CF             0\n",
              "CUMPLE_CON_NO3            0\n",
              "CUMPLE_CON_AS             0\n",
              "CUMPLE_CON_CD             0\n",
              "CUMPLE_CON_CR             0\n",
              "CUMPLE_CON_HG             0\n",
              "CUMPLE_CON_PB             0\n",
              "CUMPLE_CON_MN             0\n",
              "CUMPLE_CON_FE             0\n",
              "dtype: int64"
            ]
          },
          "metadata": {},
          "execution_count": 9
        }
      ]
    },
    {
      "cell_type": "markdown",
      "source": [
        "Now, the last column that we need to clean is **CONTAMINANTES**. Lets start to see what we have inside it"
      ],
      "metadata": {
        "id": "6aSn7pVCo26b"
      }
    },
    {
      "cell_type": "code",
      "source": [
        "df_AguaSubterranea['CONTAMINANTES'].unique().tolist()"
      ],
      "metadata": {
        "colab": {
          "base_uri": "https://localhost:8080/"
        },
        "id": "SED8GwCspVKp",
        "outputId": "048af2ed-614f-490a-f2a2-b9c0590bbf0e"
      },
      "execution_count": 10,
      "outputs": [
        {
          "output_type": "execute_result",
          "data": {
            "text/plain": [
              "[nan,\n",
              " 'FLUO,AS,',\n",
              " 'NO3,',\n",
              " 'CF,',\n",
              " 'CONDUC,NO3,',\n",
              " 'DT,CF,AS,MN,FE,',\n",
              " 'CONDUC,SDT_ra,SDT_salin,DT,AS,',\n",
              " 'AS,',\n",
              " 'DT,CF,PB,FE,',\n",
              " 'CONDUC,SDT_ra,SDT_salin,DT,',\n",
              " 'CONDUC,AS,FE,',\n",
              " 'CONDUC,',\n",
              " 'CF,FE,',\n",
              " 'FE,',\n",
              " 'DT,NO3,',\n",
              " 'DT,CR,FE,',\n",
              " 'CF,FE,NO3,',\n",
              " 'CONDUC,SDT_ra,SDT_salin,DT,CF,FE,',\n",
              " 'CONDUC,SDT_ra,SDT_salin,DT,FE,',\n",
              " 'CONDUC,DT,',\n",
              " 'CONDUC,SDT_ra,SDT_salin,DT,CF,NO3,',\n",
              " 'CONDUC,SDT_ra,SDT_salin,DT,FE,NO3,',\n",
              " 'CONDUC,DT,CF,',\n",
              " 'FLUO,CF,',\n",
              " 'DT,',\n",
              " 'FLUO,',\n",
              " 'FLUO,DT,',\n",
              " 'CONDUC,SDT_ra,SDT_salin,FLUO,',\n",
              " 'CR,FE,',\n",
              " 'ALC,',\n",
              " 'SDT_ra,SDT_salin,DT,MN,FE,',\n",
              " 'FLUO,FE,',\n",
              " 'FLUO,CF,AS,',\n",
              " 'DT,FE,',\n",
              " 'CONDUC,SDT_ra,SDT_salin,FLUO,DT,AS,NO3,',\n",
              " 'CONDUC,SDT_ra,SDT_salin,DT,AS,NO3,',\n",
              " 'FLUO,DT,AS,',\n",
              " 'FLUO,CF,AS,FE,',\n",
              " 'FE,NO3,',\n",
              " 'ALC,FLUO,',\n",
              " 'ALC,CONDUC,SDT_ra,SDT_salin,DT,FE,NO3,',\n",
              " 'CONDUC,SDT_ra,SDT_salin,FLUO,DT,',\n",
              " 'CONDUC,SDT_ra,SDT_salin,FLUO,DT,NO3,',\n",
              " 'CONDUC,SDT_ra,SDT_salin,DT,CF,',\n",
              " 'CONDUC,SDT_ra,SDT_salin,DT,NO3,',\n",
              " 'CR,',\n",
              " 'CONDUC,DT,FE,',\n",
              " 'ALC,CONDUC,DT,',\n",
              " 'CONDUC,DT,NO3,',\n",
              " 'ALC,CONDUC,SDT_ra,SDT_salin,DT,MN,FE,',\n",
              " 'MN,',\n",
              " 'CF,PB,',\n",
              " 'CF,MN,',\n",
              " 'CF,MN,FE,',\n",
              " 'ALC,FLUO,AS,',\n",
              " 'AS,FE,',\n",
              " 'DT,AS,NO3,',\n",
              " 'CONDUC,DT,AS,',\n",
              " 'FLUO,AS,FE,',\n",
              " 'ALC,AS,FE,',\n",
              " 'PB,MN,FE,',\n",
              " 'ALC,CONDUC,SDT_ra,SDT_salin,FLUO,DT,MN,FE,',\n",
              " 'ALC,CONDUC,SDT_ra,SDT_salin,FLUO,DT,AS,MN,FE,',\n",
              " 'ALC,CONDUC,SDT_ra,SDT_salin,DT,NO3,',\n",
              " 'ALC,FLUO,AS,FE,',\n",
              " 'MN,FE,',\n",
              " 'ALC,AS,MN,FE,',\n",
              " 'ALC,MN,',\n",
              " 'NI,FE,',\n",
              " 'CONDUC,MN,FE,',\n",
              " 'ALC,DT,FE,',\n",
              " 'CONDUC,PB,FE,',\n",
              " 'PB,FE,',\n",
              " 'CONDUC,FLUO,DT,',\n",
              " 'ALC,DT,',\n",
              " 'ALC,CONDUC,',\n",
              " 'ALC,CONDUC,AS,MN,',\n",
              " 'AS,MN,FE,',\n",
              " 'DT,PB,',\n",
              " 'PB,',\n",
              " 'CONDUC,SDT_ra,SDT_salin,DT,HG,MN,FE,',\n",
              " 'ALC,CONDUC,DT,NO3,',\n",
              " 'DT,MN,',\n",
              " 'MN,NO3,',\n",
              " 'ALC,CF,',\n",
              " 'FLUO,MN,FE,',\n",
              " 'CONDUC,SDT_ra,SDT_salin,FLUO,DT,PB,',\n",
              " 'CF,CD,MN,FE,',\n",
              " 'ALC,FE,',\n",
              " 'CONDUC,SDT_ra,SDT_salin,DT,AS,FE,',\n",
              " 'ALC,FLUO,AS,NO3,',\n",
              " 'SDT_ra,SDT_salin,DT,NO3,',\n",
              " 'SDT_ra,SDT_salin,DT,CR,',\n",
              " 'CONDUC,FLUO,NO3,',\n",
              " 'CONDUC,DT,CF,AS,NO3,',\n",
              " 'AS,NO3,',\n",
              " 'CONDUC,FE,NO3,',\n",
              " 'CONDUC,SDT_ra,SDT_salin,DT,AS,MN,',\n",
              " 'CONDUC,DT,CD,',\n",
              " 'DT,CF,',\n",
              " 'CONDUC,FLUO,DT,CF,',\n",
              " 'DT,MN,FE,',\n",
              " 'CONDUC,SDT_ra,SDT_salin,CR,',\n",
              " 'CONDUC,FE,',\n",
              " 'CR,MN,FE,',\n",
              " 'CONDUC,SDT_ra,SDT_salin,FLUO,DT,FE,',\n",
              " 'ALC,DT,AS,MN,',\n",
              " 'FLUO,AS,NO3,',\n",
              " 'ALC,MN,FE,',\n",
              " 'CF,NO3,',\n",
              " 'ALC,CONDUC,SDT_ra,SDT_salin,FLUO,NO3,',\n",
              " 'CONDUC,FLUO,FE,',\n",
              " 'SDT_ra,SDT_salin,DT,MN,',\n",
              " 'SDT_ra,SDT_salin,DT,FE,',\n",
              " 'SDT_ra,SDT_salin,DT,',\n",
              " 'CONDUC,SDT_ra,SDT_salin,',\n",
              " 'ALC,DT,MN,',\n",
              " 'CONDUC,SDT_ra,SDT_salin,DT,MN,FE,',\n",
              " 'ALC,CONDUC,DT,MN,NO3,',\n",
              " 'ALC,NO3,',\n",
              " 'CONDUC,DT,MN,FE,',\n",
              " 'CR,MN,',\n",
              " 'FLUO,CR,FE,',\n",
              " 'CR,NI,FE,',\n",
              " 'AS,CR,',\n",
              " 'ALC,DT,NO3,']"
            ]
          },
          "metadata": {},
          "execution_count": 10
        }
      ]
    },
    {
      "cell_type": "markdown",
      "source": [
        "To explain more in detail this column we can see that it has all the contaminants that are present in the water. So if one of the items does not have a value or is a NA, this is mean that the water is cleaned, so to avoid to have NA's in the database we can replace it with a phrase **UNCONTAMINATED**"
      ],
      "metadata": {
        "id": "BW9zMoxNqmhk"
      }
    },
    {
      "cell_type": "code",
      "source": [
        "df_AguaSubterranea['CONTAMINANTES'].fillna('NINGUNO', inplace=True)\n",
        "df_AguaSubterranea.isna().values.any()"
      ],
      "metadata": {
        "colab": {
          "base_uri": "https://localhost:8080/"
        },
        "id": "30Wd5BAUrlNb",
        "outputId": "042f5a57-6c94-4928-fcb4-c1810d2ce069"
      },
      "execution_count": 11,
      "outputs": [
        {
          "output_type": "execute_result",
          "data": {
            "text/plain": [
              "False"
            ]
          },
          "metadata": {},
          "execution_count": 11
        }
      ]
    },
    {
      "cell_type": "markdown",
      "source": [
        "The database does not have any NAs values. Lets start exploring the columns"
      ],
      "metadata": {
        "id": "yTjfrIHFsMIS"
      }
    },
    {
      "cell_type": "markdown",
      "source": [
        "###FLUORUROS_mg/L"
      ],
      "metadata": {
        "id": "p3wzCHkZ8VNy"
      }
    },
    {
      "cell_type": "code",
      "source": [
        "print(\"type \",df_AguaSubterranea['FLUORUROS_mg/L'].dtypes)\n",
        "print(\"String Values\")\n",
        "print(df_AguaSubterranea['FLUORUROS_mg/L'][pd.to_numeric(df_AguaSubterranea['FLUORUROS_mg/L'], errors='coerce').isnull()].unique())\n",
        "print(\"Numeric Values\")\n",
        "print(df_AguaSubterranea['FLUORUROS_mg/L'][pd.to_numeric(df_AguaSubterranea['FLUORUROS_mg/L'], errors='coerce').notnull()].unique())"
      ],
      "metadata": {
        "id": "wRKzM7DO8p7c",
        "outputId": "6fe34b8a-d1f0-45d9-97cd-b7e40d9a2522",
        "colab": {
          "base_uri": "https://localhost:8080/"
        }
      },
      "execution_count": 12,
      "outputs": [
        {
          "output_type": "stream",
          "name": "stdout",
          "text": [
            "type  object\n",
            "String Values\n",
            "['<0.2']\n",
            "Numeric Values\n",
            "['0.9766' '0.9298' '1.8045' '1.1229' '0.2343' '0.2756' '0.289' '0.5607'\n",
            " '0.3421' '0.5088' '0.4925' '0.6351' '0.2636' '0.4125' '0.3513' '0.4116'\n",
            " '0.6076' '0.4142' '0.2563' '0.8969' '0.3557' '0.3542' '0.2572' '0.3102'\n",
            " '0.3062' '0.3823' '0.7995' '0.2943' '0.272' '0.3593' '0.3116' '0.7633'\n",
            " '0.2671' '0.2072' '0.3848' '0.2781' '0.226' '0.3068' '0.2229' '0.8119'\n",
            " '0.7515' '0.4462' '0.3728' '0.2664' '2.2275' '0.9497' '0.2482' '0.2655'\n",
            " '0.3207' '0.3284' '0.6042' '0.9832' '0.2462' '0.6138' '1.658' '1.4981'\n",
            " '1.7838' '0.4265' '0.5588' '0.828' '0.489' '0.2469' '0.9052' '2.0459'\n",
            " '0.4386' '0.2079' '0.8061' '1.716' '0.8564' '1.4876' '0.3963' '1.8247'\n",
            " '0.4605' '2.6173' '2.5556' '1.9905' '0.7554' '0.5695' '1.2825' '6.6215'\n",
            " '1.4009' '0.3269' '5.0148' '1.5169' '1.7789' '3.2139' '0.4113' '0.6039'\n",
            " '4.276' '12.501' '1.4156' '4.2962' '1.4242' '1.4171' '1.3668' '2.42'\n",
            " '3.0621' '0.5081' '0.7144' '0.8732' '1.0391' '1.7093' '1.8523' '4.855'\n",
            " '0.7535' '0.4503' '0.3951' '2.7784' '1.3811' '0.6128' '0.3326' '0.356'\n",
            " '0.4365' '1.8388' '2.8058' '3.1483' '0.3113' '1.0733' '1.0062' '0.6646'\n",
            " '0.5682' '0.5202' '0.6458' '0.703' '0.8908' '0.4994' '0.3275' '0.4336'\n",
            " '0.3769' '0.2486' '0.2918' '0.3092' '0.4341' '0.3751' '0.3901' '0.5519'\n",
            " '0.7375' '0.4416' '1.2231' '0.4026' '0.5536' '0.3651' '0.2601' '0.3693'\n",
            " '0.4841' '0.2718' '0.335' '0.2712' '0.2439' '0.2822' '0.2518' '0.2065'\n",
            " '0.3086' '0.508' '0.3115' '0.3768' '1.8562' '2.4063' '1.1393' '2.6279'\n",
            " '5.1765' '7.1332' '2.6814' '4.7779' '1.3633' '0.7303' '3.1583' '1.3433'\n",
            " '1.3956' '1.4524' '0.4961' '1.2269' '0.5759' '1.9817' '1.4556' '0.8164'\n",
            " '1.2052' '0.5381' '1.4795' '1.1295' '1.1237' '1.8841' '1.853' '2.8089'\n",
            " '1.491' '1.568' '13.0078' '1.2869' '1.3036' '1.3098' '1.0852' '1.0721'\n",
            " '1.0707' '0.9514' '0.9793' '1.4232' '0.76' '3.0407' '1.7074' '1.7899'\n",
            " '34.8033' '3.6351' '1.9198' '5.0366' '0.471' '1.1346' '0.888' '11.6323'\n",
            " '0.5567' '4.9721' '5.2268' '1.2237' '1.5535' '2.2075' '1.939' '2.9383'\n",
            " '4.8495' '2.2834' '1.693' '12.2933' '0.8818' '0.9051' '0.8714' '0.3603'\n",
            " '1.9166' '0.5163' '2.4062' '0.4202' '3.9907' '2.4702' '1.5103' '1.1938'\n",
            " '3.4757' '0.6899' '1.288' '0.5241' '2.6454' '4.6166' '0.7391' '1.2584'\n",
            " '0.7008' '0.3829' '1.0355' '1.1935' '0.9572' '0.345' '1.4547' '0.8101'\n",
            " '0.7575' '0.8621' '0.5387' '0.3568' '0.4307' '0.406' '1.5566' '3.07'\n",
            " '4.725' '3.01' '1.38' '1.09' '3.295' '3.6931' '1.72' '4.87' '1.1708'\n",
            " '1.2737' '1.0104' '0.2833' '1.4785' '0.5028' '1.9417' '4.1785' '1.3065'\n",
            " '1.6543' '0.614' '0.321' '0.333' '0.436' '0.768' '0.408' '0.805' '0.556'\n",
            " '0.219' '0.654' '0.619' '1.0576' '0.4702' '0.3467' '0.699' '1.035'\n",
            " '0.595' '0.235' '1.6185' '0.8942' '0.6045' '0.7042' '0.4343' '0.7178'\n",
            " '0.4592' '0.2658' '1.5592' '12.478' '0.6251' '0.2654' '0.7211' '0.5673'\n",
            " '0.2891' '0.2507' '0.6599' '0.4725' '0.8859' '3.4144' '2.3928' '0.8733'\n",
            " '1.1606' '0.797' '0.8505' '5.1379' '3.3458' '1.5649' '1.3741' '0.9949'\n",
            " '1.6628' '1.6619' '1.1364' '4.2928' '0.299' '10.5832' '1.353' '0.711'\n",
            " '0.282' '0.27' '0.247' '0.276' '0.236' '0.31' '0.379' '0.213' '0.579'\n",
            " '0.562' '0.393' '0.35' '0.39' '0.396' '0.2985' '0.4972' '0.3219' '0.8239'\n",
            " '0.756' '0.348' '0.41' '0.58' '0.472' '0.404' '0.584' '0.207' '0.81'\n",
            " '0.466' '0.4' '0.652' '1.094' '0.432' '0.511' '0.505' '0.669' '0.59'\n",
            " '0.253' '0.493' '0.339' '1.604' '1.88' '0.2112' '0.2086' '0.2245'\n",
            " '0.6437' '0.5722' '0.2292' '0.2251' '2.4111' '1.7021' '0.6037' '0.4423'\n",
            " '0.4729' '1.1885' '0.2776' '0.241' '1.3979' '1.4892' '2.9128' '3.247'\n",
            " '2.5847' '2.9828' '2.5504' '2.5422' '2.136' '1.9904' '1.8326' '2.734'\n",
            " '0.8287' '0.6657' '2.9349' '2.7147' '1.7301' '0.2444' '1.4964' '0.9581'\n",
            " '0.7001' '0.8296' '2.0311' '1.0516' '0.9273' '0.2816' '1.4587' '1.3636'\n",
            " '1.7781' '0.5386' '0.331' '0.3643' '0.7511' '0.5103' '0.6527' '1.4738'\n",
            " '1.06' '1.0736' '0.4097' '0.2008' '0.5089' '0.4818' '0.6904' '0.3023'\n",
            " '0.2879' '0.426' '0.501' '0.479' '0.347' '0.231' '0.215' '0.638' '0.415'\n",
            " '0.448' '1.054' '0.273' '0.297' '0.204' '0.363' '0.398' '0.725' '0.269'\n",
            " '1.1847' '2.4515' '1.3777' '2.5347' '0.8954' '2.75' '1.2711' '3.1991'\n",
            " '3.8324' '7.3711' '1.6201' '0.4485' '1.7825' '1.9114' '1.725' '0.7826'\n",
            " '3.5162' '1.9875' '1.9872' '0.4236' '1.2316' '0.9508' '0.4038' '0.4373'\n",
            " '1.3018' '1.1432' '1.1274' '1.1465' '1.8961' '1.2381' '2.6145' '1.5577'\n",
            " '2.1518' '0.4808' '0.2562' '0.3292' '1.1398' '0.6064' '1.4074' '1.3645'\n",
            " '2.1357' '1.4153' '2.4666' '2.2049' '0.5793' '1.9881' '2.7522' '5.6703'\n",
            " '21.2375' '2.9359' '2.7579' '3.2973' '1.2218' '0.6427' '0.3075' '0.2054'\n",
            " '1.0281' '4.4459' '3.9064' '1.5911' '2.5971' '1.3266' '1.1749' '0.2382'\n",
            " '0.8776' '2.5944' '2.1405' '1.6277' '1.0838' '1.5684' '5.9852' '4.8769'\n",
            " '5.015' '2.6574' '6.9156' '0.2256' '0.2586' '1.2444' '1.6581' '0.7004'\n",
            " '0.6974' '0.3298' '0.3765' '0.3017' '0.2635' '0.7378' '0.3544' '0.457'\n",
            " '0.256' '1.4641' '1.744' '1.7229' '2.3565' '0.689' '1.0704' '0.705'\n",
            " '3.0196' '2.549' '1.0542' '0.6921' '1.4584' '1.1535' '0.5733' '0.4542'\n",
            " '0.3972' '0.3806' '1.0625' '0.4466' '0.77' '1.1002' '0.5187' '0.5113'\n",
            " '0.8269' '0.8569' '0.576' '0.7196' '1.1494' '0.6723' '0.6367' '0.9089'\n",
            " '0.5326' '0.5553' '0.661' '1.0481' '1.5267' '0.3229' '1.7223' '4.0054'\n",
            " '0.4107' '0.504' '0.9665' '0.3849' '0.9433' '0.862' '0.6826' '0.9254'\n",
            " '2.0583' '0.6924' '0.4993' '0.8861' '1.9846' '0.3752' '0.2158' '0.7202'\n",
            " '0.5534' '0.244' '0.2653' '0.2913' '0.2035' '0.23' '0.2727' '0.443'\n",
            " '0.2179' '0.7079' '0.5453' '0.7787' '0.2509' '0.2241' '1.5534' '0.5169'\n",
            " '1.9264' '0.5171' '0.3114' '0.2334' '0.3152' '0.3523' '0.9908' '0.5212'\n",
            " '0.6204' '0.6545' '0.2526' '0.6946' '0.978' '0.7324' '0.9788' '1.811'\n",
            " '1.3448' '1.074' '1.0276' '1.7972' '5.4689' '1.0782' '0.3887' '0.5781'\n",
            " '0.7063' '0.4229' '0.4488' '0.202' '3.7839' '0.2951' '0.9272' '6.9355'\n",
            " '0.4717' '8.3014' '4.2048' '0.4331' '0.2662' '0.2239' '0.4042' '0.6747'\n",
            " '0.2102' '0.498' '1.2872' '0.2142' '0.9937' '0.228' '1.0635' '0.8217'\n",
            " '1.3526' '12.1712' '1.197' '0.6917' '0.3387' '0.3175' '0.2742' '0.3346'\n",
            " '0.503' '0.5199' '0.3668' '0.2162' '0.4269' '1.1947' '0.3203' '0.8574'\n",
            " '0.3496' '0.9518' '0.4917' '0.3976' '1.0584' '3.8988' '0.5657' '2.7379'\n",
            " '0.4675' '0.4523' '0.3859' '0.3263' '1.7233' '0.6558' '0.5417' '0.9627'\n",
            " '0.4268' '0.533' '0.3181' '0.2299' '0.2522' '0.284' '0.2481' '0.3449'\n",
            " '0.2672' '0.3709' '0.3405' '0.2895' '0.4618' '1.4565' '0.681' '0.6027'\n",
            " '0.9136' '0.8273' '1.9874' '0.8004' '0.4263' '0.4621' '0.3016' '0.6841'\n",
            " '0.2456' '0.2426' '6.0882' '5.1867' '3.9579' '4.1817' '4.4292' '1.1729'\n",
            " '0.7573' '1.6844' '4.1809' '15.4243' '5.5898' '0.2247' '0.2267' '2.5625'\n",
            " '0.646' '0.4369' '0.3486' '0.698' '3.6349' '0.4723' '0.8062' '0.3628'\n",
            " '0.7371' '2.2562' '0.7093' '0.2614' '0.9022' '0.6176' '1.2527' '0.9869'\n",
            " '0.735' '0.3043' '0.4225' '0.5059' '0.6584' '0.8492' '0.2168' '0.3051'\n",
            " '0.3484' '0.2978' '1.2346' '0.6652' '0.2693' '0.6097' '0.6304' '0.2606'\n",
            " '0.7273' '0.3214' '0.3839' '0.261' '0.2972' '0.4959' '0.6894' '1.2508'\n",
            " '0.2686' '0.2882' '0.3034' '0.2805' '0.2294' '0.2815' '0.2078' '0.3618'\n",
            " '0.3154' '0.4473' '0.383' '0.3088' '0.2437' '0.2573' '0.4279' '0.3793'\n",
            " '0.2113' '0.5687' '0.3377' '0.2279' '0.3239' '0.2788' '0.3711' '0.416'\n",
            " '0.2155' '0.2901' '0.5413' '0.4287' '0.3216' '0.2716' '0.956' '0.46'\n",
            " '3.963' '0.72' '0.482' '0.338' '1.3247' '0.877' '0.9985' '1.14' '2.7975'\n",
            " '0.4952' '0.2516' '0.2042' '0.368' '0.602' '0.4691' '0.825' '0.7405'\n",
            " '0.5303' '0.3938' '0.5139' '0.3027' '0.3674' '0.2575' '1.0371' '0.3437'\n",
            " '0.2868' '0.2339' '0.3429' '0.2447' '0.2094' '0.2632' '0.3556' '0.2545'\n",
            " '0.3915' '0.3402' '1.8999' '0.2565' '1.8387' '0.3991' '0.3626' '0.2893'\n",
            " '0.4638' '0.2811' '0.3012' '0.3007' '0.2133' '0.2644' '0.7671' '0.4368'\n",
            " '0.7574' '0.7108' '0.4002']\n"
          ]
        }
      ]
    },
    {
      "cell_type": "code",
      "source": [
        "df_AguaSubterranea['FLUORUROS_mg/L'] = df_AguaSubterranea['FLUORUROS_mg/L'].astype(float, errors='ignore')\n",
        "df_AguaSubterranea['FLUORUROS_mg/L'][pd.to_numeric(df_AguaSubterranea['FLUORUROS_mg/L'], errors='coerce').isnull()].unique().tolist()"
      ],
      "metadata": {
        "id": "YZOITzmG0vqw",
        "outputId": "0f6d50fd-6225-4fd2-ad78-0b9595e645aa",
        "colab": {
          "base_uri": "https://localhost:8080/"
        }
      },
      "execution_count": 13,
      "outputs": [
        {
          "output_type": "execute_result",
          "data": {
            "text/plain": [
              "['<0.2']"
            ]
          },
          "metadata": {},
          "execution_count": 13
        }
      ]
    },
    {
      "cell_type": "code",
      "source": [
        "df_AguaSubterranea.loc[ df_AguaSubterranea['FLUORUROS_mg/L'] == '<0.2', 'FLUORUROS_mg/L'] = 0.2\n",
        "df_AguaSubterranea['FLUORUROS_mg/L'] = df_AguaSubterranea['FLUORUROS_mg/L'].astype(float, errors='ignore')\n",
        "df_AguaSubterranea['FLUORUROS_mg/L'].dtypes"
      ],
      "metadata": {
        "id": "UqWc7DT97QrN",
        "outputId": "0546f5c4-ea92-4c21-8d4e-62f4b7f7cd9a",
        "colab": {
          "base_uri": "https://localhost:8080/"
        }
      },
      "execution_count": 14,
      "outputs": [
        {
          "output_type": "execute_result",
          "data": {
            "text/plain": [
              "dtype('float64')"
            ]
          },
          "metadata": {},
          "execution_count": 14
        }
      ]
    }
  ]
}