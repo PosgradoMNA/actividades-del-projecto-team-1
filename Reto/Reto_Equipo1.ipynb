{
  "nbformat": 4,
  "nbformat_minor": 0,
  "metadata": {
    "colab": {
      "provenance": [],
      "toc_visible": true,
      "authorship_tag": "ABX9TyPo2fCIbDetPQ/EfYfRG9b9",
      "include_colab_link": true
    },
    "kernelspec": {
      "name": "python3",
      "display_name": "Python 3"
    },
    "language_info": {
      "name": "python"
    }
  },
  "cells": [
    {
      "cell_type": "markdown",
      "metadata": {
        "id": "view-in-github",
        "colab_type": "text"
      },
      "source": [
        "<a href=\"https://colab.research.google.com/github/PosgradoMNA/actividades-del-projecto-team-1/blob/main/Reto/Reto_Equipo1.ipynb\" target=\"_parent\"><img src=\"https://colab.research.google.com/assets/colab-badge.svg\" alt=\"Open In Colab\"/></a>"
      ]
    },
    {
      "cell_type": "markdown",
      "source": [
        "#Maestría en Inteligencia Artificial Aplicada\n",
        "##Curso: Ciencia y analítica de datos\n",
        "Tecnológico de Monterrey\n",
        "\n",
        "Semana 4 - Actividad 1. PCA\n",
        "\n",
        "Prof Maria de la Paz Rico\n",
        "\n",
        "Equipo 1\n",
        "\n",
        "Alumno: Joel Orlando Hernández Ramos\n",
        "\n",
        "Matrícula: A00759664\n",
        "\n",
        "Alumno: Rafael Sánchez García\n",
        "\n",
        "Matrícula: A01182780\n",
        "\n",
        "Fecha de entrega: Noviembre 16th, 2022\n"
      ],
      "metadata": {
        "id": "S0d7Bx3-YQOt"
      }
    },
    {
      "cell_type": "markdown",
      "source": [
        "#Parte 1"
      ],
      "metadata": {
        "id": "G6xFqew4YogJ"
      }
    },
    {
      "cell_type": "markdown",
      "source": [
        "##Load data\n"
      ],
      "metadata": {
        "id": "LbPBEPDIYsHy"
      }
    },
    {
      "cell_type": "code",
      "source": [
        "#Libraries\n",
        "import pandas as pd\n",
        "import numpy as np\n",
        "import seaborn as sns\n",
        "import collections\n",
        "import re\n",
        "import matplotlib.pyplot as plt\n",
        "\n",
        "from sklearn.preprocessing import StandardScaler\n",
        "from sklearn.preprocessing import MinMaxScaler"
      ],
      "metadata": {
        "id": "gNJRNJ_SYu3S"
      },
      "execution_count": 1,
      "outputs": []
    },
    {
      "cell_type": "code",
      "source": [
        "path = 'https://raw.githubusercontent.com/PosgradoMNA/actividades-del-projecto-team-1/main/Reto/Datos_de_calidad_del_agua_2020/Datos_de_calidad_del_agua_de_sitios_de_monitoreo_de_aguas_subterraneas_2020.csv'\n",
        "df_AguaSubterranea = pd.read_csv(path,encoding='cp1252')\n",
        "df_AguaSubterranea.head()\n"
      ],
      "metadata": {
        "colab": {
          "base_uri": "https://localhost:8080/",
          "height": 421
        },
        "id": "xzpxOiWaY0RA",
        "outputId": "b3b02e68-b5c5-4cb7-ed6e-2d4886cdd9ad"
      },
      "execution_count": 2,
      "outputs": [
        {
          "output_type": "execute_result",
          "data": {
            "text/plain": [
              "       CLAVE                   SITIO           ORGANISMO_DE_CUENCA  \\\n",
              "0     DLAGU6            POZO SAN GIL       LERMA SANTIAGO PACIFICO   \n",
              "1  DLAGU6516  POZO R013 CAÑADA HONDA       LERMA SANTIAGO PACIFICO   \n",
              "2     DLAGU7              POZO COSIO       LERMA SANTIAGO PACIFICO   \n",
              "3     DLAGU9      POZO EL SALITRILLO       LERMA SANTIAGO PACIFICO   \n",
              "4   DLBAJ107      RANCHO EL TECOLOTE  PENINSULA DE BAJA CALIFORNIA   \n",
              "\n",
              "                ESTADO        MUNICIPIO                 ACUIFERO SUBTIPO  \\\n",
              "0       AGUASCALIENTES         ASIENTOS       VALLE DE CHICALOTE    POZO   \n",
              "1       AGUASCALIENTES   AGUASCALIENTES       VALLE DE CHICALOTE    POZO   \n",
              "2       AGUASCALIENTES            COSIO  VALLE DE AGUASCALIENTES    POZO   \n",
              "3       AGUASCALIENTES  RINCON DE ROMOS  VALLE DE AGUASCALIENTES    POZO   \n",
              "4  BAJA CALIFORNIA SUR           LA PAZ             TODOS SANTOS    POZO   \n",
              "\n",
              "    LONGITUD   LATITUD  PERIODO  ...  CUMPLE_CON_DUR CUMPLE_CON_CF  \\\n",
              "0 -102.02210  22.20887     2020  ...              SI            SI   \n",
              "1 -102.20075  21.99958     2020  ...              SI            SI   \n",
              "2 -102.28801  22.36685     2020  ...              SI            SI   \n",
              "3 -102.29449  22.18435     2020  ...              SI            SI   \n",
              "4 -110.24480  23.45138     2020  ...              SI            SI   \n",
              "\n",
              "   CUMPLE_CON_NO3 CUMPLE_CON_AS  CUMPLE_CON_CD CUMPLE_CON_CR CUMPLE_CON_HG  \\\n",
              "0              SI            SI             SI            SI            SI   \n",
              "1              SI            SI             SI            SI            SI   \n",
              "2              SI            NO             SI            SI            SI   \n",
              "3              SI            SI             SI            SI            SI   \n",
              "4              NO            SI             SI            SI            SI   \n",
              "\n",
              "  CUMPLE_CON_PB CUMPLE_CON_MN CUMPLE_CON_FE  \n",
              "0            SI            SI            SI  \n",
              "1            SI            SI            SI  \n",
              "2            SI            SI            SI  \n",
              "3            SI            SI            SI  \n",
              "4            SI            SI            SI  \n",
              "\n",
              "[5 rows x 57 columns]"
            ],
            "text/html": [
              "\n",
              "  <div id=\"df-8688b1a6-b9a6-4b34-8be1-6d9604b47a81\">\n",
              "    <div class=\"colab-df-container\">\n",
              "      <div>\n",
              "<style scoped>\n",
              "    .dataframe tbody tr th:only-of-type {\n",
              "        vertical-align: middle;\n",
              "    }\n",
              "\n",
              "    .dataframe tbody tr th {\n",
              "        vertical-align: top;\n",
              "    }\n",
              "\n",
              "    .dataframe thead th {\n",
              "        text-align: right;\n",
              "    }\n",
              "</style>\n",
              "<table border=\"1\" class=\"dataframe\">\n",
              "  <thead>\n",
              "    <tr style=\"text-align: right;\">\n",
              "      <th></th>\n",
              "      <th>CLAVE</th>\n",
              "      <th>SITIO</th>\n",
              "      <th>ORGANISMO_DE_CUENCA</th>\n",
              "      <th>ESTADO</th>\n",
              "      <th>MUNICIPIO</th>\n",
              "      <th>ACUIFERO</th>\n",
              "      <th>SUBTIPO</th>\n",
              "      <th>LONGITUD</th>\n",
              "      <th>LATITUD</th>\n",
              "      <th>PERIODO</th>\n",
              "      <th>...</th>\n",
              "      <th>CUMPLE_CON_DUR</th>\n",
              "      <th>CUMPLE_CON_CF</th>\n",
              "      <th>CUMPLE_CON_NO3</th>\n",
              "      <th>CUMPLE_CON_AS</th>\n",
              "      <th>CUMPLE_CON_CD</th>\n",
              "      <th>CUMPLE_CON_CR</th>\n",
              "      <th>CUMPLE_CON_HG</th>\n",
              "      <th>CUMPLE_CON_PB</th>\n",
              "      <th>CUMPLE_CON_MN</th>\n",
              "      <th>CUMPLE_CON_FE</th>\n",
              "    </tr>\n",
              "  </thead>\n",
              "  <tbody>\n",
              "    <tr>\n",
              "      <th>0</th>\n",
              "      <td>DLAGU6</td>\n",
              "      <td>POZO SAN GIL</td>\n",
              "      <td>LERMA SANTIAGO PACIFICO</td>\n",
              "      <td>AGUASCALIENTES</td>\n",
              "      <td>ASIENTOS</td>\n",
              "      <td>VALLE DE CHICALOTE</td>\n",
              "      <td>POZO</td>\n",
              "      <td>-102.02210</td>\n",
              "      <td>22.20887</td>\n",
              "      <td>2020</td>\n",
              "      <td>...</td>\n",
              "      <td>SI</td>\n",
              "      <td>SI</td>\n",
              "      <td>SI</td>\n",
              "      <td>SI</td>\n",
              "      <td>SI</td>\n",
              "      <td>SI</td>\n",
              "      <td>SI</td>\n",
              "      <td>SI</td>\n",
              "      <td>SI</td>\n",
              "      <td>SI</td>\n",
              "    </tr>\n",
              "    <tr>\n",
              "      <th>1</th>\n",
              "      <td>DLAGU6516</td>\n",
              "      <td>POZO R013 CAÑADA HONDA</td>\n",
              "      <td>LERMA SANTIAGO PACIFICO</td>\n",
              "      <td>AGUASCALIENTES</td>\n",
              "      <td>AGUASCALIENTES</td>\n",
              "      <td>VALLE DE CHICALOTE</td>\n",
              "      <td>POZO</td>\n",
              "      <td>-102.20075</td>\n",
              "      <td>21.99958</td>\n",
              "      <td>2020</td>\n",
              "      <td>...</td>\n",
              "      <td>SI</td>\n",
              "      <td>SI</td>\n",
              "      <td>SI</td>\n",
              "      <td>SI</td>\n",
              "      <td>SI</td>\n",
              "      <td>SI</td>\n",
              "      <td>SI</td>\n",
              "      <td>SI</td>\n",
              "      <td>SI</td>\n",
              "      <td>SI</td>\n",
              "    </tr>\n",
              "    <tr>\n",
              "      <th>2</th>\n",
              "      <td>DLAGU7</td>\n",
              "      <td>POZO COSIO</td>\n",
              "      <td>LERMA SANTIAGO PACIFICO</td>\n",
              "      <td>AGUASCALIENTES</td>\n",
              "      <td>COSIO</td>\n",
              "      <td>VALLE DE AGUASCALIENTES</td>\n",
              "      <td>POZO</td>\n",
              "      <td>-102.28801</td>\n",
              "      <td>22.36685</td>\n",
              "      <td>2020</td>\n",
              "      <td>...</td>\n",
              "      <td>SI</td>\n",
              "      <td>SI</td>\n",
              "      <td>SI</td>\n",
              "      <td>NO</td>\n",
              "      <td>SI</td>\n",
              "      <td>SI</td>\n",
              "      <td>SI</td>\n",
              "      <td>SI</td>\n",
              "      <td>SI</td>\n",
              "      <td>SI</td>\n",
              "    </tr>\n",
              "    <tr>\n",
              "      <th>3</th>\n",
              "      <td>DLAGU9</td>\n",
              "      <td>POZO EL SALITRILLO</td>\n",
              "      <td>LERMA SANTIAGO PACIFICO</td>\n",
              "      <td>AGUASCALIENTES</td>\n",
              "      <td>RINCON DE ROMOS</td>\n",
              "      <td>VALLE DE AGUASCALIENTES</td>\n",
              "      <td>POZO</td>\n",
              "      <td>-102.29449</td>\n",
              "      <td>22.18435</td>\n",
              "      <td>2020</td>\n",
              "      <td>...</td>\n",
              "      <td>SI</td>\n",
              "      <td>SI</td>\n",
              "      <td>SI</td>\n",
              "      <td>SI</td>\n",
              "      <td>SI</td>\n",
              "      <td>SI</td>\n",
              "      <td>SI</td>\n",
              "      <td>SI</td>\n",
              "      <td>SI</td>\n",
              "      <td>SI</td>\n",
              "    </tr>\n",
              "    <tr>\n",
              "      <th>4</th>\n",
              "      <td>DLBAJ107</td>\n",
              "      <td>RANCHO EL TECOLOTE</td>\n",
              "      <td>PENINSULA DE BAJA CALIFORNIA</td>\n",
              "      <td>BAJA CALIFORNIA SUR</td>\n",
              "      <td>LA PAZ</td>\n",
              "      <td>TODOS SANTOS</td>\n",
              "      <td>POZO</td>\n",
              "      <td>-110.24480</td>\n",
              "      <td>23.45138</td>\n",
              "      <td>2020</td>\n",
              "      <td>...</td>\n",
              "      <td>SI</td>\n",
              "      <td>SI</td>\n",
              "      <td>NO</td>\n",
              "      <td>SI</td>\n",
              "      <td>SI</td>\n",
              "      <td>SI</td>\n",
              "      <td>SI</td>\n",
              "      <td>SI</td>\n",
              "      <td>SI</td>\n",
              "      <td>SI</td>\n",
              "    </tr>\n",
              "  </tbody>\n",
              "</table>\n",
              "<p>5 rows × 57 columns</p>\n",
              "</div>\n",
              "      <button class=\"colab-df-convert\" onclick=\"convertToInteractive('df-8688b1a6-b9a6-4b34-8be1-6d9604b47a81')\"\n",
              "              title=\"Convert this dataframe to an interactive table.\"\n",
              "              style=\"display:none;\">\n",
              "        \n",
              "  <svg xmlns=\"http://www.w3.org/2000/svg\" height=\"24px\"viewBox=\"0 0 24 24\"\n",
              "       width=\"24px\">\n",
              "    <path d=\"M0 0h24v24H0V0z\" fill=\"none\"/>\n",
              "    <path d=\"M18.56 5.44l.94 2.06.94-2.06 2.06-.94-2.06-.94-.94-2.06-.94 2.06-2.06.94zm-11 1L8.5 8.5l.94-2.06 2.06-.94-2.06-.94L8.5 2.5l-.94 2.06-2.06.94zm10 10l.94 2.06.94-2.06 2.06-.94-2.06-.94-.94-2.06-.94 2.06-2.06.94z\"/><path d=\"M17.41 7.96l-1.37-1.37c-.4-.4-.92-.59-1.43-.59-.52 0-1.04.2-1.43.59L10.3 9.45l-7.72 7.72c-.78.78-.78 2.05 0 2.83L4 21.41c.39.39.9.59 1.41.59.51 0 1.02-.2 1.41-.59l7.78-7.78 2.81-2.81c.8-.78.8-2.07 0-2.86zM5.41 20L4 18.59l7.72-7.72 1.47 1.35L5.41 20z\"/>\n",
              "  </svg>\n",
              "      </button>\n",
              "      \n",
              "  <style>\n",
              "    .colab-df-container {\n",
              "      display:flex;\n",
              "      flex-wrap:wrap;\n",
              "      gap: 12px;\n",
              "    }\n",
              "\n",
              "    .colab-df-convert {\n",
              "      background-color: #E8F0FE;\n",
              "      border: none;\n",
              "      border-radius: 50%;\n",
              "      cursor: pointer;\n",
              "      display: none;\n",
              "      fill: #1967D2;\n",
              "      height: 32px;\n",
              "      padding: 0 0 0 0;\n",
              "      width: 32px;\n",
              "    }\n",
              "\n",
              "    .colab-df-convert:hover {\n",
              "      background-color: #E2EBFA;\n",
              "      box-shadow: 0px 1px 2px rgba(60, 64, 67, 0.3), 0px 1px 3px 1px rgba(60, 64, 67, 0.15);\n",
              "      fill: #174EA6;\n",
              "    }\n",
              "\n",
              "    [theme=dark] .colab-df-convert {\n",
              "      background-color: #3B4455;\n",
              "      fill: #D2E3FC;\n",
              "    }\n",
              "\n",
              "    [theme=dark] .colab-df-convert:hover {\n",
              "      background-color: #434B5C;\n",
              "      box-shadow: 0px 1px 3px 1px rgba(0, 0, 0, 0.15);\n",
              "      filter: drop-shadow(0px 1px 2px rgba(0, 0, 0, 0.3));\n",
              "      fill: #FFFFFF;\n",
              "    }\n",
              "  </style>\n",
              "\n",
              "      <script>\n",
              "        const buttonEl =\n",
              "          document.querySelector('#df-8688b1a6-b9a6-4b34-8be1-6d9604b47a81 button.colab-df-convert');\n",
              "        buttonEl.style.display =\n",
              "          google.colab.kernel.accessAllowed ? 'block' : 'none';\n",
              "\n",
              "        async function convertToInteractive(key) {\n",
              "          const element = document.querySelector('#df-8688b1a6-b9a6-4b34-8be1-6d9604b47a81');\n",
              "          const dataTable =\n",
              "            await google.colab.kernel.invokeFunction('convertToInteractive',\n",
              "                                                     [key], {});\n",
              "          if (!dataTable) return;\n",
              "\n",
              "          const docLinkHtml = 'Like what you see? Visit the ' +\n",
              "            '<a target=\"_blank\" href=https://colab.research.google.com/notebooks/data_table.ipynb>data table notebook</a>'\n",
              "            + ' to learn more about interactive tables.';\n",
              "          element.innerHTML = '';\n",
              "          dataTable['output_type'] = 'display_data';\n",
              "          await google.colab.output.renderOutput(dataTable, element);\n",
              "          const docLink = document.createElement('div');\n",
              "          docLink.innerHTML = docLinkHtml;\n",
              "          element.appendChild(docLink);\n",
              "        }\n",
              "      </script>\n",
              "    </div>\n",
              "  </div>\n",
              "  "
            ]
          },
          "metadata": {},
          "execution_count": 2
        }
      ]
    },
    {
      "cell_type": "markdown",
      "source": [
        "##Clean database"
      ],
      "metadata": {
        "id": "O4373iSFcksm"
      }
    },
    {
      "cell_type": "code",
      "source": [
        "df_AguaSubterranea.info()"
      ],
      "metadata": {
        "colab": {
          "base_uri": "https://localhost:8080/"
        },
        "id": "858yWJtHcqRE",
        "outputId": "0a0780f4-d505-4fa5-e118-7ee8d3bf6a76"
      },
      "execution_count": 3,
      "outputs": [
        {
          "output_type": "stream",
          "name": "stdout",
          "text": [
            "<class 'pandas.core.frame.DataFrame'>\n",
            "RangeIndex: 1068 entries, 0 to 1067\n",
            "Data columns (total 57 columns):\n",
            " #   Column                Non-Null Count  Dtype  \n",
            "---  ------                --------------  -----  \n",
            " 0   CLAVE                 1068 non-null   object \n",
            " 1   SITIO                 1068 non-null   object \n",
            " 2   ORGANISMO_DE_CUENCA   1068 non-null   object \n",
            " 3   ESTADO                1068 non-null   object \n",
            " 4   MUNICIPIO             1068 non-null   object \n",
            " 5   ACUIFERO              1068 non-null   object \n",
            " 6   SUBTIPO               1068 non-null   object \n",
            " 7   LONGITUD              1068 non-null   float64\n",
            " 8   LATITUD               1068 non-null   float64\n",
            " 9   PERIODO               1068 non-null   int64  \n",
            " 10  ALC_mg/L              1064 non-null   float64\n",
            " 11  CALIDAD_ALC           1064 non-null   object \n",
            " 12  CONDUCT_mS/cm         1062 non-null   float64\n",
            " 13  CALIDAD_CONDUC        1062 non-null   object \n",
            " 14  SDT_mg/L              0 non-null      float64\n",
            " 15  SDT_M_mg/L            1066 non-null   object \n",
            " 16  CALIDAD_SDT_ra        1066 non-null   object \n",
            " 17  CALIDAD_SDT_salin     1066 non-null   object \n",
            " 18  FLUORUROS_mg/L        1068 non-null   object \n",
            " 19  CALIDAD_FLUO          1068 non-null   object \n",
            " 20  DUR_mg/L              1067 non-null   object \n",
            " 21  CALIDAD_DUR           1067 non-null   object \n",
            " 22  COLI_FEC_NMP/100_mL   1068 non-null   object \n",
            " 23  CALIDAD_COLI_FEC      1068 non-null   object \n",
            " 24  N_NO3_mg/L            1067 non-null   object \n",
            " 25  CALIDAD_N_NO3         1067 non-null   object \n",
            " 26  AS_TOT_mg/L           1068 non-null   object \n",
            " 27  CALIDAD_AS            1068 non-null   object \n",
            " 28  CD_TOT_mg/L           1068 non-null   object \n",
            " 29  CALIDAD_CD            1068 non-null   object \n",
            " 30  CR_TOT_mg/L           1068 non-null   object \n",
            " 31  CALIDAD_CR            1068 non-null   object \n",
            " 32  HG_TOT_mg/L           1068 non-null   object \n",
            " 33  CALIDAD_HG            1068 non-null   object \n",
            " 34  PB_TOT_mg/L           1068 non-null   object \n",
            " 35  CALIDAD_PB            1068 non-null   object \n",
            " 36  MN_TOT_mg/L           1068 non-null   object \n",
            " 37  CALIDAD_MN            1068 non-null   object \n",
            " 38  FE_TOT_mg/L           1068 non-null   object \n",
            " 39  CALIDAD_FE            1068 non-null   object \n",
            " 40  SEMAFORO              1068 non-null   object \n",
            " 41  CONTAMINANTES         634 non-null    object \n",
            " 42  CUMPLE_CON_ALC        1068 non-null   object \n",
            " 43  CUMPLE_CON_COND       1068 non-null   object \n",
            " 44  CUMPLE_CON_SDT_ra     1068 non-null   object \n",
            " 45  CUMPLE_CON_SDT_salin  1068 non-null   object \n",
            " 46  CUMPLE_CON_FLUO       1068 non-null   object \n",
            " 47  CUMPLE_CON_DUR        1068 non-null   object \n",
            " 48  CUMPLE_CON_CF         1068 non-null   object \n",
            " 49  CUMPLE_CON_NO3        1068 non-null   object \n",
            " 50  CUMPLE_CON_AS         1068 non-null   object \n",
            " 51  CUMPLE_CON_CD         1068 non-null   object \n",
            " 52  CUMPLE_CON_CR         1068 non-null   object \n",
            " 53  CUMPLE_CON_HG         1068 non-null   object \n",
            " 54  CUMPLE_CON_PB         1068 non-null   object \n",
            " 55  CUMPLE_CON_MN         1068 non-null   object \n",
            " 56  CUMPLE_CON_FE         1068 non-null   object \n",
            "dtypes: float64(5), int64(1), object(51)\n",
            "memory usage: 475.7+ KB\n"
          ]
        }
      ]
    },
    {
      "cell_type": "markdown",
      "source": [
        "We have 5 columns float type and 51 object type. The total items is 1068"
      ],
      "metadata": {
        "id": "5X4a2p1Pdth_"
      }
    },
    {
      "cell_type": "code",
      "source": [
        "df_AguaSubterranea.isna().any()"
      ],
      "metadata": {
        "colab": {
          "base_uri": "https://localhost:8080/"
        },
        "id": "z3MfjOoPeHPJ",
        "outputId": "dada6209-125a-4348-9d15-e6de53daba87"
      },
      "execution_count": 4,
      "outputs": [
        {
          "output_type": "execute_result",
          "data": {
            "text/plain": [
              "CLAVE                   False\n",
              "SITIO                   False\n",
              "ORGANISMO_DE_CUENCA     False\n",
              "ESTADO                  False\n",
              "MUNICIPIO               False\n",
              "ACUIFERO                False\n",
              "SUBTIPO                 False\n",
              "LONGITUD                False\n",
              "LATITUD                 False\n",
              "PERIODO                 False\n",
              "ALC_mg/L                 True\n",
              "CALIDAD_ALC              True\n",
              "CONDUCT_mS/cm            True\n",
              "CALIDAD_CONDUC           True\n",
              "SDT_mg/L                 True\n",
              "SDT_M_mg/L               True\n",
              "CALIDAD_SDT_ra           True\n",
              "CALIDAD_SDT_salin        True\n",
              "FLUORUROS_mg/L          False\n",
              "CALIDAD_FLUO            False\n",
              "DUR_mg/L                 True\n",
              "CALIDAD_DUR              True\n",
              "COLI_FEC_NMP/100_mL     False\n",
              "CALIDAD_COLI_FEC        False\n",
              "N_NO3_mg/L               True\n",
              "CALIDAD_N_NO3            True\n",
              "AS_TOT_mg/L             False\n",
              "CALIDAD_AS              False\n",
              "CD_TOT_mg/L             False\n",
              "CALIDAD_CD              False\n",
              "CR_TOT_mg/L             False\n",
              "CALIDAD_CR              False\n",
              "HG_TOT_mg/L             False\n",
              "CALIDAD_HG              False\n",
              "PB_TOT_mg/L             False\n",
              "CALIDAD_PB              False\n",
              "MN_TOT_mg/L             False\n",
              "CALIDAD_MN              False\n",
              "FE_TOT_mg/L             False\n",
              "CALIDAD_FE              False\n",
              "SEMAFORO                False\n",
              "CONTAMINANTES            True\n",
              "CUMPLE_CON_ALC          False\n",
              "CUMPLE_CON_COND         False\n",
              "CUMPLE_CON_SDT_ra       False\n",
              "CUMPLE_CON_SDT_salin    False\n",
              "CUMPLE_CON_FLUO         False\n",
              "CUMPLE_CON_DUR          False\n",
              "CUMPLE_CON_CF           False\n",
              "CUMPLE_CON_NO3          False\n",
              "CUMPLE_CON_AS           False\n",
              "CUMPLE_CON_CD           False\n",
              "CUMPLE_CON_CR           False\n",
              "CUMPLE_CON_HG           False\n",
              "CUMPLE_CON_PB           False\n",
              "CUMPLE_CON_MN           False\n",
              "CUMPLE_CON_FE           False\n",
              "dtype: bool"
            ]
          },
          "metadata": {},
          "execution_count": 4
        }
      ]
    },
    {
      "cell_type": "markdown",
      "source": [
        "We have 13 columns with NAs values. So we are going to start cleaning them.\n",
        "\n",
        "Now lets see how many NAs are per column"
      ],
      "metadata": {
        "id": "yKqF0HcbeZZv"
      }
    },
    {
      "cell_type": "code",
      "source": [
        "df_AguaSubterranea.isna().sum()"
      ],
      "metadata": {
        "colab": {
          "base_uri": "https://localhost:8080/"
        },
        "id": "J2s67dnzgKPC",
        "outputId": "a495a93a-401e-4e5a-c3a7-b3b15905a5ce"
      },
      "execution_count": 5,
      "outputs": [
        {
          "output_type": "execute_result",
          "data": {
            "text/plain": [
              "CLAVE                      0\n",
              "SITIO                      0\n",
              "ORGANISMO_DE_CUENCA        0\n",
              "ESTADO                     0\n",
              "MUNICIPIO                  0\n",
              "ACUIFERO                   0\n",
              "SUBTIPO                    0\n",
              "LONGITUD                   0\n",
              "LATITUD                    0\n",
              "PERIODO                    0\n",
              "ALC_mg/L                   4\n",
              "CALIDAD_ALC                4\n",
              "CONDUCT_mS/cm              6\n",
              "CALIDAD_CONDUC             6\n",
              "SDT_mg/L                1068\n",
              "SDT_M_mg/L                 2\n",
              "CALIDAD_SDT_ra             2\n",
              "CALIDAD_SDT_salin          2\n",
              "FLUORUROS_mg/L             0\n",
              "CALIDAD_FLUO               0\n",
              "DUR_mg/L                   1\n",
              "CALIDAD_DUR                1\n",
              "COLI_FEC_NMP/100_mL        0\n",
              "CALIDAD_COLI_FEC           0\n",
              "N_NO3_mg/L                 1\n",
              "CALIDAD_N_NO3              1\n",
              "AS_TOT_mg/L                0\n",
              "CALIDAD_AS                 0\n",
              "CD_TOT_mg/L                0\n",
              "CALIDAD_CD                 0\n",
              "CR_TOT_mg/L                0\n",
              "CALIDAD_CR                 0\n",
              "HG_TOT_mg/L                0\n",
              "CALIDAD_HG                 0\n",
              "PB_TOT_mg/L                0\n",
              "CALIDAD_PB                 0\n",
              "MN_TOT_mg/L                0\n",
              "CALIDAD_MN                 0\n",
              "FE_TOT_mg/L                0\n",
              "CALIDAD_FE                 0\n",
              "SEMAFORO                   0\n",
              "CONTAMINANTES            434\n",
              "CUMPLE_CON_ALC             0\n",
              "CUMPLE_CON_COND            0\n",
              "CUMPLE_CON_SDT_ra          0\n",
              "CUMPLE_CON_SDT_salin       0\n",
              "CUMPLE_CON_FLUO            0\n",
              "CUMPLE_CON_DUR             0\n",
              "CUMPLE_CON_CF              0\n",
              "CUMPLE_CON_NO3             0\n",
              "CUMPLE_CON_AS              0\n",
              "CUMPLE_CON_CD              0\n",
              "CUMPLE_CON_CR              0\n",
              "CUMPLE_CON_HG              0\n",
              "CUMPLE_CON_PB              0\n",
              "CUMPLE_CON_MN              0\n",
              "CUMPLE_CON_FE              0\n",
              "dtype: int64"
            ]
          },
          "metadata": {},
          "execution_count": 5
        }
      ]
    },
    {
      "cell_type": "code",
      "source": [
        "df_AguaSubterranea.describe().T"
      ],
      "metadata": {
        "colab": {
          "base_uri": "https://localhost:8080/",
          "height": 238
        },
        "id": "q-OpzFu9g4rd",
        "outputId": "2ed086ef-0bb4-4cb4-cef2-a97cf75b3648"
      },
      "execution_count": 6,
      "outputs": [
        {
          "output_type": "execute_result",
          "data": {
            "text/plain": [
              "                count         mean          std         min          25%  \\\n",
              "LONGITUD       1068.0  -101.891007     6.703263  -116.66425  -105.388865   \n",
              "LATITUD        1068.0    23.163618     3.887670    14.56115    20.212055   \n",
              "PERIODO        1068.0  2020.000000     0.000000  2020.00000  2020.000000   \n",
              "ALC_mg/L       1064.0   235.633759   116.874291    26.64000   164.000000   \n",
              "CONDUCT_mS/cm  1062.0  1138.953013  1245.563674    50.40000   501.750000   \n",
              "SDT_mg/L          0.0          NaN          NaN         NaN          NaN   \n",
              "\n",
              "                      50%          75%           max  \n",
              "LONGITUD       -102.17418   -98.974716    -86.864120  \n",
              "LATITUD          22.61719    25.510285     32.677713  \n",
              "PERIODO        2020.00000  2020.000000   2020.000000  \n",
              "ALC_mg/L        215.52750   292.710000   1650.000000  \n",
              "CONDUCT_mS/cm   815.00000  1322.750000  18577.000000  \n",
              "SDT_mg/L              NaN          NaN           NaN  "
            ],
            "text/html": [
              "\n",
              "  <div id=\"df-ad0f782e-e62e-44f8-b39c-386d34ae92a2\">\n",
              "    <div class=\"colab-df-container\">\n",
              "      <div>\n",
              "<style scoped>\n",
              "    .dataframe tbody tr th:only-of-type {\n",
              "        vertical-align: middle;\n",
              "    }\n",
              "\n",
              "    .dataframe tbody tr th {\n",
              "        vertical-align: top;\n",
              "    }\n",
              "\n",
              "    .dataframe thead th {\n",
              "        text-align: right;\n",
              "    }\n",
              "</style>\n",
              "<table border=\"1\" class=\"dataframe\">\n",
              "  <thead>\n",
              "    <tr style=\"text-align: right;\">\n",
              "      <th></th>\n",
              "      <th>count</th>\n",
              "      <th>mean</th>\n",
              "      <th>std</th>\n",
              "      <th>min</th>\n",
              "      <th>25%</th>\n",
              "      <th>50%</th>\n",
              "      <th>75%</th>\n",
              "      <th>max</th>\n",
              "    </tr>\n",
              "  </thead>\n",
              "  <tbody>\n",
              "    <tr>\n",
              "      <th>LONGITUD</th>\n",
              "      <td>1068.0</td>\n",
              "      <td>-101.891007</td>\n",
              "      <td>6.703263</td>\n",
              "      <td>-116.66425</td>\n",
              "      <td>-105.388865</td>\n",
              "      <td>-102.17418</td>\n",
              "      <td>-98.974716</td>\n",
              "      <td>-86.864120</td>\n",
              "    </tr>\n",
              "    <tr>\n",
              "      <th>LATITUD</th>\n",
              "      <td>1068.0</td>\n",
              "      <td>23.163618</td>\n",
              "      <td>3.887670</td>\n",
              "      <td>14.56115</td>\n",
              "      <td>20.212055</td>\n",
              "      <td>22.61719</td>\n",
              "      <td>25.510285</td>\n",
              "      <td>32.677713</td>\n",
              "    </tr>\n",
              "    <tr>\n",
              "      <th>PERIODO</th>\n",
              "      <td>1068.0</td>\n",
              "      <td>2020.000000</td>\n",
              "      <td>0.000000</td>\n",
              "      <td>2020.00000</td>\n",
              "      <td>2020.000000</td>\n",
              "      <td>2020.00000</td>\n",
              "      <td>2020.000000</td>\n",
              "      <td>2020.000000</td>\n",
              "    </tr>\n",
              "    <tr>\n",
              "      <th>ALC_mg/L</th>\n",
              "      <td>1064.0</td>\n",
              "      <td>235.633759</td>\n",
              "      <td>116.874291</td>\n",
              "      <td>26.64000</td>\n",
              "      <td>164.000000</td>\n",
              "      <td>215.52750</td>\n",
              "      <td>292.710000</td>\n",
              "      <td>1650.000000</td>\n",
              "    </tr>\n",
              "    <tr>\n",
              "      <th>CONDUCT_mS/cm</th>\n",
              "      <td>1062.0</td>\n",
              "      <td>1138.953013</td>\n",
              "      <td>1245.563674</td>\n",
              "      <td>50.40000</td>\n",
              "      <td>501.750000</td>\n",
              "      <td>815.00000</td>\n",
              "      <td>1322.750000</td>\n",
              "      <td>18577.000000</td>\n",
              "    </tr>\n",
              "    <tr>\n",
              "      <th>SDT_mg/L</th>\n",
              "      <td>0.0</td>\n",
              "      <td>NaN</td>\n",
              "      <td>NaN</td>\n",
              "      <td>NaN</td>\n",
              "      <td>NaN</td>\n",
              "      <td>NaN</td>\n",
              "      <td>NaN</td>\n",
              "      <td>NaN</td>\n",
              "    </tr>\n",
              "  </tbody>\n",
              "</table>\n",
              "</div>\n",
              "      <button class=\"colab-df-convert\" onclick=\"convertToInteractive('df-ad0f782e-e62e-44f8-b39c-386d34ae92a2')\"\n",
              "              title=\"Convert this dataframe to an interactive table.\"\n",
              "              style=\"display:none;\">\n",
              "        \n",
              "  <svg xmlns=\"http://www.w3.org/2000/svg\" height=\"24px\"viewBox=\"0 0 24 24\"\n",
              "       width=\"24px\">\n",
              "    <path d=\"M0 0h24v24H0V0z\" fill=\"none\"/>\n",
              "    <path d=\"M18.56 5.44l.94 2.06.94-2.06 2.06-.94-2.06-.94-.94-2.06-.94 2.06-2.06.94zm-11 1L8.5 8.5l.94-2.06 2.06-.94-2.06-.94L8.5 2.5l-.94 2.06-2.06.94zm10 10l.94 2.06.94-2.06 2.06-.94-2.06-.94-.94-2.06-.94 2.06-2.06.94z\"/><path d=\"M17.41 7.96l-1.37-1.37c-.4-.4-.92-.59-1.43-.59-.52 0-1.04.2-1.43.59L10.3 9.45l-7.72 7.72c-.78.78-.78 2.05 0 2.83L4 21.41c.39.39.9.59 1.41.59.51 0 1.02-.2 1.41-.59l7.78-7.78 2.81-2.81c.8-.78.8-2.07 0-2.86zM5.41 20L4 18.59l7.72-7.72 1.47 1.35L5.41 20z\"/>\n",
              "  </svg>\n",
              "      </button>\n",
              "      \n",
              "  <style>\n",
              "    .colab-df-container {\n",
              "      display:flex;\n",
              "      flex-wrap:wrap;\n",
              "      gap: 12px;\n",
              "    }\n",
              "\n",
              "    .colab-df-convert {\n",
              "      background-color: #E8F0FE;\n",
              "      border: none;\n",
              "      border-radius: 50%;\n",
              "      cursor: pointer;\n",
              "      display: none;\n",
              "      fill: #1967D2;\n",
              "      height: 32px;\n",
              "      padding: 0 0 0 0;\n",
              "      width: 32px;\n",
              "    }\n",
              "\n",
              "    .colab-df-convert:hover {\n",
              "      background-color: #E2EBFA;\n",
              "      box-shadow: 0px 1px 2px rgba(60, 64, 67, 0.3), 0px 1px 3px 1px rgba(60, 64, 67, 0.15);\n",
              "      fill: #174EA6;\n",
              "    }\n",
              "\n",
              "    [theme=dark] .colab-df-convert {\n",
              "      background-color: #3B4455;\n",
              "      fill: #D2E3FC;\n",
              "    }\n",
              "\n",
              "    [theme=dark] .colab-df-convert:hover {\n",
              "      background-color: #434B5C;\n",
              "      box-shadow: 0px 1px 3px 1px rgba(0, 0, 0, 0.15);\n",
              "      filter: drop-shadow(0px 1px 2px rgba(0, 0, 0, 0.3));\n",
              "      fill: #FFFFFF;\n",
              "    }\n",
              "  </style>\n",
              "\n",
              "      <script>\n",
              "        const buttonEl =\n",
              "          document.querySelector('#df-ad0f782e-e62e-44f8-b39c-386d34ae92a2 button.colab-df-convert');\n",
              "        buttonEl.style.display =\n",
              "          google.colab.kernel.accessAllowed ? 'block' : 'none';\n",
              "\n",
              "        async function convertToInteractive(key) {\n",
              "          const element = document.querySelector('#df-ad0f782e-e62e-44f8-b39c-386d34ae92a2');\n",
              "          const dataTable =\n",
              "            await google.colab.kernel.invokeFunction('convertToInteractive',\n",
              "                                                     [key], {});\n",
              "          if (!dataTable) return;\n",
              "\n",
              "          const docLinkHtml = 'Like what you see? Visit the ' +\n",
              "            '<a target=\"_blank\" href=https://colab.research.google.com/notebooks/data_table.ipynb>data table notebook</a>'\n",
              "            + ' to learn more about interactive tables.';\n",
              "          element.innerHTML = '';\n",
              "          dataTable['output_type'] = 'display_data';\n",
              "          await google.colab.output.renderOutput(dataTable, element);\n",
              "          const docLink = document.createElement('div');\n",
              "          docLink.innerHTML = docLinkHtml;\n",
              "          element.appendChild(docLink);\n",
              "        }\n",
              "      </script>\n",
              "    </div>\n",
              "  </div>\n",
              "  "
            ]
          },
          "metadata": {},
          "execution_count": 6
        }
      ]
    },
    {
      "cell_type": "markdown",
      "source": [
        "###PERIODO and SDT_mg/L"
      ],
      "metadata": {
        "id": "zZ_0eGNOEKxZ"
      }
    },
    {
      "cell_type": "markdown",
      "source": [
        "We can see that all the values from **PERIODO** is 2020 and **SDT_mg/L** is an empty column. We are considering to drop these 2 columns.\n",
        "\n"
      ],
      "metadata": {
        "id": "lJ8Xt4ZmhIL2"
      }
    },
    {
      "cell_type": "code",
      "source": [
        "df_AguaSubterranea.drop(['PERIODO','SDT_mg/L'], axis = 1, inplace = True)"
      ],
      "metadata": {
        "id": "FTUSYWb0h4xO"
      },
      "execution_count": 7,
      "outputs": []
    },
    {
      "cell_type": "markdown",
      "source": [
        "###Delete NA's "
      ],
      "metadata": {
        "id": "NKEZu0EJE9K8"
      }
    },
    {
      "cell_type": "markdown",
      "source": [
        "Reviewing the data we can see that there are some columns that have 1,2,4 and 6 items with NA's, which in total are 30 items. If them are deleted the data base will end with just 1038 items which is the 97.19% of the data, which is enough to represent the dataset."
      ],
      "metadata": {
        "id": "aqHQBBmMieCQ"
      }
    },
    {
      "cell_type": "code",
      "source": [
        "df_NAsColumns = df_AguaSubterranea[df_AguaSubterranea.columns[df_AguaSubterranea.isna().any()]]\n",
        "df_NAsColumns.drop(['CONTAMINANTES'],axis = 1, inplace = True)\n",
        "df_NAsColumns.columns"
      ],
      "metadata": {
        "colab": {
          "base_uri": "https://localhost:8080/"
        },
        "id": "-vQqGQNUjv7r",
        "outputId": "cbb4afc5-9639-48b3-b751-8ad9061f19bf"
      },
      "execution_count": 8,
      "outputs": [
        {
          "output_type": "stream",
          "name": "stderr",
          "text": [
            "/usr/local/lib/python3.7/dist-packages/pandas/core/frame.py:4913: SettingWithCopyWarning: \n",
            "A value is trying to be set on a copy of a slice from a DataFrame\n",
            "\n",
            "See the caveats in the documentation: https://pandas.pydata.org/pandas-docs/stable/user_guide/indexing.html#returning-a-view-versus-a-copy\n",
            "  errors=errors,\n"
          ]
        },
        {
          "output_type": "execute_result",
          "data": {
            "text/plain": [
              "Index(['ALC_mg/L', 'CALIDAD_ALC', 'CONDUCT_mS/cm', 'CALIDAD_CONDUC',\n",
              "       'SDT_M_mg/L', 'CALIDAD_SDT_ra', 'CALIDAD_SDT_salin', 'DUR_mg/L',\n",
              "       'CALIDAD_DUR', 'N_NO3_mg/L', 'CALIDAD_N_NO3'],\n",
              "      dtype='object')"
            ]
          },
          "metadata": {},
          "execution_count": 8
        }
      ]
    },
    {
      "cell_type": "code",
      "source": [
        "df_AguaSubterranea.dropna(subset = df_NAsColumns.columns, axis = 0, inplace = True)\n",
        "df_AguaSubterranea.isna().sum()"
      ],
      "metadata": {
        "colab": {
          "base_uri": "https://localhost:8080/"
        },
        "id": "RAVeQRUrnbJy",
        "outputId": "108a491c-e81e-4c97-e494-1c2a8f9c2404"
      },
      "execution_count": 9,
      "outputs": [
        {
          "output_type": "execute_result",
          "data": {
            "text/plain": [
              "CLAVE                     0\n",
              "SITIO                     0\n",
              "ORGANISMO_DE_CUENCA       0\n",
              "ESTADO                    0\n",
              "MUNICIPIO                 0\n",
              "ACUIFERO                  0\n",
              "SUBTIPO                   0\n",
              "LONGITUD                  0\n",
              "LATITUD                   0\n",
              "ALC_mg/L                  0\n",
              "CALIDAD_ALC               0\n",
              "CONDUCT_mS/cm             0\n",
              "CALIDAD_CONDUC            0\n",
              "SDT_M_mg/L                0\n",
              "CALIDAD_SDT_ra            0\n",
              "CALIDAD_SDT_salin         0\n",
              "FLUORUROS_mg/L            0\n",
              "CALIDAD_FLUO              0\n",
              "DUR_mg/L                  0\n",
              "CALIDAD_DUR               0\n",
              "COLI_FEC_NMP/100_mL       0\n",
              "CALIDAD_COLI_FEC          0\n",
              "N_NO3_mg/L                0\n",
              "CALIDAD_N_NO3             0\n",
              "AS_TOT_mg/L               0\n",
              "CALIDAD_AS                0\n",
              "CD_TOT_mg/L               0\n",
              "CALIDAD_CD                0\n",
              "CR_TOT_mg/L               0\n",
              "CALIDAD_CR                0\n",
              "HG_TOT_mg/L               0\n",
              "CALIDAD_HG                0\n",
              "PB_TOT_mg/L               0\n",
              "CALIDAD_PB                0\n",
              "MN_TOT_mg/L               0\n",
              "CALIDAD_MN                0\n",
              "FE_TOT_mg/L               0\n",
              "CALIDAD_FE                0\n",
              "SEMAFORO                  0\n",
              "CONTAMINANTES           427\n",
              "CUMPLE_CON_ALC            0\n",
              "CUMPLE_CON_COND           0\n",
              "CUMPLE_CON_SDT_ra         0\n",
              "CUMPLE_CON_SDT_salin      0\n",
              "CUMPLE_CON_FLUO           0\n",
              "CUMPLE_CON_DUR            0\n",
              "CUMPLE_CON_CF             0\n",
              "CUMPLE_CON_NO3            0\n",
              "CUMPLE_CON_AS             0\n",
              "CUMPLE_CON_CD             0\n",
              "CUMPLE_CON_CR             0\n",
              "CUMPLE_CON_HG             0\n",
              "CUMPLE_CON_PB             0\n",
              "CUMPLE_CON_MN             0\n",
              "CUMPLE_CON_FE             0\n",
              "dtype: int64"
            ]
          },
          "metadata": {},
          "execution_count": 9
        }
      ]
    },
    {
      "cell_type": "markdown",
      "source": [
        "Now, the last column that we need to clean is **CONTAMINANTES**. Lets start to see what we have inside it"
      ],
      "metadata": {
        "id": "6aSn7pVCo26b"
      }
    },
    {
      "cell_type": "code",
      "source": [
        "df_AguaSubterranea['CONTAMINANTES'].unique().tolist()"
      ],
      "metadata": {
        "colab": {
          "base_uri": "https://localhost:8080/"
        },
        "id": "SED8GwCspVKp",
        "outputId": "fbdae61f-fd8f-48c0-a1cd-62082f078e00"
      },
      "execution_count": 10,
      "outputs": [
        {
          "output_type": "execute_result",
          "data": {
            "text/plain": [
              "[nan,\n",
              " 'FLUO,AS,',\n",
              " 'NO3,',\n",
              " 'CF,',\n",
              " 'CONDUC,NO3,',\n",
              " 'DT,CF,AS,MN,FE,',\n",
              " 'CONDUC,SDT_ra,SDT_salin,DT,AS,',\n",
              " 'AS,',\n",
              " 'DT,CF,PB,FE,',\n",
              " 'CONDUC,SDT_ra,SDT_salin,DT,',\n",
              " 'CONDUC,AS,FE,',\n",
              " 'CONDUC,',\n",
              " 'CF,FE,',\n",
              " 'FE,',\n",
              " 'DT,NO3,',\n",
              " 'DT,CR,FE,',\n",
              " 'CF,FE,NO3,',\n",
              " 'CONDUC,SDT_ra,SDT_salin,DT,CF,FE,',\n",
              " 'CONDUC,SDT_ra,SDT_salin,DT,FE,',\n",
              " 'CONDUC,DT,',\n",
              " 'CONDUC,SDT_ra,SDT_salin,DT,CF,NO3,',\n",
              " 'CONDUC,SDT_ra,SDT_salin,DT,FE,NO3,',\n",
              " 'CONDUC,DT,CF,',\n",
              " 'FLUO,CF,',\n",
              " 'DT,',\n",
              " 'FLUO,',\n",
              " 'FLUO,DT,',\n",
              " 'CONDUC,SDT_ra,SDT_salin,FLUO,',\n",
              " 'CR,FE,',\n",
              " 'ALC,',\n",
              " 'SDT_ra,SDT_salin,DT,MN,FE,',\n",
              " 'FLUO,FE,',\n",
              " 'FLUO,CF,AS,',\n",
              " 'DT,FE,',\n",
              " 'CONDUC,SDT_ra,SDT_salin,FLUO,DT,AS,NO3,',\n",
              " 'CONDUC,SDT_ra,SDT_salin,DT,AS,NO3,',\n",
              " 'FLUO,DT,AS,',\n",
              " 'FLUO,CF,AS,FE,',\n",
              " 'FE,NO3,',\n",
              " 'ALC,FLUO,',\n",
              " 'ALC,CONDUC,SDT_ra,SDT_salin,DT,FE,NO3,',\n",
              " 'CONDUC,SDT_ra,SDT_salin,FLUO,DT,',\n",
              " 'CONDUC,SDT_ra,SDT_salin,FLUO,DT,NO3,',\n",
              " 'CONDUC,SDT_ra,SDT_salin,DT,CF,',\n",
              " 'CONDUC,SDT_ra,SDT_salin,DT,NO3,',\n",
              " 'CR,',\n",
              " 'CONDUC,DT,FE,',\n",
              " 'ALC,CONDUC,DT,',\n",
              " 'CONDUC,DT,NO3,',\n",
              " 'ALC,CONDUC,SDT_ra,SDT_salin,DT,MN,FE,',\n",
              " 'MN,',\n",
              " 'CF,PB,',\n",
              " 'CF,MN,',\n",
              " 'CF,MN,FE,',\n",
              " 'ALC,FLUO,AS,',\n",
              " 'AS,FE,',\n",
              " 'DT,AS,NO3,',\n",
              " 'CONDUC,DT,AS,',\n",
              " 'FLUO,AS,FE,',\n",
              " 'ALC,AS,FE,',\n",
              " 'PB,MN,FE,',\n",
              " 'ALC,CONDUC,SDT_ra,SDT_salin,FLUO,DT,MN,FE,',\n",
              " 'ALC,CONDUC,SDT_ra,SDT_salin,FLUO,DT,AS,MN,FE,',\n",
              " 'ALC,CONDUC,SDT_ra,SDT_salin,DT,NO3,',\n",
              " 'ALC,FLUO,AS,FE,',\n",
              " 'MN,FE,',\n",
              " 'ALC,AS,MN,FE,',\n",
              " 'ALC,MN,',\n",
              " 'NI,FE,',\n",
              " 'CONDUC,MN,FE,',\n",
              " 'ALC,DT,FE,',\n",
              " 'CONDUC,PB,FE,',\n",
              " 'PB,FE,',\n",
              " 'CONDUC,FLUO,DT,',\n",
              " 'ALC,DT,',\n",
              " 'ALC,CONDUC,',\n",
              " 'ALC,CONDUC,AS,MN,',\n",
              " 'AS,MN,FE,',\n",
              " 'DT,PB,',\n",
              " 'PB,',\n",
              " 'CONDUC,SDT_ra,SDT_salin,DT,HG,MN,FE,',\n",
              " 'ALC,CONDUC,DT,NO3,',\n",
              " 'DT,MN,',\n",
              " 'MN,NO3,',\n",
              " 'ALC,CF,',\n",
              " 'FLUO,MN,FE,',\n",
              " 'CONDUC,SDT_ra,SDT_salin,FLUO,DT,PB,',\n",
              " 'CF,CD,MN,FE,',\n",
              " 'ALC,FE,',\n",
              " 'CONDUC,SDT_ra,SDT_salin,DT,AS,FE,',\n",
              " 'ALC,FLUO,AS,NO3,',\n",
              " 'SDT_ra,SDT_salin,DT,NO3,',\n",
              " 'SDT_ra,SDT_salin,DT,CR,',\n",
              " 'CONDUC,FLUO,NO3,',\n",
              " 'CONDUC,DT,CF,AS,NO3,',\n",
              " 'AS,NO3,',\n",
              " 'CONDUC,FE,NO3,',\n",
              " 'CONDUC,SDT_ra,SDT_salin,DT,AS,MN,',\n",
              " 'CONDUC,DT,CD,',\n",
              " 'DT,CF,',\n",
              " 'CONDUC,FLUO,DT,CF,',\n",
              " 'DT,MN,FE,',\n",
              " 'CONDUC,SDT_ra,SDT_salin,CR,',\n",
              " 'CONDUC,FE,',\n",
              " 'CR,MN,FE,',\n",
              " 'CONDUC,SDT_ra,SDT_salin,FLUO,DT,FE,',\n",
              " 'ALC,DT,AS,MN,',\n",
              " 'FLUO,AS,NO3,',\n",
              " 'ALC,MN,FE,',\n",
              " 'CF,NO3,',\n",
              " 'ALC,CONDUC,SDT_ra,SDT_salin,FLUO,NO3,',\n",
              " 'CONDUC,FLUO,FE,',\n",
              " 'SDT_ra,SDT_salin,DT,MN,',\n",
              " 'SDT_ra,SDT_salin,DT,FE,',\n",
              " 'SDT_ra,SDT_salin,DT,',\n",
              " 'CONDUC,SDT_ra,SDT_salin,',\n",
              " 'ALC,DT,MN,',\n",
              " 'CONDUC,SDT_ra,SDT_salin,DT,MN,FE,',\n",
              " 'ALC,CONDUC,DT,MN,NO3,',\n",
              " 'ALC,NO3,',\n",
              " 'CONDUC,DT,MN,FE,',\n",
              " 'CR,MN,',\n",
              " 'FLUO,CR,FE,',\n",
              " 'CR,NI,FE,',\n",
              " 'AS,CR,',\n",
              " 'ALC,DT,NO3,']"
            ]
          },
          "metadata": {},
          "execution_count": 10
        }
      ]
    },
    {
      "cell_type": "markdown",
      "source": [
        "To explain more in detail this column we can see that it has all the contaminants that are present in the water. So if one of the items does not have a value or is a NA, this is mean that the water is cleaned, so to avoid to have NA's in the database we can replace it with a phrase **UNCONTAMINATED**"
      ],
      "metadata": {
        "id": "BW9zMoxNqmhk"
      }
    },
    {
      "cell_type": "code",
      "source": [
        "df_AguaSubterranea['CONTAMINANTES'].fillna('NINGUNO', inplace=True)\n",
        "df_AguaSubterranea.isna().values.any()"
      ],
      "metadata": {
        "colab": {
          "base_uri": "https://localhost:8080/"
        },
        "id": "30Wd5BAUrlNb",
        "outputId": "415af33b-db33-4aee-8030-3cdd4eeb7997"
      },
      "execution_count": 11,
      "outputs": [
        {
          "output_type": "execute_result",
          "data": {
            "text/plain": [
              "False"
            ]
          },
          "metadata": {},
          "execution_count": 11
        }
      ]
    },
    {
      "cell_type": "markdown",
      "source": [
        "The database does not have any NAs values. Lets start exploring the columns"
      ],
      "metadata": {
        "id": "yTjfrIHFsMIS"
      }
    },
    {
      "cell_type": "markdown",
      "source": [
        "###Clean mg/L Columns"
      ],
      "metadata": {
        "id": "uW7Z2ukvDfLU"
      }
    },
    {
      "cell_type": "code",
      "source": [
        "def dataframeAnalsys(columnName):\n",
        "  print(\"\\n\",columnName)\n",
        "  print(\"Type \",df_AguaSubterranea[columnName].dtypes)\n",
        "  print(\"String Values\")\n",
        "  print(df_AguaSubterranea[columnName][pd.to_numeric(df_AguaSubterranea[columnName], errors='coerce').isnull()].unique())"
      ],
      "metadata": {
        "id": "eKsrmuwXFUDa"
      },
      "execution_count": 12,
      "outputs": []
    },
    {
      "cell_type": "code",
      "source": [
        "def convertStringToValues_ignoringNulls(columnName):\n",
        "  print(\"\\n\",columnName)\n",
        "  print(\"Converting dataframe to float...\")\n",
        "  df_AguaSubterranea[columnName] = df_AguaSubterranea[columnName].astype(float, errors='ignore')\n",
        "  print(\"String Values remaining:\")\n",
        "  print(df_AguaSubterranea[columnName][pd.to_numeric(df_AguaSubterranea[columnName], errors='coerce').isnull()].unique().tolist())"
      ],
      "metadata": {
        "id": "HtU1Gxja-fUh"
      },
      "execution_count": 13,
      "outputs": []
    },
    {
      "cell_type": "code",
      "source": [
        "def convertStringToValues(columnName, stringValue, numericValue):\n",
        "  print(\"\\nReplacing values...\")\n",
        "  df_AguaSubterranea.loc[ df_AguaSubterranea[columnName] == stringValue, columnName] = numericValue\n",
        "  print(\"Converting dataframe to float...\")\n",
        "  df_AguaSubterranea[columnName] = df_AguaSubterranea[columnName].astype(float, errors='ignore')\n",
        "  print(\"Type: \" , df_AguaSubterranea[columnName].dtypes)\n"
      ],
      "metadata": {
        "id": "TDFnlCIjCEL9"
      },
      "execution_count": 14,
      "outputs": []
    },
    {
      "cell_type": "code",
      "source": [
        "listmgL = ['AS_TOT_mg/L','CD_TOT_mg/L','COLI_FEC_NMP/100_mL','CR_TOT_mg/L','DUR_mg/L','FE_TOT_mg/L','FLUORUROS_mg/L','HG_TOT_mg/L','MN_TOT_mg/L','N_NO3_mg/L','PB_TOT_mg/L','SDT_M_mg/L']"
      ],
      "metadata": {
        "id": "U28_oZojKZ4S"
      },
      "execution_count": 15,
      "outputs": []
    },
    {
      "cell_type": "code",
      "source": [
        "for x in listmgL:\n",
        "  dataframeAnalsys(x)"
      ],
      "metadata": {
        "colab": {
          "base_uri": "https://localhost:8080/"
        },
        "id": "hADKKmqoLR4I",
        "outputId": "a292db36-cdc4-476f-90a1-345200bd45aa"
      },
      "execution_count": 16,
      "outputs": [
        {
          "output_type": "stream",
          "name": "stdout",
          "text": [
            "\n",
            " AS_TOT_mg/L\n",
            "Type  object\n",
            "String Values\n",
            "['<0.01']\n",
            "\n",
            " CD_TOT_mg/L\n",
            "Type  object\n",
            "String Values\n",
            "['<0.003']\n",
            "\n",
            " COLI_FEC_NMP/100_mL\n",
            "Type  object\n",
            "String Values\n",
            "['<1.1']\n",
            "\n",
            " CR_TOT_mg/L\n",
            "Type  object\n",
            "String Values\n",
            "['<0.005']\n",
            "\n",
            " DUR_mg/L\n",
            "Type  object\n",
            "String Values\n",
            "['<20']\n",
            "\n",
            " FE_TOT_mg/L\n",
            "Type  object\n",
            "String Values\n",
            "['<0.025']\n",
            "\n",
            " FLUORUROS_mg/L\n",
            "Type  object\n",
            "String Values\n",
            "['<0.2']\n",
            "\n",
            " HG_TOT_mg/L\n",
            "Type  object\n",
            "String Values\n",
            "['<0.0005']\n",
            "\n",
            " MN_TOT_mg/L\n",
            "Type  object\n",
            "String Values\n",
            "['<0.0015']\n",
            "\n",
            " N_NO3_mg/L\n",
            "Type  object\n",
            "String Values\n",
            "['<0.02']\n",
            "\n",
            " PB_TOT_mg/L\n",
            "Type  object\n",
            "String Values\n",
            "['<0.005']\n",
            "\n",
            " SDT_M_mg/L\n",
            "Type  object\n",
            "String Values\n",
            "[]\n"
          ]
        }
      ]
    },
    {
      "cell_type": "markdown",
      "source": [
        "First lets convert the string numeric values to float\n"
      ],
      "metadata": {
        "id": "hLCYqUiNMmsR"
      }
    },
    {
      "cell_type": "code",
      "source": [
        "for x in listmgL:\n",
        "  convertStringToValues_ignoringNulls(x)"
      ],
      "metadata": {
        "colab": {
          "base_uri": "https://localhost:8080/"
        },
        "id": "zy4lZ3m0MnfL",
        "outputId": "f47712dc-070d-4126-d1d8-85ad4a3f77c0"
      },
      "execution_count": 17,
      "outputs": [
        {
          "output_type": "stream",
          "name": "stdout",
          "text": [
            "\n",
            " AS_TOT_mg/L\n",
            "Converting dataframe to float...\n",
            "String Values remaining:\n",
            "['<0.01']\n",
            "\n",
            " CD_TOT_mg/L\n",
            "Converting dataframe to float...\n",
            "String Values remaining:\n",
            "['<0.003']\n",
            "\n",
            " COLI_FEC_NMP/100_mL\n",
            "Converting dataframe to float...\n",
            "String Values remaining:\n",
            "['<1.1']\n",
            "\n",
            " CR_TOT_mg/L\n",
            "Converting dataframe to float...\n",
            "String Values remaining:\n",
            "['<0.005']\n",
            "\n",
            " DUR_mg/L\n",
            "Converting dataframe to float...\n",
            "String Values remaining:\n",
            "['<20']\n",
            "\n",
            " FE_TOT_mg/L\n",
            "Converting dataframe to float...\n",
            "String Values remaining:\n",
            "['<0.025']\n",
            "\n",
            " FLUORUROS_mg/L\n",
            "Converting dataframe to float...\n",
            "String Values remaining:\n",
            "['<0.2']\n",
            "\n",
            " HG_TOT_mg/L\n",
            "Converting dataframe to float...\n",
            "String Values remaining:\n",
            "['<0.0005']\n",
            "\n",
            " MN_TOT_mg/L\n",
            "Converting dataframe to float...\n",
            "String Values remaining:\n",
            "['<0.0015']\n",
            "\n",
            " N_NO3_mg/L\n",
            "Converting dataframe to float...\n",
            "String Values remaining:\n",
            "['<0.02']\n",
            "\n",
            " PB_TOT_mg/L\n",
            "Converting dataframe to float...\n",
            "String Values remaining:\n",
            "['<0.005']\n",
            "\n",
            " SDT_M_mg/L\n",
            "Converting dataframe to float...\n",
            "String Values remaining:\n",
            "[]\n"
          ]
        }
      ]
    },
    {
      "cell_type": "markdown",
      "source": [
        "####AS_TOT_mg/L"
      ],
      "metadata": {
        "id": "cuya75srGko8"
      }
    },
    {
      "cell_type": "markdown",
      "source": [
        "We can see that most of the values are numeric however we have string values like ['<0.01'], so we are going to replace with 0.01 But first lets convert the numeric values to float"
      ],
      "metadata": {
        "id": "L9ghU-bRGuo9"
      }
    },
    {
      "cell_type": "code",
      "source": [
        "convertStringToValues('AS_TOT_mg/L','<0.01',0.01)"
      ],
      "metadata": {
        "colab": {
          "base_uri": "https://localhost:8080/"
        },
        "id": "7_sc9zzYG1BR",
        "outputId": "78a00074-a66d-4396-f420-75fe0f1b29cb"
      },
      "execution_count": 18,
      "outputs": [
        {
          "output_type": "stream",
          "name": "stdout",
          "text": [
            "\n",
            "Replacing values...\n",
            "Converting dataframe to float...\n",
            "Type:  float64\n"
          ]
        }
      ]
    },
    {
      "cell_type": "markdown",
      "source": [
        "####CD_TOT_mg/L"
      ],
      "metadata": {
        "id": "QHtVyO7MNKqG"
      }
    },
    {
      "cell_type": "markdown",
      "source": [
        "We can see that most of the values are numeric however we have string values like ['<0.003'], so we are going to replace with 0.003 But first lets convert the numeric values to float"
      ],
      "metadata": {
        "id": "LLkAseEJN4DR"
      }
    },
    {
      "cell_type": "code",
      "source": [
        "convertStringToValues('CD_TOT_mg/L','<0.003',0.003)"
      ],
      "metadata": {
        "colab": {
          "base_uri": "https://localhost:8080/"
        },
        "id": "jdSekE2HOAMO",
        "outputId": "a783da2a-f217-417b-9bd0-2dc05efbad31"
      },
      "execution_count": 19,
      "outputs": [
        {
          "output_type": "stream",
          "name": "stdout",
          "text": [
            "\n",
            "Replacing values...\n",
            "Converting dataframe to float...\n",
            "Type:  float64\n"
          ]
        }
      ]
    },
    {
      "cell_type": "markdown",
      "source": [
        "####COLI_FEC_NMP/100_mL"
      ],
      "metadata": {
        "id": "r3C_O4sHNYUp"
      }
    },
    {
      "cell_type": "markdown",
      "source": [
        "We can see that most of the values are numeric however we have string values like ['<1.1'], so we are going to replace with 1.1 But first lets convert the numeric values to float"
      ],
      "metadata": {
        "id": "ImRixzmuN5Vp"
      }
    },
    {
      "cell_type": "code",
      "source": [
        "convertStringToValues('COLI_FEC_NMP/100_mL','<1.1',1.1)"
      ],
      "metadata": {
        "colab": {
          "base_uri": "https://localhost:8080/"
        },
        "id": "27rsQjFFOBcd",
        "outputId": "4987f44b-3ceb-4715-e2e9-c366e8f39174"
      },
      "execution_count": 20,
      "outputs": [
        {
          "output_type": "stream",
          "name": "stdout",
          "text": [
            "\n",
            "Replacing values...\n",
            "Converting dataframe to float...\n",
            "Type:  float64\n"
          ]
        }
      ]
    },
    {
      "cell_type": "markdown",
      "source": [
        "####CR_TOT_mg/L"
      ],
      "metadata": {
        "id": "T-CV8grmNYJx"
      }
    },
    {
      "cell_type": "markdown",
      "source": [
        "We can see that most of the values are numeric however we have string values like ['<0.005'], so we are going to replace with 0.005 But first lets convert the numeric values to float"
      ],
      "metadata": {
        "id": "TAhUFKB6N6JM"
      }
    },
    {
      "cell_type": "code",
      "source": [
        "convertStringToValues('CR_TOT_mg/L','<0.005',0.005)"
      ],
      "metadata": {
        "colab": {
          "base_uri": "https://localhost:8080/"
        },
        "id": "e-EZLIafOCHV",
        "outputId": "69781eff-194d-45f6-e93d-b30f01439635"
      },
      "execution_count": 21,
      "outputs": [
        {
          "output_type": "stream",
          "name": "stdout",
          "text": [
            "\n",
            "Replacing values...\n",
            "Converting dataframe to float...\n",
            "Type:  float64\n"
          ]
        }
      ]
    },
    {
      "cell_type": "markdown",
      "source": [
        "####DUR_mg/L"
      ],
      "metadata": {
        "id": "oqqLDSVuNX15"
      }
    },
    {
      "cell_type": "markdown",
      "source": [
        "We can see that most of the values are numeric however we have string values like ['<20'], so we are going to replace with 20"
      ],
      "metadata": {
        "id": "KyfUtFavN6rj"
      }
    },
    {
      "cell_type": "code",
      "source": [
        "convertStringToValues('DUR_mg/L','<20',20)"
      ],
      "metadata": {
        "colab": {
          "base_uri": "https://localhost:8080/"
        },
        "id": "py1T7b8HOCtF",
        "outputId": "457eebad-eb97-472b-8609-d543c4857916"
      },
      "execution_count": 22,
      "outputs": [
        {
          "output_type": "stream",
          "name": "stdout",
          "text": [
            "\n",
            "Replacing values...\n",
            "Converting dataframe to float...\n",
            "Type:  float64\n"
          ]
        }
      ]
    },
    {
      "cell_type": "markdown",
      "source": [
        "####FE_TOT_mg/L"
      ],
      "metadata": {
        "id": "xPYLdvvwUbS4"
      }
    },
    {
      "cell_type": "markdown",
      "source": [
        "We can see that most of the values are numeric however we have string values like ['<0.025'], so we are going to replace with 0.025"
      ],
      "metadata": {
        "id": "Wag884JXUj7f"
      }
    },
    {
      "cell_type": "code",
      "source": [
        "convertStringToValues('FE_TOT_mg/L','<0.025',0.025)"
      ],
      "metadata": {
        "id": "5shP3sgqUhi3",
        "outputId": "f77a2492-18a5-4e5b-8b47-2b9086a79c93",
        "colab": {
          "base_uri": "https://localhost:8080/"
        }
      },
      "execution_count": 23,
      "outputs": [
        {
          "output_type": "stream",
          "name": "stdout",
          "text": [
            "\n",
            "Replacing values...\n",
            "Converting dataframe to float...\n",
            "Type:  float64\n"
          ]
        }
      ]
    },
    {
      "cell_type": "markdown",
      "source": [
        "####FLUORUROS_mg/L"
      ],
      "metadata": {
        "id": "p3wzCHkZ8VNy"
      }
    },
    {
      "cell_type": "markdown",
      "source": [
        "We can see that most of the values are numeric however we have string values like ['<0.2'], so we are going to replace with 0.2"
      ],
      "metadata": {
        "id": "KncpuWd5Qn5f"
      }
    },
    {
      "cell_type": "code",
      "source": [
        "convertStringToValues('FLUORUROS_mg/L','<0.2',0.2)"
      ],
      "metadata": {
        "colab": {
          "base_uri": "https://localhost:8080/"
        },
        "id": "1EK3JJ6KEYky",
        "outputId": "712295eb-415f-4edb-ada3-9c54f202ef64"
      },
      "execution_count": 24,
      "outputs": [
        {
          "output_type": "stream",
          "name": "stdout",
          "text": [
            "\n",
            "Replacing values...\n",
            "Converting dataframe to float...\n",
            "Type:  float64\n"
          ]
        }
      ]
    },
    {
      "cell_type": "markdown",
      "source": [
        "####HG_TOT_mg/L"
      ],
      "metadata": {
        "id": "uFyMFaHSNXrV"
      }
    },
    {
      "cell_type": "markdown",
      "source": [
        "We can see that most of the values are numeric however we have string values like ['<0.0005'], so we are going to replace with 0.0005 But first lets convert the numeric values to float"
      ],
      "metadata": {
        "id": "rx_i3szaN7S5"
      }
    },
    {
      "cell_type": "code",
      "source": [
        "convertStringToValues('HG_TOT_mg/L','<0.0005',0.0005)"
      ],
      "metadata": {
        "colab": {
          "base_uri": "https://localhost:8080/"
        },
        "id": "SKS9CT7vODKR",
        "outputId": "bda54eec-bc93-47b7-8474-c14fb12e132c"
      },
      "execution_count": 25,
      "outputs": [
        {
          "output_type": "stream",
          "name": "stdout",
          "text": [
            "\n",
            "Replacing values...\n",
            "Converting dataframe to float...\n",
            "Type:  float64\n"
          ]
        }
      ]
    },
    {
      "cell_type": "markdown",
      "source": [
        "####MN_TOT_mg/L"
      ],
      "metadata": {
        "id": "ex4sQUFWNXiP"
      }
    },
    {
      "cell_type": "markdown",
      "source": [
        "We can see that most of the values are numeric however we have string values like ['<0.0015'], so we are going to replace with 0.0015 But first lets convert the numeric values to float"
      ],
      "metadata": {
        "id": "Eagko18SN79d"
      }
    },
    {
      "cell_type": "code",
      "source": [
        "convertStringToValues('MN_TOT_mg/L','<0.0015',0.0015)"
      ],
      "metadata": {
        "colab": {
          "base_uri": "https://localhost:8080/"
        },
        "id": "2BlaHFHROD0n",
        "outputId": "8166c7f7-1223-4010-abdd-a0258cf60c5e"
      },
      "execution_count": 26,
      "outputs": [
        {
          "output_type": "stream",
          "name": "stdout",
          "text": [
            "\n",
            "Replacing values...\n",
            "Converting dataframe to float...\n",
            "Type:  float64\n"
          ]
        }
      ]
    },
    {
      "cell_type": "markdown",
      "source": [
        "####N_NO3_mg/L"
      ],
      "metadata": {
        "id": "7NHjjn7yNXYE"
      }
    },
    {
      "cell_type": "markdown",
      "source": [
        "We can see that most of the values are numeric however we have string values like ['<0.02'], so we are going to replace with 0.02 But first lets convert the numeric values to float"
      ],
      "metadata": {
        "id": "4JUwfkNzN8P_"
      }
    },
    {
      "cell_type": "code",
      "source": [
        "convertStringToValues('N_NO3_mg/L','<0.02',0.02)"
      ],
      "metadata": {
        "colab": {
          "base_uri": "https://localhost:8080/"
        },
        "id": "b6VdJfF-OEVA",
        "outputId": "8fa42f47-64d5-4d47-a797-a05e21841aea"
      },
      "execution_count": 27,
      "outputs": [
        {
          "output_type": "stream",
          "name": "stdout",
          "text": [
            "\n",
            "Replacing values...\n",
            "Converting dataframe to float...\n",
            "Type:  float64\n"
          ]
        }
      ]
    },
    {
      "cell_type": "markdown",
      "source": [
        "####PB_TOT_mg/L"
      ],
      "metadata": {
        "id": "iwLl6dEpNXOp"
      }
    },
    {
      "cell_type": "markdown",
      "source": [
        "We can see that most of the values are numeric however we have string values like ['<0.005'], so we are going to replace with 0.005 But first lets convert the numeric values to float"
      ],
      "metadata": {
        "id": "zqB5wZbqN8rl"
      }
    },
    {
      "cell_type": "code",
      "source": [
        "convertStringToValues('PB_TOT_mg/L','<0.005',0.005)"
      ],
      "metadata": {
        "colab": {
          "base_uri": "https://localhost:8080/"
        },
        "id": "BbQNvvvUOE4z",
        "outputId": "9c0f7dae-7049-4ddb-b2f4-8b7c64d783ab"
      },
      "execution_count": 28,
      "outputs": [
        {
          "output_type": "stream",
          "name": "stdout",
          "text": [
            "\n",
            "Replacing values...\n",
            "Converting dataframe to float...\n",
            "Type:  float64\n"
          ]
        }
      ]
    },
    {
      "cell_type": "code",
      "source": [
        "df_AguaSubterranea.info()"
      ],
      "metadata": {
        "colab": {
          "base_uri": "https://localhost:8080/"
        },
        "id": "CBPUmfNBRYoJ",
        "outputId": "b07fd138-1ddd-4ea6-af13-3911d9655ca0"
      },
      "execution_count": 29,
      "outputs": [
        {
          "output_type": "stream",
          "name": "stdout",
          "text": [
            "<class 'pandas.core.frame.DataFrame'>\n",
            "Int64Index: 1054 entries, 0 to 1067\n",
            "Data columns (total 55 columns):\n",
            " #   Column                Non-Null Count  Dtype  \n",
            "---  ------                --------------  -----  \n",
            " 0   CLAVE                 1054 non-null   object \n",
            " 1   SITIO                 1054 non-null   object \n",
            " 2   ORGANISMO_DE_CUENCA   1054 non-null   object \n",
            " 3   ESTADO                1054 non-null   object \n",
            " 4   MUNICIPIO             1054 non-null   object \n",
            " 5   ACUIFERO              1054 non-null   object \n",
            " 6   SUBTIPO               1054 non-null   object \n",
            " 7   LONGITUD              1054 non-null   float64\n",
            " 8   LATITUD               1054 non-null   float64\n",
            " 9   ALC_mg/L              1054 non-null   float64\n",
            " 10  CALIDAD_ALC           1054 non-null   object \n",
            " 11  CONDUCT_mS/cm         1054 non-null   float64\n",
            " 12  CALIDAD_CONDUC        1054 non-null   object \n",
            " 13  SDT_M_mg/L            1054 non-null   float64\n",
            " 14  CALIDAD_SDT_ra        1054 non-null   object \n",
            " 15  CALIDAD_SDT_salin     1054 non-null   object \n",
            " 16  FLUORUROS_mg/L        1054 non-null   float64\n",
            " 17  CALIDAD_FLUO          1054 non-null   object \n",
            " 18  DUR_mg/L              1054 non-null   float64\n",
            " 19  CALIDAD_DUR           1054 non-null   object \n",
            " 20  COLI_FEC_NMP/100_mL   1054 non-null   float64\n",
            " 21  CALIDAD_COLI_FEC      1054 non-null   object \n",
            " 22  N_NO3_mg/L            1054 non-null   float64\n",
            " 23  CALIDAD_N_NO3         1054 non-null   object \n",
            " 24  AS_TOT_mg/L           1054 non-null   float64\n",
            " 25  CALIDAD_AS            1054 non-null   object \n",
            " 26  CD_TOT_mg/L           1054 non-null   float64\n",
            " 27  CALIDAD_CD            1054 non-null   object \n",
            " 28  CR_TOT_mg/L           1054 non-null   float64\n",
            " 29  CALIDAD_CR            1054 non-null   object \n",
            " 30  HG_TOT_mg/L           1054 non-null   float64\n",
            " 31  CALIDAD_HG            1054 non-null   object \n",
            " 32  PB_TOT_mg/L           1054 non-null   float64\n",
            " 33  CALIDAD_PB            1054 non-null   object \n",
            " 34  MN_TOT_mg/L           1054 non-null   float64\n",
            " 35  CALIDAD_MN            1054 non-null   object \n",
            " 36  FE_TOT_mg/L           1054 non-null   float64\n",
            " 37  CALIDAD_FE            1054 non-null   object \n",
            " 38  SEMAFORO              1054 non-null   object \n",
            " 39  CONTAMINANTES         1054 non-null   object \n",
            " 40  CUMPLE_CON_ALC        1054 non-null   object \n",
            " 41  CUMPLE_CON_COND       1054 non-null   object \n",
            " 42  CUMPLE_CON_SDT_ra     1054 non-null   object \n",
            " 43  CUMPLE_CON_SDT_salin  1054 non-null   object \n",
            " 44  CUMPLE_CON_FLUO       1054 non-null   object \n",
            " 45  CUMPLE_CON_DUR        1054 non-null   object \n",
            " 46  CUMPLE_CON_CF         1054 non-null   object \n",
            " 47  CUMPLE_CON_NO3        1054 non-null   object \n",
            " 48  CUMPLE_CON_AS         1054 non-null   object \n",
            " 49  CUMPLE_CON_CD         1054 non-null   object \n",
            " 50  CUMPLE_CON_CR         1054 non-null   object \n",
            " 51  CUMPLE_CON_HG         1054 non-null   object \n",
            " 52  CUMPLE_CON_PB         1054 non-null   object \n",
            " 53  CUMPLE_CON_MN         1054 non-null   object \n",
            " 54  CUMPLE_CON_FE         1054 non-null   object \n",
            "dtypes: float64(16), object(39)\n",
            "memory usage: 461.1+ KB\n"
          ]
        }
      ]
    },
    {
      "cell_type": "markdown",
      "source": [
        "###Continue Cleaning"
      ],
      "metadata": {
        "id": "OC8vCa9uD7rO"
      }
    },
    {
      "cell_type": "code",
      "source": [
        "#Caterogoricals\n",
        "categoricas = ['CALIDAD_CONDUC','CALIDAD_CONDUC','CALIDAD_SDT_ra','CALIDAD_SDT_salin','CALIDAD_DUR','CALIDAD_COLI_FEC','CALIDAD_N_NO3','CALIDAD_AS','CALIDAD_CD','CALIDAD_CR','CALIDAD_HG','CALIDAD_PB','CALIDAD_MN','CALIDAD_FE']\n",
        "#Numericals \n",
        "numericas = ['ALC_mg/L','CONDUCT_mS/cm','SDT_M_mg/L','FLUORUROS_mg/L','DUR_mg/L','COLI_FEC_NMP/100_mL','N_NO3_mg/L','AS_TOT_mg/L','CD_TOT_mg/L','CR_TOT_mg/L','HG_TOT_mg/L','PB_TOT_mg/L','MN_TOT_mg/L','FE_TOT_mg/L']"
      ],
      "metadata": {
        "id": "3grQgqamFqXd"
      },
      "execution_count": 30,
      "outputs": []
    },
    {
      "cell_type": "markdown",
      "source": [
        "Lets review if the categorical values make sense"
      ],
      "metadata": {
        "id": "DdYDhgSrVvm6"
      }
    },
    {
      "cell_type": "code",
      "source": [
        "for x in categoricas:\n",
        "  print(\"\\n\",x)\n",
        "  print(df_AguaSubterranea[x].unique().tolist())\n"
      ],
      "metadata": {
        "colab": {
          "base_uri": "https://localhost:8080/"
        },
        "id": "ouA5DRkrVUQb",
        "outputId": "86c65ddb-baf6-430f-9da3-8c38beb2cfb4"
      },
      "execution_count": 31,
      "outputs": [
        {
          "output_type": "stream",
          "name": "stdout",
          "text": [
            "\n",
            " CALIDAD_CONDUC\n",
            "['Permisible para riego', 'Buena para riego', 'Dudosa para riego', 'Indeseable para riego', 'Excelente para riego']\n",
            "\n",
            " CALIDAD_CONDUC\n",
            "['Permisible para riego', 'Buena para riego', 'Dudosa para riego', 'Indeseable para riego', 'Excelente para riego']\n",
            "\n",
            " CALIDAD_SDT_ra\n",
            "['Cultivos sensibles', 'Excelente para riego', 'Cultivos con manejo especial', 'Cultivos tolerantes', 'Indeseable para riego']\n",
            "\n",
            " CALIDAD_SDT_salin\n",
            "['Potable - Dulce', 'Ligeramente salobres', 'Salobres', 'Salinas']\n",
            "\n",
            " CALIDAD_DUR\n",
            "['Potable - Dura', 'Muy dura e indeseable usos industrial y domestico', 'Potable - Moderadamente suave', 'Potable - Suave']\n",
            "\n",
            " CALIDAD_COLI_FEC\n",
            "['Potable - Excelente', 'Aceptable', 'Contaminada', 'Buena calidad', 'Fuertemente contaminada']\n",
            "\n",
            " CALIDAD_N_NO3\n",
            "['Potable - Excelente', 'Potable - Buena calidad', 'No apta como FAAP']\n",
            "\n",
            " CALIDAD_AS\n",
            "['Apta como FAAP', 'No apta como FAAP', 'Potable - Excelente']\n",
            "\n",
            " CALIDAD_CD\n",
            "['Potable - Excelente', 'No apta como FAAP']\n",
            "\n",
            " CALIDAD_CR\n",
            "['Potable - Excelente', 'No apta como FAAP']\n",
            "\n",
            " CALIDAD_HG\n",
            "['Potable - Excelente', 'No apta como FAAP']\n",
            "\n",
            " CALIDAD_PB\n",
            "['Potable - Excelente', 'No apta como FAAP']\n",
            "\n",
            " CALIDAD_MN\n",
            "['Potable - Excelente', 'Puede afectar la salud', 'Sin efectos en la salud - Puede dar color al agua']\n",
            "\n",
            " CALIDAD_FE\n",
            "['Potable - Excelente', 'Sin efectos en la salud - Puede dar color al agua']\n"
          ]
        }
      ]
    },
    {
      "cell_type": "markdown",
      "source": [
        "It seems that all categorical values are correct. So we finish with the clean process"
      ],
      "metadata": {
        "id": "BllGU3dvV78T"
      }
    },
    {
      "cell_type": "markdown",
      "source": [
        "##Data Exploring"
      ],
      "metadata": {
        "id": "EjzszSXbWVud"
      }
    },
    {
      "cell_type": "code",
      "source": [
        "df_AguaSubterraneaCleaned = df_AguaSubterranea.copy()\n",
        "df_AguaSubterraneaCleaned.head()\n",
        "#maybe we need to drop CLAVE"
      ],
      "metadata": {
        "id": "2McysYKrWbK1",
        "outputId": "c8891fb6-1e3f-4305-d8fe-06226bde3074",
        "colab": {
          "base_uri": "https://localhost:8080/",
          "height": 421
        }
      },
      "execution_count": 32,
      "outputs": [
        {
          "output_type": "execute_result",
          "data": {
            "text/plain": [
              "       CLAVE                   SITIO           ORGANISMO_DE_CUENCA  \\\n",
              "0     DLAGU6            POZO SAN GIL       LERMA SANTIAGO PACIFICO   \n",
              "1  DLAGU6516  POZO R013 CAÑADA HONDA       LERMA SANTIAGO PACIFICO   \n",
              "2     DLAGU7              POZO COSIO       LERMA SANTIAGO PACIFICO   \n",
              "3     DLAGU9      POZO EL SALITRILLO       LERMA SANTIAGO PACIFICO   \n",
              "4   DLBAJ107      RANCHO EL TECOLOTE  PENINSULA DE BAJA CALIFORNIA   \n",
              "\n",
              "                ESTADO        MUNICIPIO                 ACUIFERO SUBTIPO  \\\n",
              "0       AGUASCALIENTES         ASIENTOS       VALLE DE CHICALOTE    POZO   \n",
              "1       AGUASCALIENTES   AGUASCALIENTES       VALLE DE CHICALOTE    POZO   \n",
              "2       AGUASCALIENTES            COSIO  VALLE DE AGUASCALIENTES    POZO   \n",
              "3       AGUASCALIENTES  RINCON DE ROMOS  VALLE DE AGUASCALIENTES    POZO   \n",
              "4  BAJA CALIFORNIA SUR           LA PAZ             TODOS SANTOS    POZO   \n",
              "\n",
              "    LONGITUD   LATITUD  ALC_mg/L  ... CUMPLE_CON_DUR  CUMPLE_CON_CF  \\\n",
              "0 -102.02210  22.20887   229.990  ...             SI             SI   \n",
              "1 -102.20075  21.99958   231.990  ...             SI             SI   \n",
              "2 -102.28801  22.36685   204.920  ...             SI             SI   \n",
              "3 -102.29449  22.18435   327.000  ...             SI             SI   \n",
              "4 -110.24480  23.45138   309.885  ...             SI             SI   \n",
              "\n",
              "  CUMPLE_CON_NO3  CUMPLE_CON_AS CUMPLE_CON_CD CUMPLE_CON_CR  CUMPLE_CON_HG  \\\n",
              "0             SI             SI            SI            SI             SI   \n",
              "1             SI             SI            SI            SI             SI   \n",
              "2             SI             NO            SI            SI             SI   \n",
              "3             SI             SI            SI            SI             SI   \n",
              "4             NO             SI            SI            SI             SI   \n",
              "\n",
              "  CUMPLE_CON_PB  CUMPLE_CON_MN CUMPLE_CON_FE  \n",
              "0            SI             SI            SI  \n",
              "1            SI             SI            SI  \n",
              "2            SI             SI            SI  \n",
              "3            SI             SI            SI  \n",
              "4            SI             SI            SI  \n",
              "\n",
              "[5 rows x 55 columns]"
            ],
            "text/html": [
              "\n",
              "  <div id=\"df-af2c8fcd-3efa-4ce9-b707-6031fe133696\">\n",
              "    <div class=\"colab-df-container\">\n",
              "      <div>\n",
              "<style scoped>\n",
              "    .dataframe tbody tr th:only-of-type {\n",
              "        vertical-align: middle;\n",
              "    }\n",
              "\n",
              "    .dataframe tbody tr th {\n",
              "        vertical-align: top;\n",
              "    }\n",
              "\n",
              "    .dataframe thead th {\n",
              "        text-align: right;\n",
              "    }\n",
              "</style>\n",
              "<table border=\"1\" class=\"dataframe\">\n",
              "  <thead>\n",
              "    <tr style=\"text-align: right;\">\n",
              "      <th></th>\n",
              "      <th>CLAVE</th>\n",
              "      <th>SITIO</th>\n",
              "      <th>ORGANISMO_DE_CUENCA</th>\n",
              "      <th>ESTADO</th>\n",
              "      <th>MUNICIPIO</th>\n",
              "      <th>ACUIFERO</th>\n",
              "      <th>SUBTIPO</th>\n",
              "      <th>LONGITUD</th>\n",
              "      <th>LATITUD</th>\n",
              "      <th>ALC_mg/L</th>\n",
              "      <th>...</th>\n",
              "      <th>CUMPLE_CON_DUR</th>\n",
              "      <th>CUMPLE_CON_CF</th>\n",
              "      <th>CUMPLE_CON_NO3</th>\n",
              "      <th>CUMPLE_CON_AS</th>\n",
              "      <th>CUMPLE_CON_CD</th>\n",
              "      <th>CUMPLE_CON_CR</th>\n",
              "      <th>CUMPLE_CON_HG</th>\n",
              "      <th>CUMPLE_CON_PB</th>\n",
              "      <th>CUMPLE_CON_MN</th>\n",
              "      <th>CUMPLE_CON_FE</th>\n",
              "    </tr>\n",
              "  </thead>\n",
              "  <tbody>\n",
              "    <tr>\n",
              "      <th>0</th>\n",
              "      <td>DLAGU6</td>\n",
              "      <td>POZO SAN GIL</td>\n",
              "      <td>LERMA SANTIAGO PACIFICO</td>\n",
              "      <td>AGUASCALIENTES</td>\n",
              "      <td>ASIENTOS</td>\n",
              "      <td>VALLE DE CHICALOTE</td>\n",
              "      <td>POZO</td>\n",
              "      <td>-102.02210</td>\n",
              "      <td>22.20887</td>\n",
              "      <td>229.990</td>\n",
              "      <td>...</td>\n",
              "      <td>SI</td>\n",
              "      <td>SI</td>\n",
              "      <td>SI</td>\n",
              "      <td>SI</td>\n",
              "      <td>SI</td>\n",
              "      <td>SI</td>\n",
              "      <td>SI</td>\n",
              "      <td>SI</td>\n",
              "      <td>SI</td>\n",
              "      <td>SI</td>\n",
              "    </tr>\n",
              "    <tr>\n",
              "      <th>1</th>\n",
              "      <td>DLAGU6516</td>\n",
              "      <td>POZO R013 CAÑADA HONDA</td>\n",
              "      <td>LERMA SANTIAGO PACIFICO</td>\n",
              "      <td>AGUASCALIENTES</td>\n",
              "      <td>AGUASCALIENTES</td>\n",
              "      <td>VALLE DE CHICALOTE</td>\n",
              "      <td>POZO</td>\n",
              "      <td>-102.20075</td>\n",
              "      <td>21.99958</td>\n",
              "      <td>231.990</td>\n",
              "      <td>...</td>\n",
              "      <td>SI</td>\n",
              "      <td>SI</td>\n",
              "      <td>SI</td>\n",
              "      <td>SI</td>\n",
              "      <td>SI</td>\n",
              "      <td>SI</td>\n",
              "      <td>SI</td>\n",
              "      <td>SI</td>\n",
              "      <td>SI</td>\n",
              "      <td>SI</td>\n",
              "    </tr>\n",
              "    <tr>\n",
              "      <th>2</th>\n",
              "      <td>DLAGU7</td>\n",
              "      <td>POZO COSIO</td>\n",
              "      <td>LERMA SANTIAGO PACIFICO</td>\n",
              "      <td>AGUASCALIENTES</td>\n",
              "      <td>COSIO</td>\n",
              "      <td>VALLE DE AGUASCALIENTES</td>\n",
              "      <td>POZO</td>\n",
              "      <td>-102.28801</td>\n",
              "      <td>22.36685</td>\n",
              "      <td>204.920</td>\n",
              "      <td>...</td>\n",
              "      <td>SI</td>\n",
              "      <td>SI</td>\n",
              "      <td>SI</td>\n",
              "      <td>NO</td>\n",
              "      <td>SI</td>\n",
              "      <td>SI</td>\n",
              "      <td>SI</td>\n",
              "      <td>SI</td>\n",
              "      <td>SI</td>\n",
              "      <td>SI</td>\n",
              "    </tr>\n",
              "    <tr>\n",
              "      <th>3</th>\n",
              "      <td>DLAGU9</td>\n",
              "      <td>POZO EL SALITRILLO</td>\n",
              "      <td>LERMA SANTIAGO PACIFICO</td>\n",
              "      <td>AGUASCALIENTES</td>\n",
              "      <td>RINCON DE ROMOS</td>\n",
              "      <td>VALLE DE AGUASCALIENTES</td>\n",
              "      <td>POZO</td>\n",
              "      <td>-102.29449</td>\n",
              "      <td>22.18435</td>\n",
              "      <td>327.000</td>\n",
              "      <td>...</td>\n",
              "      <td>SI</td>\n",
              "      <td>SI</td>\n",
              "      <td>SI</td>\n",
              "      <td>SI</td>\n",
              "      <td>SI</td>\n",
              "      <td>SI</td>\n",
              "      <td>SI</td>\n",
              "      <td>SI</td>\n",
              "      <td>SI</td>\n",
              "      <td>SI</td>\n",
              "    </tr>\n",
              "    <tr>\n",
              "      <th>4</th>\n",
              "      <td>DLBAJ107</td>\n",
              "      <td>RANCHO EL TECOLOTE</td>\n",
              "      <td>PENINSULA DE BAJA CALIFORNIA</td>\n",
              "      <td>BAJA CALIFORNIA SUR</td>\n",
              "      <td>LA PAZ</td>\n",
              "      <td>TODOS SANTOS</td>\n",
              "      <td>POZO</td>\n",
              "      <td>-110.24480</td>\n",
              "      <td>23.45138</td>\n",
              "      <td>309.885</td>\n",
              "      <td>...</td>\n",
              "      <td>SI</td>\n",
              "      <td>SI</td>\n",
              "      <td>NO</td>\n",
              "      <td>SI</td>\n",
              "      <td>SI</td>\n",
              "      <td>SI</td>\n",
              "      <td>SI</td>\n",
              "      <td>SI</td>\n",
              "      <td>SI</td>\n",
              "      <td>SI</td>\n",
              "    </tr>\n",
              "  </tbody>\n",
              "</table>\n",
              "<p>5 rows × 55 columns</p>\n",
              "</div>\n",
              "      <button class=\"colab-df-convert\" onclick=\"convertToInteractive('df-af2c8fcd-3efa-4ce9-b707-6031fe133696')\"\n",
              "              title=\"Convert this dataframe to an interactive table.\"\n",
              "              style=\"display:none;\">\n",
              "        \n",
              "  <svg xmlns=\"http://www.w3.org/2000/svg\" height=\"24px\"viewBox=\"0 0 24 24\"\n",
              "       width=\"24px\">\n",
              "    <path d=\"M0 0h24v24H0V0z\" fill=\"none\"/>\n",
              "    <path d=\"M18.56 5.44l.94 2.06.94-2.06 2.06-.94-2.06-.94-.94-2.06-.94 2.06-2.06.94zm-11 1L8.5 8.5l.94-2.06 2.06-.94-2.06-.94L8.5 2.5l-.94 2.06-2.06.94zm10 10l.94 2.06.94-2.06 2.06-.94-2.06-.94-.94-2.06-.94 2.06-2.06.94z\"/><path d=\"M17.41 7.96l-1.37-1.37c-.4-.4-.92-.59-1.43-.59-.52 0-1.04.2-1.43.59L10.3 9.45l-7.72 7.72c-.78.78-.78 2.05 0 2.83L4 21.41c.39.39.9.59 1.41.59.51 0 1.02-.2 1.41-.59l7.78-7.78 2.81-2.81c.8-.78.8-2.07 0-2.86zM5.41 20L4 18.59l7.72-7.72 1.47 1.35L5.41 20z\"/>\n",
              "  </svg>\n",
              "      </button>\n",
              "      \n",
              "  <style>\n",
              "    .colab-df-container {\n",
              "      display:flex;\n",
              "      flex-wrap:wrap;\n",
              "      gap: 12px;\n",
              "    }\n",
              "\n",
              "    .colab-df-convert {\n",
              "      background-color: #E8F0FE;\n",
              "      border: none;\n",
              "      border-radius: 50%;\n",
              "      cursor: pointer;\n",
              "      display: none;\n",
              "      fill: #1967D2;\n",
              "      height: 32px;\n",
              "      padding: 0 0 0 0;\n",
              "      width: 32px;\n",
              "    }\n",
              "\n",
              "    .colab-df-convert:hover {\n",
              "      background-color: #E2EBFA;\n",
              "      box-shadow: 0px 1px 2px rgba(60, 64, 67, 0.3), 0px 1px 3px 1px rgba(60, 64, 67, 0.15);\n",
              "      fill: #174EA6;\n",
              "    }\n",
              "\n",
              "    [theme=dark] .colab-df-convert {\n",
              "      background-color: #3B4455;\n",
              "      fill: #D2E3FC;\n",
              "    }\n",
              "\n",
              "    [theme=dark] .colab-df-convert:hover {\n",
              "      background-color: #434B5C;\n",
              "      box-shadow: 0px 1px 3px 1px rgba(0, 0, 0, 0.15);\n",
              "      filter: drop-shadow(0px 1px 2px rgba(0, 0, 0, 0.3));\n",
              "      fill: #FFFFFF;\n",
              "    }\n",
              "  </style>\n",
              "\n",
              "      <script>\n",
              "        const buttonEl =\n",
              "          document.querySelector('#df-af2c8fcd-3efa-4ce9-b707-6031fe133696 button.colab-df-convert');\n",
              "        buttonEl.style.display =\n",
              "          google.colab.kernel.accessAllowed ? 'block' : 'none';\n",
              "\n",
              "        async function convertToInteractive(key) {\n",
              "          const element = document.querySelector('#df-af2c8fcd-3efa-4ce9-b707-6031fe133696');\n",
              "          const dataTable =\n",
              "            await google.colab.kernel.invokeFunction('convertToInteractive',\n",
              "                                                     [key], {});\n",
              "          if (!dataTable) return;\n",
              "\n",
              "          const docLinkHtml = 'Like what you see? Visit the ' +\n",
              "            '<a target=\"_blank\" href=https://colab.research.google.com/notebooks/data_table.ipynb>data table notebook</a>'\n",
              "            + ' to learn more about interactive tables.';\n",
              "          element.innerHTML = '';\n",
              "          dataTable['output_type'] = 'display_data';\n",
              "          await google.colab.output.renderOutput(dataTable, element);\n",
              "          const docLink = document.createElement('div');\n",
              "          docLink.innerHTML = docLinkHtml;\n",
              "          element.appendChild(docLink);\n",
              "        }\n",
              "      </script>\n",
              "    </div>\n",
              "  </div>\n",
              "  "
            ]
          },
          "metadata": {},
          "execution_count": 32
        }
      ]
    },
    {
      "cell_type": "code",
      "source": [
        "df_AguaSubterraneaCleaned.describe().T"
      ],
      "metadata": {
        "id": "pLND3gpfXljt",
        "outputId": "c8e45097-8df1-4eef-8e3d-2e0332aa1e4b",
        "colab": {
          "base_uri": "https://localhost:8080/",
          "height": 551
        }
      },
      "execution_count": 33,
      "outputs": [
        {
          "output_type": "execute_result",
          "data": {
            "text/plain": [
              "                      count         mean          std        min         25%  \\\n",
              "LONGITUD             1054.0  -101.848270     6.697568 -116.66425 -105.385170   \n",
              "LATITUD              1054.0    23.161796     3.875005   14.56115   20.224857   \n",
              "ALC_mg/L             1054.0   234.695266   111.147849   26.64000  164.257500   \n",
              "CONDUCT_mS/cm        1054.0  1142.726471  1248.990617  110.00000  506.000000   \n",
              "SDT_M_mg/L           1054.0   896.945797  2765.757924  101.20000  338.050000   \n",
              "FLUORUROS_mg/L       1054.0     1.078547     1.931204    0.20000    0.269475   \n",
              "DUR_mg/L             1054.0   349.893584   360.960153   20.00000  121.512000   \n",
              "COLI_FEC_NMP/100_mL  1054.0   359.734156  2065.705773    1.10000    1.100000   \n",
              "N_NO3_mg/L           1054.0     4.321651     8.378332    0.02000    0.651667   \n",
              "AS_TOT_mg/L          1054.0     0.019504     0.035051    0.01000    0.010000   \n",
              "CD_TOT_mg/L          1054.0     0.003030     0.000900    0.00300    0.003000   \n",
              "CR_TOT_mg/L          1054.0     0.013353     0.155412    0.00500    0.005000   \n",
              "HG_TOT_mg/L          1054.0     0.000557     0.000470    0.00050    0.000500   \n",
              "PB_TOT_mg/L          1054.0     0.005285     0.003276    0.00500    0.005000   \n",
              "MN_TOT_mg/L          1054.0     0.072960     0.378856    0.00150    0.001500   \n",
              "FE_TOT_mg/L          1054.0     0.412234     5.574307    0.02500    0.025000   \n",
              "\n",
              "                            50%          75%           max  \n",
              "LONGITUD            -102.170665   -98.971268    -86.864120  \n",
              "LATITUD               22.640705    25.508770     32.677713  \n",
              "ALC_mg/L             215.825000   292.930000   1650.000000  \n",
              "CONDUCT_mS/cm        820.000000  1328.000000  18577.000000  \n",
              "SDT_M_mg/L           551.400000   915.600000  82170.000000  \n",
              "FLUORUROS_mg/L         0.506950     1.142400     34.803300  \n",
              "DUR_mg/L             245.994450   455.617200   3810.692200  \n",
              "COLI_FEC_NMP/100_mL    1.100000    10.750000  24196.000000  \n",
              "N_NO3_mg/L             2.082916     5.190385    121.007813  \n",
              "AS_TOT_mg/L            0.010000     0.010000      0.452200  \n",
              "CD_TOT_mg/L            0.003000     0.003000      0.032110  \n",
              "CR_TOT_mg/L            0.005000     0.005000      5.003200  \n",
              "HG_TOT_mg/L            0.000500     0.000500      0.014150  \n",
              "PB_TOT_mg/L            0.005000     0.005000      0.080900  \n",
              "MN_TOT_mg/L            0.001500     0.009830      8.982000  \n",
              "FE_TOT_mg/L            0.046900     0.172275    178.615000  "
            ],
            "text/html": [
              "\n",
              "  <div id=\"df-b6532f55-7a2a-4cee-b15e-769b8f722a8a\">\n",
              "    <div class=\"colab-df-container\">\n",
              "      <div>\n",
              "<style scoped>\n",
              "    .dataframe tbody tr th:only-of-type {\n",
              "        vertical-align: middle;\n",
              "    }\n",
              "\n",
              "    .dataframe tbody tr th {\n",
              "        vertical-align: top;\n",
              "    }\n",
              "\n",
              "    .dataframe thead th {\n",
              "        text-align: right;\n",
              "    }\n",
              "</style>\n",
              "<table border=\"1\" class=\"dataframe\">\n",
              "  <thead>\n",
              "    <tr style=\"text-align: right;\">\n",
              "      <th></th>\n",
              "      <th>count</th>\n",
              "      <th>mean</th>\n",
              "      <th>std</th>\n",
              "      <th>min</th>\n",
              "      <th>25%</th>\n",
              "      <th>50%</th>\n",
              "      <th>75%</th>\n",
              "      <th>max</th>\n",
              "    </tr>\n",
              "  </thead>\n",
              "  <tbody>\n",
              "    <tr>\n",
              "      <th>LONGITUD</th>\n",
              "      <td>1054.0</td>\n",
              "      <td>-101.848270</td>\n",
              "      <td>6.697568</td>\n",
              "      <td>-116.66425</td>\n",
              "      <td>-105.385170</td>\n",
              "      <td>-102.170665</td>\n",
              "      <td>-98.971268</td>\n",
              "      <td>-86.864120</td>\n",
              "    </tr>\n",
              "    <tr>\n",
              "      <th>LATITUD</th>\n",
              "      <td>1054.0</td>\n",
              "      <td>23.161796</td>\n",
              "      <td>3.875005</td>\n",
              "      <td>14.56115</td>\n",
              "      <td>20.224857</td>\n",
              "      <td>22.640705</td>\n",
              "      <td>25.508770</td>\n",
              "      <td>32.677713</td>\n",
              "    </tr>\n",
              "    <tr>\n",
              "      <th>ALC_mg/L</th>\n",
              "      <td>1054.0</td>\n",
              "      <td>234.695266</td>\n",
              "      <td>111.147849</td>\n",
              "      <td>26.64000</td>\n",
              "      <td>164.257500</td>\n",
              "      <td>215.825000</td>\n",
              "      <td>292.930000</td>\n",
              "      <td>1650.000000</td>\n",
              "    </tr>\n",
              "    <tr>\n",
              "      <th>CONDUCT_mS/cm</th>\n",
              "      <td>1054.0</td>\n",
              "      <td>1142.726471</td>\n",
              "      <td>1248.990617</td>\n",
              "      <td>110.00000</td>\n",
              "      <td>506.000000</td>\n",
              "      <td>820.000000</td>\n",
              "      <td>1328.000000</td>\n",
              "      <td>18577.000000</td>\n",
              "    </tr>\n",
              "    <tr>\n",
              "      <th>SDT_M_mg/L</th>\n",
              "      <td>1054.0</td>\n",
              "      <td>896.945797</td>\n",
              "      <td>2765.757924</td>\n",
              "      <td>101.20000</td>\n",
              "      <td>338.050000</td>\n",
              "      <td>551.400000</td>\n",
              "      <td>915.600000</td>\n",
              "      <td>82170.000000</td>\n",
              "    </tr>\n",
              "    <tr>\n",
              "      <th>FLUORUROS_mg/L</th>\n",
              "      <td>1054.0</td>\n",
              "      <td>1.078547</td>\n",
              "      <td>1.931204</td>\n",
              "      <td>0.20000</td>\n",
              "      <td>0.269475</td>\n",
              "      <td>0.506950</td>\n",
              "      <td>1.142400</td>\n",
              "      <td>34.803300</td>\n",
              "    </tr>\n",
              "    <tr>\n",
              "      <th>DUR_mg/L</th>\n",
              "      <td>1054.0</td>\n",
              "      <td>349.893584</td>\n",
              "      <td>360.960153</td>\n",
              "      <td>20.00000</td>\n",
              "      <td>121.512000</td>\n",
              "      <td>245.994450</td>\n",
              "      <td>455.617200</td>\n",
              "      <td>3810.692200</td>\n",
              "    </tr>\n",
              "    <tr>\n",
              "      <th>COLI_FEC_NMP/100_mL</th>\n",
              "      <td>1054.0</td>\n",
              "      <td>359.734156</td>\n",
              "      <td>2065.705773</td>\n",
              "      <td>1.10000</td>\n",
              "      <td>1.100000</td>\n",
              "      <td>1.100000</td>\n",
              "      <td>10.750000</td>\n",
              "      <td>24196.000000</td>\n",
              "    </tr>\n",
              "    <tr>\n",
              "      <th>N_NO3_mg/L</th>\n",
              "      <td>1054.0</td>\n",
              "      <td>4.321651</td>\n",
              "      <td>8.378332</td>\n",
              "      <td>0.02000</td>\n",
              "      <td>0.651667</td>\n",
              "      <td>2.082916</td>\n",
              "      <td>5.190385</td>\n",
              "      <td>121.007813</td>\n",
              "    </tr>\n",
              "    <tr>\n",
              "      <th>AS_TOT_mg/L</th>\n",
              "      <td>1054.0</td>\n",
              "      <td>0.019504</td>\n",
              "      <td>0.035051</td>\n",
              "      <td>0.01000</td>\n",
              "      <td>0.010000</td>\n",
              "      <td>0.010000</td>\n",
              "      <td>0.010000</td>\n",
              "      <td>0.452200</td>\n",
              "    </tr>\n",
              "    <tr>\n",
              "      <th>CD_TOT_mg/L</th>\n",
              "      <td>1054.0</td>\n",
              "      <td>0.003030</td>\n",
              "      <td>0.000900</td>\n",
              "      <td>0.00300</td>\n",
              "      <td>0.003000</td>\n",
              "      <td>0.003000</td>\n",
              "      <td>0.003000</td>\n",
              "      <td>0.032110</td>\n",
              "    </tr>\n",
              "    <tr>\n",
              "      <th>CR_TOT_mg/L</th>\n",
              "      <td>1054.0</td>\n",
              "      <td>0.013353</td>\n",
              "      <td>0.155412</td>\n",
              "      <td>0.00500</td>\n",
              "      <td>0.005000</td>\n",
              "      <td>0.005000</td>\n",
              "      <td>0.005000</td>\n",
              "      <td>5.003200</td>\n",
              "    </tr>\n",
              "    <tr>\n",
              "      <th>HG_TOT_mg/L</th>\n",
              "      <td>1054.0</td>\n",
              "      <td>0.000557</td>\n",
              "      <td>0.000470</td>\n",
              "      <td>0.00050</td>\n",
              "      <td>0.000500</td>\n",
              "      <td>0.000500</td>\n",
              "      <td>0.000500</td>\n",
              "      <td>0.014150</td>\n",
              "    </tr>\n",
              "    <tr>\n",
              "      <th>PB_TOT_mg/L</th>\n",
              "      <td>1054.0</td>\n",
              "      <td>0.005285</td>\n",
              "      <td>0.003276</td>\n",
              "      <td>0.00500</td>\n",
              "      <td>0.005000</td>\n",
              "      <td>0.005000</td>\n",
              "      <td>0.005000</td>\n",
              "      <td>0.080900</td>\n",
              "    </tr>\n",
              "    <tr>\n",
              "      <th>MN_TOT_mg/L</th>\n",
              "      <td>1054.0</td>\n",
              "      <td>0.072960</td>\n",
              "      <td>0.378856</td>\n",
              "      <td>0.00150</td>\n",
              "      <td>0.001500</td>\n",
              "      <td>0.001500</td>\n",
              "      <td>0.009830</td>\n",
              "      <td>8.982000</td>\n",
              "    </tr>\n",
              "    <tr>\n",
              "      <th>FE_TOT_mg/L</th>\n",
              "      <td>1054.0</td>\n",
              "      <td>0.412234</td>\n",
              "      <td>5.574307</td>\n",
              "      <td>0.02500</td>\n",
              "      <td>0.025000</td>\n",
              "      <td>0.046900</td>\n",
              "      <td>0.172275</td>\n",
              "      <td>178.615000</td>\n",
              "    </tr>\n",
              "  </tbody>\n",
              "</table>\n",
              "</div>\n",
              "      <button class=\"colab-df-convert\" onclick=\"convertToInteractive('df-b6532f55-7a2a-4cee-b15e-769b8f722a8a')\"\n",
              "              title=\"Convert this dataframe to an interactive table.\"\n",
              "              style=\"display:none;\">\n",
              "        \n",
              "  <svg xmlns=\"http://www.w3.org/2000/svg\" height=\"24px\"viewBox=\"0 0 24 24\"\n",
              "       width=\"24px\">\n",
              "    <path d=\"M0 0h24v24H0V0z\" fill=\"none\"/>\n",
              "    <path d=\"M18.56 5.44l.94 2.06.94-2.06 2.06-.94-2.06-.94-.94-2.06-.94 2.06-2.06.94zm-11 1L8.5 8.5l.94-2.06 2.06-.94-2.06-.94L8.5 2.5l-.94 2.06-2.06.94zm10 10l.94 2.06.94-2.06 2.06-.94-2.06-.94-.94-2.06-.94 2.06-2.06.94z\"/><path d=\"M17.41 7.96l-1.37-1.37c-.4-.4-.92-.59-1.43-.59-.52 0-1.04.2-1.43.59L10.3 9.45l-7.72 7.72c-.78.78-.78 2.05 0 2.83L4 21.41c.39.39.9.59 1.41.59.51 0 1.02-.2 1.41-.59l7.78-7.78 2.81-2.81c.8-.78.8-2.07 0-2.86zM5.41 20L4 18.59l7.72-7.72 1.47 1.35L5.41 20z\"/>\n",
              "  </svg>\n",
              "      </button>\n",
              "      \n",
              "  <style>\n",
              "    .colab-df-container {\n",
              "      display:flex;\n",
              "      flex-wrap:wrap;\n",
              "      gap: 12px;\n",
              "    }\n",
              "\n",
              "    .colab-df-convert {\n",
              "      background-color: #E8F0FE;\n",
              "      border: none;\n",
              "      border-radius: 50%;\n",
              "      cursor: pointer;\n",
              "      display: none;\n",
              "      fill: #1967D2;\n",
              "      height: 32px;\n",
              "      padding: 0 0 0 0;\n",
              "      width: 32px;\n",
              "    }\n",
              "\n",
              "    .colab-df-convert:hover {\n",
              "      background-color: #E2EBFA;\n",
              "      box-shadow: 0px 1px 2px rgba(60, 64, 67, 0.3), 0px 1px 3px 1px rgba(60, 64, 67, 0.15);\n",
              "      fill: #174EA6;\n",
              "    }\n",
              "\n",
              "    [theme=dark] .colab-df-convert {\n",
              "      background-color: #3B4455;\n",
              "      fill: #D2E3FC;\n",
              "    }\n",
              "\n",
              "    [theme=dark] .colab-df-convert:hover {\n",
              "      background-color: #434B5C;\n",
              "      box-shadow: 0px 1px 3px 1px rgba(0, 0, 0, 0.15);\n",
              "      filter: drop-shadow(0px 1px 2px rgba(0, 0, 0, 0.3));\n",
              "      fill: #FFFFFF;\n",
              "    }\n",
              "  </style>\n",
              "\n",
              "      <script>\n",
              "        const buttonEl =\n",
              "          document.querySelector('#df-b6532f55-7a2a-4cee-b15e-769b8f722a8a button.colab-df-convert');\n",
              "        buttonEl.style.display =\n",
              "          google.colab.kernel.accessAllowed ? 'block' : 'none';\n",
              "\n",
              "        async function convertToInteractive(key) {\n",
              "          const element = document.querySelector('#df-b6532f55-7a2a-4cee-b15e-769b8f722a8a');\n",
              "          const dataTable =\n",
              "            await google.colab.kernel.invokeFunction('convertToInteractive',\n",
              "                                                     [key], {});\n",
              "          if (!dataTable) return;\n",
              "\n",
              "          const docLinkHtml = 'Like what you see? Visit the ' +\n",
              "            '<a target=\"_blank\" href=https://colab.research.google.com/notebooks/data_table.ipynb>data table notebook</a>'\n",
              "            + ' to learn more about interactive tables.';\n",
              "          element.innerHTML = '';\n",
              "          dataTable['output_type'] = 'display_data';\n",
              "          await google.colab.output.renderOutput(dataTable, element);\n",
              "          const docLink = document.createElement('div');\n",
              "          docLink.innerHTML = docLinkHtml;\n",
              "          element.appendChild(docLink);\n",
              "        }\n",
              "      </script>\n",
              "    </div>\n",
              "  </div>\n",
              "  "
            ]
          },
          "metadata": {},
          "execution_count": 33
        }
      ]
    },
    {
      "cell_type": "markdown",
      "source": [
        "Lets the histogram from the numeric values"
      ],
      "metadata": {
        "id": "DZNnCC4JZLyq"
      }
    },
    {
      "cell_type": "code",
      "source": [
        "df_AguaSubterraneaCleaned[numericas].hist(bins = 50, figsize=(25,25))"
      ],
      "metadata": {
        "id": "oUwv5C9AY4lz",
        "outputId": "3a0629f8-5bbe-4450-9c34-d47b12700cc2",
        "colab": {
          "base_uri": "https://localhost:8080/",
          "height": 1000
        }
      },
      "execution_count": 34,
      "outputs": [
        {
          "output_type": "execute_result",
          "data": {
            "text/plain": [
              "array([[<matplotlib.axes._subplots.AxesSubplot object at 0x7f23387e7650>,\n",
              "        <matplotlib.axes._subplots.AxesSubplot object at 0x7f23387bcbd0>,\n",
              "        <matplotlib.axes._subplots.AxesSubplot object at 0x7f2338780210>,\n",
              "        <matplotlib.axes._subplots.AxesSubplot object at 0x7f2338735810>],\n",
              "       [<matplotlib.axes._subplots.AxesSubplot object at 0x7f23386ebe10>,\n",
              "        <matplotlib.axes._subplots.AxesSubplot object at 0x7f23386af450>,\n",
              "        <matplotlib.axes._subplots.AxesSubplot object at 0x7f2338664ad0>,\n",
              "        <matplotlib.axes._subplots.AxesSubplot object at 0x7f233860fb90>],\n",
              "       [<matplotlib.axes._subplots.AxesSubplot object at 0x7f2338629090>,\n",
              "        <matplotlib.axes._subplots.AxesSubplot object at 0x7f23385df7d0>,\n",
              "        <matplotlib.axes._subplots.AxesSubplot object at 0x7f233855b310>,\n",
              "        <matplotlib.axes._subplots.AxesSubplot object at 0x7f233850e910>],\n",
              "       [<matplotlib.axes._subplots.AxesSubplot object at 0x7f2338545f10>,\n",
              "        <matplotlib.axes._subplots.AxesSubplot object at 0x7f2338508550>,\n",
              "        <matplotlib.axes._subplots.AxesSubplot object at 0x7f23384bdb50>,\n",
              "        <matplotlib.axes._subplots.AxesSubplot object at 0x7f2338482190>]],\n",
              "      dtype=object)"
            ]
          },
          "metadata": {},
          "execution_count": 34
        },
        {
          "output_type": "display_data",
          "data": {
            "text/plain": [
              "<Figure size 1800x1800 with 16 Axes>"
            ],
            "image/png": "[encoded data removed]"
          },
          "metadata": {
            "needs_background": "light"
          }
        }
      ]
    },
    {
      "cell_type": "markdown",
      "source": [
        "We can see that the data is skewed to the right"
      ],
      "metadata": {
        "id": "aFA6GPkpatlY"
      }
    },
    {
      "cell_type": "code",
      "source": [
        "scaler = MinMaxScaler(feature_range=(0, 1))\n",
        "df_AguaSubterraneaCleaned[numericas] = scaler.fit_transform(df_AguaSubterraneaCleaned[numericas])\n",
        "df_AguaSubterraneaCleaned[numericas].hist(bins = 50, figsize=(25,25))"
      ],
      "metadata": {
        "id": "yvzHd4FhuOur",
        "outputId": "5850daee-2e47-4897-8935-c91440b4a99d",
        "colab": {
          "base_uri": "https://localhost:8080/",
          "height": 1000
        }
      },
      "execution_count": 35,
      "outputs": [
        {
          "output_type": "execute_result",
          "data": {
            "text/plain": [
              "array([[<matplotlib.axes._subplots.AxesSubplot object at 0x7f2337a43810>,\n",
              "        <matplotlib.axes._subplots.AxesSubplot object at 0x7f233738d5d0>,\n",
              "        <matplotlib.axes._subplots.AxesSubplot object at 0x7f23373a1ad0>,\n",
              "        <matplotlib.axes._subplots.AxesSubplot object at 0x7f23373b2b10>],\n",
              "       [<matplotlib.axes._subplots.AxesSubplot object at 0x7f2335b60510>,\n",
              "        <matplotlib.axes._subplots.AxesSubplot object at 0x7f2335b0ca10>,\n",
              "        <matplotlib.axes._subplots.AxesSubplot object at 0x7f2335abcf90>,\n",
              "        <matplotlib.axes._subplots.AxesSubplot object at 0x7f2335a7e410>],\n",
              "       [<matplotlib.axes._subplots.AxesSubplot object at 0x7f2335a7e450>,\n",
              "        <matplotlib.axes._subplots.AxesSubplot object at 0x7f2335ab1a50>,\n",
              "        <matplotlib.axes._subplots.AxesSubplot object at 0x7f2335a2a390>,\n",
              "        <matplotlib.axes._subplots.AxesSubplot object at 0x7f23359e2890>],\n",
              "       [<matplotlib.axes._subplots.AxesSubplot object at 0x7f2335997d90>,\n",
              "        <matplotlib.axes._subplots.AxesSubplot object at 0x7f233595c2d0>,\n",
              "        <matplotlib.axes._subplots.AxesSubplot object at 0x7f23359117d0>,\n",
              "        <matplotlib.axes._subplots.AxesSubplot object at 0x7f23358c9cd0>]],\n",
              "      dtype=object)"
            ]
          },
          "metadata": {},
          "execution_count": 35
        },
        {
          "output_type": "display_data",
          "data": {
            "text/plain": [
              "<Figure size 1800x1800 with 16 Axes>"
            ],
            "image/png": "[encoded data removed]"
          },
          "metadata": {
            "needs_background": "light"
          }
        }
      ]
    },
    {
      "cell_type": "code",
      "source": [
        "df_AguaSubterraneaCleaned[numericas].boxplot(figsize=(20,40),showmeans=True)"
      ],
      "metadata": {
        "id": "C2n6pJ6-1BfW",
        "outputId": "bcb64529-a930-4732-9529-1401be3f74d7",
        "colab": {
          "base_uri": "https://localhost:8080/",
          "height": 1000
        }
      },
      "execution_count": 36,
      "outputs": [
        {
          "output_type": "execute_result",
          "data": {
            "text/plain": [
              "<matplotlib.axes._subplots.AxesSubplot at 0x7f2334f2f4d0>"
            ]
          },
          "metadata": {},
          "execution_count": 36
        },
        {
          "output_type": "display_data",
          "data": {
            "text/plain": [
              "<Figure size 1440x2880 with 1 Axes>"
            ],
            "image/png": "[encoded data removed]"
          },
          "metadata": {
            "needs_background": "light"
          }
        }
      ]
    },
    {
      "cell_type": "code",
      "source": [
        "plt.figure(figsize=(20,15))\n",
        "sns.heatmap(df_AguaSubterraneaCleaned[numericas].corr(), annot=True, cmap='Reds')\n",
        "plt.show()"
      ],
      "metadata": {
        "id": "Wjj3Nq3B1XYX",
        "outputId": "79ce3301-c456-4a5a-acc0-b3dfaeb64402",
        "colab": {
          "base_uri": "https://localhost:8080/",
          "height": 974
        }
      },
      "execution_count": 40,
      "outputs": [
        {
          "output_type": "display_data",
          "data": {
            "text/plain": [
              "<Figure size 1440x1080 with 2 Axes>"
            ],
            "image/png": "[encoded data removed]"
          },
          "metadata": {
            "needs_background": "light"
          }
        }
      ]
    },
    {
      "cell_type": "code",
      "source": [
        "#df_AguaSubterraneaCleaned['SEMAFORO'][df_AguaSubterraneaCleaned['CUMPLE_CON_CF'] ==\"NO\"].unique()"
      ],
      "metadata": {
        "id": "Pz_oVnB4dx7_"
      },
      "execution_count": 38,
      "outputs": []
    },
    {
      "cell_type": "code",
      "source": [
        "#df_AguaSubterraneaCleaned.loc[17]"
      ],
      "metadata": {
        "id": "ZtnlR-oJc3Pz"
      },
      "execution_count": 39,
      "outputs": []
    }
  ]
}