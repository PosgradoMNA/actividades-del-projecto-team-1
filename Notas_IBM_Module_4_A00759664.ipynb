{
  "nbformat": 4,
  "nbformat_minor": 0,
  "metadata": {
    "colab": {
      "provenance": [],
      "authorship_tag": "ABX9TyNABXpBrOni2Sb7McFF0rtQ",
      "include_colab_link": true
    },
    "kernelspec": {
      "name": "python3",
      "display_name": "Python 3"
    },
    "language_info": {
      "name": "python"
    }
  },
  "cells": [
    {
      "cell_type": "markdown",
      "metadata": {
        "id": "view-in-github",
        "colab_type": "text"
      },
      "source": [
        "<a href=\"https://colab.research.google.com/github/PosgradoMNA/actividades-del-projecto-team-1/blob/main/Notas_IBM_Module_4_A00759664.ipynb\" target=\"_parent\"><img src=\"https://colab.research.google.com/assets/colab-badge.svg\" alt=\"Open In Colab\"/></a>"
      ]
    },
    {
      "cell_type": "markdown",
      "source": [
        "JOEL ORLANDO HERNÁNDEZ RAMOS\n",
        "\n",
        "A00759664"
      ],
      "metadata": {
        "id": "7cfTFsUQZjD0"
      }
    },
    {
      "cell_type": "markdown",
      "source": [
        "**FIRST VIDEO SUMMARY: READING FILES WITH OPEN**\n",
        "\n",
        "\n",
        "In python we can use the function \"open\" to get a file object. For example:<br>\n",
        "\n",
        "file1= open(\"nameofthefile.txt, w\") <br>\n",
        "where the function is open, then we have the path and finally w is the mode (w=writing).\n",
        "\n",
        "Attributes of the object file are .name, .mode. \n",
        "\n",
        "As for methods, we can use:\n",
        "\n",
        "*   .close() to close the file reading\n",
        "*   .readlines() to output every line as en element in a list. \n",
        "*   .read read the whole file. If inside the parenthesis we specify a number this number will print the corresponding amount of characters in the string. \n",
        "\n",
        "The with statemtent automatically closes the file when we stop coding inside the corresponding indexation to the statement. \n",
        "\n",
        "\n",
        "\n"
      ],
      "metadata": {
        "id": "3Ha-S_2ENFgV"
      }
    },
    {
      "cell_type": "code",
      "source": [
        "file1=open(\"/content/sample_data/README.md\")\n",
        "print(file1)\n",
        "\n",
        "file1.name\n",
        "file1.mode\n"
      ],
      "metadata": {
        "colab": {
          "base_uri": "https://localhost:8080/",
          "height": 53
        },
        "id": "YY-l8MXtPlV0",
        "outputId": "9a00a094-1ffe-4be1-c183-44a6f49717d8"
      },
      "execution_count": 8,
      "outputs": [
        {
          "output_type": "stream",
          "name": "stdout",
          "text": [
            "<_io.TextIOWrapper name='/content/sample_data/README.md' mode='r' encoding='UTF-8'>\n"
          ]
        },
        {
          "output_type": "execute_result",
          "data": {
            "text/plain": [
              "'r'"
            ],
            "application/vnd.google.colaboratory.intrinsic+json": {
              "type": "string"
            }
          },
          "metadata": {},
          "execution_count": 8
        }
      ]
    },
    {
      "cell_type": "markdown",
      "source": [
        "**IMPORTANT NOTES ON THE LAB FOR READING FILES WITH OPEN**"
      ],
      "metadata": {
        "id": "vckV5r9iTAlT"
      }
    },
    {
      "cell_type": "code",
      "source": [
        "##This cell should only be run once to download the example file from the lab.\n",
        "\n",
        "import urllib.request\n",
        "url = 'https://cf-courses-data.s3.us.cloud-object-storage.appdomain.cloud/IBMDeveloperSkillsNetwork-PY0101EN-SkillsNetwork/labs/Module%204/data/example1.txt'\n",
        "filename = 'Example1.txt'\n",
        "urllib.request.urlretrieve(url, filename)\n",
        "!wget -O /resources/data/Example1.txt  https://cf-courses-data.s3.us.cloud-object-storage.appdomain.cloud/IBMDeveloperSkillsNetwork-PY0101EN-SkillsNetwork/labs/Module%204/data/example1.txt"
      ],
      "metadata": {
        "id": "j7volx2OT0st"
      },
      "execution_count": null,
      "outputs": []
    },
    {
      "cell_type": "code",
      "source": [
        "example1 = \"Example1.txt\"\n",
        "file1 = open(example1, \"r\") #abrir el archivo #reading is the default mode for opening a file\n",
        "\n",
        "file1.name    #atributo del objeto file1 \n",
        "\n",
        "FileCnt = file1.read()  #read is a function that literally prints what is inside the file. In this case it also reads the blank spaces given by /n\n",
        "FileCnt"
      ],
      "metadata": {
        "colab": {
          "base_uri": "https://localhost:8080/",
          "height": 35
        },
        "id": "2zWKaqbeRL9Q",
        "outputId": "e4eccfc3-e72f-43c1-a3d1-b2e4802b21f2"
      },
      "execution_count": 49,
      "outputs": [
        {
          "output_type": "execute_result",
          "data": {
            "text/plain": [
              "'This is line 1 \\nThis is line 2\\nThis is line 3'"
            ],
            "application/vnd.google.colaboratory.intrinsic+json": {
              "type": "string"
            }
          },
          "metadata": {},
          "execution_count": 49
        }
      ]
    },
    {
      "cell_type": "code",
      "source": [
        "with open(example1, \"r\") as file1: # with statement automatically closes the file.\n",
        "    FileCnt = file1.read() #reads the whole file\n",
        "    print(FileCnt)\n",
        "\n",
        "with open(example1, \"r\") as file1:\n",
        "    print(file1.read(4)) #does not read the whole files but only four characters specified in the parenthesis\n",
        "    print(file1.readline(20)) # continue reading the next characters. However, because we are using readlines this will not read past the content of the line. \n",
        "    print(file1.read(20)) # Returns the next 20 chars. Read does prints beyond the line"
      ],
      "metadata": {
        "colab": {
          "base_uri": "https://localhost:8080/"
        },
        "id": "O0PHGwnLUaV5",
        "outputId": "090e1598-3f07-47c7-db64-aa2d00183fb6"
      },
      "execution_count": 51,
      "outputs": [
        {
          "output_type": "stream",
          "name": "stdout",
          "text": [
            "This is line 1 \n",
            "This is line 2\n",
            "This is line 3\n",
            "This\n",
            " is line 1 \n",
            "\n",
            "This is line 2\n",
            "This \n"
          ]
        }
      ]
    },
    {
      "cell_type": "markdown",
      "source": [
        "**SECOND VIDEO SUMMARY: WRITING FILES WITH OPEN**\n",
        "\n",
        "\n",
        "In python we can use the function \"write\" to get a write data into that file object. For example:<br>\n",
        "\n",
        "file1= open(\"nameofthefile.txt, w\") <br>\n",
        "where the function is open, then we have the path and finally w is the mode (w=writing). By specifing that we want the writing mode we imply to python that we want to create a file where we will be sending information to be stored. If there is a file in the path wiht the same name as the one you specified in your code this will re-written. \n",
        "\n",
        "file1.write('This is line A') will input the quoted text into the file we just created. \n",
        "\n",
        "file1= open(\"nameofthefile.txt, a\") <br>\n",
        "\n",
        "In this case, the only thing that we are changing is the mode to append. When we usi this mode it allows us to write over a existing file. \n",
        "\n",
        "Finally, it is imporatnt to mention that we can copy one file to a new file by using the readfile function.\n"
      ],
      "metadata": {
        "id": "RP_es948Woqf"
      }
    },
    {
      "cell_type": "markdown",
      "source": [
        "**IMPORTANT NOTES ON THE LAB FOR WRITING FILES WITH OPEN**"
      ],
      "metadata": {
        "id": "Ib-ayCHjadWB"
      }
    },
    {
      "cell_type": "code",
      "source": [
        "ejemplo2 = 'Example2.txt'\n",
        "with open(ejemplo2, 'w') as writefile:    #we create a file \n",
        "    writefile.write(\"This is line A\") #we write inside the file\n",
        "    \n",
        "    #print(writefile.read()) # is we try to execute this line we would get an error because the file is not readble. We would need to call it in \"r\" mode when opening.\n",
        "\n",
        "with open(ejemplo2, 'r') as readthewrittenfile: #here we open ejemplo2 as readable so therefore we can print its content. \n",
        "    print(readthewrittenfile.read())  \n",
        "\n",
        "\n"
      ],
      "metadata": {
        "colab": {
          "base_uri": "https://localhost:8080/"
        },
        "id": "MpkrTb5Hab9L",
        "outputId": "a9d01e76-dde2-4b67-ca4a-7ddd71565f4f"
      },
      "execution_count": 67,
      "outputs": [
        {
          "output_type": "stream",
          "name": "stdout",
          "text": [
            "This is line A\n"
          ]
        }
      ]
    },
    {
      "cell_type": "code",
      "source": [
        "#There are several ways we can add information to the file we can do it manually\n",
        "\n",
        "with open(ejemplo2, 'w') as writefile:\n",
        "    writefile.write(\"This is line A\\n\")\n",
        "    writefile.write(\"This is line B\\n\")\n",
        "\n",
        "# we can also use a list as an input. \n",
        "\n",
        "Lines = [\"This is line A\\n\", \"This is line B\\n\", \"This is line C\\n\"]\n",
        "with open('Example2.txt', 'w') as writefile:\n",
        "    for line in Lines:\n",
        "        print(line)\n",
        "        writefile.write(line)"
      ],
      "metadata": {
        "colab": {
          "base_uri": "https://localhost:8080/"
        },
        "id": "lX1W91cec9jd",
        "outputId": "94c4237a-c380-45e8-8d1f-c364b548cb8f"
      },
      "execution_count": 75,
      "outputs": [
        {
          "output_type": "stream",
          "name": "stdout",
          "text": [
            "This is line A\n",
            "\n",
            "This is line B\n",
            "\n",
            "This is line C\n",
            "\n"
          ]
        }
      ]
    },
    {
      "cell_type": "code",
      "source": [
        "#remember that every time we open a file an set it in w mode then we are overwritting it\n",
        "with open('Example2.txt', 'w') as writefile:\n",
        "    writefile.write(\"Overwrite\\n\")\n",
        "with open('Example2.txt', 'r') as testwritefile:\n",
        "    print(testwritefile.read())  #here you will notice that line a b c will be deleted and only the word Overwrite will appear."
      ],
      "metadata": {
        "colab": {
          "base_uri": "https://localhost:8080/"
        },
        "id": "s4c0-w1QdWXG",
        "outputId": "b9a4b269-658e-4b3d-a41f-5e2eb703dde9"
      },
      "execution_count": 76,
      "outputs": [
        {
          "output_type": "stream",
          "name": "stdout",
          "text": [
            "Overwrite\n",
            "\n"
          ]
        }
      ]
    },
    {
      "cell_type": "code",
      "source": [
        "with open('Example2.txt', 'a') as testwritefile:  # we cann add information to an existing file by using the append mode(a)\n",
        "    testwritefile.write(\"This is line C\\n\")\n",
        "    testwritefile.write(\"This is line D\\n\")\n",
        "    testwritefile.write(\"This is line E\\n\")\n",
        "with open('Example2.txt', 'r') as testwritefile:\n",
        "    print(testwritefile.read())"
      ],
      "metadata": {
        "colab": {
          "base_uri": "https://localhost:8080/"
        },
        "id": "o7_4do-Re-yE",
        "outputId": "0a78a8e2-e81e-4f20-c031-d2e92876b1f8"
      },
      "execution_count": 77,
      "outputs": [
        {
          "output_type": "stream",
          "name": "stdout",
          "text": [
            "Overwrite\n",
            "This is line C\n",
            "This is line D\n",
            "This is line E\n",
            "\n"
          ]
        }
      ]
    },
    {
      "cell_type": "markdown",
      "source": [
        "There are some extra modes that avoids us from opening and closing a file to change between read and write. (as we have been doing in our code)\n",
        "\n",
        "*  r+ : Reading and writing. Cannot truncate the file.\n",
        "\n",
        "*  w+ : Writing and reading. Truncates the file.\n",
        "\n",
        "*  a+ : Appending and Reading. Creates a new file, if none exists.\n",
        "\n",
        "When using the appending and reading mode you should know that the location in the file where the cursor is. Therefore, we should use . tell and . seek(offset, from). The first one returns the current position in bytes, while the second changes the position by 'offset' bytes with respect to 'from'.\n",
        "\n"
      ],
      "metadata": {
        "id": "WsyuQFxFfKm0"
      }
    },
    {
      "cell_type": "code",
      "source": [
        "with open('Example2.txt', 'a+') as testwritefile:\n",
        "    print(\"Initial Location: {}\".format(testwritefile.tell()))\n",
        "    \n",
        "    data = testwritefile.read()\n",
        "    if (not data):  #this condition returns false when there are empty strings\n",
        "            print('Read nothing') \n",
        "    else: \n",
        "            print(testwritefile.read())\n",
        "            \n",
        "    testwritefile.seek(0,0) # move 0 bytes from beginning.\n",
        "    \n",
        "    print(\"\\nNew Location : {}\".format(testwritefile.tell()))\n",
        "    data = testwritefile.read()\n",
        "    if (not data):   #this condition returns false when there are empty strings\n",
        "            print('Read nothing') \n",
        "    else: \n",
        "            print(data)\n",
        "    \n",
        "    print(\"Location after read: {}\".format(testwritefile.tell()) )"
      ],
      "metadata": {
        "colab": {
          "base_uri": "https://localhost:8080/"
        },
        "id": "_PeOmFcIhIi-",
        "outputId": "1b0c932f-fd76-45ce-957f-d82d54890303"
      },
      "execution_count": 78,
      "outputs": [
        {
          "output_type": "stream",
          "name": "stdout",
          "text": [
            "Initial Location: 55\n",
            "Read nothing\n",
            "\n",
            "New Location : 0\n",
            "Overwrite\n",
            "This is line C\n",
            "This is line D\n",
            "This is line E\n",
            "\n",
            "Location after read: 55\n"
          ]
        }
      ]
    },
    {
      "cell_type": "markdown",
      "source": [
        "The r+ and w+ have basically the same function. However, r+ does not tuncate the file. This means that if we are using r+ and we start writing the code from the beginning, when we finished we can have reamining strings from the previous version of the file. just as shown in the example below. "
      ],
      "metadata": {
        "id": "ZyvFSBbnjJ-c"
      }
    },
    {
      "cell_type": "code",
      "source": [
        "with open('Example2.txt', 'r+') as testwritefile:\n",
        "    data = testwritefile.readlines()\n",
        "    testwritefile.seek(0,0) \n",
        "   \n",
        "    testwritefile.write(\"Line 1\" + \"\\n\")\n",
        "    testwritefile.write(\"Line 2\" + \"\\n\")\n",
        "    testwritefile.write(\"Line 3\" + \"\\n\")\n",
        "    testwritefile.write(\"finished\\n\")\n",
        "    testwritefile.seek(0,0)\n",
        "    print(testwritefile.read())"
      ],
      "metadata": {
        "colab": {
          "base_uri": "https://localhost:8080/"
        },
        "id": "YfwpFssKiGSy",
        "outputId": "1c4fa042-7378-4ef8-fded-288782da991a"
      },
      "execution_count": 79,
      "outputs": [
        {
          "output_type": "stream",
          "name": "stdout",
          "text": [
            "Line 1\n",
            "Line 2\n",
            "Line 3\n",
            "finished\n",
            "is line D\n",
            "This is line E\n",
            "\n"
          ]
        }
      ]
    },
    {
      "cell_type": "markdown",
      "source": [
        "The difference with the code above is that here we are using the .truncate function. Therefore we will overwrite the file from the beginning and delete the rest from the previous version."
      ],
      "metadata": {
        "id": "jRL3ccs_jp2a"
      }
    },
    {
      "cell_type": "code",
      "source": [
        "with open('Example2.txt', 'r+') as testwritefile:\n",
        "    data = testwritefile.readlines()\n",
        "    testwritefile.seek(0,0) \n",
        "   \n",
        "    testwritefile.write(\"Line 1\" + \"\\n\")\n",
        "    testwritefile.write(\"Line 2\" + \"\\n\")\n",
        "    testwritefile.write(\"Line 3\" + \"\\n\")\n",
        "    testwritefile.write(\"finished\\n\")\n",
        "    testwritefile.truncate()\n",
        "    testwritefile.seek(0,0)\n",
        "    print(testwritefile.read())"
      ],
      "metadata": {
        "colab": {
          "base_uri": "https://localhost:8080/"
        },
        "id": "lO9sD_S_jArQ",
        "outputId": "2b8e6800-b6a9-4234-d2ae-d06743a70006"
      },
      "execution_count": 80,
      "outputs": [
        {
          "output_type": "stream",
          "name": "stdout",
          "text": [
            "Line 1\n",
            "Line 2\n",
            "Line 3\n",
            "finished\n",
            "\n"
          ]
        }
      ]
    },
    {
      "cell_type": "markdown",
      "source": [
        "Finally we can copy the text of one file from another by using the following loop."
      ],
      "metadata": {
        "id": "vwwnXsxFkIjP"
      }
    },
    {
      "cell_type": "code",
      "source": [
        "with open('Example2.txt','r') as readfile:\n",
        "    with open('Example3.txt','w') as writefile:\n",
        "          for line in readfile:\n",
        "                writefile.write(line)\n",
        "\n",
        "with open('Example3.txt','r') as testwritefile:\n",
        "    print(testwritefile.read())\n"
      ],
      "metadata": {
        "colab": {
          "base_uri": "https://localhost:8080/"
        },
        "id": "mJtIB2d5kDF-",
        "outputId": "12458c2d-7d36-48b9-a4f5-87795339a1d6"
      },
      "execution_count": 81,
      "outputs": [
        {
          "output_type": "stream",
          "name": "stdout",
          "text": [
            "Line 1\n",
            "Line 2\n",
            "Line 3\n",
            "finished\n",
            "\n"
          ]
        }
      ]
    },
    {
      "cell_type": "markdown",
      "source": [
        "**LAB EXERCISE FOR THE WRITING FILES WITH OPEN FUNCTION**\n",
        "\n",
        "Your local university's Raptors fan club maintains a register of its active members on a .txt document. Every month they update the file by removing the members who are not active. You have been tasked with automating this with your Python skills.<br>\n",
        "Given the file currentMem, Remove each member with a 'no' in their Active column. Keep track of each of the removed members and append them to the exMem file. Make sure that the format of the original files is preserved. (Hint: Do this by reading/writing whole lines and ensuring the header remains )<br>\n",
        "Run the code block below prior to starting the exercise. The skeleton code has been provided for you. Edit only the cleanFiles function.<br>"
      ],
      "metadata": {
        "id": "XmkVU9wRkofS"
      }
    },
    {
      "cell_type": "code",
      "source": [
        "#Run this prior to starting the exercise. This was copy pasted from the lab as it was indicated that way by the exercise. Is a pre-requisite.\n",
        "from random import randint as rnd\n",
        "\n",
        "memReg = 'members.txt'\n",
        "exReg = 'inactive.txt'\n",
        "fee =('yes','no')\n",
        "\n",
        "def genFiles(current,old):\n",
        "    with open(current,'w+') as writefile: \n",
        "        writefile.write('Membership No  Date Joined  Active  \\n')\n",
        "        data = \"{:^13}  {:<11}  {:<6}\\n\"\n",
        "\n",
        "        for rowno in range(20):\n",
        "            date = str(rnd(2015,2020))+ '-' + str(rnd(1,12))+'-'+str(rnd(1,25))\n",
        "            writefile.write(data.format(rnd(10000,99999),date,fee[rnd(0,1)]))\n",
        "\n",
        "\n",
        "    with open(old,'w+') as writefile: \n",
        "        writefile.write('Membership No  Date Joined  Active  \\n')\n",
        "        data = \"{:^13}  {:<11}  {:<6}\\n\"\n",
        "        for rowno in range(3):\n",
        "            date = str(rnd(2015,2020))+ '-' + str(rnd(1,12))+'-'+str(rnd(1,25))\n",
        "            writefile.write(data.format(rnd(10000,99999),date,fee[1]))\n",
        "\n",
        "\n",
        "genFiles(memReg,exReg)\n"
      ],
      "metadata": {
        "id": "_xaQIA6Tkypa"
      },
      "execution_count": 85,
      "outputs": []
    },
    {
      "cell_type": "code",
      "source": [
        "def cleanFiles(currentMem, exMem):\n",
        "  with open(currentMem, 'r+') as writefile:\n",
        "    with open(exMem, 'a+') as appendfile:\n",
        "      writefile.seek(0)\n",
        "      members=writefile.readlines()\n",
        "      header= members.pop(0) #this will remove the header from the list and also will save the headers in the variable for later use.\n",
        "\n",
        "      inactive=[] #we create a variable were we will store the inactive members\n",
        "      for active_members in members:\n",
        "        if 'no' in active_members:\n",
        "          inactive.append(active_members)\n",
        "     \n",
        "      writefile.seek(0) \n",
        "      writefile.write(header)  #we re state the header. \n",
        "      for member in members:\n",
        "        if (member in inactive):\n",
        "            appendfile.write(member)  #we add all the new exmembers into the file\n",
        "        else:\n",
        "            writefile.write(member)   #we leave the rest in the active members file \n",
        "      writefile.truncate()  # we truncate because we are using r+ function\n",
        "\n",
        "\n",
        "# The code below is to help you view the files.\n",
        "# Do not modify this code for this exercise.\n",
        "memReg = 'members.txt'\n",
        "exReg = 'inactive.txt'\n",
        "cleanFiles(memReg,exReg)\n",
        "\n",
        "\n",
        "headers = \"Membership No  Date Joined  Active  \\n\"\n",
        "with open(memReg,'r') as readFile:\n",
        "    print(\"Active Members: \\n\\n\")\n",
        "    print(readFile.read())\n",
        "    \n",
        "with open(exReg,'r') as readFile:\n",
        "    print(\"Inactive Members: \\n\\n\")\n",
        "    print(readFile.read())\n",
        "                "
      ],
      "metadata": {
        "colab": {
          "base_uri": "https://localhost:8080/"
        },
        "id": "KqaKFJ9glLAE",
        "outputId": "68137d10-88d5-4781-d0ed-6bd4682b9bd8"
      },
      "execution_count": 96,
      "outputs": [
        {
          "output_type": "stream",
          "name": "stdout",
          "text": [
            "Active Members: \n",
            "\n",
            "\n",
            "Membership No  Date Joined  Active  \n",
            "    33438      2017-10-15   yes   \n",
            "    45279      2018-8-19    yes   \n",
            "    95798      2019-8-9     yes   \n",
            "    75424      2016-2-22    yes   \n",
            "    11276      2019-6-24    yes   \n",
            "    12471      2017-2-16    yes   \n",
            "    93398      2015-4-19    yes   \n",
            "\n",
            "Inactive Members: \n",
            "\n",
            "\n",
            "Membership No  Date Joined  Active  \n",
            "    50893      2017-3-18    no    \n",
            "    79385      2019-5-21    no    \n",
            "    20151      2019-1-24    no    \n",
            "    54759      2015-3-5     no    \n",
            "    59298      2020-3-5     no    \n",
            "    79933      2018-4-24    no    \n",
            "    90010      2015-5-15    no    \n",
            "    14738      2020-6-4     no    \n",
            "    96768      2017-9-17    no    \n",
            "    21710      2019-10-8    no    \n",
            "    69408      2020-4-24    no    \n",
            "    82132      2020-9-22    no    \n",
            "    88344      2017-8-25    no    \n",
            "    42931      2017-10-21   no    \n",
            "    76496      2015-12-24   no    \n",
            "    37688      2017-4-4     no    \n",
            "\n"
          ]
        }
      ]
    },
    {
      "cell_type": "markdown",
      "source": [
        "**THIRD VIDEO SUMMARY: LOADING DATA WITH PANDAS**\n",
        "\n",
        "Dependancies or libraries are pre-written code to help solve problems. Panda is one of the most commons.\n",
        "\n",
        "We acces to panda by using the following code: import pandas. <br>\n",
        "\n",
        "With this lineof code we have access to all its classes and functions assuming that the library is already installed in our python environment.\n",
        "\n",
        "By using the \"as\" statement we can shorten pandas to pd. This way we dont have to write pandas everytime we want to use a function from the library. \n",
        "\n",
        "The .read_csv is a function that allows you to read a .csv file. \n",
        "\n",
        "We can create dataframes by importing files like. csv or excel files. However we can also create dataframse our of dictionaires where the kers correspond to the column labels and the values are lists corresponding to the rows. Other way o seeing it is that the keys are the headers and the values are the rows.  \n",
        "\n",
        "We can extract a portion of a dataframe by casting the name of the header. \n",
        "\n",
        "newdataframe=['columnheadername']\n",
        "\n",
        "You can access individual items in a data frame by using the .ix method. In the coordinates of this function the first index refers to the row and the second to the column. You can use this coordinates to slice your dateframes. \n"
      ],
      "metadata": {
        "id": "ZpzPXINxsELC"
      }
    },
    {
      "cell_type": "markdown",
      "source": [
        "**SOLVING THE QUESTIONS BELOW THE VIDEO**\n",
        "\n",
        "QUESTION 1\n",
        "\n",
        "Consider the dataframe df. How would you find the element in the second row and first column?"
      ],
      "metadata": {
        "id": "T9Qj5VSzvapr"
      }
    },
    {
      "cell_type": "code",
      "source": [
        "import pandas as pd\n",
        "\n",
        "df= pd.DataFrame({'a':[11,21,31],'b':[21,22,23]})\n",
        "\n",
        "df.head()\n",
        "\n",
        "df.iloc[1,0]"
      ],
      "metadata": {
        "colab": {
          "base_uri": "https://localhost:8080/"
        },
        "id": "HmYQOAspvaMk",
        "outputId": "6d437411-fbb9-4c13-ee3b-1e82c91dc2da"
      },
      "execution_count": 109,
      "outputs": [
        {
          "output_type": "execute_result",
          "data": {
            "text/plain": [
              "21"
            ]
          },
          "metadata": {},
          "execution_count": 109
        }
      ]
    },
    {
      "cell_type": "markdown",
      "source": [
        "QUESTION 2\n",
        "\n",
        "Will the following code run?\n"
      ],
      "metadata": {
        "id": "X3M9M2x8xOr4"
      }
    },
    {
      "cell_type": "code",
      "source": [
        "import pandas as banana\n",
        "\n",
        "df=banana.DataFrame({'a':[11,21,31],'b':[21,22,23]})\n",
        "\n",
        "df.head()"
      ],
      "metadata": {
        "colab": {
          "base_uri": "https://localhost:8080/",
          "height": 143
        },
        "id": "NRv7sweKusvQ",
        "outputId": "3a477e48-9fb8-4616-b616-e538d70b50d9"
      },
      "execution_count": 110,
      "outputs": [
        {
          "output_type": "execute_result",
          "data": {
            "text/plain": [
              "    a   b\n",
              "0  11  21\n",
              "1  21  22\n",
              "2  31  23"
            ],
            "text/html": [
              "\n",
              "  <div id=\"df-7002f365-f44c-4869-bc9e-2c0f460f08b9\">\n",
              "    <div class=\"colab-df-container\">\n",
              "      <div>\n",
              "<style scoped>\n",
              "    .dataframe tbody tr th:only-of-type {\n",
              "        vertical-align: middle;\n",
              "    }\n",
              "\n",
              "    .dataframe tbody tr th {\n",
              "        vertical-align: top;\n",
              "    }\n",
              "\n",
              "    .dataframe thead th {\n",
              "        text-align: right;\n",
              "    }\n",
              "</style>\n",
              "<table border=\"1\" class=\"dataframe\">\n",
              "  <thead>\n",
              "    <tr style=\"text-align: right;\">\n",
              "      <th></th>\n",
              "      <th>a</th>\n",
              "      <th>b</th>\n",
              "    </tr>\n",
              "  </thead>\n",
              "  <tbody>\n",
              "    <tr>\n",
              "      <th>0</th>\n",
              "      <td>11</td>\n",
              "      <td>21</td>\n",
              "    </tr>\n",
              "    <tr>\n",
              "      <th>1</th>\n",
              "      <td>21</td>\n",
              "      <td>22</td>\n",
              "    </tr>\n",
              "    <tr>\n",
              "      <th>2</th>\n",
              "      <td>31</td>\n",
              "      <td>23</td>\n",
              "    </tr>\n",
              "  </tbody>\n",
              "</table>\n",
              "</div>\n",
              "      <button class=\"colab-df-convert\" onclick=\"convertToInteractive('df-7002f365-f44c-4869-bc9e-2c0f460f08b9')\"\n",
              "              title=\"Convert this dataframe to an interactive table.\"\n",
              "              style=\"display:none;\">\n",
              "        \n",
              "  <svg xmlns=\"http://www.w3.org/2000/svg\" height=\"24px\"viewBox=\"0 0 24 24\"\n",
              "       width=\"24px\">\n",
              "    <path d=\"M0 0h24v24H0V0z\" fill=\"none\"/>\n",
              "    <path d=\"M18.56 5.44l.94 2.06.94-2.06 2.06-.94-2.06-.94-.94-2.06-.94 2.06-2.06.94zm-11 1L8.5 8.5l.94-2.06 2.06-.94-2.06-.94L8.5 2.5l-.94 2.06-2.06.94zm10 10l.94 2.06.94-2.06 2.06-.94-2.06-.94-.94-2.06-.94 2.06-2.06.94z\"/><path d=\"M17.41 7.96l-1.37-1.37c-.4-.4-.92-.59-1.43-.59-.52 0-1.04.2-1.43.59L10.3 9.45l-7.72 7.72c-.78.78-.78 2.05 0 2.83L4 21.41c.39.39.9.59 1.41.59.51 0 1.02-.2 1.41-.59l7.78-7.78 2.81-2.81c.8-.78.8-2.07 0-2.86zM5.41 20L4 18.59l7.72-7.72 1.47 1.35L5.41 20z\"/>\n",
              "  </svg>\n",
              "      </button>\n",
              "      \n",
              "  <style>\n",
              "    .colab-df-container {\n",
              "      display:flex;\n",
              "      flex-wrap:wrap;\n",
              "      gap: 12px;\n",
              "    }\n",
              "\n",
              "    .colab-df-convert {\n",
              "      background-color: #E8F0FE;\n",
              "      border: none;\n",
              "      border-radius: 50%;\n",
              "      cursor: pointer;\n",
              "      display: none;\n",
              "      fill: #1967D2;\n",
              "      height: 32px;\n",
              "      padding: 0 0 0 0;\n",
              "      width: 32px;\n",
              "    }\n",
              "\n",
              "    .colab-df-convert:hover {\n",
              "      background-color: #E2EBFA;\n",
              "      box-shadow: 0px 1px 2px rgba(60, 64, 67, 0.3), 0px 1px 3px 1px rgba(60, 64, 67, 0.15);\n",
              "      fill: #174EA6;\n",
              "    }\n",
              "\n",
              "    [theme=dark] .colab-df-convert {\n",
              "      background-color: #3B4455;\n",
              "      fill: #D2E3FC;\n",
              "    }\n",
              "\n",
              "    [theme=dark] .colab-df-convert:hover {\n",
              "      background-color: #434B5C;\n",
              "      box-shadow: 0px 1px 3px 1px rgba(0, 0, 0, 0.15);\n",
              "      filter: drop-shadow(0px 1px 2px rgba(0, 0, 0, 0.3));\n",
              "      fill: #FFFFFF;\n",
              "    }\n",
              "  </style>\n",
              "\n",
              "      <script>\n",
              "        const buttonEl =\n",
              "          document.querySelector('#df-7002f365-f44c-4869-bc9e-2c0f460f08b9 button.colab-df-convert');\n",
              "        buttonEl.style.display =\n",
              "          google.colab.kernel.accessAllowed ? 'block' : 'none';\n",
              "\n",
              "        async function convertToInteractive(key) {\n",
              "          const element = document.querySelector('#df-7002f365-f44c-4869-bc9e-2c0f460f08b9');\n",
              "          const dataTable =\n",
              "            await google.colab.kernel.invokeFunction('convertToInteractive',\n",
              "                                                     [key], {});\n",
              "          if (!dataTable) return;\n",
              "\n",
              "          const docLinkHtml = 'Like what you see? Visit the ' +\n",
              "            '<a target=\"_blank\" href=https://colab.research.google.com/notebooks/data_table.ipynb>data table notebook</a>'\n",
              "            + ' to learn more about interactive tables.';\n",
              "          element.innerHTML = '';\n",
              "          dataTable['output_type'] = 'display_data';\n",
              "          await google.colab.output.renderOutput(dataTable, element);\n",
              "          const docLink = document.createElement('div');\n",
              "          docLink.innerHTML = docLinkHtml;\n",
              "          element.appendChild(docLink);\n",
              "        }\n",
              "      </script>\n",
              "    </div>\n",
              "  </div>\n",
              "  "
            ]
          },
          "metadata": {},
          "execution_count": 110
        }
      ]
    },
    {
      "cell_type": "markdown",
      "source": [
        "**LAB FOR LOADING DATA WITH PANDAS**\n",
        "\n"
      ],
      "metadata": {
        "id": "Y9D7blTAyCIQ"
      }
    },
    {
      "cell_type": "code",
      "source": [
        "import pandas as pd\n",
        "\n",
        "df=pd.DataFrame({'a':[11,21,31],'b':[21,22,23]})\n",
        "\n",
        "#Display the first 3 rows:\n",
        "\n",
        "df.head(3)\n",
        "\n",
        "\n",
        "\n"
      ],
      "metadata": {
        "colab": {
          "base_uri": "https://localhost:8080/",
          "height": 143
        },
        "id": "24exNts9ySN2",
        "outputId": "678b58ae-5d45-4171-c127-bbceb184b509"
      },
      "execution_count": 112,
      "outputs": [
        {
          "output_type": "execute_result",
          "data": {
            "text/plain": [
              "    a   b\n",
              "0  11  21\n",
              "1  21  22\n",
              "2  31  23"
            ],
            "text/html": [
              "\n",
              "  <div id=\"df-a8438c67-c220-4a69-a168-e6d7a26bd9e6\">\n",
              "    <div class=\"colab-df-container\">\n",
              "      <div>\n",
              "<style scoped>\n",
              "    .dataframe tbody tr th:only-of-type {\n",
              "        vertical-align: middle;\n",
              "    }\n",
              "\n",
              "    .dataframe tbody tr th {\n",
              "        vertical-align: top;\n",
              "    }\n",
              "\n",
              "    .dataframe thead th {\n",
              "        text-align: right;\n",
              "    }\n",
              "</style>\n",
              "<table border=\"1\" class=\"dataframe\">\n",
              "  <thead>\n",
              "    <tr style=\"text-align: right;\">\n",
              "      <th></th>\n",
              "      <th>a</th>\n",
              "      <th>b</th>\n",
              "    </tr>\n",
              "  </thead>\n",
              "  <tbody>\n",
              "    <tr>\n",
              "      <th>0</th>\n",
              "      <td>11</td>\n",
              "      <td>21</td>\n",
              "    </tr>\n",
              "    <tr>\n",
              "      <th>1</th>\n",
              "      <td>21</td>\n",
              "      <td>22</td>\n",
              "    </tr>\n",
              "    <tr>\n",
              "      <th>2</th>\n",
              "      <td>31</td>\n",
              "      <td>23</td>\n",
              "    </tr>\n",
              "  </tbody>\n",
              "</table>\n",
              "</div>\n",
              "      <button class=\"colab-df-convert\" onclick=\"convertToInteractive('df-a8438c67-c220-4a69-a168-e6d7a26bd9e6')\"\n",
              "              title=\"Convert this dataframe to an interactive table.\"\n",
              "              style=\"display:none;\">\n",
              "        \n",
              "  <svg xmlns=\"http://www.w3.org/2000/svg\" height=\"24px\"viewBox=\"0 0 24 24\"\n",
              "       width=\"24px\">\n",
              "    <path d=\"M0 0h24v24H0V0z\" fill=\"none\"/>\n",
              "    <path d=\"M18.56 5.44l.94 2.06.94-2.06 2.06-.94-2.06-.94-.94-2.06-.94 2.06-2.06.94zm-11 1L8.5 8.5l.94-2.06 2.06-.94-2.06-.94L8.5 2.5l-.94 2.06-2.06.94zm10 10l.94 2.06.94-2.06 2.06-.94-2.06-.94-.94-2.06-.94 2.06-2.06.94z\"/><path d=\"M17.41 7.96l-1.37-1.37c-.4-.4-.92-.59-1.43-.59-.52 0-1.04.2-1.43.59L10.3 9.45l-7.72 7.72c-.78.78-.78 2.05 0 2.83L4 21.41c.39.39.9.59 1.41.59.51 0 1.02-.2 1.41-.59l7.78-7.78 2.81-2.81c.8-.78.8-2.07 0-2.86zM5.41 20L4 18.59l7.72-7.72 1.47 1.35L5.41 20z\"/>\n",
              "  </svg>\n",
              "      </button>\n",
              "      \n",
              "  <style>\n",
              "    .colab-df-container {\n",
              "      display:flex;\n",
              "      flex-wrap:wrap;\n",
              "      gap: 12px;\n",
              "    }\n",
              "\n",
              "    .colab-df-convert {\n",
              "      background-color: #E8F0FE;\n",
              "      border: none;\n",
              "      border-radius: 50%;\n",
              "      cursor: pointer;\n",
              "      display: none;\n",
              "      fill: #1967D2;\n",
              "      height: 32px;\n",
              "      padding: 0 0 0 0;\n",
              "      width: 32px;\n",
              "    }\n",
              "\n",
              "    .colab-df-convert:hover {\n",
              "      background-color: #E2EBFA;\n",
              "      box-shadow: 0px 1px 2px rgba(60, 64, 67, 0.3), 0px 1px 3px 1px rgba(60, 64, 67, 0.15);\n",
              "      fill: #174EA6;\n",
              "    }\n",
              "\n",
              "    [theme=dark] .colab-df-convert {\n",
              "      background-color: #3B4455;\n",
              "      fill: #D2E3FC;\n",
              "    }\n",
              "\n",
              "    [theme=dark] .colab-df-convert:hover {\n",
              "      background-color: #434B5C;\n",
              "      box-shadow: 0px 1px 3px 1px rgba(0, 0, 0, 0.15);\n",
              "      filter: drop-shadow(0px 1px 2px rgba(0, 0, 0, 0.3));\n",
              "      fill: #FFFFFF;\n",
              "    }\n",
              "  </style>\n",
              "\n",
              "      <script>\n",
              "        const buttonEl =\n",
              "          document.querySelector('#df-a8438c67-c220-4a69-a168-e6d7a26bd9e6 button.colab-df-convert');\n",
              "        buttonEl.style.display =\n",
              "          google.colab.kernel.accessAllowed ? 'block' : 'none';\n",
              "\n",
              "        async function convertToInteractive(key) {\n",
              "          const element = document.querySelector('#df-a8438c67-c220-4a69-a168-e6d7a26bd9e6');\n",
              "          const dataTable =\n",
              "            await google.colab.kernel.invokeFunction('convertToInteractive',\n",
              "                                                     [key], {});\n",
              "          if (!dataTable) return;\n",
              "\n",
              "          const docLinkHtml = 'Like what you see? Visit the ' +\n",
              "            '<a target=\"_blank\" href=https://colab.research.google.com/notebooks/data_table.ipynb>data table notebook</a>'\n",
              "            + ' to learn more about interactive tables.';\n",
              "          element.innerHTML = '';\n",
              "          dataTable['output_type'] = 'display_data';\n",
              "          await google.colab.output.renderOutput(dataTable, element);\n",
              "          const docLink = document.createElement('div');\n",
              "          docLink.innerHTML = docLinkHtml;\n",
              "          element.appendChild(docLink);\n",
              "        }\n",
              "      </script>\n",
              "    </div>\n",
              "  </div>\n",
              "  "
            ]
          },
          "metadata": {},
          "execution_count": 112
        }
      ]
    },
    {
      "cell_type": "code",
      "source": [
        "#Obtain column  'a' : \n",
        "\n",
        "df['a']"
      ],
      "metadata": {
        "colab": {
          "base_uri": "https://localhost:8080/"
        },
        "id": "DE08ZPsZyclg",
        "outputId": "8eef8d22-e591-490b-ac80-c917bf5ab1f5"
      },
      "execution_count": 113,
      "outputs": [
        {
          "output_type": "execute_result",
          "data": {
            "text/plain": [
              "0    11\n",
              "1    21\n",
              "2    31\n",
              "Name: a, dtype: int64"
            ]
          },
          "metadata": {},
          "execution_count": 113
        }
      ]
    },
    {
      "cell_type": "markdown",
      "source": [
        "**FOURTH VIDEO SUMMARY: Working with and Saving data with Pandas**\n",
        "\n",
        "Withs oandas we can work with data and save the results in other formats.\n",
        "\n",
        "For example, unique is a method that returns the unique elements in a dataframe. \n",
        "\n",
        "We can also creates new databases consisting of specific characteristics like for example a list of songs released after 1979. To do that we would use inequality operators.\n",
        "\n",
        "for example: df1=df[df['Released']>=1980]\n",
        "\n",
        "This would create a new dataframe for each album released after 1979. We can sabe this file into csv file with the method  df1.to_csv('nameofthefile.csv')"
      ],
      "metadata": {
        "id": "IwbJzT_gKv2i"
      }
    },
    {
      "cell_type": "markdown",
      "source": [
        "**SOLVING THE QUESTIONS BELOW THE VIDEO**\n",
        "\n",
        "\n",
        " QUESTION 1<BR>\n",
        "Consider the dataframe: df=pd.DataFrame({'a':[1,2,1],'b':[1,1,1]})\n",
        "\n",
        "What type does the following return: df['a']==1 ?"
      ],
      "metadata": {
        "id": "VSaFk3RaM-ah"
      }
    },
    {
      "cell_type": "code",
      "source": [
        "import pandas as pd\n",
        "\n",
        "df=pd.DataFrame({'a':[1,2,1],'b':[1,1,1]})\n",
        "\n",
        "df['a']==1"
      ],
      "metadata": {
        "colab": {
          "base_uri": "https://localhost:8080/"
        },
        "id": "y0Ada7g-M68V",
        "outputId": "648fc02e-3e3e-4e8d-f7fd-84bb431666e5"
      },
      "execution_count": 3,
      "outputs": [
        {
          "output_type": "execute_result",
          "data": {
            "text/plain": [
              "0     True\n",
              "1    False\n",
              "2     True\n",
              "Name: a, dtype: bool"
            ]
          },
          "metadata": {},
          "execution_count": 3
        }
      ]
    },
    {
      "cell_type": "markdown",
      "source": [
        "QUESTION 2 <BR>\n",
        "\n",
        "What task does the following method perform: df.to_csv(\"file.csv\")?\n",
        "\n",
        "save a dataframe to a csv file. "
      ],
      "metadata": {
        "id": "FWV4mRgPNmos"
      }
    },
    {
      "cell_type": "markdown",
      "source": [
        "**LAB NOTEBOOK FOR WORKING AND SAVING DATA WITH PANDAS**"
      ],
      "metadata": {
        "id": "xoMM5WQ2PZ-0"
      }
    },
    {
      "cell_type": "code",
      "source": [
        "import pandas as pd\n",
        "\n",
        "df=pd.DataFrame({'a':[1,2,1],'b':[1,1,1]})\n",
        "\n",
        "df['a'].unique()  #FINDING THE UNIQUE VALUES IN COLUMN A"
      ],
      "metadata": {
        "colab": {
          "base_uri": "https://localhost:8080/"
        },
        "id": "ISZCGv2QPqmS",
        "outputId": "e7dc2b91-1a62-4f39-fe26-545f62bf69c6"
      },
      "execution_count": 4,
      "outputs": [
        {
          "output_type": "execute_result",
          "data": {
            "text/plain": [
              "array([1, 2])"
            ]
          },
          "metadata": {},
          "execution_count": 4
        }
      ]
    },
    {
      "cell_type": "code",
      "source": [
        "df[df['a']<2]  #looking for a datagrame with rows where A is less than two.\n"
      ],
      "metadata": {
        "colab": {
          "base_uri": "https://localhost:8080/",
          "height": 112
        },
        "id": "XIbZcVu_P6Lz",
        "outputId": "e16fafaf-fc76-4d7f-a2c4-5e429dd355cd"
      },
      "execution_count": 5,
      "outputs": [
        {
          "output_type": "execute_result",
          "data": {
            "text/plain": [
              "   a  b\n",
              "0  1  1\n",
              "2  1  1"
            ],
            "text/html": [
              "\n",
              "  <div id=\"df-347843ca-bc0a-40bb-a3f6-c995f04bafda\">\n",
              "    <div class=\"colab-df-container\">\n",
              "      <div>\n",
              "<style scoped>\n",
              "    .dataframe tbody tr th:only-of-type {\n",
              "        vertical-align: middle;\n",
              "    }\n",
              "\n",
              "    .dataframe tbody tr th {\n",
              "        vertical-align: top;\n",
              "    }\n",
              "\n",
              "    .dataframe thead th {\n",
              "        text-align: right;\n",
              "    }\n",
              "</style>\n",
              "<table border=\"1\" class=\"dataframe\">\n",
              "  <thead>\n",
              "    <tr style=\"text-align: right;\">\n",
              "      <th></th>\n",
              "      <th>a</th>\n",
              "      <th>b</th>\n",
              "    </tr>\n",
              "  </thead>\n",
              "  <tbody>\n",
              "    <tr>\n",
              "      <th>0</th>\n",
              "      <td>1</td>\n",
              "      <td>1</td>\n",
              "    </tr>\n",
              "    <tr>\n",
              "      <th>2</th>\n",
              "      <td>1</td>\n",
              "      <td>1</td>\n",
              "    </tr>\n",
              "  </tbody>\n",
              "</table>\n",
              "</div>\n",
              "      <button class=\"colab-df-convert\" onclick=\"convertToInteractive('df-347843ca-bc0a-40bb-a3f6-c995f04bafda')\"\n",
              "              title=\"Convert this dataframe to an interactive table.\"\n",
              "              style=\"display:none;\">\n",
              "        \n",
              "  <svg xmlns=\"http://www.w3.org/2000/svg\" height=\"24px\"viewBox=\"0 0 24 24\"\n",
              "       width=\"24px\">\n",
              "    <path d=\"M0 0h24v24H0V0z\" fill=\"none\"/>\n",
              "    <path d=\"M18.56 5.44l.94 2.06.94-2.06 2.06-.94-2.06-.94-.94-2.06-.94 2.06-2.06.94zm-11 1L8.5 8.5l.94-2.06 2.06-.94-2.06-.94L8.5 2.5l-.94 2.06-2.06.94zm10 10l.94 2.06.94-2.06 2.06-.94-2.06-.94-.94-2.06-.94 2.06-2.06.94z\"/><path d=\"M17.41 7.96l-1.37-1.37c-.4-.4-.92-.59-1.43-.59-.52 0-1.04.2-1.43.59L10.3 9.45l-7.72 7.72c-.78.78-.78 2.05 0 2.83L4 21.41c.39.39.9.59 1.41.59.51 0 1.02-.2 1.41-.59l7.78-7.78 2.81-2.81c.8-.78.8-2.07 0-2.86zM5.41 20L4 18.59l7.72-7.72 1.47 1.35L5.41 20z\"/>\n",
              "  </svg>\n",
              "      </button>\n",
              "      \n",
              "  <style>\n",
              "    .colab-df-container {\n",
              "      display:flex;\n",
              "      flex-wrap:wrap;\n",
              "      gap: 12px;\n",
              "    }\n",
              "\n",
              "    .colab-df-convert {\n",
              "      background-color: #E8F0FE;\n",
              "      border: none;\n",
              "      border-radius: 50%;\n",
              "      cursor: pointer;\n",
              "      display: none;\n",
              "      fill: #1967D2;\n",
              "      height: 32px;\n",
              "      padding: 0 0 0 0;\n",
              "      width: 32px;\n",
              "    }\n",
              "\n",
              "    .colab-df-convert:hover {\n",
              "      background-color: #E2EBFA;\n",
              "      box-shadow: 0px 1px 2px rgba(60, 64, 67, 0.3), 0px 1px 3px 1px rgba(60, 64, 67, 0.15);\n",
              "      fill: #174EA6;\n",
              "    }\n",
              "\n",
              "    [theme=dark] .colab-df-convert {\n",
              "      background-color: #3B4455;\n",
              "      fill: #D2E3FC;\n",
              "    }\n",
              "\n",
              "    [theme=dark] .colab-df-convert:hover {\n",
              "      background-color: #434B5C;\n",
              "      box-shadow: 0px 1px 3px 1px rgba(0, 0, 0, 0.15);\n",
              "      filter: drop-shadow(0px 1px 2px rgba(0, 0, 0, 0.3));\n",
              "      fill: #FFFFFF;\n",
              "    }\n",
              "  </style>\n",
              "\n",
              "      <script>\n",
              "        const buttonEl =\n",
              "          document.querySelector('#df-347843ca-bc0a-40bb-a3f6-c995f04bafda button.colab-df-convert');\n",
              "        buttonEl.style.display =\n",
              "          google.colab.kernel.accessAllowed ? 'block' : 'none';\n",
              "\n",
              "        async function convertToInteractive(key) {\n",
              "          const element = document.querySelector('#df-347843ca-bc0a-40bb-a3f6-c995f04bafda');\n",
              "          const dataTable =\n",
              "            await google.colab.kernel.invokeFunction('convertToInteractive',\n",
              "                                                     [key], {});\n",
              "          if (!dataTable) return;\n",
              "\n",
              "          const docLinkHtml = 'Like what you see? Visit the ' +\n",
              "            '<a target=\"_blank\" href=https://colab.research.google.com/notebooks/data_table.ipynb>data table notebook</a>'\n",
              "            + ' to learn more about interactive tables.';\n",
              "          element.innerHTML = '';\n",
              "          dataTable['output_type'] = 'display_data';\n",
              "          await google.colab.output.renderOutput(dataTable, element);\n",
              "          const docLink = document.createElement('div');\n",
              "          docLink.innerHTML = docLinkHtml;\n",
              "          element.appendChild(docLink);\n",
              "        }\n",
              "      </script>\n",
              "    </div>\n",
              "  </div>\n",
              "  "
            ]
          },
          "metadata": {},
          "execution_count": 5
        }
      ]
    },
    {
      "cell_type": "markdown",
      "source": [
        "**LAB NOTEBOOK INTRODUCTION TO PANDAS IN PYTHON**"
      ],
      "metadata": {
        "id": "FZ-LkrA9SdoM"
      }
    },
    {
      "cell_type": "code",
      "source": [
        "\n",
        "import pandas as pd\n",
        "\n",
        "#Read using CSV Files\n",
        "csv_path = 'https://cf-courses-data.s3.us.cloud-object-storage.appdomain.cloud/IBMDeveloperSkillsNetwork-PY0101EN-SkillsNetwork/labs/Module%204/data/TopSellingAlbums.csv'\n",
        "df = pd.read_csv(csv_path)\n",
        "\n",
        "df.head()\n"
      ],
      "metadata": {
        "colab": {
          "base_uri": "https://localhost:8080/",
          "height": 406
        },
        "id": "prT6b01qSeKw",
        "outputId": "c745ec61-f189-4d2f-e9eb-629ad4103692"
      },
      "execution_count": 23,
      "outputs": [
        {
          "output_type": "execute_result",
          "data": {
            "text/plain": [
              "            Artist                      Album  Released   Length  \\\n",
              "0  Michael Jackson                   Thriller      1982  0:42:19   \n",
              "1            AC/DC              Back in Black      1980  0:42:11   \n",
              "2       Pink Floyd  The Dark Side of the Moon      1973  0:42:49   \n",
              "3  Whitney Houston              The Bodyguard      1992  0:57:44   \n",
              "4        Meat Loaf            Bat Out of Hell      1977  0:46:33   \n",
              "\n",
              "                         Genre  Music Recording Sales (millions)  \\\n",
              "0               pop, rock, R&B                              46.0   \n",
              "1                    hard rock                              26.1   \n",
              "2             progressive rock                              24.2   \n",
              "3               R&B, soul, pop                              27.4   \n",
              "4  hard rock, progressive rock                              20.6   \n",
              "\n",
              "   Claimed Sales (millions) Released.1 Soundtrack  Rating  \n",
              "0                        65  30-Nov-82        NaN    10.0  \n",
              "1                        50  25-Jul-80        NaN     9.5  \n",
              "2                        45  01-Mar-73        NaN     9.0  \n",
              "3                        44  17-Nov-92          Y     8.5  \n",
              "4                        43  21-Oct-77        NaN     8.0  "
            ],
            "text/html": [
              "\n",
              "  <div id=\"df-66ea22be-4644-4da0-8e3e-3f448c249128\">\n",
              "    <div class=\"colab-df-container\">\n",
              "      <div>\n",
              "<style scoped>\n",
              "    .dataframe tbody tr th:only-of-type {\n",
              "        vertical-align: middle;\n",
              "    }\n",
              "\n",
              "    .dataframe tbody tr th {\n",
              "        vertical-align: top;\n",
              "    }\n",
              "\n",
              "    .dataframe thead th {\n",
              "        text-align: right;\n",
              "    }\n",
              "</style>\n",
              "<table border=\"1\" class=\"dataframe\">\n",
              "  <thead>\n",
              "    <tr style=\"text-align: right;\">\n",
              "      <th></th>\n",
              "      <th>Artist</th>\n",
              "      <th>Album</th>\n",
              "      <th>Released</th>\n",
              "      <th>Length</th>\n",
              "      <th>Genre</th>\n",
              "      <th>Music Recording Sales (millions)</th>\n",
              "      <th>Claimed Sales (millions)</th>\n",
              "      <th>Released.1</th>\n",
              "      <th>Soundtrack</th>\n",
              "      <th>Rating</th>\n",
              "    </tr>\n",
              "  </thead>\n",
              "  <tbody>\n",
              "    <tr>\n",
              "      <th>0</th>\n",
              "      <td>Michael Jackson</td>\n",
              "      <td>Thriller</td>\n",
              "      <td>1982</td>\n",
              "      <td>0:42:19</td>\n",
              "      <td>pop, rock, R&amp;B</td>\n",
              "      <td>46.0</td>\n",
              "      <td>65</td>\n",
              "      <td>30-Nov-82</td>\n",
              "      <td>NaN</td>\n",
              "      <td>10.0</td>\n",
              "    </tr>\n",
              "    <tr>\n",
              "      <th>1</th>\n",
              "      <td>AC/DC</td>\n",
              "      <td>Back in Black</td>\n",
              "      <td>1980</td>\n",
              "      <td>0:42:11</td>\n",
              "      <td>hard rock</td>\n",
              "      <td>26.1</td>\n",
              "      <td>50</td>\n",
              "      <td>25-Jul-80</td>\n",
              "      <td>NaN</td>\n",
              "      <td>9.5</td>\n",
              "    </tr>\n",
              "    <tr>\n",
              "      <th>2</th>\n",
              "      <td>Pink Floyd</td>\n",
              "      <td>The Dark Side of the Moon</td>\n",
              "      <td>1973</td>\n",
              "      <td>0:42:49</td>\n",
              "      <td>progressive rock</td>\n",
              "      <td>24.2</td>\n",
              "      <td>45</td>\n",
              "      <td>01-Mar-73</td>\n",
              "      <td>NaN</td>\n",
              "      <td>9.0</td>\n",
              "    </tr>\n",
              "    <tr>\n",
              "      <th>3</th>\n",
              "      <td>Whitney Houston</td>\n",
              "      <td>The Bodyguard</td>\n",
              "      <td>1992</td>\n",
              "      <td>0:57:44</td>\n",
              "      <td>R&amp;B, soul, pop</td>\n",
              "      <td>27.4</td>\n",
              "      <td>44</td>\n",
              "      <td>17-Nov-92</td>\n",
              "      <td>Y</td>\n",
              "      <td>8.5</td>\n",
              "    </tr>\n",
              "    <tr>\n",
              "      <th>4</th>\n",
              "      <td>Meat Loaf</td>\n",
              "      <td>Bat Out of Hell</td>\n",
              "      <td>1977</td>\n",
              "      <td>0:46:33</td>\n",
              "      <td>hard rock, progressive rock</td>\n",
              "      <td>20.6</td>\n",
              "      <td>43</td>\n",
              "      <td>21-Oct-77</td>\n",
              "      <td>NaN</td>\n",
              "      <td>8.0</td>\n",
              "    </tr>\n",
              "  </tbody>\n",
              "</table>\n",
              "</div>\n",
              "      <button class=\"colab-df-convert\" onclick=\"convertToInteractive('df-66ea22be-4644-4da0-8e3e-3f448c249128')\"\n",
              "              title=\"Convert this dataframe to an interactive table.\"\n",
              "              style=\"display:none;\">\n",
              "        \n",
              "  <svg xmlns=\"http://www.w3.org/2000/svg\" height=\"24px\"viewBox=\"0 0 24 24\"\n",
              "       width=\"24px\">\n",
              "    <path d=\"M0 0h24v24H0V0z\" fill=\"none\"/>\n",
              "    <path d=\"M18.56 5.44l.94 2.06.94-2.06 2.06-.94-2.06-.94-.94-2.06-.94 2.06-2.06.94zm-11 1L8.5 8.5l.94-2.06 2.06-.94-2.06-.94L8.5 2.5l-.94 2.06-2.06.94zm10 10l.94 2.06.94-2.06 2.06-.94-2.06-.94-.94-2.06-.94 2.06-2.06.94z\"/><path d=\"M17.41 7.96l-1.37-1.37c-.4-.4-.92-.59-1.43-.59-.52 0-1.04.2-1.43.59L10.3 9.45l-7.72 7.72c-.78.78-.78 2.05 0 2.83L4 21.41c.39.39.9.59 1.41.59.51 0 1.02-.2 1.41-.59l7.78-7.78 2.81-2.81c.8-.78.8-2.07 0-2.86zM5.41 20L4 18.59l7.72-7.72 1.47 1.35L5.41 20z\"/>\n",
              "  </svg>\n",
              "      </button>\n",
              "      \n",
              "  <style>\n",
              "    .colab-df-container {\n",
              "      display:flex;\n",
              "      flex-wrap:wrap;\n",
              "      gap: 12px;\n",
              "    }\n",
              "\n",
              "    .colab-df-convert {\n",
              "      background-color: #E8F0FE;\n",
              "      border: none;\n",
              "      border-radius: 50%;\n",
              "      cursor: pointer;\n",
              "      display: none;\n",
              "      fill: #1967D2;\n",
              "      height: 32px;\n",
              "      padding: 0 0 0 0;\n",
              "      width: 32px;\n",
              "    }\n",
              "\n",
              "    .colab-df-convert:hover {\n",
              "      background-color: #E2EBFA;\n",
              "      box-shadow: 0px 1px 2px rgba(60, 64, 67, 0.3), 0px 1px 3px 1px rgba(60, 64, 67, 0.15);\n",
              "      fill: #174EA6;\n",
              "    }\n",
              "\n",
              "    [theme=dark] .colab-df-convert {\n",
              "      background-color: #3B4455;\n",
              "      fill: #D2E3FC;\n",
              "    }\n",
              "\n",
              "    [theme=dark] .colab-df-convert:hover {\n",
              "      background-color: #434B5C;\n",
              "      box-shadow: 0px 1px 3px 1px rgba(0, 0, 0, 0.15);\n",
              "      filter: drop-shadow(0px 1px 2px rgba(0, 0, 0, 0.3));\n",
              "      fill: #FFFFFF;\n",
              "    }\n",
              "  </style>\n",
              "\n",
              "      <script>\n",
              "        const buttonEl =\n",
              "          document.querySelector('#df-66ea22be-4644-4da0-8e3e-3f448c249128 button.colab-df-convert');\n",
              "        buttonEl.style.display =\n",
              "          google.colab.kernel.accessAllowed ? 'block' : 'none';\n",
              "\n",
              "        async function convertToInteractive(key) {\n",
              "          const element = document.querySelector('#df-66ea22be-4644-4da0-8e3e-3f448c249128');\n",
              "          const dataTable =\n",
              "            await google.colab.kernel.invokeFunction('convertToInteractive',\n",
              "                                                     [key], {});\n",
              "          if (!dataTable) return;\n",
              "\n",
              "          const docLinkHtml = 'Like what you see? Visit the ' +\n",
              "            '<a target=\"_blank\" href=https://colab.research.google.com/notebooks/data_table.ipynb>data table notebook</a>'\n",
              "            + ' to learn more about interactive tables.';\n",
              "          element.innerHTML = '';\n",
              "          dataTable['output_type'] = 'display_data';\n",
              "          await google.colab.output.renderOutput(dataTable, element);\n",
              "          const docLink = document.createElement('div');\n",
              "          docLink.innerHTML = docLinkHtml;\n",
              "          element.appendChild(docLink);\n",
              "        }\n",
              "      </script>\n",
              "    </div>\n",
              "  </div>\n",
              "  "
            ]
          },
          "metadata": {},
          "execution_count": 23
        }
      ]
    },
    {
      "cell_type": "code",
      "source": [
        "x = df[['Length']]  #ACCESSING A SPECIFIC COLUMN\n",
        "x\n",
        "\n",
        "y = df[['Artist','Length','Genre']]  #ACCESSING MULTIPLE COLUMNS\n",
        "y"
      ],
      "metadata": {
        "colab": {
          "base_uri": "https://localhost:8080/",
          "height": 300
        },
        "id": "6G5KsYTAUcwf",
        "outputId": "937fa6d8-07e4-4408-949b-dc9196abe1db"
      },
      "execution_count": 25,
      "outputs": [
        {
          "output_type": "execute_result",
          "data": {
            "text/plain": [
              "            Artist   Length                        Genre\n",
              "0  Michael Jackson  0:42:19               pop, rock, R&B\n",
              "1            AC/DC  0:42:11                    hard rock\n",
              "2       Pink Floyd  0:42:49             progressive rock\n",
              "3  Whitney Houston  0:57:44               R&B, soul, pop\n",
              "4        Meat Loaf  0:46:33  hard rock, progressive rock\n",
              "5           Eagles  0:43:08   rock, soft rock, folk rock\n",
              "6         Bee Gees  1:15:54                        disco\n",
              "7    Fleetwood Mac  0:40:01                    soft rock"
            ],
            "text/html": [
              "\n",
              "  <div id=\"df-471fa5b8-c1cb-4ed2-8973-f7e8cba4a917\">\n",
              "    <div class=\"colab-df-container\">\n",
              "      <div>\n",
              "<style scoped>\n",
              "    .dataframe tbody tr th:only-of-type {\n",
              "        vertical-align: middle;\n",
              "    }\n",
              "\n",
              "    .dataframe tbody tr th {\n",
              "        vertical-align: top;\n",
              "    }\n",
              "\n",
              "    .dataframe thead th {\n",
              "        text-align: right;\n",
              "    }\n",
              "</style>\n",
              "<table border=\"1\" class=\"dataframe\">\n",
              "  <thead>\n",
              "    <tr style=\"text-align: right;\">\n",
              "      <th></th>\n",
              "      <th>Artist</th>\n",
              "      <th>Length</th>\n",
              "      <th>Genre</th>\n",
              "    </tr>\n",
              "  </thead>\n",
              "  <tbody>\n",
              "    <tr>\n",
              "      <th>0</th>\n",
              "      <td>Michael Jackson</td>\n",
              "      <td>0:42:19</td>\n",
              "      <td>pop, rock, R&amp;B</td>\n",
              "    </tr>\n",
              "    <tr>\n",
              "      <th>1</th>\n",
              "      <td>AC/DC</td>\n",
              "      <td>0:42:11</td>\n",
              "      <td>hard rock</td>\n",
              "    </tr>\n",
              "    <tr>\n",
              "      <th>2</th>\n",
              "      <td>Pink Floyd</td>\n",
              "      <td>0:42:49</td>\n",
              "      <td>progressive rock</td>\n",
              "    </tr>\n",
              "    <tr>\n",
              "      <th>3</th>\n",
              "      <td>Whitney Houston</td>\n",
              "      <td>0:57:44</td>\n",
              "      <td>R&amp;B, soul, pop</td>\n",
              "    </tr>\n",
              "    <tr>\n",
              "      <th>4</th>\n",
              "      <td>Meat Loaf</td>\n",
              "      <td>0:46:33</td>\n",
              "      <td>hard rock, progressive rock</td>\n",
              "    </tr>\n",
              "    <tr>\n",
              "      <th>5</th>\n",
              "      <td>Eagles</td>\n",
              "      <td>0:43:08</td>\n",
              "      <td>rock, soft rock, folk rock</td>\n",
              "    </tr>\n",
              "    <tr>\n",
              "      <th>6</th>\n",
              "      <td>Bee Gees</td>\n",
              "      <td>1:15:54</td>\n",
              "      <td>disco</td>\n",
              "    </tr>\n",
              "    <tr>\n",
              "      <th>7</th>\n",
              "      <td>Fleetwood Mac</td>\n",
              "      <td>0:40:01</td>\n",
              "      <td>soft rock</td>\n",
              "    </tr>\n",
              "  </tbody>\n",
              "</table>\n",
              "</div>\n",
              "      <button class=\"colab-df-convert\" onclick=\"convertToInteractive('df-471fa5b8-c1cb-4ed2-8973-f7e8cba4a917')\"\n",
              "              title=\"Convert this dataframe to an interactive table.\"\n",
              "              style=\"display:none;\">\n",
              "        \n",
              "  <svg xmlns=\"http://www.w3.org/2000/svg\" height=\"24px\"viewBox=\"0 0 24 24\"\n",
              "       width=\"24px\">\n",
              "    <path d=\"M0 0h24v24H0V0z\" fill=\"none\"/>\n",
              "    <path d=\"M18.56 5.44l.94 2.06.94-2.06 2.06-.94-2.06-.94-.94-2.06-.94 2.06-2.06.94zm-11 1L8.5 8.5l.94-2.06 2.06-.94-2.06-.94L8.5 2.5l-.94 2.06-2.06.94zm10 10l.94 2.06.94-2.06 2.06-.94-2.06-.94-.94-2.06-.94 2.06-2.06.94z\"/><path d=\"M17.41 7.96l-1.37-1.37c-.4-.4-.92-.59-1.43-.59-.52 0-1.04.2-1.43.59L10.3 9.45l-7.72 7.72c-.78.78-.78 2.05 0 2.83L4 21.41c.39.39.9.59 1.41.59.51 0 1.02-.2 1.41-.59l7.78-7.78 2.81-2.81c.8-.78.8-2.07 0-2.86zM5.41 20L4 18.59l7.72-7.72 1.47 1.35L5.41 20z\"/>\n",
              "  </svg>\n",
              "      </button>\n",
              "      \n",
              "  <style>\n",
              "    .colab-df-container {\n",
              "      display:flex;\n",
              "      flex-wrap:wrap;\n",
              "      gap: 12px;\n",
              "    }\n",
              "\n",
              "    .colab-df-convert {\n",
              "      background-color: #E8F0FE;\n",
              "      border: none;\n",
              "      border-radius: 50%;\n",
              "      cursor: pointer;\n",
              "      display: none;\n",
              "      fill: #1967D2;\n",
              "      height: 32px;\n",
              "      padding: 0 0 0 0;\n",
              "      width: 32px;\n",
              "    }\n",
              "\n",
              "    .colab-df-convert:hover {\n",
              "      background-color: #E2EBFA;\n",
              "      box-shadow: 0px 1px 2px rgba(60, 64, 67, 0.3), 0px 1px 3px 1px rgba(60, 64, 67, 0.15);\n",
              "      fill: #174EA6;\n",
              "    }\n",
              "\n",
              "    [theme=dark] .colab-df-convert {\n",
              "      background-color: #3B4455;\n",
              "      fill: #D2E3FC;\n",
              "    }\n",
              "\n",
              "    [theme=dark] .colab-df-convert:hover {\n",
              "      background-color: #434B5C;\n",
              "      box-shadow: 0px 1px 3px 1px rgba(0, 0, 0, 0.15);\n",
              "      filter: drop-shadow(0px 1px 2px rgba(0, 0, 0, 0.3));\n",
              "      fill: #FFFFFF;\n",
              "    }\n",
              "  </style>\n",
              "\n",
              "      <script>\n",
              "        const buttonEl =\n",
              "          document.querySelector('#df-471fa5b8-c1cb-4ed2-8973-f7e8cba4a917 button.colab-df-convert');\n",
              "        buttonEl.style.display =\n",
              "          google.colab.kernel.accessAllowed ? 'block' : 'none';\n",
              "\n",
              "        async function convertToInteractive(key) {\n",
              "          const element = document.querySelector('#df-471fa5b8-c1cb-4ed2-8973-f7e8cba4a917');\n",
              "          const dataTable =\n",
              "            await google.colab.kernel.invokeFunction('convertToInteractive',\n",
              "                                                     [key], {});\n",
              "          if (!dataTable) return;\n",
              "\n",
              "          const docLinkHtml = 'Like what you see? Visit the ' +\n",
              "            '<a target=\"_blank\" href=https://colab.research.google.com/notebooks/data_table.ipynb>data table notebook</a>'\n",
              "            + ' to learn more about interactive tables.';\n",
              "          element.innerHTML = '';\n",
              "          dataTable['output_type'] = 'display_data';\n",
              "          await google.colab.output.renderOutput(dataTable, element);\n",
              "          const docLink = document.createElement('div');\n",
              "          docLink.innerHTML = docLinkHtml;\n",
              "          element.appendChild(docLink);\n",
              "        }\n",
              "      </script>\n",
              "    </div>\n",
              "  </div>\n",
              "  "
            ]
          },
          "metadata": {},
          "execution_count": 25
        }
      ]
    },
    {
      "cell_type": "code",
      "source": [
        "import pandas as pd\n",
        "\n",
        "#Read using CSV Files\n",
        "csv_path = 'https://cf-courses-data.s3.us.cloud-object-storage.appdomain.cloud/IBMDeveloperSkillsNetwork-PY0101EN-SkillsNetwork/labs/Module%204/data/TopSellingAlbums.csv'\n",
        "df = pd.read_csv(csv_path)\n",
        "\n",
        "\n",
        "\n",
        "# Access the value on the first row and the first column\n",
        "\n",
        "df.iloc[0, 0]  #REMEMBER THAT ROWS ARE FIRST THEN COLUMNS IN THE COORDINATES\n",
        "\n",
        "# Access the column using the name\n",
        "\n",
        "df.loc[1, 'Artist'] #it is the same to calling the column by its name than by its index.\n",
        "\n",
        "\n",
        "df.iloc[0:2, 0:3]  #slicing the dataframe\n",
        "\n",
        "df.loc[0:2, 'Artist':'Released']\n",
        "\n"
      ],
      "metadata": {
        "colab": {
          "base_uri": "https://localhost:8080/",
          "height": 143
        },
        "id": "629gN-lRU3ap",
        "outputId": "67c1eaca-56e2-450d-8400-8e6069098015"
      },
      "execution_count": 33,
      "outputs": [
        {
          "output_type": "execute_result",
          "data": {
            "text/plain": [
              "            Artist                      Album  Released\n",
              "0  Michael Jackson                   Thriller      1982\n",
              "1            AC/DC              Back in Black      1980\n",
              "2       Pink Floyd  The Dark Side of the Moon      1973"
            ],
            "text/html": [
              "\n",
              "  <div id=\"df-ccdccaa2-c1da-46b8-a257-aab1691fd09a\">\n",
              "    <div class=\"colab-df-container\">\n",
              "      <div>\n",
              "<style scoped>\n",
              "    .dataframe tbody tr th:only-of-type {\n",
              "        vertical-align: middle;\n",
              "    }\n",
              "\n",
              "    .dataframe tbody tr th {\n",
              "        vertical-align: top;\n",
              "    }\n",
              "\n",
              "    .dataframe thead th {\n",
              "        text-align: right;\n",
              "    }\n",
              "</style>\n",
              "<table border=\"1\" class=\"dataframe\">\n",
              "  <thead>\n",
              "    <tr style=\"text-align: right;\">\n",
              "      <th></th>\n",
              "      <th>Artist</th>\n",
              "      <th>Album</th>\n",
              "      <th>Released</th>\n",
              "    </tr>\n",
              "  </thead>\n",
              "  <tbody>\n",
              "    <tr>\n",
              "      <th>0</th>\n",
              "      <td>Michael Jackson</td>\n",
              "      <td>Thriller</td>\n",
              "      <td>1982</td>\n",
              "    </tr>\n",
              "    <tr>\n",
              "      <th>1</th>\n",
              "      <td>AC/DC</td>\n",
              "      <td>Back in Black</td>\n",
              "      <td>1980</td>\n",
              "    </tr>\n",
              "    <tr>\n",
              "      <th>2</th>\n",
              "      <td>Pink Floyd</td>\n",
              "      <td>The Dark Side of the Moon</td>\n",
              "      <td>1973</td>\n",
              "    </tr>\n",
              "  </tbody>\n",
              "</table>\n",
              "</div>\n",
              "      <button class=\"colab-df-convert\" onclick=\"convertToInteractive('df-ccdccaa2-c1da-46b8-a257-aab1691fd09a')\"\n",
              "              title=\"Convert this dataframe to an interactive table.\"\n",
              "              style=\"display:none;\">\n",
              "        \n",
              "  <svg xmlns=\"http://www.w3.org/2000/svg\" height=\"24px\"viewBox=\"0 0 24 24\"\n",
              "       width=\"24px\">\n",
              "    <path d=\"M0 0h24v24H0V0z\" fill=\"none\"/>\n",
              "    <path d=\"M18.56 5.44l.94 2.06.94-2.06 2.06-.94-2.06-.94-.94-2.06-.94 2.06-2.06.94zm-11 1L8.5 8.5l.94-2.06 2.06-.94-2.06-.94L8.5 2.5l-.94 2.06-2.06.94zm10 10l.94 2.06.94-2.06 2.06-.94-2.06-.94-.94-2.06-.94 2.06-2.06.94z\"/><path d=\"M17.41 7.96l-1.37-1.37c-.4-.4-.92-.59-1.43-.59-.52 0-1.04.2-1.43.59L10.3 9.45l-7.72 7.72c-.78.78-.78 2.05 0 2.83L4 21.41c.39.39.9.59 1.41.59.51 0 1.02-.2 1.41-.59l7.78-7.78 2.81-2.81c.8-.78.8-2.07 0-2.86zM5.41 20L4 18.59l7.72-7.72 1.47 1.35L5.41 20z\"/>\n",
              "  </svg>\n",
              "      </button>\n",
              "      \n",
              "  <style>\n",
              "    .colab-df-container {\n",
              "      display:flex;\n",
              "      flex-wrap:wrap;\n",
              "      gap: 12px;\n",
              "    }\n",
              "\n",
              "    .colab-df-convert {\n",
              "      background-color: #E8F0FE;\n",
              "      border: none;\n",
              "      border-radius: 50%;\n",
              "      cursor: pointer;\n",
              "      display: none;\n",
              "      fill: #1967D2;\n",
              "      height: 32px;\n",
              "      padding: 0 0 0 0;\n",
              "      width: 32px;\n",
              "    }\n",
              "\n",
              "    .colab-df-convert:hover {\n",
              "      background-color: #E2EBFA;\n",
              "      box-shadow: 0px 1px 2px rgba(60, 64, 67, 0.3), 0px 1px 3px 1px rgba(60, 64, 67, 0.15);\n",
              "      fill: #174EA6;\n",
              "    }\n",
              "\n",
              "    [theme=dark] .colab-df-convert {\n",
              "      background-color: #3B4455;\n",
              "      fill: #D2E3FC;\n",
              "    }\n",
              "\n",
              "    [theme=dark] .colab-df-convert:hover {\n",
              "      background-color: #434B5C;\n",
              "      box-shadow: 0px 1px 3px 1px rgba(0, 0, 0, 0.15);\n",
              "      filter: drop-shadow(0px 1px 2px rgba(0, 0, 0, 0.3));\n",
              "      fill: #FFFFFF;\n",
              "    }\n",
              "  </style>\n",
              "\n",
              "      <script>\n",
              "        const buttonEl =\n",
              "          document.querySelector('#df-ccdccaa2-c1da-46b8-a257-aab1691fd09a button.colab-df-convert');\n",
              "        buttonEl.style.display =\n",
              "          google.colab.kernel.accessAllowed ? 'block' : 'none';\n",
              "\n",
              "        async function convertToInteractive(key) {\n",
              "          const element = document.querySelector('#df-ccdccaa2-c1da-46b8-a257-aab1691fd09a');\n",
              "          const dataTable =\n",
              "            await google.colab.kernel.invokeFunction('convertToInteractive',\n",
              "                                                     [key], {});\n",
              "          if (!dataTable) return;\n",
              "\n",
              "          const docLinkHtml = 'Like what you see? Visit the ' +\n",
              "            '<a target=\"_blank\" href=https://colab.research.google.com/notebooks/data_table.ipynb>data table notebook</a>'\n",
              "            + ' to learn more about interactive tables.';\n",
              "          element.innerHTML = '';\n",
              "          dataTable['output_type'] = 'display_data';\n",
              "          await google.colab.output.renderOutput(dataTable, element);\n",
              "          const docLink = document.createElement('div');\n",
              "          docLink.innerHTML = docLinkHtml;\n",
              "          element.appendChild(docLink);\n",
              "        }\n",
              "      </script>\n",
              "    </div>\n",
              "  </div>\n",
              "  "
            ]
          },
          "metadata": {},
          "execution_count": 33
        }
      ]
    },
    {
      "cell_type": "markdown",
      "source": [
        "**QUIZ FROM THE LAB NOTEBOOK INTRODUCTION TO PANDAS IN PYTHON**\n",
        "\n",
        "Question 1:\n",
        "\n",
        "Use a variable q to store the column Rating as a dataframe"
      ],
      "metadata": {
        "id": "f77r9LIrUcVK"
      }
    },
    {
      "cell_type": "code",
      "source": [
        "q= df[['Rating']]\n",
        "q"
      ],
      "metadata": {
        "colab": {
          "base_uri": "https://localhost:8080/",
          "height": 300
        },
        "id": "cl1_2rQRV-1E",
        "outputId": "df5bcf1b-ab67-415c-9237-b327248a869b"
      },
      "execution_count": 35,
      "outputs": [
        {
          "output_type": "execute_result",
          "data": {
            "text/plain": [
              "   Rating\n",
              "0    10.0\n",
              "1     9.5\n",
              "2     9.0\n",
              "3     8.5\n",
              "4     8.0\n",
              "5     7.5\n",
              "6     7.0\n",
              "7     6.5"
            ],
            "text/html": [
              "\n",
              "  <div id=\"df-997751c6-db76-4330-937c-b6694f8925f3\">\n",
              "    <div class=\"colab-df-container\">\n",
              "      <div>\n",
              "<style scoped>\n",
              "    .dataframe tbody tr th:only-of-type {\n",
              "        vertical-align: middle;\n",
              "    }\n",
              "\n",
              "    .dataframe tbody tr th {\n",
              "        vertical-align: top;\n",
              "    }\n",
              "\n",
              "    .dataframe thead th {\n",
              "        text-align: right;\n",
              "    }\n",
              "</style>\n",
              "<table border=\"1\" class=\"dataframe\">\n",
              "  <thead>\n",
              "    <tr style=\"text-align: right;\">\n",
              "      <th></th>\n",
              "      <th>Rating</th>\n",
              "    </tr>\n",
              "  </thead>\n",
              "  <tbody>\n",
              "    <tr>\n",
              "      <th>0</th>\n",
              "      <td>10.0</td>\n",
              "    </tr>\n",
              "    <tr>\n",
              "      <th>1</th>\n",
              "      <td>9.5</td>\n",
              "    </tr>\n",
              "    <tr>\n",
              "      <th>2</th>\n",
              "      <td>9.0</td>\n",
              "    </tr>\n",
              "    <tr>\n",
              "      <th>3</th>\n",
              "      <td>8.5</td>\n",
              "    </tr>\n",
              "    <tr>\n",
              "      <th>4</th>\n",
              "      <td>8.0</td>\n",
              "    </tr>\n",
              "    <tr>\n",
              "      <th>5</th>\n",
              "      <td>7.5</td>\n",
              "    </tr>\n",
              "    <tr>\n",
              "      <th>6</th>\n",
              "      <td>7.0</td>\n",
              "    </tr>\n",
              "    <tr>\n",
              "      <th>7</th>\n",
              "      <td>6.5</td>\n",
              "    </tr>\n",
              "  </tbody>\n",
              "</table>\n",
              "</div>\n",
              "      <button class=\"colab-df-convert\" onclick=\"convertToInteractive('df-997751c6-db76-4330-937c-b6694f8925f3')\"\n",
              "              title=\"Convert this dataframe to an interactive table.\"\n",
              "              style=\"display:none;\">\n",
              "        \n",
              "  <svg xmlns=\"http://www.w3.org/2000/svg\" height=\"24px\"viewBox=\"0 0 24 24\"\n",
              "       width=\"24px\">\n",
              "    <path d=\"M0 0h24v24H0V0z\" fill=\"none\"/>\n",
              "    <path d=\"M18.56 5.44l.94 2.06.94-2.06 2.06-.94-2.06-.94-.94-2.06-.94 2.06-2.06.94zm-11 1L8.5 8.5l.94-2.06 2.06-.94-2.06-.94L8.5 2.5l-.94 2.06-2.06.94zm10 10l.94 2.06.94-2.06 2.06-.94-2.06-.94-.94-2.06-.94 2.06-2.06.94z\"/><path d=\"M17.41 7.96l-1.37-1.37c-.4-.4-.92-.59-1.43-.59-.52 0-1.04.2-1.43.59L10.3 9.45l-7.72 7.72c-.78.78-.78 2.05 0 2.83L4 21.41c.39.39.9.59 1.41.59.51 0 1.02-.2 1.41-.59l7.78-7.78 2.81-2.81c.8-.78.8-2.07 0-2.86zM5.41 20L4 18.59l7.72-7.72 1.47 1.35L5.41 20z\"/>\n",
              "  </svg>\n",
              "      </button>\n",
              "      \n",
              "  <style>\n",
              "    .colab-df-container {\n",
              "      display:flex;\n",
              "      flex-wrap:wrap;\n",
              "      gap: 12px;\n",
              "    }\n",
              "\n",
              "    .colab-df-convert {\n",
              "      background-color: #E8F0FE;\n",
              "      border: none;\n",
              "      border-radius: 50%;\n",
              "      cursor: pointer;\n",
              "      display: none;\n",
              "      fill: #1967D2;\n",
              "      height: 32px;\n",
              "      padding: 0 0 0 0;\n",
              "      width: 32px;\n",
              "    }\n",
              "\n",
              "    .colab-df-convert:hover {\n",
              "      background-color: #E2EBFA;\n",
              "      box-shadow: 0px 1px 2px rgba(60, 64, 67, 0.3), 0px 1px 3px 1px rgba(60, 64, 67, 0.15);\n",
              "      fill: #174EA6;\n",
              "    }\n",
              "\n",
              "    [theme=dark] .colab-df-convert {\n",
              "      background-color: #3B4455;\n",
              "      fill: #D2E3FC;\n",
              "    }\n",
              "\n",
              "    [theme=dark] .colab-df-convert:hover {\n",
              "      background-color: #434B5C;\n",
              "      box-shadow: 0px 1px 3px 1px rgba(0, 0, 0, 0.15);\n",
              "      filter: drop-shadow(0px 1px 2px rgba(0, 0, 0, 0.3));\n",
              "      fill: #FFFFFF;\n",
              "    }\n",
              "  </style>\n",
              "\n",
              "      <script>\n",
              "        const buttonEl =\n",
              "          document.querySelector('#df-997751c6-db76-4330-937c-b6694f8925f3 button.colab-df-convert');\n",
              "        buttonEl.style.display =\n",
              "          google.colab.kernel.accessAllowed ? 'block' : 'none';\n",
              "\n",
              "        async function convertToInteractive(key) {\n",
              "          const element = document.querySelector('#df-997751c6-db76-4330-937c-b6694f8925f3');\n",
              "          const dataTable =\n",
              "            await google.colab.kernel.invokeFunction('convertToInteractive',\n",
              "                                                     [key], {});\n",
              "          if (!dataTable) return;\n",
              "\n",
              "          const docLinkHtml = 'Like what you see? Visit the ' +\n",
              "            '<a target=\"_blank\" href=https://colab.research.google.com/notebooks/data_table.ipynb>data table notebook</a>'\n",
              "            + ' to learn more about interactive tables.';\n",
              "          element.innerHTML = '';\n",
              "          dataTable['output_type'] = 'display_data';\n",
              "          await google.colab.output.renderOutput(dataTable, element);\n",
              "          const docLink = document.createElement('div');\n",
              "          docLink.innerHTML = docLinkHtml;\n",
              "          element.appendChild(docLink);\n",
              "        }\n",
              "      </script>\n",
              "    </div>\n",
              "  </div>\n",
              "  "
            ]
          },
          "metadata": {},
          "execution_count": 35
        }
      ]
    },
    {
      "cell_type": "markdown",
      "source": [
        "Question 2: \n",
        "\n",
        "Assign the variable q to the dataframe that is made up of the column Released and Artist:"
      ],
      "metadata": {
        "id": "fLkoLMfzUcSk"
      }
    },
    {
      "cell_type": "code",
      "source": [
        "q = df[['Released', 'Artist']]\n",
        "q\n"
      ],
      "metadata": {
        "id": "ku0vP4VzWSP3"
      },
      "execution_count": null,
      "outputs": []
    },
    {
      "cell_type": "markdown",
      "source": [
        "QUESTION 3:\n",
        "\n",
        "Access the 2nd row and the 3rd column of df:"
      ],
      "metadata": {
        "id": "Xb4bMAD7W-vY"
      }
    },
    {
      "cell_type": "code",
      "source": [
        "df.iloc[1, 2]"
      ],
      "metadata": {
        "id": "bEx_IOukW9W2"
      },
      "execution_count": null,
      "outputs": []
    },
    {
      "cell_type": "markdown",
      "source": [
        "QUESTION 4:\n",
        "\n",
        "Use the following list to convert the dataframe index df to characters and assign it to df_new; find the element corresponding to the row index a and column 'Artist'. Then select the rows a through d for the column 'Artist'\n"
      ],
      "metadata": {
        "id": "E2vWCEH4XDlB"
      }
    },
    {
      "cell_type": "code",
      "source": [
        "new_index=['a','b','c','d','e','f','g','h']\n",
        "\n",
        "df_new=df   #WE CREATE DF_NEW AND assign the values from DF\n",
        "df_new.index=new_index   #WE CHANGE THE INDEX FROM NUMBERS TO LETTERS\n",
        "\n",
        "print(df_new.loc['a', 'Artist']) #WE LOOK FOR THE ELEMENT THAT CORRESPONDES TO THE SPECIFEID ROW\n",
        "df_new.loc['a':'d', 'Artist'] #we prin the selected rows for the column artist\n",
        "    "
      ],
      "metadata": {
        "colab": {
          "base_uri": "https://localhost:8080/"
        },
        "id": "OLQ0CB3OXVgY",
        "outputId": "d124ddf9-7c88-4710-efc4-2789ef880c83"
      },
      "execution_count": 36,
      "outputs": [
        {
          "output_type": "stream",
          "name": "stdout",
          "text": [
            "Michael Jackson\n"
          ]
        },
        {
          "output_type": "execute_result",
          "data": {
            "text/plain": [
              "a    Michael Jackson\n",
              "b              AC/DC\n",
              "c         Pink Floyd\n",
              "d    Whitney Houston\n",
              "Name: Artist, dtype: object"
            ]
          },
          "metadata": {},
          "execution_count": 36
        }
      ]
    },
    {
      "cell_type": "markdown",
      "source": [
        "**FINAL REVIEW QUESTIONS FOR MODULE 4**\n",
        "\n",
        "Question 1\n",
        "\n",
        "What do the following lines of code do?\n",
        "\n",
        "with open(\"Example1.txt\",\"r\") as file1:\n",
        "\n",
        "FileContent=file1.readlines()\n",
        "\n",
        "print(FileContent)"
      ],
      "metadata": {
        "id": "TFUH9LeQYD4b"
      }
    },
    {
      "cell_type": "code",
      "source": [
        "with open(\"Example1.txt\",\"r\") as file1:\n",
        "\n",
        "  FileContent=file1.readlines()\n",
        "\n",
        "  print(FileContent)\n",
        "\n",
        " #this code is for opening Example 1 and reading it"
      ],
      "metadata": {
        "id": "_m_agGDtYNlX"
      },
      "execution_count": null,
      "outputs": []
    },
    {
      "cell_type": "markdown",
      "source": [
        "Question 2\n",
        "\n",
        "What do the following lines of code do?\n",
        "\n",
        "with open(\"Example2.txt\",\"w\") as writefile:\n",
        "\n",
        "writefile.write(\"This is line A\\n\")\n",
        "\n",
        "writefile.write(\"This is line B\\n\")"
      ],
      "metadata": {
        "id": "4HJTaisjYgX0"
      }
    },
    {
      "cell_type": "code",
      "source": [
        "with open(\"Example2.txt\",\"w\") as writefile:\n",
        "\n",
        "  writefile.write(\"This is line A\\n\")\n",
        "\n",
        "  writefile.write(\"This is line B\\n\")\n",
        "\n",
        "  #this creates a file example 2 and start writing over it."
      ],
      "metadata": {
        "id": "7taQKPFmYisA"
      },
      "execution_count": null,
      "outputs": []
    },
    {
      "cell_type": "markdown",
      "source": [
        "QUESTION 3\n",
        "\n",
        "What do the following lines of code do?\n",
        "\n",
        "with open(\"Example3.txt\",\"a\") as file1:\n",
        "\n",
        "file1.write(\"This is line C\\n\")"
      ],
      "metadata": {
        "id": "4Hv53sdaYtfU"
      }
    },
    {
      "cell_type": "code",
      "source": [
        "with open(\"Example3.txt\",\"a\") as file1:\n",
        "\n",
        "  file1.write(\"This is line C\\n\")\n",
        "  #THIS APPENDS the text in file EXAMPLE 3"
      ],
      "metadata": {
        "id": "yg_GhoopYyUF"
      },
      "execution_count": null,
      "outputs": []
    },
    {
      "cell_type": "markdown",
      "source": [],
      "metadata": {
        "id": "v8dVI_8yZfoi"
      }
    },
    {
      "cell_type": "markdown",
      "source": [
        "QUESTION 4\n",
        "\n",
        "What is the result of applying the following method df.head() to the dataframe \"df\"?\n",
        "\n",
        "Prinst the first 5 rows of the dataframe"
      ],
      "metadata": {
        "id": "8qcmjofoY4y-"
      }
    },
    {
      "cell_type": "markdown",
      "source": [
        "# UP TO THIS POINT MODULE 4 HAS BEEN FINALIZED\n",
        "\n",
        "![MODELE 4.PNG](data:image/png;base64,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)"
      ],
      "metadata": {
        "id": "vZWLQ2DCZJNX"
      }
    }
  ]
}